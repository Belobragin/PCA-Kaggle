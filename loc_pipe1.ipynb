{
 "cells": [
  {
   "cell_type": "markdown",
   "metadata": {},
   "source": [
    "# Part I - pre-processing #"
   ]
  },
  {
   "cell_type": "code",
   "execution_count": 1,
   "metadata": {
    "_cell_guid": "b1076dfc-b9ad-4769-8c92-a6c4dae69d19",
    "_uuid": "8f2839f25d086af736a60e9eeb907d3b93b6e0e5"
   },
   "outputs": [],
   "source": [
    "import os, shutil, gc, subprocess, sys, json, time\n",
    "\n",
    "import scipy\n",
    "import numpy as np # linear algebra\n",
    "import pandas as pd # data processing, CSV file I/O (e.g. pd.read_csv)\n",
    "import matplotlib\n",
    "import matplotlib.pyplot as plt\n",
    "from PIL import Image\n",
    "import cv2\n",
    "#from tqdm import tqdm\n",
    "from tqdm.notebook import tqdm\n",
    "import skimage.io\n",
    "from skimage.transform import resize, rescale\n",
    "from math import sqrt\n",
    "import statistics\n"
   ]
  },
  {
   "cell_type": "code",
   "execution_count": 2,
   "metadata": {},
   "outputs": [],
   "source": [
    "import PIL.Image\n",
    "#PIL.Image.MAX_IMAGE_PIXELS = 400000000\n",
    "PIL.Image.MAX_IMAGE_PIXELS = None"
   ]
  },
  {
   "cell_type": "code",
   "execution_count": 3,
   "metadata": {},
   "outputs": [],
   "source": [
    "%matplotlib inline"
   ]
  },
  {
   "cell_type": "code",
   "execution_count": 4,
   "metadata": {},
   "outputs": [],
   "source": [
    "from panda_bvv_config import *"
   ]
  },
  {
   "cell_type": "markdown",
   "metadata": {},
   "source": [
    "### Part 1 - Input data ###"
   ]
  },
  {
   "cell_type": "code",
   "execution_count": 5,
   "metadata": {},
   "outputs": [],
   "source": [
    "Zoom = 2\n",
    "pred_fold = 'testdata320_inv_isup'\n",
    "new_tile_size = 80\n",
    "tile_number = 16\n",
    "\n",
    "#model_folder = 'effnB5'\n",
    "#pred_file = 'ground456simple.npz'"
   ]
  },
  {
   "cell_type": "code",
   "execution_count": 6,
   "metadata": {},
   "outputs": [],
   "source": [
    "# wrapping for inputs:\n",
    "pred_fold = os.path.join(base_path, pred_fold)\n",
    "\n",
    "\n",
    "os.mkdir(pred_fold)\n",
    "#os.makedirs(pred_fold)\n",
    "input_folder = cancer_s2 #test_size2 if Zoom == 2 else test_size1\n",
    "input_mask_folder = mask_size2 if Zoom == 2 else mask_size1"
   ]
  },
  {
   "cell_type": "markdown",
   "metadata": {},
   "source": [
    "### 2. Standard functions ###"
   ]
  },
  {
   "cell_type": "code",
   "execution_count": 7,
   "metadata": {},
   "outputs": [],
   "source": [
    "def prepare_df_data(test_df = test_cnn_labels,\n",
    "                    data_fold = pred_fold):\n",
    "    test_data = []\n",
    "    test_labels = []\n",
    "    df_f = []\n",
    "    for i,row in enumerate(test_df.iterrows()): \n",
    "        img_num = row[1]['image_id']\n",
    "        biopsy = skimage.io.imread(os.path.join(data_fold, 'testf',img_num + '.png'))\n",
    "        test_data.append(biopsy)\n",
    "        test_labels.append(row[1]['isup_grade'])\n",
    "        df_f.append(img_num)\n",
    "                           \n",
    "    return np.array(test_data), np.array(test_labels)"
   ]
  },
  {
   "cell_type": "code",
   "execution_count": 8,
   "metadata": {},
   "outputs": [],
   "source": [
    "#wrapper for image processing function\n",
    "\n",
    "def process_all_images(proc_func):\n",
    "    \n",
    "    def wrapper(zoom = Zoom,\n",
    "                input_biopsy_folder = input_folder,\n",
    "                output_data_path = test_cnn,\n",
    "                df_name = test_cnn_labels,\n",
    "                with_mask = False,\n",
    "                input_mask_folder = mask_size2,\n",
    "                **kw):\n",
    "        \n",
    "        for  i, row in enumerate(df_name.iterrows()):\n",
    "            img_num = row[1]['image_id']\n",
    "            provider = row[1]['data_provider']                         \n",
    "            mask = None\n",
    "            try:\n",
    "                biopsy = skimage.io.imread(os.path.join(input_biopsy_folder, img_num + '.png'))\n",
    "                shape = biopsy.shape\n",
    "                if shape[0]<shape[1]: \n",
    "                    biopsy = np.rot90(biopsy)\n",
    "                    shape = biopsy.shape\n",
    "            except:\n",
    "                print(f'can not proceed with {img_num}')   \n",
    "            if with_mask:\n",
    "                try:\n",
    "                    mask = skimage.io.imread(os.path.join(input_mask_folder, img_num + '_mask.png'))\n",
    "                except:\n",
    "                    print('Failed to process mask:', img_num)\n",
    "            try:\n",
    "                data_new = proc_func(biopsy, mask, provider, **kw)\n",
    "                cv2.imwrite(os.path.join(output_data_path, img_num + '.png'),\\\n",
    "                                         data_new, [int(cv2.IMWRITE_PNG_COMPRESSION), 9])\n",
    "            except Exception as ee:\n",
    "                print('Processing mistake:\\n', ee, '\\n', img_num)            \n",
    "            try:\n",
    "                del biopsy, mask, data_new, mask_new\n",
    "            except:\n",
    "                pass\n",
    "        gc.collect()\n",
    "        return\n",
    "    \n",
    "    return wrapper"
   ]
  },
  {
   "cell_type": "code",
   "execution_count": 9,
   "metadata": {},
   "outputs": [],
   "source": [
    "def change_karolinska_mask_for_isup_grade_direct(mask_data, chan):\n",
    "    \"\"\"\n",
    "    This function returns pre-processed radbound mask for image multiplication\n",
    "    \"\"\"\n",
    "\n",
    "    try:\n",
    "        new_mask = np.zeros(mask_data.shape)#.astype('uint8')\n",
    "        cancerous_tissue = False\n",
    "        try:             \n",
    "            mask_area = np.where(mask_data[:,:,chan] == 2)\n",
    "            new_mask[mask_area[0], mask_area[1], :] = [1, 1, 1] \n",
    "            del mask_area, mask_data\n",
    "            if new_mask.any() >0: \n",
    "                cancerous_tissue = True    \n",
    "        except Exception as ee:\n",
    "            print(\"Mask {%s} processing mistake: \" %mask_image, ee)\n",
    "    except Exception as ee:\n",
    "        print(\"Mask {%s} read mistake: \"  %mask_image, str(ee))\n",
    "\n",
    "    gc.collect()                   \n",
    "    \n",
    "    return cancerous_tissue, new_mask"
   ]
  },
  {
   "cell_type": "code",
   "execution_count": 10,
   "metadata": {},
   "outputs": [],
   "source": [
    "def change_radboud_mask_for_isup_grade_direct(mask_data, chan,\n",
    "                                      gauss_bl = 10):\n",
    "    \"\"\"\n",
    "    This function returns pre-processed radbound mask for image multiplication\n",
    "    \"\"\"\n",
    "\n",
    "    try:\n",
    "        new_mask = np.zeros(mask_data.shape)#.astype('uint8')\n",
    "        cancerous_tissue = False\n",
    "        try: \n",
    "            for area_value in range(3,5):\n",
    "                mask_area = np.where(mask_data[:,:,chan] == area_value)\n",
    "                new_mask[mask_area[0], mask_area[1], :] = [1, 1, 1]\n",
    "                del mask_area\n",
    "            if new_mask.any() >0: \n",
    "                cancerous_tissue = True\n",
    "            del mask_data,    \n",
    "        except Exception as ee:\n",
    "            print(\"Mask {%s} processing mistake: \" %mask_image, ee)\n",
    "    except Exception as ee:\n",
    "        print(\"Mask {%s} read mistake: \"  %mask_image, str(ee))\n",
    "        \n",
    "    #new_mask[:,:,:] = cv2.blur(new_mask[:,:, :],(gauss_bl,gauss_bl))\n",
    "    new_mask[:,:,:] = cv2.bilateralFilter(np.float32(new_mask[:,:,:]),gauss_bl,25,25)\n",
    "    #medianBlur(new_mask[:,:, 2],5)\n",
    "    #new_mask[:,:,:] = cv2.GaussianBlur(new_mask[:,:,:],(gauss_bl,gauss_bl), 0)\n",
    "    #new_mask[:,:,:] =  np.rint(new_mask[:,:,:]) #.astype(int) \n",
    "    new_mask[:,:,:] =  np.ceil(new_mask[:,:,:]) #.astype(int) \n",
    "    #gc.collect()                   \n",
    "    \n",
    "    return cancerous_tissue, new_mask"
   ]
  },
  {
   "cell_type": "code",
   "execution_count": 11,
   "metadata": {},
   "outputs": [],
   "source": [
    "def get_cancer_area_from_mask(cancer_mask, biopsy):\n",
    "    \"\"\"\n",
    "    Returns multiplication of mask and image\n",
    "    \"\"\"\n",
    "    try:\n",
    "        only_cancer = np.multiply(cancer_mask,biopsy).astype(int)\n",
    "        #cv2.imwrite(save_path, only_cancer, [int(cv2.IMWRITE_JPEG_QUALITY), 90])\n",
    "        #del cancer_mask, biopsy #, only_cancer\n",
    "    except Exception as ee:\n",
    "        print(str(ee))\n",
    "    \n",
    "    return only_cancer  "
   ]
  },
  {
   "cell_type": "markdown",
   "metadata": {},
   "source": [
    "### 3. Processing functions ###"
   ]
  },
  {
   "cell_type": "code",
   "execution_count": 12,
   "metadata": {},
   "outputs": [],
   "source": [
    "@process_all_images\n",
    "def tile16_simple(img, mask, provider, **kw):        \n",
    "    sz=kw.get('sz') if kw.get('sz') else 32    \n",
    "    N = kw.get('N') if kw.get('N') else 16\n",
    "    final_dim = kw.get('final_dim') if kw.get('final_dim') else N**0.5 \n",
    "    result = []\n",
    "    shape = img.shape\n",
    "    pad0,pad1 = (sz - shape[0]%sz)%sz, (sz - shape[1]%sz)%sz\n",
    "    img = np.pad(img,[[pad0//2,pad0-pad0//2],[pad1//2,pad1-pad1//2],[0,0]],\n",
    "                constant_values=255)\n",
    "    img = img.reshape(img.shape[0]//sz,sz,img.shape[1]//sz,sz,3)\n",
    "    img = img.transpose(0,2,1,3,4).reshape(-1,sz,sz,3)\n",
    "    if len(img) < N:\n",
    "        img = np.pad(img,[[0,N-len(img)],[0,0],[0,0],[0,0]],constant_values=255)\n",
    "    idxs = np.argsort(img.reshape(img.shape[0],-1).sum(-1))[:N]\n",
    "    img = img[idxs]\n",
    "    a, b, c, d = img.shape\n",
    "    data_new = (img.reshape(int(final_dim), int(final_dim),\\\n",
    "                                                    b, c, d).swapaxes(1,2).reshape(b*int(final_dim),\\\n",
    "                                                    c*int(final_dim), d))\n",
    "    data_new = cv2.bitwise_not(data_new)\n",
    "    \n",
    "    return data_new\n"
   ]
  },
  {
   "cell_type": "code",
   "execution_count": 13,
   "metadata": {},
   "outputs": [],
   "source": [
    "@process_all_images\n",
    "def get_cancer_area_for_isup_grade(biopsy, mask, provider, **kw):\n",
    "    \"\"\"\n",
    "    Extracts cancer area only (if cancerous), from image and mask; or unchanged (if non-cancerous).\n",
    "    Do NOT split cancer areas on Gleason.\n",
    "    This function applicable for ISUP-grade based training\n",
    "    Do NOT tile image\n",
    "    \"\"\"\n",
    "    \n",
    "    gauss_bl = kw.get('gauss_bl') if kw.get('gauss_bl') else 20    \n",
    "    channel = 0 if len(np.unique(mask[:,:,0])) >1 else 2    \n",
    "              \n",
    "    if provider == 'karolinska':\n",
    "        cancerous, new_mask  = change_karolinska_mask_for_isup_grade_direct(mask, chan = channel)\n",
    "    elif provider == 'radboud':\n",
    "        cancerous, new_mask  = change_radboud_mask_for_isup_grade_direct(mask, chan = channel,\n",
    "                                      gauss_bl = gauss_bl)\n",
    "    if cancerous:\n",
    "        temp_im = get_cancer_area_from_mask(new_mask, biopsy)\n",
    "        temp_im = temp_im.astype('uint8') * 255\n",
    "        inv = cv2.bitwise_not(temp_im )\n",
    "        #inv = biopsy\n",
    "    else:\n",
    "        inv = biopsy\n",
    "    \n",
    "    data_new = inv #cv2.bitwise_not(inv)\n",
    "    return data_new\n",
    "    \n",
    "    #eliminate_white_direct(biopsy = inv,\n",
    "    #                       save_file_name = save_path,\n",
    "    #                       zoom =2,                          \n",
    "    #                     fault_name = 'faults_size2_large_mask.txt', \n",
    "    #                      tile_square_yside = tile_square_yside,\n",
    "    #                        tile_square_xside = tile_square_xside, \n",
    "    #                      tile_fill = tile_fill,\n",
    "    #                      threshold = threshold,\n",
    "    #                          transform_ratios = transform_ratios,\n",
    "    #                    file_list = None,                         \n",
    "    #                      compression = compression)\n",
    "        \n",
    "    #cv2.imwrite(save_path, inv, [int(cv2.IMWRITE_JPEG_QUALITY), 90])\n",
    "    #else:\n",
    "        #execute_cp_command(biopsy_file_path, save_path)"
   ]
  },
  {
   "cell_type": "markdown",
   "metadata": {},
   "source": [
    "### 4. Process test files for generator use and NN debugging ###"
   ]
  },
  {
   "cell_type": "code",
   "execution_count": 14,
   "metadata": {},
   "outputs": [],
   "source": [
    "temp_fold = os.getcwd()\n",
    "os.chdir(base_path)\n",
    "if os.path.exists(test_cnn):\n",
    "    ! rm -rf testf\n",
    "    print(\"[INFO] re-creating testf directory\")\n",
    "! mkdir testf\n",
    "os.chdir(temp_fold)"
   ]
  },
  {
   "cell_type": "code",
   "execution_count": 15,
   "metadata": {},
   "outputs": [
    {
     "name": "stdout",
     "output_type": "stream",
     "text": [
      "can not proceed with 3ae66332c2dd50c6ce458937d49f8232\n",
      "Processing mistake:\n",
      " local variable 'biopsy' referenced before assignment \n",
      " 3ae66332c2dd50c6ce458937d49f8232\n",
      "can not proceed with c3ca4a75be0055aefe79f6849804d62c\n",
      "Processing mistake:\n",
      " local variable 'biopsy' referenced before assignment \n",
      " c3ca4a75be0055aefe79f6849804d62c\n",
      "can not proceed with 3756141b86ca5f2afcacf5113d4e8f83\n",
      "Processing mistake:\n",
      " local variable 'biopsy' referenced before assignment \n",
      " 3756141b86ca5f2afcacf5113d4e8f83\n",
      "can not proceed with eec36dafc7b16caaadf5418529dc29cd\n",
      "Processing mistake:\n",
      " local variable 'biopsy' referenced before assignment \n",
      " eec36dafc7b16caaadf5418529dc29cd\n",
      "can not proceed with bc6e1ebec08a9503689da9a095690dfe\n",
      "Processing mistake:\n",
      " local variable 'biopsy' referenced before assignment \n",
      " bc6e1ebec08a9503689da9a095690dfe\n",
      "can not proceed with f9b2162716bb1679a53424b0e6bc7f9b\n",
      "Processing mistake:\n",
      " local variable 'biopsy' referenced before assignment \n",
      " f9b2162716bb1679a53424b0e6bc7f9b\n",
      "can not proceed with 6806e41cd6048002dfa52e2f4ad88900\n",
      "Processing mistake:\n",
      " local variable 'biopsy' referenced before assignment \n",
      " 6806e41cd6048002dfa52e2f4ad88900\n",
      "can not proceed with 0ebea13245a2b04ca3e6a482091e35d6\n",
      "Processing mistake:\n",
      " local variable 'biopsy' referenced before assignment \n",
      " 0ebea13245a2b04ca3e6a482091e35d6\n",
      "can not proceed with 632e75c2e505dca41ae57573e70932b9\n",
      "Processing mistake:\n",
      " local variable 'biopsy' referenced before assignment \n",
      " 632e75c2e505dca41ae57573e70932b9\n",
      "can not proceed with 90155f31bd058a8f7b959346103bdc0c\n",
      "Processing mistake:\n",
      " local variable 'biopsy' referenced before assignment \n",
      " 90155f31bd058a8f7b959346103bdc0c\n",
      "can not proceed with 6437f1be7543631458919813cc6ba8cf\n",
      "Processing mistake:\n",
      " local variable 'biopsy' referenced before assignment \n",
      " 6437f1be7543631458919813cc6ba8cf\n",
      "can not proceed with 81e8daac3be77e62ac181304eec1ceec\n",
      "Processing mistake:\n",
      " local variable 'biopsy' referenced before assignment \n",
      " 81e8daac3be77e62ac181304eec1ceec\n",
      "can not proceed with 9b6513bd810e25a7b7f3bd91b4d16803\n",
      "Processing mistake:\n",
      " local variable 'biopsy' referenced before assignment \n",
      " 9b6513bd810e25a7b7f3bd91b4d16803\n",
      "can not proceed with a109197ed889dd998c52e3f9d0bd98f0\n",
      "Processing mistake:\n",
      " local variable 'biopsy' referenced before assignment \n",
      " a109197ed889dd998c52e3f9d0bd98f0\n",
      "can not proceed with 6df7a3d8b4955d162fcc11bce003860a\n",
      "Processing mistake:\n",
      " local variable 'biopsy' referenced before assignment \n",
      " 6df7a3d8b4955d162fcc11bce003860a\n",
      "CPU times: user 1min 32s, sys: 3.18 s, total: 1min 36s\n",
      "Wall time: 3min 39s\n"
     ]
    }
   ],
   "source": [
    "%%time\n",
    "kw = {'sz': new_tile_size, 'N':tile_number}\n",
    "tile16_simple(**kw)"
   ]
  },
  {
   "cell_type": "code",
   "execution_count": 16,
   "metadata": {},
   "outputs": [],
   "source": [
    "# %%time\n",
    "# kw = {'gauss_blur':20}\n",
    "# get_cancer_area_for_isup_grade(with_mask = True,\n",
    "#                                df_name = test_cnn_labels,\n",
    "#                                **kw)"
   ]
  },
  {
   "cell_type": "markdown",
   "metadata": {},
   "source": [
    "#### we make sandbox trainf and validf for NN model testing ####"
   ]
  },
  {
   "cell_type": "code",
   "execution_count": 17,
   "metadata": {},
   "outputs": [],
   "source": [
    "#test_cnn_labels[['image_id','isup_grade']].groupby('isup_grade').count()"
   ]
  },
  {
   "cell_type": "code",
   "execution_count": 18,
   "metadata": {},
   "outputs": [
    {
     "name": "stdout",
     "output_type": "stream",
     "text": [
      "[INFO] re-creating trainf directory\n",
      "[INFO] re-creating validf directory\n"
     ]
    },
    {
     "data": {
      "application/vnd.jupyter.widget-view+json": {
       "model_id": "eb7da1f07cd24bc29da98380377f84b0",
       "version_major": 2,
       "version_minor": 0
      },
      "text/plain": [
       "HBox(children=(FloatProgress(value=1.0, bar_style='info', max=1.0), HTML(value='')))"
      ]
     },
     "metadata": {},
     "output_type": "display_data"
    },
    {
     "name": "stdout",
     "output_type": "stream",
     "text": [
      "\n"
     ]
    }
   ],
   "source": [
    "temp_fold = os.getcwd()\n",
    "os.chdir(base_path)\n",
    "if os.path.exists(train_cnn):\n",
    "    ! rm -rf trainf\n",
    "    print(\"[INFO] re-creating trainf directory\")\n",
    "if os.path.exists(valid_cnn):\n",
    "    ! rm -rf validf\n",
    "    print(\"[INFO] re-creating validf directory\")\n",
    "os.chdir(temp_fold)\n",
    "\n",
    "os.mkdir(train_cnn)\n",
    "os.mkdir(valid_cnn)\n",
    "\n",
    "for grade in isup_classes:\n",
    "    os.mkdir(os.path.join(train_cnn, f'isup{grade}'))\n",
    "    os.mkdir(os.path.join(valid_cnn, f'isup{grade}'))\n",
    "    \n",
    "for j, row in tqdm(test_cnn_labels.iterrows()):\n",
    "    filename = row['image_id'] + '.png'       \n",
    "    path_to_train_class = os.path.join(train_cnn, 'isup' + str(row['isup_grade']), filename)\n",
    "    path_to_valid_class = os.path.join(valid_cnn, 'isup' + str(row['isup_grade']), filename) \n",
    "    path_to_copy_from = os.path.join(test_cnn, filename)\n",
    "    bashCommand = \"cp \" + path_to_copy_from + ' ' + path_to_train_class\n",
    "    process = subprocess.Popen(bashCommand.split(), stdout=subprocess.PIPE)\n",
    "    output, error = process.communicate()\n",
    "    if error: print(str(error))\n",
    "    bashCommand = \"cp \" + path_to_copy_from + ' ' + path_to_valid_class\n",
    "    process = subprocess.Popen(bashCommand.split(), stdout=subprocess.PIPE)\n",
    "    output, error = process.communicate()\n",
    "    if error: print(str(error))    "
   ]
  },
  {
   "cell_type": "code",
   "execution_count": 19,
   "metadata": {},
   "outputs": [
    {
     "data": {
      "text/plain": [
       "'/run/media/admin/kagg/panda/testdata320_inv_isup/testf'"
      ]
     },
     "execution_count": 19,
     "metadata": {},
     "output_type": "execute_result"
    }
   ],
   "source": [
    "#move testf to wrapping folder for generator use\n",
    "shutil.move(test_cnn, pred_fold)"
   ]
  },
  {
   "cell_type": "code",
   "execution_count": 20,
   "metadata": {},
   "outputs": [
    {
     "ename": "NameError",
     "evalue": "name 'model_folder' is not defined",
     "output_type": "error",
     "traceback": [
      "\u001b[0;31m---------------------------------------------------------------------------\u001b[0m",
      "\u001b[0;31mNameError\u001b[0m                                 Traceback (most recent call last)",
      "\u001b[0;32m<ipython-input-20-30fe534c522c>\u001b[0m in \u001b[0;36m<module>\u001b[0;34m\u001b[0m\n\u001b[0;32m----> 1\u001b[0;31m \u001b[0mmodel_folder\u001b[0m \u001b[0;34m=\u001b[0m \u001b[0mos\u001b[0m\u001b[0;34m.\u001b[0m\u001b[0mpath\u001b[0m\u001b[0;34m.\u001b[0m\u001b[0mjoin\u001b[0m\u001b[0;34m(\u001b[0m\u001b[0mmodel_path\u001b[0m\u001b[0;34m,\u001b[0m \u001b[0mmodel_folder\u001b[0m\u001b[0;34m)\u001b[0m\u001b[0;34m\u001b[0m\u001b[0;34m\u001b[0m\u001b[0m\n\u001b[0m\u001b[1;32m      2\u001b[0m \u001b[0mos\u001b[0m\u001b[0;34m.\u001b[0m\u001b[0mmkdir\u001b[0m\u001b[0;34m(\u001b[0m\u001b[0mmodel_folder\u001b[0m\u001b[0;34m)\u001b[0m\u001b[0;34m\u001b[0m\u001b[0;34m\u001b[0m\u001b[0m\n\u001b[1;32m      3\u001b[0m \u001b[0mtest_data\u001b[0m\u001b[0;34m,\u001b[0m \u001b[0mtest_labels\u001b[0m \u001b[0;34m=\u001b[0m \u001b[0mprepare_df_data\u001b[0m\u001b[0;34m(\u001b[0m\u001b[0;34m)\u001b[0m\u001b[0;34m\u001b[0m\u001b[0;34m\u001b[0m\u001b[0m\n\u001b[1;32m      4\u001b[0m np.savez(os.path.join(model_folder, pred_file.split('.')[0]),\\\n\u001b[1;32m      5\u001b[0m          test_data = test_data, test_labels=test_labels)\n",
      "\u001b[0;31mNameError\u001b[0m: name 'model_folder' is not defined"
     ]
    }
   ],
   "source": [
    "model_folder = os.path.join(model_path, model_folder)\n",
    "os.mkdir(model_folder)\n",
    "test_data, test_labels = prepare_df_data()\n",
    "np.savez(os.path.join(model_folder, pred_file.split('.')[0]),\\\n",
    "         test_data = test_data, test_labels=test_labels)\n"
   ]
  },
  {
   "cell_type": "markdown",
   "metadata": {},
   "source": [
    "#### quick exploration of test data ####"
   ]
  },
  {
   "cell_type": "code",
   "execution_count": null,
   "metadata": {},
   "outputs": [],
   "source": [
    "#test_labels[:10]"
   ]
  },
  {
   "cell_type": "code",
   "execution_count": null,
   "metadata": {},
   "outputs": [],
   "source": [
    "sum(sum(test_data[1]))"
   ]
  },
  {
   "cell_type": "code",
   "execution_count": null,
   "metadata": {},
   "outputs": [],
   "source": [
    "skimage.io.imshow(test_data[1])"
   ]
  }
 ],
 "metadata": {
  "kernelspec": {
   "display_name": "tensorflow2",
   "language": "python",
   "name": "tf2"
  },
  "language_info": {
   "codemirror_mode": {
    "name": "ipython",
    "version": 3
   },
   "file_extension": ".py",
   "mimetype": "text/x-python",
   "name": "python",
   "nbconvert_exporter": "python",
   "pygments_lexer": "ipython3",
   "version": "3.6.8"
  }
 },
 "nbformat": 4,
 "nbformat_minor": 4
}
