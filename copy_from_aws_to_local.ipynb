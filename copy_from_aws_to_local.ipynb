{
 "cells": [
  {
   "cell_type": "code",
   "execution_count": 1,
   "metadata": {},
   "outputs": [],
   "source": [
    "import os, subprocess, sys\n",
    "\n",
    "import numpy as np # linear algebra\n",
    "import pandas as pd # data processing, CSV file I/O (e.g. pd.read_csv)\n",
    "#import openslide\n",
    "import matplotlib.pyplot as plt\n",
    "from PIL import Image\n",
    "import cv2\n",
    "from tqdm.notebook import tqdm\n",
    "import skimage.io\n",
    "from skimage.transform import resize, rescale\n",
    "\n",
    "sys.path.append(\"..\")"
   ]
  },
  {
   "cell_type": "code",
   "execution_count": null,
   "metadata": {},
   "outputs": [],
   "source": [
    "aws_IPv4 = 'ec2-18-221-177-36.us-east-2.compute.amazonaws.com'"
   ]
  },
  {
   "cell_type": "code",
   "execution_count": 2,
   "metadata": {},
   "outputs": [],
   "source": [
    "sample_arr = ['0587586b10cc3417c3c3607102b3f720', '031f5ef5b254fbacd6fbd279ebfe5cc0', '00928370e2dfeb8a507667ef1d4efcbb',\n",
    "'00c15b23b30a5ba061358d9641118904', '0018ae58b01bdadc8e347995b69f99aa', '001c62abd11fa4b57bf7a6c603a11bb9',\n",
    " '008069b542b0439ed69b194674051964','00a97615a51ba4c475bdec8505623bf9', '0068d4c7529e34fd4c9da863ce01a161',\n",
    " '006f6aa35a78965c92fffd1fbd53a058', '010f9df31ea44191c106d8226eaf46fb', '01c977c97e2f5543e65e559d98dec93c',\n",
    " '00bbc1482301d16de3ff63238cfd0b34', '018eabc8f4503ab89d0725b430e4808f', '00d7ec94436e3a1416a3b302914957d3',\n",
    " '01065a75c0dfd95f78893ebbfd3c70b3', '003046e27c8ead3e3db155780dc5498e', '0032bfa835ce0f43a92ae0bbab6871cb',\n",
    " '004dd32d9cd167d9cc31c13b704498af', '00c46b336b5b06423fcdec1b4d5bee06', '0005f7aaab2800f6170c399693a96917',\n",
    " '000920ad0b612851f8e01bcc880d9b3d', '02a3870e56dbcb6afd73546af54a8457', '0325d6b779870b7bd216f3a81f6ab3d7']\n",
    "\n",
    "aws_output_folder = \"/kagg/ebsvol/contest/panda/train_images\"\n",
    "suffix = ''#'_mask'\n",
    "local_input_folder = \"orig_images\""
   ]
  },
  {
   "cell_type": "code",
   "execution_count": null,
   "metadata": {},
   "outputs": [],
   "source": [
    "sample_arr = ['train_corr.csv', 'test.csv', 'sample_submission.csv']"
   ]
  },
  {
   "cell_type": "code",
   "execution_count": 6,
   "metadata": {},
   "outputs": [
    {
     "data": {
      "application/vnd.jupyter.widget-view+json": {
       "model_id": "45c8f1b32ec1408585953dff6d627c5e",
       "version_major": 2,
       "version_minor": 0
      },
      "text/plain": [
       "HBox(children=(FloatProgress(value=0.0, max=24.0), HTML(value='')))"
      ]
     },
     "metadata": {},
     "output_type": "display_data"
    },
    {
     "name": "stdout",
     "output_type": "stream",
     "text": [
      "\n"
     ]
    }
   ],
   "source": [
    "for temp_file in tqdm(sample_arr):\n",
    "    bashCommand = \"scp -i ~/AWS/bvvohio.pem ec2-user@\" + aws_IPv4 + \":\"+\\\n",
    "    os.path.join(aws_output_folder, temp_file + suffix + '.tiff') + \" \" + local_input_folder\n",
    "    process = subprocess.Popen(bashCommand.split(), stdout=subprocess.PIPE)\n",
    "    output, error = process.communicate()\n",
    "    if error: print(str(error))"
   ]
  }
 ],
 "metadata": {
  "kernelspec": {
   "display_name": "Python 3",
   "language": "python",
   "name": "python3"
  },
  "language_info": {
   "codemirror_mode": {
    "name": "ipython",
    "version": 3
   },
   "file_extension": ".py",
   "mimetype": "text/x-python",
   "name": "python",
   "nbconvert_exporter": "python",
   "pygments_lexer": "ipython3",
   "version": "3.6.8"
  }
 },
 "nbformat": 4,
 "nbformat_minor": 4
}
