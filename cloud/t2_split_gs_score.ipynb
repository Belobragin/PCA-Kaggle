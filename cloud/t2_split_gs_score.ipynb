{
 "cells": [
  {
   "cell_type": "code",
   "execution_count": null,
   "metadata": {},
   "outputs": [],
   "source": [
    "#python3 t2_split_gs_score.py --cfv 2 --fromf ts2_16x260_inv"
   ]
  },
  {
   "cell_type": "code",
   "execution_count": null,
   "metadata": {},
   "outputs": [],
   "source": [
    "#splits cancerous data among gleason score subfolders in trainf and validf folders"
   ]
  },
  {
   "cell_type": "code",
   "execution_count": 1,
   "metadata": {
    "_cell_guid": "b1076dfc-b9ad-4769-8c92-a6c4dae69d19",
    "_uuid": "8f2839f25d086af736a60e9eeb907d3b93b6e0e5"
   },
   "outputs": [],
   "source": [
    "import os, gc, subprocess, time, sys, shutil, argparse\n",
    "\n",
    "import scipy\n",
    "import numpy as np # linear algebra\n",
    "import pandas as pd # data processing, CSV file I/O (e.g. pd.read_csv)\n",
    "import matplotlib\n",
    "import matplotlib.pyplot as plt\n",
    "from PIL import Image\n",
    "import cv2\n",
    "from tqdm import tqdm\n",
    "#from tqdm.notebook import tqdm\n",
    "import skimage.io\n",
    "from skimage.transform import resize, rescale\n",
    "from math import sqrt\n",
    "import statistics\n",
    "\n",
    "sys.path.append(\"..\")"
   ]
  },
  {
   "cell_type": "code",
   "execution_count": 2,
   "metadata": {},
   "outputs": [],
   "source": [
    "import PIL.Image\n",
    "#PIL.Image.MAX_IMAGE_PIXELS = 400000000\n",
    "PIL.Image.MAX_IMAGE_PIXELS = None"
   ]
  },
  {
   "cell_type": "code",
   "execution_count": 3,
   "metadata": {},
   "outputs": [],
   "source": [
    "from panda_bvv_config import *"
   ]
  },
  {
   "cell_type": "markdown",
   "metadata": {},
   "source": [
    "## 1. Inputs ##"
   ]
  },
  {
   "cell_type": "code",
   "execution_count": 8,
   "metadata": {},
   "outputs": [],
   "source": [
    "Zoom = 2\n",
    "\n",
    "#these 2 values are for x5 cross-fold validation:\n",
    "cfv_const= -2101\n",
    "last_train_label = 7500\n",
    "last_valid_label = 9300\n"
   ]
  },
  {
   "cell_type": "code",
   "execution_count": 5,
   "metadata": {},
   "outputs": [],
   "source": [
    "ap = argparse.ArgumentParser()\n",
    "ap.add_argument('--cfv', help=\"cross fold validation number\", dest = 'cfv', default = 1,\\\n",
    "                type=int, choices=choices_)\n",
    "ap.add_argument('--fromf', help=\"from folder name\", dest = 'fromf',\\\n",
    "                type=str)\n",
    "                #(\"--cnn\", type=str, help=\"training cnn name\", dest = 'train_cnn')\n",
    "args = vars(ap.parse_args())\n",
    "#data-from folder:\n",
    "new_proc_folder = args[\"fromf\"]\n",
    "cfv = args[\"cfv\"]"
   ]
  },
  {
   "cell_type": "code",
   "execution_count": 6,
   "metadata": {},
   "outputs": [],
   "source": [
    "# test:\n",
    "# cfv_const = -400\n",
    "# new_proc_folder = cancer_s2\n",
    "# cfv = 2\n",
    "# input_df = test_cnn_labels"
   ]
  },
  {
   "cell_type": "code",
   "execution_count": 7,
   "metadata": {},
   "outputs": [],
   "source": [
    "# wrapping inputs:\n",
    "new_proc_folder = os.path.join(base_path, new_proc_folder)\n"
   ]
  },
  {
   "cell_type": "markdown",
   "metadata": {},
   "source": [
    "## 2. Standard functions ##"
   ]
  },
  {
   "cell_type": "markdown",
   "metadata": {},
   "source": [
    "## 5. Distribute processed files among training and validation folders ##"
   ]
  },
  {
   "cell_type": "code",
   "execution_count": 7,
   "metadata": {},
   "outputs": [],
   "source": [
    "try:\n",
    "    shutil.rmtree(train_cnn)\n",
    "    shutil.rmtree(valid_cnn)\n",
    "except OSError as ee:\n",
    "    print (\"Error: %s: \" % ee)\n",
    "os.mkdir(train_cnn)\n",
    "os.mkdir(valid_cnn)\n",
    "for score in gs_scores:\n",
    "    os.mkdir(os.path.join(train_cnn, f'{score}'))\n",
    "    os.mkdir(os.path.join(valid_cnn, f'{score}'))\n",
    "# "
   ]
  },
  {
   "cell_type": "code",
   "execution_count": 9,
   "metadata": {},
   "outputs": [],
   "source": [
    "#cross-fold validation:\n",
    "labels_perm = mask_labels.sample(frac = 1, random_state=npseed)\n",
    "if cfv == 0: #take data without test:    \n",
    "    train_cnn_labels = labels_perm[:last_train_label]\n",
    "    valid_cnn_labels = labels_perm[last_train_label:last_valid_label]\n",
    "elif cfv == 1:\n",
    "    train_cnn_labels = labels_perm[:cfv_const]\n",
    "    valid_cnn_labels = labels_perm[cfv_const:]\n",
    "else:\n",
    "    train_cnn_labels = pd.concat([labels_perm[:cfv_const*cfv], labels_perm[cfv_const*(cfv-1):]], sort=False)\n",
    "    valid_cnn_labels = labels_perm[cfv_const*cfv:cfv_const*(cfv-1)]"
   ]
  },
  {
   "cell_type": "code",
   "execution_count": 48,
   "metadata": {},
   "outputs": [],
   "source": [
    "#split train files among ISUP categories\n",
    "with tqdm(total=train_cnn_labels.shape[0]) as pbar:\n",
    "    for j, row in train_cnn_labels.iterrows():\n",
    "        try:\n",
    "            filename = row['image_id'] + '.png'\n",
    "            suffix = row['gleason_score'].replace('+', '_') if row['gleason_score'] != '5+3' else '3_5'            \n",
    "            path_to_train_class = os.path.join(train_cnn, suffix, filename)\n",
    "            path_to_copy_from = os.path.join(new_proc_folder, filename)\n",
    "            bashCommand = \"cp \" + path_to_copy_from + ' ' + path_to_train_class\n",
    "            process = subprocess.Popen(bashCommand.split(), stdout=subprocess.PIPE)\n",
    "            output, error = process.communicate()\n",
    "            if error: print(str(error))\n",
    "        except Exception as ee:\n",
    "            print(f'Image number {filename}, error:\\n{ee}')\n",
    "        pbar.update(1)"
   ]
  },
  {
   "cell_type": "code",
   "execution_count": 27,
   "metadata": {},
   "outputs": [
    {
     "name": "stderr",
     "output_type": "stream",
     "text": [
      "100%|██████████| 400/400 [00:56<00:00,  7.14it/s]\n"
     ]
    }
   ],
   "source": [
    "#split validation files among ISUP categories\n",
    "with tqdm(total=valid_cnn_labels.shape[0]) as pbar:\n",
    "    for j, row in valid_cnn_labels.iterrows():\n",
    "        try:\n",
    "            filename = row['image_id'] + '.png'\n",
    "            suffix = row['gleason_score'].replace('+', '_') if row['gleason_score'] != '5+3' else '3_5'     \n",
    "            path_to_valid_class = os.path.join(valid_cnn, suffix, filename)    \n",
    "            path_to_copy_from = os.path.join(new_proc_folder, filename)\n",
    "            bashCommand = \"cp \" + path_to_copy_from + ' ' + path_to_valid_class    \n",
    "            process = subprocess.Popen(bashCommand.split(), stdout=subprocess.PIPE)\n",
    "            output, error = process.communicate()\n",
    "            if error: print(str(error))\n",
    "        except Exception as ee:\n",
    "            print(f'Image number {filename}, error:\\n{ee}')\n",
    "        pbar.update(1)"
   ]
  },
  {
   "cell_type": "code",
   "execution_count": 1,
   "metadata": {},
   "outputs": [],
   "source": [
    "import os\n",
    "module_name = 't2_split_gs_score'\n",
    "\n",
    "os.system('jupyter nbconvert --to python ' + module_name + '.ipynb')\n",
    "with open(module_name + '.py', 'r') as f:\n",
    "    lines = f.readlines()\n",
    "with open(module_name + '.py', 'w') as f:\n",
    "    for line in lines:\n",
    "        if 'nbconvert --to python' in line:\n",
    "            break\n",
    "        else:\n",
    "            f.write(line)"
   ]
  },
  {
   "cell_type": "code",
   "execution_count": null,
   "metadata": {},
   "outputs": [],
   "source": []
  }
 ],
 "metadata": {
  "kernelspec": {
   "display_name": "Python 3",
   "language": "python",
   "name": "python3"
  },
  "language_info": {
   "codemirror_mode": {
    "name": "ipython",
    "version": 3
   },
   "file_extension": ".py",
   "mimetype": "text/x-python",
   "name": "python",
   "nbconvert_exporter": "python",
   "pygments_lexer": "ipython3",
   "version": "3.6.8"
  }
 },
 "nbformat": 4,
 "nbformat_minor": 4
}
