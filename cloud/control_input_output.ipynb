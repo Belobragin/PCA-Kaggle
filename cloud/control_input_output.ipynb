{
 "cells": [
  {
   "cell_type": "code",
   "execution_count": 1,
   "metadata": {},
   "outputs": [],
   "source": [
    "import os, shutil\n",
    "from pathlib import Path\n",
    "from tqdm.notebook import tqdm\n",
    "\n",
    "import skimage.io\n",
    "\n",
    "from panda_bvv_config import *"
   ]
  },
  {
   "cell_type": "code",
   "execution_count": 2,
   "metadata": {},
   "outputs": [
    {
     "name": "stdout",
     "output_type": "stream",
     "text": [
      "Total: 499 GiB\n",
      "Used: 460 GiB\n",
      "Free: 39 GiB\n"
     ]
    }
   ],
   "source": [
    "total, used, free = shutil.disk_usage(\"/kagg/ebsvol/contest/panda\")\n",
    "\n",
    "print(\"Total: %d GiB\" % (total // (2**30)))\n",
    "print(\"Used: %d GiB\" % (used // (2**30)))\n",
    "print(\"Free: %d GiB\" % (free // (2**30)))"
   ]
  },
  {
   "cell_type": "markdown",
   "metadata": {},
   "source": [
    "### 1. Total disk volume in prime folds ###"
   ]
  },
  {
   "cell_type": "code",
   "execution_count": 3,
   "metadata": {},
   "outputs": [
    {
     "name": "stdout",
     "output_type": "stream",
     "text": [
      "Number of files: 10616 in the folder /kagg/ebsvol/contest/panda/ts2_64x320_inv\n",
      "Total: 2133 MB\n"
     ]
    }
   ],
   "source": [
    "int_fold = os.path.join(base_path, 'ts2_64x320_inv') \n",
    "print(\"Number of files: %d in the folder %s\" % (len(os.listdir(int_fold)), int_fold))\n",
    "print(\"Total: %d MB\" % (sum(f.stat().st_size for f in\\\n",
    "                            Path(int_fold).glob('**/*') if f.is_file())// (2**20)))"
   ]
  },
  {
   "cell_type": "code",
   "execution_count": 9,
   "metadata": {},
   "outputs": [
    {
     "name": "stdout",
     "output_type": "stream",
     "text": [
      "Number of files: 10503 in the folder /kagg/ebsvol/contest/panda/cancer_s2\n",
      "Total: 1967 MB\n"
     ]
    }
   ],
   "source": [
    "int_fold = os.path.join(base_path, 'cancer_s2') \n",
    "print(\"Number of files: %d in the folder %s\" % (len(os.listdir(int_fold)), int_fold))\n",
    "print(\"Total: %d MB\" % (sum(f.stat().st_size for f in\\\n",
    "                            Path(int_fold).glob('**/*') if f.is_file())// (2**20)))"
   ]
  },
  {
   "cell_type": "code",
   "execution_count": 7,
   "metadata": {},
   "outputs": [
    {
     "name": "stdout",
     "output_type": "stream",
     "text": [
      "Number of files: 925 in the folder /kagg/ebsvol/contest/panda/ts2_16x320_inv_from_cancer_s2\n",
      "Total: 4 MB\n"
     ]
    }
   ],
   "source": [
    "#we expect to get 2040 files without CV fo trainf and 521 for validf\n",
    "int_fold = os.path.join(base_path, 'ts2_16x320_inv_from_cancer_s2') \n",
    "print(\"Number of files: %d in the folder %s\" % (len(os.listdir(int_fold)), int_fold))\n",
    "print(\"Total: %d MB\" % (sum(f.stat().st_size for f in\\\n",
    "                            Path(int_fold).glob('**/*') if f.is_file())// (2**20)))"
   ]
  },
  {
   "cell_type": "code",
   "execution_count": 14,
   "metadata": {},
   "outputs": [
    {
     "name": "stdout",
     "output_type": "stream",
     "text": [
      "Number of files: 1879 in the folder /kagg/ebsvol/contest/panda/trainf/isup1\n",
      "Total: 247 MB\n"
     ]
    }
   ],
   "source": [
    "int_fold = '/kagg/ebsvol/contest/panda/trainf/isup1' #train_nwh_large_size2'\n",
    "print(\"Number of files: %d in the folder %s\" % (len(os.listdir(int_fold)), int_fold))\n",
    "print(\"Total: %d MB\" % (sum(f.stat().st_size for f in\\\n",
    "                            Path(int_fold).glob('**/*') if f.is_file())// (2**20)))"
   ]
  },
  {
   "cell_type": "code",
   "execution_count": 3,
   "metadata": {},
   "outputs": [
    {
     "name": "stdout",
     "output_type": "stream",
     "text": [
      "2123\n"
     ]
    }
   ],
   "source": [
    "int_fold = '/kagg/ebsvol/contest/panda/validf/'\n",
    "temp_arr = []\n",
    "for path, subdirs, files in os.walk(int_fold):\n",
    "    for name in files:\n",
    "        temp_arr.append(name)\n",
    "print(len(temp_arr))\n",
    "\n",
    "\n",
    "# temp_arr = []\n",
    "# for path, subdirs, files in os.walk(valid_cnn):\n",
    "#     for name in files:\n",
    "#         temp_arr.append(name)\n",
    "# num_valid_files = len(temp_arr)"
   ]
  },
  {
   "cell_type": "code",
   "execution_count": null,
   "metadata": {},
   "outputs": [],
   "source": []
  },
  {
   "cell_type": "markdown",
   "metadata": {},
   "source": [
    "### Sandbox ###"
   ]
  },
  {
   "cell_type": "code",
   "execution_count": 14,
   "metadata": {},
   "outputs": [
    {
     "name": "stdout",
     "output_type": "stream",
     "text": [
      "Number of files: 10616 in the folder /kagg/ebsvol/contest/panda/train_size1\n",
      "Total: 12648 MB\n"
     ]
    }
   ],
   "source": [
    "print(\"Number of files: %d in the folder %s\" % (len(os.listdir(train_size1)), train_size1 ))\n",
    "print(\"Total: %d MB\" % (sum(f.stat().st_size for f in\\\n",
    "                            Path(train_size1).glob('**/*') if f.is_file())// (2**20)))"
   ]
  },
  {
   "cell_type": "code",
   "execution_count": 5,
   "metadata": {},
   "outputs": [
    {
     "name": "stdout",
     "output_type": "stream",
     "text": [
      "Number of files: 10616 in the folder /kagg/ebsvol/contest/panda/train_size2\n",
      "Total: 917 MB\n"
     ]
    }
   ],
   "source": [
    "print(\"Number of files: %d in the folder %s\" % (len(os.listdir(train_size2)), train_size2 ))\n",
    "print(\"Total: %d MB\" % (sum(f.stat().st_size for f in\\\n",
    "                            Path(train_size2).glob('**/*') if f.is_file())// (2**20)))"
   ]
  },
  {
   "cell_type": "markdown",
   "metadata": {},
   "source": [
    "### 2. File size ###"
   ]
  },
  {
   "cell_type": "code",
   "execution_count": 42,
   "metadata": {},
   "outputs": [],
   "source": [
    "file_name = '0005f7aaab2800f6170c399693a96917_nowh.jpg'\n",
    "file_dir = train_no_white_path "
   ]
  },
  {
   "cell_type": "code",
   "execution_count": 43,
   "metadata": {},
   "outputs": [
    {
     "data": {
      "text/plain": [
       "8"
      ]
     },
     "execution_count": 43,
     "metadata": {},
     "output_type": "execute_result"
    }
   ],
   "source": [
    "os.path.getsize(os.path.join(file_dir, file_name)) // (2**20)\n"
   ]
  },
  {
   "cell_type": "code",
   "execution_count": 31,
   "metadata": {},
   "outputs": [],
   "source": [
    "file_name1 = '0018ae58b01bdadc8e347995b69f99aa.tiff'\n",
    "file_dir1 = original_train_path"
   ]
  },
  {
   "cell_type": "code",
   "execution_count": 32,
   "metadata": {},
   "outputs": [
    {
     "data": {
      "text/plain": [
       "19"
      ]
     },
     "execution_count": 32,
     "metadata": {},
     "output_type": "execute_result"
    }
   ],
   "source": [
    "os.path.getsize(os.path.join(file_dir1, file_name1)) // (2**20)"
   ]
  },
  {
   "cell_type": "markdown",
   "metadata": {},
   "source": [
    "### 3. Number of files in folds ###"
   ]
  },
  {
   "cell_type": "code",
   "execution_count": 25,
   "metadata": {},
   "outputs": [
    {
     "data": {
      "text/plain": [
       "31"
      ]
     },
     "execution_count": 25,
     "metadata": {},
     "output_type": "execute_result"
    }
   ],
   "source": [
    "len(os.listdir(train_no_white_path))"
   ]
  }
 ],
 "metadata": {
  "kernelspec": {
   "display_name": "Python 3",
   "language": "python",
   "name": "python3"
  },
  "language_info": {
   "codemirror_mode": {
    "name": "ipython",
    "version": 3
   },
   "file_extension": ".py",
   "mimetype": "text/x-python",
   "name": "python",
   "nbconvert_exporter": "python",
   "pygments_lexer": "ipython3",
   "version": "3.6.8"
  }
 },
 "nbformat": 4,
 "nbformat_minor": 4
}
