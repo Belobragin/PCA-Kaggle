{
 "cells": [
  {
   "cell_type": "code",
   "execution_count": null,
   "metadata": {},
   "outputs": [],
   "source": [
    "#python3 t2_isupdata_s1.py"
   ]
  },
  {
   "cell_type": "code",
   "execution_count": null,
   "metadata": {},
   "outputs": [],
   "source": [
    "#takes cancerous area from the image\n",
    "#for radboud takes all cancer area, no diffirentiation by gs class"
   ]
  },
  {
   "cell_type": "code",
   "execution_count": 1,
   "metadata": {
    "_cell_guid": "b1076dfc-b9ad-4769-8c92-a6c4dae69d19",
    "_uuid": "8f2839f25d086af736a60e9eeb907d3b93b6e0e5"
   },
   "outputs": [],
   "source": [
    "import os, gc, subprocess, time, sys, shutil\n",
    "\n",
    "import scipy\n",
    "import numpy as np # linear algebra\n",
    "import pandas as pd # data processing, CSV file I/O (e.g. pd.read_csv)\n",
    "import matplotlib\n",
    "import matplotlib.pyplot as plt\n",
    "from PIL import Image\n",
    "import cv2\n",
    "from tqdm import tqdm\n",
    "#from tqdm.notebook import tqdm\n",
    "import skimage.io\n",
    "from skimage.transform import resize, rescale\n",
    "from math import sqrt\n",
    "import statistics\n",
    "\n",
    "sys.path.append(\"..\")"
   ]
  },
  {
   "cell_type": "code",
   "execution_count": 2,
   "metadata": {},
   "outputs": [],
   "source": [
    "import PIL.Image\n",
    "#PIL.Image.MAX_IMAGE_PIXELS = 400000000\n",
    "PIL.Image.MAX_IMAGE_PIXELS = None"
   ]
  },
  {
   "cell_type": "code",
   "execution_count": 3,
   "metadata": {},
   "outputs": [],
   "source": [
    "#%matplotlib inline"
   ]
  },
  {
   "cell_type": "code",
   "execution_count": 4,
   "metadata": {},
   "outputs": [],
   "source": [
    "from panda_bvv_config import *"
   ]
  },
  {
   "cell_type": "markdown",
   "metadata": {},
   "source": [
    "## 1. Inputs ##"
   ]
  },
  {
   "cell_type": "code",
   "execution_count": 5,
   "metadata": {},
   "outputs": [],
   "source": [
    "Zoom = 1\n",
    "input_folder = train_size1\n",
    "input_mask_folder = mask_size1\n",
    "new_proc_folder = cancer_s1\n",
    "kw_for_tile_func = {'gauss_blur':20}"
   ]
  },
  {
   "cell_type": "code",
   "execution_count": 7,
   "metadata": {},
   "outputs": [],
   "source": [
    "# wrapping inputs:\n",
    "if not os.path.exists(new_proc_folder):\n",
    "    print(\"[INFO] 'creating {}' directory\".format(new_proc_folder))\n",
    "    os.makedirs(new_proc_folder)\n"
   ]
  },
  {
   "cell_type": "markdown",
   "metadata": {},
   "source": [
    "## 2. Standard functions ##"
   ]
  },
  {
   "cell_type": "code",
   "execution_count": null,
   "metadata": {},
   "outputs": [],
   "source": [
    "#this is a traditional write down function:\n",
    "def datanew_wr(output_data_path_, img_num_, data_new_):\n",
    "    cv2.imwrite(os.path.join(output_data_path_, img_num_ + '.png'), data_new_)\n"
   ]
  },
  {
   "cell_type": "code",
   "execution_count": 9,
   "metadata": {},
   "outputs": [],
   "source": [
    "#wrapper for image processing function\n",
    "def process_all_images(proc_func):\n",
    "    \n",
    "    def wrapper(zoom = Zoom,\n",
    "                input_biopsy_folder = input_folder,\n",
    "                output_data_path = new_proc_folder,\n",
    "                df_name = train_labels,\n",
    "                tif_file = False,\n",
    "                with_mask = True,\n",
    "                input_mask_folder = input_mask_folder,\n",
    "                **kw):\n",
    "        print(input_biopsy_folder)\n",
    "        print(output_data_path)\n",
    "        with tqdm(total=df_name.shape[0]) as pbar:\n",
    "            for  i, row in enumerate(tqdm(df_name.iterrows())):\n",
    "                img_num = row[1]['image_id']\n",
    "                provider = row[1]['data_provider']                         \n",
    "                mask = None\n",
    "                if tif_file:\n",
    "                    try:\n",
    "                        biopsy = skimage.io.MultiImage(os.path.join(input_biopsy_folder,\n",
    "                                                                    img_num + '.tiff'))[zoom]               \n",
    "                    except:\n",
    "                        print('Failed to read tiff:', img_num)                        \n",
    "                else:\n",
    "                    try:\n",
    "                        biopsy = skimage.io.imread(os.path.join(input_biopsy_folder, img_num + '.png'))\n",
    "                        shape = biopsy.shape\n",
    "                        if shape[0]<shape[1]: \n",
    "                            biopsy = np.rot90(biopsy)\n",
    "                            shape = biopsy.shape \n",
    "                    except:\n",
    "                        print(f'can not proceed with {img_num}')   \n",
    "                if with_mask:\n",
    "                    try:\n",
    "                        mask = skimage.io.imread(os.path.join(input_mask_folder, img_num + '_mask.png'))\n",
    "                        shape = mask.shape\n",
    "                        if shape[0]<shape[1]: \n",
    "                            mask = np.rot90(mask)\n",
    "                            shape = mask.shape \n",
    "                    except:\n",
    "                        print('Failed to process mask:', img_num) \n",
    "                try: \n",
    "                    data_new = proc_func(biopsy, \n",
    "                                         mask, \n",
    "                                         provider,\n",
    "                                         1,\n",
    "                                         **kw)\n",
    "                    datanew_wr(output_data_path_= output_data_path,\n",
    "                                img_num_ = img_num, \n",
    "                                data_new_ = data_new)                    \n",
    "                                      \n",
    "                except Exception as ee:\n",
    "                    print('Processing mistake:\\n', ee, '\\n', img_num)            \n",
    "                try:\n",
    "                    del biopsy, mask, data_new, mask_new\n",
    "                except:\n",
    "                    pass\n",
    "                pbar.update(1)\n",
    "            gc.collect()\n",
    "        return\n",
    "    \n",
    "    return wrapper"
   ]
  },
  {
   "cell_type": "code",
   "execution_count": 10,
   "metadata": {},
   "outputs": [],
   "source": [
    "def change_karolinska_mask_for_isup_grade_direct(mask_data, chan):\n",
    "    \"\"\"\n",
    "    This function returns pre-processed radbound mask for image multiplication\n",
    "    \"\"\"\n",
    "\n",
    "    try:\n",
    "        new_mask = np.zeros(mask_data.shape)#.astype('uint8')\n",
    "        cancerous_tissue = False\n",
    "        try:             \n",
    "            mask_area = np.where(mask_data[:,:,chan] == 2)\n",
    "            new_mask[mask_area[0], mask_area[1], :] = [1, 1, 1] \n",
    "            del mask_area, mask_data\n",
    "            if new_mask.any() >0: \n",
    "                cancerous_tissue = True    \n",
    "        except Exception as ee:\n",
    "            print(\"Mask {%s} processing mistake: \" %mask_image, ee)\n",
    "    except Exception as ee:\n",
    "        print(\"Mask {%s} read mistake: \"  %mask_image, str(ee))\n",
    "\n",
    "    gc.collect()                   \n",
    "    \n",
    "    return cancerous_tissue, new_mask"
   ]
  },
  {
   "cell_type": "code",
   "execution_count": null,
   "metadata": {},
   "outputs": [],
   "source": [
    "def change_radboud_mask_for_isup_grade_direct(mask_data, chan,\n",
    "                                      gauss_bl):\n",
    "    \"\"\"\n",
    "    This function returns pre-processed radbound mask for image multiplication\n",
    "    \"\"\"\n",
    "\n",
    "    try:\n",
    "        new_mask = np.zeros(mask_data.shape)#.astype('uint8')\n",
    "        cancerous_tissue = False\n",
    "        try: \n",
    "            for area_value in range(3,5):\n",
    "                mask_area = np.where(mask_data[:,:,chan] == area_value)\n",
    "                new_mask[mask_area[0], mask_area[1], :] = [1, 1, 1]\n",
    "                del mask_area\n",
    "            if new_mask.any() >0: \n",
    "                cancerous_tissue = True\n",
    "            del mask_data,    \n",
    "        except Exception as ee:\n",
    "            print(\"Mask {%s} processing mistake: \" %mask_image, ee)\n",
    "    except Exception as ee:\n",
    "        print(\"Mask {%s} read mistake: \"  %mask_image, str(ee))\n",
    "        \n",
    "    #new_mask[:,:,:] = cv2.blur(new_mask[:,:, :],(gauss_bl,gauss_bl))\n",
    "    new_mask[:,:,:] = cv2.bilateralFilter(np.float32(new_mask[:,:,:]),gauss_bl,25,25)\n",
    "    #medianBlur(new_mask[:,:, 2],5)\n",
    "    #new_mask[:,:,:] = cv2.GaussianBlur(new_mask[:,:,:],(gauss_bl,gauss_bl), 0)\n",
    "    #new_mask[:,:,:] =  np.rint(new_mask[:,:,:]) #.astype(int) \n",
    "    new_mask[:,:,:] =  np.ceil(new_mask[:,:,:]) #.astype(int) \n",
    "    #gc.collect()                   \n",
    "    \n",
    "    return cancerous_tissue, new_mask"
   ]
  },
  {
   "cell_type": "code",
   "execution_count": 13,
   "metadata": {},
   "outputs": [],
   "source": [
    "def get_cancer_area_from_mask(cancer_mask, biopsy):\n",
    "    \"\"\"\n",
    "    Returns multiplication of mask and image\n",
    "    \"\"\"\n",
    "    try:\n",
    "        only_cancer = np.multiply(cancer_mask,biopsy).astype(int)\n",
    "    except Exception as ee:\n",
    "        print(str(ee))\n",
    "    \n",
    "    return only_cancer  "
   ]
  },
  {
   "cell_type": "markdown",
   "metadata": {},
   "source": [
    "## 3. Processing functions ##"
   ]
  },
  {
   "cell_type": "code",
   "execution_count": 1,
   "metadata": {},
   "outputs": [
    {
     "ename": "NameError",
     "evalue": "name 'process_all_images' is not defined",
     "output_type": "error",
     "traceback": [
      "\u001b[0;31m---------------------------------------------------------------------------\u001b[0m",
      "\u001b[0;31mNameError\u001b[0m                                 Traceback (most recent call last)",
      "\u001b[0;32m<ipython-input-1-f9f22b201127>\u001b[0m in \u001b[0;36m<module>\u001b[0;34m\u001b[0m\n\u001b[0;32m----> 1\u001b[0;31m \u001b[0;34m@\u001b[0m\u001b[0mprocess_all_images\u001b[0m\u001b[0;34m\u001b[0m\u001b[0;34m\u001b[0m\u001b[0m\n\u001b[0m\u001b[1;32m      2\u001b[0m def get_cancer_area_for_isup_grade(biopsy, \n\u001b[1;32m      3\u001b[0m                                    \u001b[0mmask\u001b[0m\u001b[0;34m,\u001b[0m\u001b[0;34m\u001b[0m\u001b[0;34m\u001b[0m\u001b[0m\n\u001b[1;32m      4\u001b[0m                                    \u001b[0mprovider\u001b[0m\u001b[0;34m,\u001b[0m\u001b[0;34m\u001b[0m\u001b[0;34m\u001b[0m\u001b[0m\n\u001b[1;32m      5\u001b[0m                                    \u001b[0mgleason_score\u001b[0m\u001b[0;34m,\u001b[0m\u001b[0;34m\u001b[0m\u001b[0;34m\u001b[0m\u001b[0m\n",
      "\u001b[0;31mNameError\u001b[0m: name 'process_all_images' is not defined"
     ]
    }
   ],
   "source": [
    "@process_all_images\n",
    "def get_cancer_area_for_isup_grade(biopsy, \n",
    "                                   mask, \n",
    "                                   provider, \n",
    "                                   gleason_score, \n",
    "                                   **kw):\n",
    "    \"\"\"\n",
    "    Extracts cancer area only (if cancerous), from image and mask; or unchanged (if non-cancerous).\n",
    "    Do NOT split cancer areas on Gleason.\n",
    "    This function applicable for ISUP-grade based training\n",
    "    Do NOT tile image\n",
    "    \"\"\"\n",
    "    \n",
    "    gauss_bl = kw.get('gauss_bl') if kw.get('gauss_bl') else 20    \n",
    "    channel = 0 if len(np.unique(mask[:,:,0])) >1 else 2    \n",
    "              \n",
    "    if provider == 'karolinska':\n",
    "        cancerous, new_mask  = change_karolinska_mask_for_isup_grade_direct(mask, chan = channel)\n",
    "    elif provider == 'radboud':\n",
    "        cancerous, new_mask  = change_radboud_mask_for_isup_grade_direct(mask, chan = channel,\n",
    "                                      gauss_bl = gauss_bl)\n",
    "    if cancerous:\n",
    "        temp_im = get_cancer_area_from_mask(new_mask, biopsy)\n",
    "        data_new = cv2.bitwise_not(temp_im.astype('uint8') * 255)\n",
    "        #inv = cv2.bitwise_not(temp_im )\n",
    "        #inv = biopsy\n",
    "    else:\n",
    "        data_new = biopsy\n",
    "\n",
    "    return data_new\n",
    "    "
   ]
  },
  {
   "cell_type": "markdown",
   "metadata": {},
   "source": [
    "## 4. Process input files for training purpose ##"
   ]
  },
  {
   "cell_type": "code",
   "execution_count": 14,
   "metadata": {},
   "outputs": [],
   "source": [
    "get_cancer_area_for_isup_grade(**kw_for_tile_func)"
   ]
  },
  {
   "cell_type": "code",
   "execution_count": 1,
   "metadata": {},
   "outputs": [],
   "source": [
    "import os\n",
    "module_name = 't2_isupdata_s1'\n",
    "\n",
    "os.system('jupyter nbconvert --to python ' + module_name + '.ipynb')\n",
    "with open(module_name + '.py', 'r') as f:\n",
    "    lines = f.readlines()\n",
    "with open(module_name + '.py', 'w') as f:\n",
    "    for line in lines:\n",
    "        if 'nbconvert --to python' in line:\n",
    "            break\n",
    "        else:\n",
    "            f.write(line)"
   ]
  },
  {
   "cell_type": "code",
   "execution_count": null,
   "metadata": {},
   "outputs": [],
   "source": []
  }
 ],
 "metadata": {
  "kernelspec": {
   "display_name": "Python 3",
   "language": "python",
   "name": "python3"
  },
  "language_info": {
   "codemirror_mode": {
    "name": "ipython",
    "version": 3
   },
   "file_extension": ".py",
   "mimetype": "text/x-python",
   "name": "python",
   "nbconvert_exporter": "python",
   "pygments_lexer": "ipython3",
   "version": "3.6.8"
  }
 },
 "nbformat": 4,
 "nbformat_minor": 4
}
