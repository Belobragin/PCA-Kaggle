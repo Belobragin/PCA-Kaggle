{
 "cells": [
  {
   "cell_type": "code",
   "execution_count": 1,
   "metadata": {},
   "outputs": [],
   "source": [
    "#python3 t2_split.py"
   ]
  },
  {
   "cell_type": "code",
   "execution_count": 2,
   "metadata": {
    "_cell_guid": "b1076dfc-b9ad-4769-8c92-a6c4dae69d19",
    "_uuid": "8f2839f25d086af736a60e9eeb907d3b93b6e0e5"
   },
   "outputs": [],
   "source": [
    "import os, gc, subprocess, time, sys, shutil\n",
    "from glob import glob\n",
    "import scipy\n",
    "import numpy as np # linear algebra\n",
    "import pandas as pd # data processing, CSV file I/O (e.g. pd.read_csv)\n",
    "import matplotlib\n",
    "import matplotlib.pyplot as plt\n",
    "from PIL import Image\n",
    "import cv2\n",
    "from tqdm import tqdm\n",
    "#from tqdm.notebook import tqdm\n",
    "import skimage.io\n",
    "from skimage.transform import resize, rescale\n",
    "from math import sqrt\n",
    "import statistics\n",
    "\n",
    "sys.path.append(\"..\")"
   ]
  },
  {
   "cell_type": "code",
   "execution_count": 3,
   "metadata": {},
   "outputs": [],
   "source": [
    "import PIL.Image\n",
    "#PIL.Image.MAX_IMAGE_PIXELS = 400000000\n",
    "PIL.Image.MAX_IMAGE_PIXELS = None"
   ]
  },
  {
   "cell_type": "code",
   "execution_count": 4,
   "metadata": {},
   "outputs": [],
   "source": [
    "from panda_bvv_config import *"
   ]
  },
  {
   "cell_type": "markdown",
   "metadata": {},
   "source": [
    "## 1. Inputs ##"
   ]
  },
  {
   "cell_type": "code",
   "execution_count": 5,
   "metadata": {},
   "outputs": [],
   "source": [
    "Zoom = 2\n",
    "\n",
    "#these 2 values are for x5 cross-fold validation:\n",
    "# choices_=[0, 1, 2, 3, 4, 5]\n",
    "# cfv_const= -2123\n",
    "# last_train_label = 7500\n",
    "# last_valid_label = 9400\n"
   ]
  },
  {
   "cell_type": "code",
   "execution_count": 6,
   "metadata": {},
   "outputs": [],
   "source": [
    "#data-from folder:\n",
    "new_proc_folder = os.path.join(base_path, 'gs_proc_inv')"
   ]
  },
  {
   "cell_type": "markdown",
   "metadata": {},
   "source": [
    "## 2. Standard functions ##"
   ]
  },
  {
   "cell_type": "markdown",
   "metadata": {},
   "source": [
    "## 5. Distribute processed files among training and validation folders ##"
   ]
  },
  {
   "cell_type": "code",
   "execution_count": 7,
   "metadata": {},
   "outputs": [],
   "source": [
    "try:\n",
    "    shutil.rmtree(train_cnn)\n",
    "    shutil.rmtree(valid_cnn)\n",
    "except OSError as ee:\n",
    "    print (\"Error: %s: \" % ee)\n",
    "os.mkdir(train_cnn)\n",
    "os.mkdir(valid_cnn)\n",
    "for grade in gs_classes:\n",
    "    os.mkdir(os.path.join(train_cnn, f'gs{grade}'))\n",
    "    os.mkdir(os.path.join(valid_cnn, f'gs{grade}'))\n",
    "# "
   ]
  },
  {
   "cell_type": "code",
   "execution_count": 11,
   "metadata": {},
   "outputs": [],
   "source": [
    "def new_split_func(filenames, to_folder):\n",
    "    \n",
    "#split train files among ISUP categories\n",
    "    with(tqdm(total=len(filenames))) as pbar:\n",
    "        for filename in filenames:\n",
    "            path_to_class = os.path.join(to_folder, filename.split('/')[-1])\n",
    "            bashCommand = \"cp \" + filename + ' ' + path_to_class\n",
    "            process = subprocess.Popen(bashCommand.split(), stdout=subprocess.PIPE)\n",
    "            output, error = process.communicate()\n",
    "            if error: print(str(error))\n",
    "            pbar.update(1)"
   ]
  },
  {
   "cell_type": "code",
   "execution_count": 12,
   "metadata": {},
   "outputs": [
    {
     "name": "stderr",
     "output_type": "stream",
     "text": [
      "100%|██████████| 33/33 [00:04<00:00,  7.23it/s]\n",
      "100%|██████████| 290/290 [00:40<00:00,  7.15it/s]\n",
      "100%|██████████| 46/46 [00:06<00:00,  7.16it/s]\n",
      "100%|██████████| 405/405 [00:56<00:00,  7.18it/s]\n",
      "100%|██████████| 41/41 [00:05<00:00,  7.11it/s]\n",
      "100%|██████████| 365/365 [00:50<00:00,  7.16it/s]\n",
      "100%|██████████| 12/12 [00:01<00:00,  7.12it/s]\n",
      "100%|██████████| 102/102 [00:14<00:00,  7.23it/s]\n"
     ]
    }
   ],
   "source": [
    "from sklearn.model_selection import train_test_split\n",
    "for gsfolder in os.listdir(new_proc_folder):\n",
    "    labeled_files = glob(new_proc_folder + '/'+ gsfolder + '/*.png')\n",
    "    train_files, val_files = train_test_split(labeled_files, test_size=0.1, random_state=101010)\n",
    "    gsout = os.path.join(train_cnn, gsfolder)\n",
    "    new_split_func(train_files, gsout)\n",
    "    gsout = os.path.join(valid_cnn, gsfolder)\n",
    "    new_split_func(val_files, gsout)\n",
    "    "
   ]
  },
  {
   "cell_type": "code",
   "execution_count": 15,
   "metadata": {},
   "outputs": [],
   "source": [
    "import os\n",
    "module_name = 't2_split_gs'\n",
    "\n",
    "os.system('jupyter nbconvert --to python ' + module_name + '.ipynb')\n",
    "with open(module_name + '.py', 'r') as f:\n",
    "    lines = f.readlines()\n",
    "with open(module_name + '.py', 'w') as f:\n",
    "    for line in lines:\n",
    "        if 'nbconvert --to python' in line:\n",
    "            break\n",
    "        else:\n",
    "            f.write(line)"
   ]
  },
  {
   "cell_type": "code",
   "execution_count": null,
   "metadata": {},
   "outputs": [],
   "source": []
  }
 ],
 "metadata": {
  "kernelspec": {
   "display_name": "Python 3",
   "language": "python",
   "name": "python3"
  },
  "language_info": {
   "codemirror_mode": {
    "name": "ipython",
    "version": 3
   },
   "file_extension": ".py",
   "mimetype": "text/x-python",
   "name": "python",
   "nbconvert_exporter": "python",
   "pygments_lexer": "ipython3",
   "version": "3.6.8"
  }
 },
 "nbformat": 4,
 "nbformat_minor": 4
}
