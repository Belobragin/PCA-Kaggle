{
 "cells": [
  {
   "cell_type": "code",
   "execution_count": null,
   "metadata": {},
   "outputs": [],
   "source": [
    "#python3 t2_split.py --cfv 2 --fromf ts2_16x260_inv"
   ]
  },
  {
   "cell_type": "code",
   "execution_count": 1,
   "metadata": {
    "_cell_guid": "b1076dfc-b9ad-4769-8c92-a6c4dae69d19",
    "_uuid": "8f2839f25d086af736a60e9eeb907d3b93b6e0e5"
   },
   "outputs": [],
   "source": [
    "import os, gc, subprocess, time, sys, shutil, argparse\n",
    "\n",
    "import scipy\n",
    "import numpy as np # linear algebra\n",
    "import pandas as pd # data processing, CSV file I/O (e.g. pd.read_csv)\n",
    "import matplotlib\n",
    "import matplotlib.pyplot as plt\n",
    "from PIL import Image\n",
    "import cv2\n",
    "from tqdm import tqdm\n",
    "#from tqdm.notebook import tqdm\n",
    "import skimage.io\n",
    "from skimage.transform import resize, rescale\n",
    "from math import sqrt\n",
    "import statistics\n",
    "\n",
    "sys.path.append(\"..\")"
   ]
  },
  {
   "cell_type": "code",
   "execution_count": 2,
   "metadata": {},
   "outputs": [],
   "source": [
    "import PIL.Image\n",
    "#PIL.Image.MAX_IMAGE_PIXELS = 400000000\n",
    "PIL.Image.MAX_IMAGE_PIXELS = None"
   ]
  },
  {
   "cell_type": "code",
   "execution_count": 4,
   "metadata": {},
   "outputs": [],
   "source": [
    "from panda_bvv_config import *"
   ]
  },
  {
   "cell_type": "markdown",
   "metadata": {},
   "source": [
    "## 1. Inputs ##"
   ]
  },
  {
   "cell_type": "code",
   "execution_count": 5,
   "metadata": {},
   "outputs": [],
   "source": [
    "Zoom = 2\n",
    "\n",
    "#these 2 values are for x5 cross-fold validation:\n",
    "choices_=[0, 1, 2, 3, 4, 5]\n",
    "cfv_const= -2123\n",
    "last_train_label = 7500\n",
    "last_valid_label = 9400\n"
   ]
  },
  {
   "cell_type": "code",
   "execution_count": null,
   "metadata": {},
   "outputs": [],
   "source": [
    "ap = argparse.ArgumentParser()\n",
    "ap.add_argument('--cfv', help=\"cross fold validation number\", dest = 'cfv', default = 1,\\\n",
    "                type=int, choices=choices_)\n",
    "ap.add_argument('--fromf', help=\"from folder name\", dest = 'fromf',\\\n",
    "                type=str)\n",
    "                #(\"--cnn\", type=str, help=\"training cnn name\", dest = 'train_cnn')\n",
    "args = vars(ap.parse_args())"
   ]
  },
  {
   "cell_type": "code",
   "execution_count": null,
   "metadata": {},
   "outputs": [],
   "source": [
    "#data-from folder:\n",
    "new_proc_folder = args[\"fromf\"]\n",
    "cfv = args[\"cfv\"]"
   ]
  },
  {
   "cell_type": "code",
   "execution_count": 7,
   "metadata": {},
   "outputs": [],
   "source": [
    "# wrapping inputs:\n",
    "new_proc_folder = os.path.join(base_path, new_proc_folder)\n"
   ]
  },
  {
   "cell_type": "markdown",
   "metadata": {},
   "source": [
    "## 2. Standard functions ##"
   ]
  },
  {
   "cell_type": "markdown",
   "metadata": {},
   "source": [
    "## 5. Distribute processed files among training and validation folders ##"
   ]
  },
  {
   "cell_type": "code",
   "execution_count": 21,
   "metadata": {},
   "outputs": [],
   "source": [
    "try:\n",
    "    shutil.rmtree(train_cnn)\n",
    "    shutil.rmtree(valid_cnn)\n",
    "except OSError as ee:\n",
    "    print (\"Error: %s: \" % ee)\n",
    "os.mkdir(train_cnn)\n",
    "os.mkdir(valid_cnn)\n",
    "for grade in isup_classes:\n",
    "    os.mkdir(os.path.join(train_cnn, f'isup{grade}'))\n",
    "    os.mkdir(os.path.join(valid_cnn, f'isup{grade}'))\n",
    "# "
   ]
  },
  {
   "cell_type": "code",
   "execution_count": 29,
   "metadata": {},
   "outputs": [],
   "source": [
    "#cross-fold validation:\n",
    "labels_perm = train_labels.sample(frac = 1, random_state=npseed)\n",
    "if cfv == 0: #take data without test:    \n",
    "    train_cnn_labels = labels_perm[:last_train_label]\n",
    "    valid_cnn_labels = labels_perm[last_train_label:last_valid_label]\n",
    "elif cfv == 1:\n",
    "    train_cnn_labels = labels_perm[:cfv_const]\n",
    "    valid_cnn_labels = labels_perm[cfv_const:]\n",
    "else:\n",
    "    train_cnn_labels = pd.concat([labels_perm[:cfv_const*cfv], labels_perm[cfv_const*(cfv-1):]], sort=False)\n",
    "    valid_cnn_labels = labels_perm[cfv_const*cfv:cfv_const*(cfv-1)]"
   ]
  },
  {
   "cell_type": "code",
   "execution_count": 23,
   "metadata": {},
   "outputs": [
    {
     "data": {
      "application/vnd.jupyter.widget-view+json": {
       "model_id": "510ca0f620284f87a92d3ec08d9b7610",
       "version_major": 2,
       "version_minor": 0
      },
      "text/plain": [
       "HBox(children=(FloatProgress(value=1.0, bar_style='info', max=1.0), HTML(value='')))"
      ]
     },
     "metadata": {},
     "output_type": "display_data"
    },
    {
     "name": "stdout",
     "output_type": "stream",
     "text": [
      "\n",
      "CPU times: user 8.7 s, sys: 15.9 s, total: 24.6 s\n",
      "Wall time: 1min 54s\n"
     ]
    }
   ],
   "source": [
    "#split train files among ISUP categories\n",
    "with tqdm(total=train_cnn_labels.shape[0]) as pbar:\n",
    "    for j, row in train_cnn_labels.iterrows():\n",
    "        filename = row['image_id'] + '.png'       \n",
    "        path_to_train_class = os.path.join(train_cnn, 'isup' + str(row['isup_grade']), filename)\n",
    "        path_to_copy_from = os.path.join(new_proc_folder, filename)\n",
    "        bashCommand = \"cp \" + path_to_copy_from + ' ' + path_to_train_class\n",
    "        process = subprocess.Popen(bashCommand.split(), stdout=subprocess.PIPE)\n",
    "        output, error = process.communicate()\n",
    "        if error: print(str(error))\n",
    "        pbar.update(1)"
   ]
  },
  {
   "cell_type": "code",
   "execution_count": 24,
   "metadata": {},
   "outputs": [
    {
     "data": {
      "application/vnd.jupyter.widget-view+json": {
       "model_id": "58194a213bde41e2a536acc03f6ce41b",
       "version_major": 2,
       "version_minor": 0
      },
      "text/plain": [
       "HBox(children=(FloatProgress(value=1.0, bar_style='info', max=1.0), HTML(value='')))"
      ]
     },
     "metadata": {},
     "output_type": "display_data"
    },
    {
     "name": "stdout",
     "output_type": "stream",
     "text": [
      "\n",
      "CPU times: user 2.16 s, sys: 3.97 s, total: 6.12 s\n",
      "Wall time: 28.8 s\n"
     ]
    }
   ],
   "source": [
    "#split validation files among ISUP categories\n",
    "with tqdm(total=valid_cnn_labels.shape[0]) as pbar:\n",
    "    for j, row in valid_cnn_labels.iterrows():\n",
    "        filename = row['image_id'] + '.png'\n",
    "        path_to_valid_class = os.path.join(valid_cnn, 'isup' + str(row['isup_grade']), filename)    \n",
    "        path_to_copy_from = os.path.join(new_proc_folder, filename)\n",
    "        bashCommand = \"cp \" + path_to_copy_from + ' ' + path_to_valid_class    \n",
    "        process = subprocess.Popen(bashCommand.split(), stdout=subprocess.PIPE)\n",
    "        output, error = process.communicate()\n",
    "        if error: print(str(error))\n",
    "        pbar.update(1)"
   ]
  },
  {
   "cell_type": "code",
   "execution_count": 1,
   "metadata": {},
   "outputs": [],
   "source": [
    "import os\n",
    "module_name = 't2_split'\n",
    "\n",
    "os.system('jupyter nbconvert --to python ' + module_name + '.ipynb')\n",
    "with open(module_name + '.py', 'r') as f:\n",
    "    lines = f.readlines()\n",
    "with open(module_name + '.py', 'w') as f:\n",
    "    for line in lines:\n",
    "        if 'nbconvert --to python' in line:\n",
    "            break\n",
    "        else:\n",
    "            f.write(line)"
   ]
  },
  {
   "cell_type": "code",
   "execution_count": null,
   "metadata": {},
   "outputs": [],
   "source": []
  }
 ],
 "metadata": {
  "kernelspec": {
   "display_name": "Python 3",
   "language": "python",
   "name": "python3"
  },
  "language_info": {
   "codemirror_mode": {
    "name": "ipython",
    "version": 3
   },
   "file_extension": ".py",
   "mimetype": "text/x-python",
   "name": "python",
   "nbconvert_exporter": "python",
   "pygments_lexer": "ipython3",
   "version": "3.6.8"
  }
 },
 "nbformat": 4,
 "nbformat_minor": 4
}
