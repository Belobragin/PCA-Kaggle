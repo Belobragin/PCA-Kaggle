{
 "cells": [
  {
   "cell_type": "code",
   "execution_count": null,
   "metadata": {},
   "outputs": [],
   "source": [
    "#python3 t2_process.py --tof ts1_16x320_inv --ntile 16 --tsize 80"
   ]
  },
  {
   "cell_type": "code",
   "execution_count": 1,
   "metadata": {
    "_cell_guid": "b1076dfc-b9ad-4769-8c92-a6c4dae69d19",
    "_uuid": "8f2839f25d086af736a60e9eeb907d3b93b6e0e5"
   },
   "outputs": [],
   "source": [
    "import os, gc, subprocess, time, sys, shutil, argparse\n",
    "\n",
    "import scipy\n",
    "import numpy as np # linear algebra\n",
    "import pandas as pd # data processing, CSV file I/O (e.g. pd.read_csv)\n",
    "import matplotlib\n",
    "import matplotlib.pyplot as plt\n",
    "from PIL import Image\n",
    "import cv2\n",
    "from tqdm import tqdm\n",
    "#from tqdm.notebook import tqdm\n",
    "import skimage.io\n",
    "from skimage.transform import resize, rescale\n",
    "from math import sqrt\n",
    "import statistics\n",
    "\n",
    "sys.path.append(\"..\")"
   ]
  },
  {
   "cell_type": "code",
   "execution_count": 2,
   "metadata": {},
   "outputs": [],
   "source": [
    "import PIL.Image\n",
    "#PIL.Image.MAX_IMAGE_PIXELS = 400000000\n",
    "PIL.Image.MAX_IMAGE_PIXELS = None"
   ]
  },
  {
   "cell_type": "code",
   "execution_count": 3,
   "metadata": {},
   "outputs": [],
   "source": [
    "#%matplotlib inline"
   ]
  },
  {
   "cell_type": "code",
   "execution_count": 4,
   "metadata": {},
   "outputs": [],
   "source": [
    "from panda_bvv_config import *"
   ]
  },
  {
   "cell_type": "markdown",
   "metadata": {},
   "source": [
    "## 1. Inputs ##"
   ]
  },
  {
   "cell_type": "code",
   "execution_count": 5,
   "metadata": {},
   "outputs": [],
   "source": [
    "Zoom = 1\n",
    "input_folder = train_path\n",
    "input_mask_folder = mask_size1\n"
   ]
  },
  {
   "cell_type": "code",
   "execution_count": null,
   "metadata": {},
   "outputs": [],
   "source": [
    "ap = argparse.ArgumentParser()\n",
    "ap.add_argument('--tof', help=\"folder name to save tile\", dest = 'tof',\\\n",
    "                type=str)\n",
    "\n",
    "args = vars(ap.parse_args())"
   ]
  },
  {
   "cell_type": "code",
   "execution_count": null,
   "metadata": {},
   "outputs": [],
   "source": [
    "#data-from folder:\n",
    "to_folder = args[\"tof\"]"
   ]
  },
  {
   "cell_type": "code",
   "execution_count": null,
   "metadata": {},
   "outputs": [],
   "source": [
    "new_proc_folder = os.path.join(base_path, to_folder)"
   ]
  },
  {
   "cell_type": "code",
   "execution_count": 7,
   "metadata": {},
   "outputs": [],
   "source": [
    "# wrapping inputs:\n",
    "if not os.path.exists(new_proc_folder):\n",
    "    print(\"[INFO] 'creating {}' directory\".format(new_proc_folder))\n",
    "    os.makedirs(new_proc_folder)\n"
   ]
  },
  {
   "cell_type": "markdown",
   "metadata": {},
   "source": [
    "## 2. Standard functions ##"
   ]
  },
  {
   "cell_type": "code",
   "execution_count": 9,
   "metadata": {},
   "outputs": [],
   "source": [
    "#wrapper for image processing function\n",
    "def process_all_images(proc_func):\n",
    "    \n",
    "    def wrapper(zoom = Zoom,\n",
    "                input_biopsy_folder = input_folder,\n",
    "                output_data_path = new_proc_folder,\n",
    "                df_name = train_labels,\n",
    "                tif_file = False,\n",
    "                with_mask = False,\n",
    "                input_mask_folder = input_mask_folder,\n",
    "                **kw):\n",
    "        print(input_biopsy_folder)\n",
    "        print(new_proc_folder)\n",
    "        with tqdm(total=df_name.shape[0]) as pbar:\n",
    "            for  i, row in enumerate(tqdm(df_name.iterrows())):\n",
    "                img_num = row[1]['image_id']\n",
    "                provider = row[1]['data_provider']                         \n",
    "                mask = None\n",
    "                if tif_file:\n",
    "                    try:\n",
    "                        biopsy = skimage.io.MultiImage(os.path.join(input_biopsy_folder,\\\n",
    "                                                                    img_num + '.tiff'))[zoom]               \n",
    "                    except:\n",
    "                        print('Failed to read tiff:', img_num)                        \n",
    "                else:\n",
    "                    try:\n",
    "                        biopsy = skimage.io.imread(os.path.join(input_biopsy_folder, img_num + '.png'))\n",
    "                        shape = biopsy.shape\n",
    "                        if shape[0]<shape[1]: \n",
    "                            biopsy = np.rot90(biopsy)\n",
    "                            shape = biopsy.shape \n",
    "                    except:\n",
    "                        print(f'can not proceed with {img_num}')   \n",
    "                if with_mask:\n",
    "                    try:\n",
    "                        mask = skimage.io.imread(os.path.join(input_mask_folder, img_num + '_mask.png'))\n",
    "                        shape = mask.shape\n",
    "                        if shape[0]<shape[1]: \n",
    "                            mask = np.rot90(mask)\n",
    "                            shape = mask.shape \n",
    "                    except:\n",
    "                        print('Failed to process mask:', img_num)\n",
    "                try:\n",
    "                    data_new = proc_func(biopsy, mask, provider, **kw)\n",
    "                    cv2.imwrite(os.path.join(output_data_path, img_num + '.png'), data_new)\n",
    "                except Exception as ee:\n",
    "                    print('Processing mistake:\\n', ee, '\\n', img_num)            \n",
    "                try:\n",
    "                    del biopsy, mask, data_new, mask_new\n",
    "                except:\n",
    "                    pass\n",
    "                pbar.update(1)\n",
    "            gc.collect()\n",
    "        return\n",
    "    \n",
    "    return wrapper"
   ]
  },
  {
   "cell_type": "markdown",
   "metadata": {},
   "source": [
    "## 3. Processing functions ##"
   ]
  },
  {
   "cell_type": "code",
   "execution_count": 14,
   "metadata": {},
   "outputs": [],
   "source": [
    "@process_all_images\n",
    "def tiff_to_png_size1(img, mask, provider, **kw):\n",
    "    return img"
   ]
  },
  {
   "cell_type": "markdown",
   "metadata": {},
   "source": [
    "## 4. Process input files for training purpose ##"
   ]
  },
  {
   "cell_type": "code",
   "execution_count": null,
   "metadata": {},
   "outputs": [],
   "source": [
    "tiff_to_png_size1(tif_file = True,\n",
    "                  df_name = train_labels)"
   ]
  },
  {
   "cell_type": "markdown",
   "metadata": {},
   "source": [
    "import os\n",
    "module_name = 't2_extract_size1'\n",
    "\n",
    "os.system('jupyter nbconvert --to python ' + module_name + '.ipynb')\n",
    "with open(module_name + '.py', 'r') as f:\n",
    "    lines = f.readlines()\n",
    "with open(module_name + '.py', 'w') as f:\n",
    "    for line in lines:\n",
    "        if 'nbconvert --to python' in line:\n",
    "            break\n",
    "        else:\n",
    "            f.write(line)"
   ]
  },
  {
   "cell_type": "code",
   "execution_count": null,
   "metadata": {},
   "outputs": [],
   "source": []
  }
 ],
 "metadata": {
  "kernelspec": {
   "display_name": "Python 3",
   "language": "python",
   "name": "python3"
  },
  "language_info": {
   "codemirror_mode": {
    "name": "ipython",
    "version": 3
   },
   "file_extension": ".py",
   "mimetype": "text/x-python",
   "name": "python",
   "nbconvert_exporter": "python",
   "pygments_lexer": "ipython3",
   "version": "3.6.8"
  }
 },
 "nbformat": 4,
 "nbformat_minor": 4
}
