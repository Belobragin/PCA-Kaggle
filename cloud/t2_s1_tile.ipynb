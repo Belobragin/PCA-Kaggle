{
 "cells": [
  {
   "cell_type": "code",
   "execution_count": null,
   "metadata": {},
   "outputs": [],
   "source": [
    "#python3 t2_s1_tile.py --tof ts1_16x320_inv --ntile 16 --tsize 80"
   ]
  },
  {
   "cell_type": "code",
   "execution_count": null,
   "metadata": {},
   "outputs": [],
   "source": [
    "#makes simple tile from train_size1 images"
   ]
  },
  {
   "cell_type": "code",
   "execution_count": 1,
   "metadata": {
    "_cell_guid": "b1076dfc-b9ad-4769-8c92-a6c4dae69d19",
    "_uuid": "8f2839f25d086af736a60e9eeb907d3b93b6e0e5"
   },
   "outputs": [],
   "source": [
    "import os, gc, subprocess, time, sys, shutil, argparse\n",
    "\n",
    "import scipy\n",
    "import numpy as np # linear algebra\n",
    "import pandas as pd # data processing, CSV file I/O (e.g. pd.read_csv)\n",
    "import matplotlib\n",
    "import matplotlib.pyplot as plt\n",
    "from PIL import Image\n",
    "import cv2\n",
    "from tqdm import tqdm\n",
    "#from tqdm.notebook import tqdm\n",
    "import skimage.io\n",
    "from skimage.transform import resize, rescale\n",
    "from math import sqrt\n",
    "import statistics\n",
    "\n",
    "sys.path.append(\"..\")"
   ]
  },
  {
   "cell_type": "code",
   "execution_count": 2,
   "metadata": {},
   "outputs": [],
   "source": [
    "import PIL.Image\n",
    "#PIL.Image.MAX_IMAGE_PIXELS = 400000000\n",
    "PIL.Image.MAX_IMAGE_PIXELS = None"
   ]
  },
  {
   "cell_type": "code",
   "execution_count": 3,
   "metadata": {},
   "outputs": [],
   "source": [
    "#%matplotlib inline"
   ]
  },
  {
   "cell_type": "code",
   "execution_count": 4,
   "metadata": {},
   "outputs": [],
   "source": [
    "from panda_bvv_config import *"
   ]
  },
  {
   "cell_type": "markdown",
   "metadata": {},
   "source": [
    "## 1. Inputs ##"
   ]
  },
  {
   "cell_type": "code",
   "execution_count": 5,
   "metadata": {},
   "outputs": [],
   "source": [
    "Zoom = 1\n",
    "input_folder = train_size1\n",
    "input_mask_folder = mask_size1\n"
   ]
  },
  {
   "cell_type": "code",
   "execution_count": null,
   "metadata": {},
   "outputs": [],
   "source": [
    "ap = argparse.ArgumentParser()\n",
    "ap.add_argument('--tof', help=\"folder name to save tile\", dest = 'tof',\\\n",
    "                type=str)\n",
    "ap.add_argument('--ntile', help=\"number of tiles\", dest = 'ntile', default = 16,\\\n",
    "                type=int)\n",
    "ap.add_argument('--tsize', help=\"size of one square tile\", dest = 'tsize', default = 80,\\\n",
    "                type=int)# default for B3 net\n",
    "\n",
    "                #(\"--cnn\", type=str, help=\"training cnn name\", dest = 'train_cnn')\n",
    "args = vars(ap.parse_args())"
   ]
  },
  {
   "cell_type": "code",
   "execution_count": null,
   "metadata": {},
   "outputs": [],
   "source": [
    "#data-from folder:\n",
    "to_folder = args[\"tof\"]\n",
    "ntile = args[\"ntile\"]\n",
    "tsize = args[\"tsize\"]"
   ]
  },
  {
   "cell_type": "code",
   "execution_count": null,
   "metadata": {},
   "outputs": [],
   "source": [
    "kw_for_tile_func = {'sz': tsize, 'N':ntile}\n",
    "new_proc_folder = os.path.join(base_path, to_folder)"
   ]
  },
  {
   "cell_type": "code",
   "execution_count": 6,
   "metadata": {},
   "outputs": [],
   "source": [
    "# last_train_label = 9000\n",
    "# last_valid_label = 10617\n",
    "#kw = {'gauss_blur':20}"
   ]
  },
  {
   "cell_type": "code",
   "execution_count": 7,
   "metadata": {},
   "outputs": [],
   "source": [
    "# wrapping inputs:\n",
    "if not os.path.exists(new_proc_folder):\n",
    "    print(\"[INFO] 'creating {}' directory\".format(new_proc_folder))\n",
    "    os.makedirs(new_proc_folder)\n"
   ]
  },
  {
   "cell_type": "markdown",
   "metadata": {},
   "source": [
    "## 2. Standard functions ##"
   ]
  },
  {
   "cell_type": "code",
   "execution_count": 9,
   "metadata": {},
   "outputs": [],
   "source": [
    "#wrapper for image processing function\n",
    "def process_all_images(proc_func):\n",
    "    \n",
    "    def wrapper(zoom = Zoom,\n",
    "                input_biopsy_folder = input_folder,\n",
    "                output_data_path = new_proc_folder,\n",
    "                df_name = train_labels,\n",
    "                tif_file = False,\n",
    "                with_mask = False,\n",
    "                input_mask_folder = input_mask_folder,\n",
    "                **kw):\n",
    "        print(input_biopsy_folder)\n",
    "        print(new_proc_folder)\n",
    "        with tqdm(total=df_name.shape[0]) as pbar:\n",
    "            for  i, row in enumerate(tqdm(df_name.iterrows())):\n",
    "                img_num = row[1]['image_id']\n",
    "                provider = row[1]['data_provider']                         \n",
    "                mask = None\n",
    "                if tif_file:\n",
    "                    try:\n",
    "                        biopsy = skimage.io.MultiImage(os.path.join(input_biopsy_folder,                                                        img_num + '.tiff'))[zoom]               \n",
    "                    except:\n",
    "                        print('Failed to read tiff:', img_num)                        \n",
    "                else:\n",
    "                    try:\n",
    "                        biopsy = skimage.io.imread(os.path.join(input_biopsy_folder, img_num + '.png'))\n",
    "                        shape = biopsy.shape\n",
    "                        if shape[0]<shape[1]: \n",
    "                            biopsy = np.rot90(biopsy)\n",
    "                            shape = biopsy.shape \n",
    "                    except:\n",
    "                        print(f'can not proceed with {img_num}')   \n",
    "                if with_mask:\n",
    "                    try:\n",
    "                        mask = skimage.io.imread(os.path.join(input_mask_folder, img_num + '_mask.png'))\n",
    "                        shape = mask.shape\n",
    "                        if shape[0]<shape[1]: \n",
    "                            mask = np.rot90(mask)\n",
    "                            shape = mask.shape \n",
    "                    except:\n",
    "                        print('Failed to process mask:', img_num)\n",
    "                try:\n",
    "                    data_new = proc_func(biopsy, mask, provider, **kw)\n",
    "                    cv2.imwrite(os.path.join(output_data_path, img_num + '.png'), data_new)\n",
    "                except Exception as ee:\n",
    "                    print('Processing mistake:\\n', ee, '\\n', img_num)            \n",
    "                try:\n",
    "                    del biopsy, mask, data_new, mask_new\n",
    "                except:\n",
    "                    pass\n",
    "                pbar.update(1)\n",
    "            gc.collect()\n",
    "        return\n",
    "    \n",
    "    return wrapper"
   ]
  },
  {
   "cell_type": "markdown",
   "metadata": {},
   "source": [
    "## 3. Processing functions ##"
   ]
  },
  {
   "cell_type": "code",
   "execution_count": 16,
   "metadata": {},
   "outputs": [],
   "source": [
    "@process_all_images\n",
    "def tile16_simple(img, mask, provider, **kw):        \n",
    "    sz=kw.get('sz') if kw.get('sz') else 32    \n",
    "    N = kw.get('N') if kw.get('N') else 16\n",
    "    final_dim = kw.get('final_dim') if kw.get('final_dim') else N**0.5 \n",
    "    result = []\n",
    "    shape = img.shape\n",
    "    pad0,pad1 = (sz - shape[0]%sz)%sz, (sz - shape[1]%sz)%sz\n",
    "    img = np.pad(img,[[pad0//2,pad0-pad0//2],[pad1//2,pad1-pad1//2],[0,0]],\n",
    "                constant_values=255)\n",
    "    img = img.reshape(img.shape[0]//sz,sz,img.shape[1]//sz,sz,3)\n",
    "    img = img.transpose(0,2,1,3,4).reshape(-1,sz,sz,3)\n",
    "    if len(img) < N:\n",
    "        img = np.pad(img,[[0,N-len(img)],[0,0],[0,0],[0,0]],constant_values=255)\n",
    "    idxs = np.argsort(img.reshape(img.shape[0],-1).sum(-1))[:N]\n",
    "    img = img[idxs]\n",
    "    a, b, c, d = img.shape\n",
    "    data_new = (img.reshape(int(final_dim), int(final_dim),\\\n",
    "                                                    b, c, d).swapaxes(1,2).reshape(b*int(final_dim),\\\n",
    "                                                    c*int(final_dim), d))\n",
    "    data_new = cv2.bitwise_not(data_new)\n",
    "    \n",
    "    return data_new"
   ]
  },
  {
   "cell_type": "markdown",
   "metadata": {},
   "source": [
    "## 4. Process input files for training purpose ##"
   ]
  },
  {
   "cell_type": "code",
   "execution_count": 17,
   "metadata": {},
   "outputs": [],
   "source": [
    "tile16_simple(df_name = train_labels,\n",
    "              **kw_for_tile_func)"
   ]
  },
  {
   "cell_type": "code",
   "execution_count": 2,
   "metadata": {},
   "outputs": [],
   "source": [
    "import os\n",
    "module_name = 't2_s1_tile'\n",
    "\n",
    "os.system('jupyter nbconvert --to python ' + module_name + '.ipynb')\n",
    "with open(module_name + '.py', 'r') as f:\n",
    "    lines = f.readlines()\n",
    "with open(module_name + '.py', 'w') as f:\n",
    "    for line in lines:\n",
    "        if 'nbconvert --to python' in line:\n",
    "            break\n",
    "        else:\n",
    "            f.write(line)"
   ]
  },
  {
   "cell_type": "code",
   "execution_count": null,
   "metadata": {},
   "outputs": [],
   "source": []
  }
 ],
 "metadata": {
  "kernelspec": {
   "display_name": "Python 3",
   "language": "python",
   "name": "python3"
  },
  "language_info": {
   "codemirror_mode": {
    "name": "ipython",
    "version": 3
   },
   "file_extension": ".py",
   "mimetype": "text/x-python",
   "name": "python",
   "nbconvert_exporter": "python",
   "pygments_lexer": "ipython3",
   "version": "3.6.8"
  }
 },
 "nbformat": 4,
 "nbformat_minor": 4
}
