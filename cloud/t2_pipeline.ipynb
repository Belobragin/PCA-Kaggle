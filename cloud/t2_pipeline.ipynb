{
 "cells": [
  {
   "cell_type": "code",
   "execution_count": 1,
   "metadata": {
    "_cell_guid": "b1076dfc-b9ad-4769-8c92-a6c4dae69d19",
    "_uuid": "8f2839f25d086af736a60e9eeb907d3b93b6e0e5"
   },
   "outputs": [],
   "source": [
    "import os, gc, subprocess, time, sys, shutil\n",
    "\n",
    "import scipy\n",
    "import numpy as np # linear algebra\n",
    "import pandas as pd # data processing, CSV file I/O (e.g. pd.read_csv)\n",
    "import matplotlib\n",
    "import matplotlib.pyplot as plt\n",
    "from PIL import Image\n",
    "import cv2\n",
    "#from tqdm import tqdm\n",
    "from tqdm.notebook import tqdm\n",
    "import skimage.io\n",
    "from skimage.transform import resize, rescale\n",
    "from math import sqrt\n",
    "import statistics\n",
    "\n",
    "sys.path.append(\"..\")"
   ]
  },
  {
   "cell_type": "code",
   "execution_count": 2,
   "metadata": {},
   "outputs": [],
   "source": [
    "import PIL.Image\n",
    "#PIL.Image.MAX_IMAGE_PIXELS = 400000000\n",
    "PIL.Image.MAX_IMAGE_PIXELS = None"
   ]
  },
  {
   "cell_type": "code",
   "execution_count": 3,
   "metadata": {},
   "outputs": [],
   "source": [
    "%matplotlib inline"
   ]
  },
  {
   "cell_type": "code",
   "execution_count": 4,
   "metadata": {},
   "outputs": [],
   "source": [
    "from panda_bvv_config import *"
   ]
  },
  {
   "cell_type": "markdown",
   "metadata": {},
   "source": [
    "## 1. Inputs ##"
   ]
  },
  {
   "cell_type": "code",
   "execution_count": 5,
   "metadata": {},
   "outputs": [],
   "source": [
    "Zoom = 2\n",
    "cfv = 1\n",
    "new_proc_folder = 'ts2_16x320_inv'\n",
    "input_folder = train_size2\n",
    "kw_for_tile_func = {'sz': 80, 'N':16}\n",
    "#kw = {'gauss_blur':20}"
   ]
  },
  {
   "cell_type": "code",
   "execution_count": null,
   "metadata": {},
   "outputs": [],
   "source": []
  },
  {
   "cell_type": "code",
   "execution_count": 6,
   "metadata": {},
   "outputs": [],
   "source": [
    "# last_train_label = 9000\n",
    "# last_valid_label = 10617"
   ]
  },
  {
   "cell_type": "code",
   "execution_count": 7,
   "metadata": {},
   "outputs": [],
   "source": [
    "# wrapping inputs:\n",
    "new_proc_folder = os.path.join(base_path, new_proc_folder)\n",
    "if not os.path.exists(new_proc_folder):\n",
    "    print(\"[INFO] 'creating {}' directory\".format(new_proc_folder))\n",
    "    os.makedirs(new_proc_folder)\n",
    "input_mask_folder = mask_size2 if Zoom == 2 else mask_size1"
   ]
  },
  {
   "cell_type": "markdown",
   "metadata": {},
   "source": [
    "## 2. Standard functions ##"
   ]
  },
  {
   "cell_type": "code",
   "execution_count": 8,
   "metadata": {},
   "outputs": [],
   "source": [
    "def display_mask(img_num, chan = 2):\n",
    "    i=3\n",
    "    f, ax = plt.subplots(1, 3, figsize=(8,10))\n",
    "    image_path = os.path.join(mask_size2, img_num + \"_mask.png\")\n",
    "    mask_data = skimage.io.imread(image_path)        \n",
    "    cmap = matplotlib.colors.ListedColormap(['black', 'lightgray', 'darkgreen', 'yellow', 'orange', 'red'])\n",
    "    ax[i%3].imshow(np.asarray(mask_data)[:,:,chan], cmap=cmap, interpolation='nearest', vmin=0, vmax=5)      \n",
    "    ax[i%3].axis('off')\n",
    "    ax[i%3].axis('off')\n",
    "            \n",
    "    plt.show()"
   ]
  },
  {
   "cell_type": "code",
   "execution_count": 9,
   "metadata": {},
   "outputs": [],
   "source": [
    "#wrapper for image processing function\n",
    "def process_all_images(proc_func):\n",
    "    \n",
    "    def wrapper(zoom = Zoom,\n",
    "                input_biopsy_folder = input_folder,\n",
    "                output_data_path = new_proc_folder,\n",
    "                df_name = train_labels,\n",
    "                tif_file = False,\n",
    "                with_mask = False,\n",
    "                input_mask_folder = input_mask_folder,\n",
    "                **kw):\n",
    "        print(input_biopsy_folder)\n",
    "        print(new_proc_folder)\n",
    "        time.sleep(15)\n",
    "        for  i, row in enumerate(tqdm(df_name.iterrows())):\n",
    "            img_num = row[1]['image_id']\n",
    "            provider = row[1]['data_provider']                         \n",
    "            mask = None\n",
    "            if tif_file:\n",
    "                try:\n",
    "                    biopsy = skimage.io.MultiImage(os.path.join(input_biopsy_folder,                                                        img_num + '.tiff'))[zoom]               \n",
    "                except:\n",
    "                    print('Failed to read tiff:', img_num)                        \n",
    "            else:\n",
    "                try:\n",
    "                    biopsy = skimage.io.imread(os.path.join(input_biopsy_folder, img_num + '.png'))\n",
    "                    shape = biopsy.shape\n",
    "                    if shape[0]<shape[1]: \n",
    "                        biopsy = np.rot90(biopsy)\n",
    "                        shape = biopsy.shape \n",
    "                except:\n",
    "                    print(f'can not proceed with {img_num}')   \n",
    "            if with_mask:\n",
    "                try:\n",
    "                    mask = skimage.io.imread(os.path.join(input_mask_folder, img_num + '_mask.png'))\n",
    "                    shape = mask.shape\n",
    "                    if shape[0]<shape[1]: \n",
    "                        mask = np.rot90(mask)\n",
    "                        shape = mask.shape \n",
    "                except:\n",
    "                    print('Failed to process mask:', img_num)\n",
    "            try:\n",
    "                data_new = proc_func(biopsy, mask, provider, **kw)\n",
    "                cv2.imwrite(os.path.join(output_data_path, img_num + '.png'),                                         data_new, [int(cv2.IMWRITE_PNG_COMPRESSION), 9])\n",
    "            except Exception as ee:\n",
    "                print('Processing mistake:\\n', ee, '\\n', img_num)            \n",
    "            try:\n",
    "                del biopsy, mask, data_new, mask_new\n",
    "            except:\n",
    "                pass\n",
    "        gc.collect()\n",
    "        return\n",
    "    \n",
    "    return wrapper"
   ]
  },
  {
   "cell_type": "code",
   "execution_count": 10,
   "metadata": {},
   "outputs": [],
   "source": [
    "def change_karolinska_mask_for_isup_grade_direct(mask_data, chan):\n",
    "    \"\"\"\n",
    "    This function returns pre-processed radbound mask for image multiplication\n",
    "    \"\"\"\n",
    "\n",
    "    try:\n",
    "        new_mask = np.zeros(mask_data.shape)#.astype('uint8')\n",
    "        cancerous_tissue = False\n",
    "        try:             \n",
    "            mask_area = np.where(mask_data[:,:,chan] == 2)\n",
    "            new_mask[mask_area[0], mask_area[1], :] = [1, 1, 1] \n",
    "            del mask_area, mask_data\n",
    "            if new_mask.any() >0: \n",
    "                cancerous_tissue = True    \n",
    "        except Exception as ee:\n",
    "            print(\"Mask {%s} processing mistake: \" %mask_image, ee)\n",
    "    except Exception as ee:\n",
    "        print(\"Mask {%s} read mistake: \"  %mask_image, str(ee))\n",
    "\n",
    "    gc.collect()                   \n",
    "    \n",
    "    return cancerous_tissue, new_mask"
   ]
  },
  {
   "cell_type": "code",
   "execution_count": 11,
   "metadata": {},
   "outputs": [],
   "source": [
    "def change_karolinska_mask_for_isup_grade_direct(mask_data, chan):\n",
    "    \"\"\"\n",
    "    This function returns pre-processed radbound mask for image multiplication\n",
    "    \"\"\"\n",
    "\n",
    "    try:\n",
    "        new_mask = np.zeros(mask_data.shape)#.astype('uint8')\n",
    "        cancerous_tissue = False\n",
    "        try:             \n",
    "            mask_area = np.where(mask_data[:,:,chan] == 2)\n",
    "            new_mask[mask_area[0], mask_area[1], :] = [1, 1, 1] \n",
    "            del mask_area, mask_data\n",
    "            if new_mask.any() >0: \n",
    "                cancerous_tissue = True    \n",
    "        except Exception as ee:\n",
    "            print(\"Mask {%s} processing mistake: \" %mask_image, ee)\n",
    "    except Exception as ee:\n",
    "        print(\"Mask {%s} read mistake: \"  %mask_image, str(ee))\n",
    "\n",
    "    gc.collect()                   \n",
    "    \n",
    "    return cancerous_tissue, new_mask"
   ]
  },
  {
   "cell_type": "code",
   "execution_count": 12,
   "metadata": {},
   "outputs": [],
   "source": [
    "def change_radboud_mask_for_isup_grade_direct(mask_data, chan,\n",
    "                                      gauss_bl = 10):\n",
    "    \"\"\"\n",
    "    This function returns pre-processed radbound mask for image multiplication\n",
    "    \"\"\"\n",
    "\n",
    "    try:\n",
    "        new_mask = np.zeros(mask_data.shape)#.astype('uint8')\n",
    "        cancerous_tissue = False\n",
    "        try: \n",
    "            for area_value in range(3,5):\n",
    "                mask_area = np.where(mask_data[:,:,chan] == area_value)\n",
    "                new_mask[mask_area[0], mask_area[1], :] = [1, 1, 1]\n",
    "                del mask_area\n",
    "            if new_mask.any() >0: \n",
    "                cancerous_tissue = True\n",
    "            del mask_data,    \n",
    "        except Exception as ee:\n",
    "            print(\"Mask {%s} processing mistake: \" %mask_image, ee)\n",
    "    except Exception as ee:\n",
    "        print(\"Mask {%s} read mistake: \"  %mask_image, str(ee))\n",
    "        \n",
    "    #new_mask[:,:,:] = cv2.blur(new_mask[:,:, :],(gauss_bl,gauss_bl))\n",
    "    new_mask[:,:,:] = cv2.bilateralFilter(np.float32(new_mask[:,:,:]),gauss_bl,25,25)\n",
    "    #medianBlur(new_mask[:,:, 2],5)\n",
    "    #new_mask[:,:,:] = cv2.GaussianBlur(new_mask[:,:,:],(gauss_bl,gauss_bl), 0)\n",
    "    #new_mask[:,:,:] =  np.rint(new_mask[:,:,:]) #.astype(int) \n",
    "    new_mask[:,:,:] =  np.ceil(new_mask[:,:,:]) #.astype(int) \n",
    "    #gc.collect()                   \n",
    "    \n",
    "    return cancerous_tissue, new_mask"
   ]
  },
  {
   "cell_type": "code",
   "execution_count": 13,
   "metadata": {},
   "outputs": [],
   "source": [
    "def get_cancer_area_from_mask(cancer_mask, biopsy):\n",
    "    \"\"\"\n",
    "    Returns multiplication of mask and image\n",
    "    \"\"\"\n",
    "    try:\n",
    "        only_cancer = np.multiply(cancer_mask,biopsy).astype(int)\n",
    "        #cv2.imwrite(save_path, only_cancer, [int(cv2.IMWRITE_JPEG_QUALITY), 90])\n",
    "        #del cancer_mask, biopsy #, only_cancer\n",
    "    except Exception as ee:\n",
    "        print(str(ee))\n",
    "    \n",
    "    return only_cancer  "
   ]
  },
  {
   "cell_type": "markdown",
   "metadata": {},
   "source": [
    "## 3. Processing functions ##"
   ]
  },
  {
   "cell_type": "code",
   "execution_count": 14,
   "metadata": {},
   "outputs": [],
   "source": [
    "@process_all_images\n",
    "def tiff_to_png_size2(img, mask, provider, **kw):\n",
    "    return img"
   ]
  },
  {
   "cell_type": "code",
   "execution_count": 15,
   "metadata": {},
   "outputs": [],
   "source": [
    "@process_all_images\n",
    "def get_cancer_area_for_isup_grade(biopsy, mask, provider, **kw):\n",
    "    \"\"\"\n",
    "    Extracts cancer area only (if cancerous), from image and mask; or unchanged (if non-cancerous).\n",
    "    Do NOT split cancer areas on Gleason.\n",
    "    This function applicable for ISUP-grade based training\n",
    "    Do NOT tile image\n",
    "    \"\"\"\n",
    "    \n",
    "    gauss_bl = kw.get('gauss_bl') if kw.get('gauss_bl') else 20    \n",
    "    channel = 0 if len(np.unique(mask[:,:,0])) >1 else 2    \n",
    "              \n",
    "    if provider == 'karolinska':\n",
    "        cancerous, new_mask  = change_karolinska_mask_for_isup_grade_direct(mask, chan = channel)\n",
    "    elif provider == 'radboud':\n",
    "        cancerous, new_mask  = change_radboud_mask_for_isup_grade_direct(mask, chan = channel,\n",
    "                                      gauss_bl = gauss_bl)\n",
    "    if cancerous:\n",
    "        temp_im = get_cancer_area_from_mask(new_mask, biopsy)\n",
    "        temp_im = temp_im.astype('uint8') * 255\n",
    "        inv = cv2.bitwise_not(temp_im )\n",
    "        #inv = biopsy\n",
    "    else:\n",
    "        inv = biopsy\n",
    "    \n",
    "    data_new = inv\n",
    "    #data_new = cv2.bitwise_not(inv)\n",
    "    \n",
    "    return data_new\n",
    "    \n",
    "    #eliminate_white_direct(biopsy = inv,\n",
    "    #                       save_file_name = save_path,\n",
    "    #                       zoom =2,                          \n",
    "    #                     fault_name = 'faults_size2_large_mask.txt', \n",
    "    #                      tile_square_yside = tile_square_yside,\n",
    "    #                        tile_square_xside = tile_square_xside, \n",
    "    #                      tile_fill = tile_fill,\n",
    "    #                      threshold = threshold,\n",
    "    #                          transform_ratios = transform_ratios,\n",
    "    #                    file_list = None,                         \n",
    "    #                      compression = compression)\n",
    "        \n",
    "    #cv2.imwrite(save_path, inv, [int(cv2.IMWRITE_JPEG_QUALITY), 90])\n",
    "    #else:\n",
    "        #execute_cp_command(biopsy_file_path, save_path)"
   ]
  },
  {
   "cell_type": "code",
   "execution_count": 16,
   "metadata": {},
   "outputs": [],
   "source": [
    "@process_all_images\n",
    "def tile16_simple(img, mask, provider, **kw):        \n",
    "    sz=kw.get('sz') if kw.get('sz') else 32    \n",
    "    N = kw.get('N') if kw.get('N') else 16\n",
    "    final_dim = kw.get('final_dim') if kw.get('final_dim') else N**0.5 \n",
    "    result = []\n",
    "    shape = img.shape\n",
    "    pad0,pad1 = (sz - shape[0]%sz)%sz, (sz - shape[1]%sz)%sz\n",
    "    img = np.pad(img,[[pad0//2,pad0-pad0//2],[pad1//2,pad1-pad1//2],[0,0]],\n",
    "                constant_values=255)\n",
    "    img = img.reshape(img.shape[0]//sz,sz,img.shape[1]//sz,sz,3)\n",
    "    img = img.transpose(0,2,1,3,4).reshape(-1,sz,sz,3)\n",
    "    if len(img) < N:\n",
    "        img = np.pad(img,[[0,N-len(img)],[0,0],[0,0],[0,0]],constant_values=255)\n",
    "    idxs = np.argsort(img.reshape(img.shape[0],-1).sum(-1))[:N]\n",
    "    img = img[idxs]\n",
    "    a, b, c, d = img.shape\n",
    "    data_new = (img.reshape(int(final_dim), int(final_dim),\\\n",
    "                                                    b, c, d).swapaxes(1,2).reshape(b*int(final_dim),\\\n",
    "                                                    c*int(final_dim), d))\n",
    "    data_new = cv2.bitwise_not(data_new)\n",
    "    \n",
    "    return data_new"
   ]
  },
  {
   "cell_type": "markdown",
   "metadata": {},
   "source": [
    "## 4. Process input files for training purpose ##"
   ]
  },
  {
   "cell_type": "code",
   "execution_count": 17,
   "metadata": {},
   "outputs": [],
   "source": [
    "# tile16_simple(df_name = train_labels,\n",
    "#               **kw_for_tile_func)"
   ]
  },
  {
   "cell_type": "code",
   "execution_count": 18,
   "metadata": {},
   "outputs": [],
   "source": [
    "#mask_labels.loc[mask_labels.image_id == '05f2ae45ead3e5737d102656366752df']"
   ]
  },
  {
   "cell_type": "code",
   "execution_count": 19,
   "metadata": {},
   "outputs": [],
   "source": [
    "# tiff_to_png_size2(tif_file = True,\n",
    "#                   df_name = train_labels[1872:])"
   ]
  },
  {
   "cell_type": "code",
   "execution_count": 20,
   "metadata": {
    "scrolled": true
   },
   "outputs": [],
   "source": [
    "# get_cancer_area_for_isup_grade(with_mask = True,\n",
    "#                                df_name = train_labels[:10],\n",
    "#                                **kw)"
   ]
  },
  {
   "cell_type": "markdown",
   "metadata": {},
   "source": [
    "## 5. Distribute processed files among training and validation folders ##"
   ]
  },
  {
   "cell_type": "code",
   "execution_count": 21,
   "metadata": {},
   "outputs": [],
   "source": [
    "try:\n",
    "    shutil.rmtree(train_cnn)\n",
    "    shutil.rmtree(valid_cnn)\n",
    "except OSError as ee:\n",
    "    print (\"Error: %s: \" % ee)\n",
    "os.mkdir(train_cnn)\n",
    "os.mkdir(valid_cnn)\n",
    "for grade in isup_classes:\n",
    "    os.mkdir(os.path.join(train_cnn, f'isup{grade}'))\n",
    "    os.mkdir(os.path.join(valid_cnn, f'isup{grade}'))\n",
    "# labels_perm = train_labels.sample(frac = 1, random_state=npseed)\n",
    "# train_cnn_labels = labels_perm[:last_train_label]\n",
    "# valid_cnn_labels = labels_perm[last_train_label:last_valid_label ]"
   ]
  },
  {
   "cell_type": "code",
   "execution_count": 29,
   "metadata": {},
   "outputs": [],
   "source": [
    "#cross-fold validation:\n",
    "if cfv == 1:\n",
    "    train_cnn_labels = train_labels[:-2123]\n",
    "    valid_cnn_labels = train_labels[-2123:]\n",
    "else:\n",
    "    train_cnn_labels = pd.concat([train_labels[:-2123*cfv], train_labels[-2123*(cfv-1):]], sort=False)\n",
    "    valid_cnn_labels = train_labels[-2123*cfv:-2123*(cfv-1)]"
   ]
  },
  {
   "cell_type": "code",
   "execution_count": 23,
   "metadata": {},
   "outputs": [
    {
     "data": {
      "application/vnd.jupyter.widget-view+json": {
       "model_id": "510ca0f620284f87a92d3ec08d9b7610",
       "version_major": 2,
       "version_minor": 0
      },
      "text/plain": [
       "HBox(children=(FloatProgress(value=1.0, bar_style='info', max=1.0), HTML(value='')))"
      ]
     },
     "metadata": {},
     "output_type": "display_data"
    },
    {
     "name": "stdout",
     "output_type": "stream",
     "text": [
      "\n",
      "CPU times: user 8.7 s, sys: 15.9 s, total: 24.6 s\n",
      "Wall time: 1min 54s\n"
     ]
    }
   ],
   "source": [
    "%%time\n",
    "# #split train files among ISUP categories\n",
    "for j, row in tqdm(train_cnn_labels.iterrows()):\n",
    "    filename = row['image_id'] + '.png'       \n",
    "    path_to_train_class = os.path.join(train_cnn, 'isup' + str(row['isup_grade']), filename)\n",
    "    path_to_copy_from = os.path.join(new_proc_folder, filename)\n",
    "    bashCommand = \"cp \" + path_to_copy_from + ' ' + path_to_train_class\n",
    "    process = subprocess.Popen(bashCommand.split(), stdout=subprocess.PIPE)\n",
    "    output, error = process.communicate()\n",
    "    if error: print(str(error))"
   ]
  },
  {
   "cell_type": "code",
   "execution_count": 24,
   "metadata": {},
   "outputs": [
    {
     "data": {
      "application/vnd.jupyter.widget-view+json": {
       "model_id": "58194a213bde41e2a536acc03f6ce41b",
       "version_major": 2,
       "version_minor": 0
      },
      "text/plain": [
       "HBox(children=(FloatProgress(value=1.0, bar_style='info', max=1.0), HTML(value='')))"
      ]
     },
     "metadata": {},
     "output_type": "display_data"
    },
    {
     "name": "stdout",
     "output_type": "stream",
     "text": [
      "\n",
      "CPU times: user 2.16 s, sys: 3.97 s, total: 6.12 s\n",
      "Wall time: 28.8 s\n"
     ]
    }
   ],
   "source": [
    "%%time\n",
    "# #split validation files among ISUP categories\n",
    "for j, row in tqdm(valid_cnn_labels.iterrows()):\n",
    "    filename = row['image_id'] + '.png'\n",
    "    path_to_valid_class = os.path.join(valid_cnn, 'isup' + str(row['isup_grade']), filename)    \n",
    "    path_to_copy_from = os.path.join(new_proc_folder, filename)\n",
    "    bashCommand = \"cp \" + path_to_copy_from + ' ' + path_to_valid_class    \n",
    "    process = subprocess.Popen(bashCommand.split(), stdout=subprocess.PIPE)\n",
    "    output, error = process.communicate()\n",
    "    if error: print(str(error))"
   ]
  },
  {
   "cell_type": "markdown",
   "metadata": {},
   "source": [
    "## ################################################################## ##"
   ]
  }
 ],
 "metadata": {
  "kernelspec": {
   "display_name": "Python 3",
   "language": "python",
   "name": "python3"
  },
  "language_info": {
   "codemirror_mode": {
    "name": "ipython",
    "version": 3
   },
   "file_extension": ".py",
   "mimetype": "text/x-python",
   "name": "python",
   "nbconvert_exporter": "python",
   "pygments_lexer": "ipython3",
   "version": "3.6.8"
  }
 },
 "nbformat": 4,
 "nbformat_minor": 4
}
