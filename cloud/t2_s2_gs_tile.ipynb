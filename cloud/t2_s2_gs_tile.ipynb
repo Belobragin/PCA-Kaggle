{
 "cells": [
  {
   "cell_type": "code",
   "execution_count": 1,
   "metadata": {},
   "outputs": [],
   "source": [
    "#python3 t2_s1_tile.py --tof ts1_16x320_inv --ntile 16 --tsize 80"
   ]
  },
  {
   "cell_type": "code",
   "execution_count": 2,
   "metadata": {},
   "outputs": [],
   "source": [
    "#makes simple tile from train_size1 images"
   ]
  },
  {
   "cell_type": "code",
   "execution_count": 3,
   "metadata": {
    "_cell_guid": "b1076dfc-b9ad-4769-8c92-a6c4dae69d19",
    "_uuid": "8f2839f25d086af736a60e9eeb907d3b93b6e0e5"
   },
   "outputs": [],
   "source": [
    "import os, gc, subprocess, time, sys, shutil, argparse\n",
    "\n",
    "import scipy\n",
    "import numpy as np # linear algebra\n",
    "import pandas as pd # data processing, CSV file I/O (e.g. pd.read_csv)\n",
    "import matplotlib\n",
    "import matplotlib.pyplot as plt\n",
    "from PIL import Image\n",
    "import cv2\n",
    "from tqdm import tqdm\n",
    "#from tqdm.notebook import tqdm\n",
    "import skimage.io\n",
    "from skimage.transform import resize, rescale\n",
    "from math import sqrt\n",
    "import statistics\n",
    "\n",
    "sys.path.append(\"..\")"
   ]
  },
  {
   "cell_type": "code",
   "execution_count": 4,
   "metadata": {},
   "outputs": [],
   "source": [
    "import PIL.Image\n",
    "#PIL.Image.MAX_IMAGE_PIXELS = 400000000\n",
    "PIL.Image.MAX_IMAGE_PIXELS = None"
   ]
  },
  {
   "cell_type": "code",
   "execution_count": 5,
   "metadata": {},
   "outputs": [],
   "source": [
    "from panda_bvv_config import *"
   ]
  },
  {
   "cell_type": "markdown",
   "metadata": {},
   "source": [
    "## 1. Inputs ##"
   ]
  },
  {
   "cell_type": "code",
   "execution_count": 6,
   "metadata": {},
   "outputs": [],
   "source": [
    "Zoom = 2\n",
    "input_folder = gleason_path\n",
    "input_mask_folder = mask_size1\n",
    "to_folder = 'gs_proc_inv'"
   ]
  },
  {
   "cell_type": "code",
   "execution_count": 7,
   "metadata": {},
   "outputs": [],
   "source": [
    "# ap = argparse.ArgumentParser()\n",
    "# ap.add_argument('--ntile', help=\"number of tiles\", dest = 'ntile', default = 16,\\\n",
    "#                 type=int)\n",
    "# ap.add_argument('--tsize', help=\"size of one square tile\", dest = 'tsize', default = 80,\\\n",
    "#                 type=int)# default for B3 net\n",
    "\n",
    "#                 #(\"--cnn\", type=str, help=\"training cnn name\", dest = 'train_cnn')\n",
    "# args = vars(ap.parse_args())\n",
    "# ntile = args[\"ntile\"]\n",
    "# tsize = args[\"tsize\"]"
   ]
  },
  {
   "cell_type": "code",
   "execution_count": 8,
   "metadata": {},
   "outputs": [],
   "source": [
    "tsize = 80\n",
    "ntile = 16"
   ]
  },
  {
   "cell_type": "code",
   "execution_count": 9,
   "metadata": {},
   "outputs": [],
   "source": [
    "kw_for_tile_func = {'sz': tsize, 'N':ntile}\n",
    "new_proc_folder = os.path.join(base_path, to_folder)"
   ]
  },
  {
   "cell_type": "code",
   "execution_count": 10,
   "metadata": {},
   "outputs": [],
   "source": [
    "# last_train_label = 9000\n",
    "# last_valid_label = 10617\n",
    "#kw = {'gauss_blur':20}"
   ]
  },
  {
   "cell_type": "code",
   "execution_count": 11,
   "metadata": {},
   "outputs": [
    {
     "name": "stdout",
     "output_type": "stream",
     "text": [
      "[INFO] 'creating /run/media/admin/kagg/panda/gs_proc_inv' directory\n"
     ]
    }
   ],
   "source": [
    "# wrapping inputs:\n",
    "if not os.path.exists(new_proc_folder):\n",
    "    print(\"[INFO] 'creating {}' directory\".format(new_proc_folder))\n",
    "    os.makedirs(new_proc_folder)\n"
   ]
  },
  {
   "cell_type": "markdown",
   "metadata": {},
   "source": [
    "## 2. Standard functions ##"
   ]
  },
  {
   "cell_type": "code",
   "execution_count": 12,
   "metadata": {},
   "outputs": [],
   "source": [
    "#wrapper for image processing function\n",
    "def process_all_images(proc_func):\n",
    "    \n",
    "    def wrapper(zoom = Zoom,\n",
    "                input_biopsy_folder = input_folder,\n",
    "                output_data_path = new_proc_folder,\n",
    "                #df_name = train_labels,\n",
    "                tif_file = False,\n",
    "                with_mask = False,\n",
    "                input_mask_folder = input_mask_folder,\n",
    "                **kw):\n",
    "        print(input_biopsy_folder)\n",
    "        print(new_proc_folder)\n",
    "        mask = None\n",
    "        with tqdm(total=len(os.listdir(input_folder))) as pbar:\n",
    "            for  filename in os.listdir(input_biopsy_folder):\n",
    "                try:\n",
    "                    biopsy = skimage.io.imread(os.path.join(input_biopsy_folder, filename))\n",
    "                    shape = biopsy.shape\n",
    "#                     if shape[0]<shape[1]: \n",
    "#                         biopsy = np.rot90(biopsy)\n",
    "#                         shape = biopsy.shape \n",
    "                except:\n",
    "                        print(f'can not proceed with {filename}')   \n",
    "                if with_mask:\n",
    "                    try:\n",
    "                        mask = skimage.io.imread(os.path.join(input_mask_folder, img_num + '_mask.png'))\n",
    "                        shape = mask.shape\n",
    "                        if shape[0]<shape[1]: \n",
    "                            mask = np.rot90(mask)\n",
    "                            shape = mask.shape \n",
    "                    except:\n",
    "                        print('Failed to process mask:', filename)\n",
    "                try:\n",
    "                    data_new = proc_func(biopsy, **kw)\n",
    "                    cv2.imwrite(os.path.join(output_data_path, filename), data_new)\n",
    "                except Exception as ee:\n",
    "                    print('Processing mistake:\\n', ee, '\\n', filename)            \n",
    "                try:\n",
    "                    del biopsy, mask, data_new, mask_new\n",
    "                except:\n",
    "                    pass\n",
    "                pbar.update(1)\n",
    "        gc.collect()\n",
    "        return\n",
    "    \n",
    "    return wrapper"
   ]
  },
  {
   "cell_type": "markdown",
   "metadata": {},
   "source": [
    "## 3. Processing functions ##"
   ]
  },
  {
   "cell_type": "code",
   "execution_count": 13,
   "metadata": {},
   "outputs": [],
   "source": [
    "#@process_all_images\n",
    "def tile16_simple(img, **kw):        \n",
    "    sz=kw.get('sz') if kw.get('sz') else 32    \n",
    "    N = kw.get('N') if kw.get('N') else 16\n",
    "    final_dim = kw.get('final_dim') if kw.get('final_dim') else N**0.5 \n",
    "    result = []\n",
    "    shape = img.shape\n",
    "    pad0,pad1 = (sz - shape[0]%sz)%sz, (sz - shape[1]%sz)%sz\n",
    "    img = np.pad(img,[[pad0//2,pad0-pad0//2],[pad1//2,pad1-pad1//2],[0,0]],\n",
    "                constant_values=255)\n",
    "    img = img.reshape(img.shape[0]//sz,sz,img.shape[1]//sz,sz,3)\n",
    "    img = img.transpose(0,2,1,3,4).reshape(-1,sz,sz,3)\n",
    "    if len(img) < N:\n",
    "        img = np.pad(img,[[0,N-len(img)],[0,0],[0,0],[0,0]],constant_values=255)\n",
    "    idxs = np.argsort(img.reshape(img.shape[0],-1).sum(-1))[:N]\n",
    "    img = img[idxs]\n",
    "    a, b, c, d = img.shape\n",
    "    data_new = (img.reshape(int(final_dim), int(final_dim),\\\n",
    "                                                    b, c, d).swapaxes(1,2).reshape(b*int(final_dim),\\\n",
    "                                                    c*int(final_dim), d))\n",
    "    data_new = cv2.bitwise_not(data_new)\n",
    "    \n",
    "    return data_new"
   ]
  },
  {
   "cell_type": "code",
   "execution_count": 14,
   "metadata": {},
   "outputs": [],
   "source": [
    "@process_all_images\n",
    "def tile16_pad(img, **kw):        \n",
    "    \n",
    "    threshold = kw['threshold']\n",
    "    porog = kw['porog']\n",
    "    sz=kw.get('sz') if kw.get('sz') else 32    \n",
    "    N = kw.get('N') if kw.get('N') else 16\n",
    "    final_dim = kw.get('final_dim') if kw.get('final_dim') else N**0.5 \n",
    "    grey_biopsy = cv2.cvtColor(img, cv2.COLOR_BGR2GRAY)\n",
    "    ret, white_mask = cv2.threshold(grey_biopsy, threshold, 255, 0)\n",
    "    black_mask = cv2.bitwise_not(white_mask)\n",
    "    img[black_mask==0] = (255,255,255)\n",
    "    \n",
    "    shape = img.shape\n",
    "    pad0,pad1 = (sz - shape[0]%sz)%sz, (sz - shape[1]%sz)%sz\n",
    "    img = np.pad(img,[[pad0//2,pad0-pad0//2],[pad1//2,pad1-pad1//2],[0,0]],\n",
    "                constant_values=255)\n",
    "    img = img.reshape(img.shape[0]//sz,sz,img.shape[1]//sz,sz,3)\n",
    "    img = img.transpose(0,2,1,3,4).reshape(-1,sz,sz,3)\n",
    "    if len(img) < N:\n",
    "        img = np.pad(img,[[0,N-len(img)],[0,0],[0,0],[0,0]],constant_values=255)\n",
    "    idxs = np.argsort(img.reshape(img.shape[0],-1).sum(-1))[:N]\n",
    "    \n",
    "    try:\n",
    "        yy = [y for y in idxs if img.reshape(img.shape[0],-1).sum(-1)[y] > porog] #4777000\n",
    "        ee = idxs[:N-len(yy)]\n",
    "        eee = np.pad(ee, [0,len(yy)], 'wrap' )\n",
    "        np.random.shuffle(eee)\n",
    "        assert len(ee)!=0, print('Dlina 0')\n",
    "        img = img[eee]\n",
    "    except:\n",
    "        print('Ne srabotalo')\n",
    "        return None\n",
    "    a, b, c, d = img.shape\n",
    "    \n",
    "    data_new = (img.reshape(int(final_dim), int(final_dim),\\\n",
    "                                                    b, c, d).swapaxes(1,2).reshape(b*int(final_dim),\\\n",
    "                                                    c*int(final_dim), d))\n",
    "    data_new = cv2.bitwise_not(data_new)\n",
    "    #skimage.io.imshow(data_new)\n",
    "    return data_new"
   ]
  },
  {
   "cell_type": "markdown",
   "metadata": {},
   "source": [
    "#### Sandbox ####"
   ]
  },
  {
   "cell_type": "code",
   "execution_count": 15,
   "metadata": {},
   "outputs": [],
   "source": [
    "# data_file = os.path.join(gleason_path, 'gs3', '69187b17ca2488b677f9a79e44654277.png')\n",
    "# biopsy = skimage.io.imread(data_file)     \n",
    "# skimage.io.imshow(biopsy) "
   ]
  },
  {
   "cell_type": "code",
   "execution_count": 16,
   "metadata": {},
   "outputs": [],
   "source": [
    "#tile16_pad(biopsy, threshold = 241, sz = 80, N =16)"
   ]
  },
  {
   "cell_type": "markdown",
   "metadata": {},
   "source": [
    "## 4. Process input files for training purpose ##"
   ]
  },
  {
   "cell_type": "code",
   "execution_count": 17,
   "metadata": {},
   "outputs": [
    {
     "name": "stderr",
     "output_type": "stream",
     "text": [
      "\r",
      "  0%|          | 0/4 [00:00<?, ?it/s]"
     ]
    },
    {
     "name": "stdout",
     "output_type": "stream",
     "text": [
      "[INFO] 'creating /run/media/admin/kagg/panda/gs_proc_inv/gs0' directory\n",
      "/run/media/admin/kagg/panda/gs/gs0\n",
      "/run/media/admin/kagg/panda/gs_proc_inv\n"
     ]
    },
    {
     "name": "stderr",
     "output_type": "stream",
     "text": [
      "323it [02:00,  2.68it/s]                     \n",
      "  0%|          | 0/4 [00:00<?, ?it/s]"
     ]
    },
    {
     "name": "stdout",
     "output_type": "stream",
     "text": [
      "[INFO] 'creating /run/media/admin/kagg/panda/gs_proc_inv/gs3' directory\n",
      "/run/media/admin/kagg/panda/gs/gs3\n",
      "/run/media/admin/kagg/panda/gs_proc_inv\n"
     ]
    },
    {
     "name": "stderr",
     "output_type": "stream",
     "text": [
      "130it [00:43,  4.09it/s]                     "
     ]
    },
    {
     "name": "stdout",
     "output_type": "stream",
     "text": [
      "Ne srabotalo\n",
      "Processing mistake:\n",
      " OpenCV(4.2.0) /io/opencv/modules/imgcodecs/src/loadsave.cpp:715: error: (-215:Assertion failed) !_img.empty() in function 'imwrite'\n",
      " \n",
      " 775d39466b474d54ae714215034c5a83.png\n"
     ]
    },
    {
     "name": "stderr",
     "output_type": "stream",
     "text": [
      "134it [00:44,  5.67it/s]"
     ]
    },
    {
     "name": "stdout",
     "output_type": "stream",
     "text": [
      "Ne srabotalo\n",
      "Processing mistake:\n",
      " OpenCV(4.2.0) /io/opencv/modules/imgcodecs/src/loadsave.cpp:715: error: (-215:Assertion failed) !_img.empty() in function 'imwrite'\n",
      " \n",
      " d996d408cbc9200c7254ab6955e31959.png\n"
     ]
    },
    {
     "name": "stderr",
     "output_type": "stream",
     "text": [
      "302it [01:42,  2.56it/s]"
     ]
    },
    {
     "name": "stdout",
     "output_type": "stream",
     "text": [
      "Ne srabotalo\n",
      "Processing mistake:\n",
      " OpenCV(4.2.0) /io/opencv/modules/imgcodecs/src/loadsave.cpp:715: error: (-215:Assertion failed) !_img.empty() in function 'imwrite'\n",
      " \n",
      " 94e121bc4a7091b881e8dd9b6c2be6b5.png\n"
     ]
    },
    {
     "name": "stderr",
     "output_type": "stream",
     "text": [
      "328it [01:51,  3.39it/s]"
     ]
    },
    {
     "name": "stdout",
     "output_type": "stream",
     "text": [
      "Ne srabotalo\n",
      "Processing mistake:\n",
      " OpenCV(4.2.0) /io/opencv/modules/imgcodecs/src/loadsave.cpp:715: error: (-215:Assertion failed) !_img.empty() in function 'imwrite'\n",
      " \n",
      " 90169c13e631f83d6c2d9263be03aca3.png\n"
     ]
    },
    {
     "name": "stderr",
     "output_type": "stream",
     "text": [
      "435it [02:21,  5.58it/s]"
     ]
    },
    {
     "name": "stdout",
     "output_type": "stream",
     "text": [
      "Ne srabotalo\n",
      "Processing mistake:\n",
      " OpenCV(4.2.0) /io/opencv/modules/imgcodecs/src/loadsave.cpp:715: error: (-215:Assertion failed) !_img.empty() in function 'imwrite'\n",
      " \n",
      " 765f379ba8bbc988d29c8e706512d053.png\n"
     ]
    },
    {
     "name": "stderr",
     "output_type": "stream",
     "text": [
      "\r",
      "437it [02:21,  6.15it/s]"
     ]
    },
    {
     "name": "stdout",
     "output_type": "stream",
     "text": [
      "Ne srabotalo\n",
      "Processing mistake:\n",
      " OpenCV(4.2.0) /io/opencv/modules/imgcodecs/src/loadsave.cpp:715: error: (-215:Assertion failed) !_img.empty() in function 'imwrite'\n",
      " \n",
      " 87c2116787ff620957ecc95521bc3c0f.png\n"
     ]
    },
    {
     "name": "stderr",
     "output_type": "stream",
     "text": [
      "441it [02:22,  5.74it/s]"
     ]
    },
    {
     "name": "stdout",
     "output_type": "stream",
     "text": [
      "Ne srabotalo\n",
      "Processing mistake:\n",
      " OpenCV(4.2.0) /io/opencv/modules/imgcodecs/src/loadsave.cpp:715: error: (-215:Assertion failed) !_img.empty() in function 'imwrite'\n",
      " \n",
      " efd993cb48dce20304958c45829a3ff8.png\n"
     ]
    },
    {
     "name": "stderr",
     "output_type": "stream",
     "text": [
      "449it [02:23,  4.68it/s]"
     ]
    },
    {
     "name": "stdout",
     "output_type": "stream",
     "text": [
      "Ne srabotalo\n",
      "Processing mistake:\n",
      " OpenCV(4.2.0) /io/opencv/modules/imgcodecs/src/loadsave.cpp:715: error: (-215:Assertion failed) !_img.empty() in function 'imwrite'\n",
      " \n",
      " 12a318e597b0a4ac2c1cde0584e39206.png\n"
     ]
    },
    {
     "name": "stderr",
     "output_type": "stream",
     "text": [
      "453it [02:24,  5.40it/s]"
     ]
    },
    {
     "name": "stdout",
     "output_type": "stream",
     "text": [
      "Ne srabotalo\n",
      "Processing mistake:\n",
      " OpenCV(4.2.0) /io/opencv/modules/imgcodecs/src/loadsave.cpp:715: error: (-215:Assertion failed) !_img.empty() in function 'imwrite'\n",
      " \n",
      " cb3da5be4fa20fa73ff61d8b6f7d3492.png\n"
     ]
    },
    {
     "name": "stderr",
     "output_type": "stream",
     "text": [
      "460it [02:26,  3.15it/s]\n",
      " 25%|██▌       | 1/4 [00:00<00:00,  7.00it/s]"
     ]
    },
    {
     "name": "stdout",
     "output_type": "stream",
     "text": [
      "[INFO] 'creating /run/media/admin/kagg/panda/gs_proc_inv/gs4' directory\n",
      "/run/media/admin/kagg/panda/gs/gs4\n",
      "/run/media/admin/kagg/panda/gs_proc_inv\n"
     ]
    },
    {
     "name": "stderr",
     "output_type": "stream",
     "text": [
      "5it [00:00,  5.89it/s]                       "
     ]
    },
    {
     "name": "stdout",
     "output_type": "stream",
     "text": [
      "Ne srabotalo\n",
      "Processing mistake:\n",
      " OpenCV(4.2.0) /io/opencv/modules/imgcodecs/src/loadsave.cpp:715: error: (-215:Assertion failed) !_img.empty() in function 'imwrite'\n",
      " \n",
      " 66f04788a17915feba394290384e13a4.png\n"
     ]
    },
    {
     "name": "stderr",
     "output_type": "stream",
     "text": [
      "52it [00:13,  3.48it/s]"
     ]
    },
    {
     "name": "stdout",
     "output_type": "stream",
     "text": [
      "Ne srabotalo\n",
      "Processing mistake:\n",
      " OpenCV(4.2.0) /io/opencv/modules/imgcodecs/src/loadsave.cpp:715: error: (-215:Assertion failed) !_img.empty() in function 'imwrite'\n",
      " \n",
      " fe354e2b6f25e4f4110aed552eb55fc5.png\n"
     ]
    },
    {
     "name": "stderr",
     "output_type": "stream",
     "text": [
      "323it [01:26,  4.80it/s]"
     ]
    },
    {
     "name": "stdout",
     "output_type": "stream",
     "text": [
      "Ne srabotalo\n",
      "Processing mistake:\n",
      " OpenCV(4.2.0) /io/opencv/modules/imgcodecs/src/loadsave.cpp:715: error: (-215:Assertion failed) !_img.empty() in function 'imwrite'\n",
      " \n",
      " a5a7c62ef1e0d28a54c2da8355447c22.png\n"
     ]
    },
    {
     "name": "stderr",
     "output_type": "stream",
     "text": [
      "328it [01:26,  5.87it/s]"
     ]
    },
    {
     "name": "stdout",
     "output_type": "stream",
     "text": [
      "Ne srabotalo\n",
      "Processing mistake:\n",
      " OpenCV(4.2.0) /io/opencv/modules/imgcodecs/src/loadsave.cpp:715: error: (-215:Assertion failed) !_img.empty() in function 'imwrite'\n",
      " \n",
      " cb7b640bd2d43968c3bddbfaa66eb4b7.png\n"
     ]
    },
    {
     "name": "stderr",
     "output_type": "stream",
     "text": [
      "357it [01:32,  6.28it/s]"
     ]
    },
    {
     "name": "stdout",
     "output_type": "stream",
     "text": [
      "Ne srabotalo\n",
      "Processing mistake:\n",
      " OpenCV(4.2.0) /io/opencv/modules/imgcodecs/src/loadsave.cpp:715: error: (-215:Assertion failed) !_img.empty() in function 'imwrite'\n",
      " \n",
      " d42bd4e73a676fe81419f7c9b499a79f.png\n"
     ]
    },
    {
     "name": "stderr",
     "output_type": "stream",
     "text": [
      "371it [01:35,  5.56it/s]"
     ]
    },
    {
     "name": "stdout",
     "output_type": "stream",
     "text": [
      "Ne srabotalo\n",
      "Processing mistake:\n",
      " OpenCV(4.2.0) /io/opencv/modules/imgcodecs/src/loadsave.cpp:715: error: (-215:Assertion failed) !_img.empty() in function 'imwrite'\n",
      " \n",
      " 86756422e5a91331c0fc069fd3f8bc8a.png\n"
     ]
    },
    {
     "name": "stderr",
     "output_type": "stream",
     "text": [
      "379it [01:37,  5.55it/s]"
     ]
    },
    {
     "name": "stdout",
     "output_type": "stream",
     "text": [
      "Ne srabotalo\n",
      "Processing mistake:\n",
      " OpenCV(4.2.0) /io/opencv/modules/imgcodecs/src/loadsave.cpp:715: error: (-215:Assertion failed) !_img.empty() in function 'imwrite'\n",
      " \n",
      " 21e9ed95b0e48b751b987794aa9cfd8d.png\n"
     ]
    },
    {
     "name": "stderr",
     "output_type": "stream",
     "text": [
      "388it [01:39,  4.97it/s]"
     ]
    },
    {
     "name": "stdout",
     "output_type": "stream",
     "text": [
      "Ne srabotalo\n",
      "Processing mistake:\n",
      " OpenCV(4.2.0) /io/opencv/modules/imgcodecs/src/loadsave.cpp:715: error: (-215:Assertion failed) !_img.empty() in function 'imwrite'\n",
      " \n",
      " 78b2a52265722810be3fc2f3a562630c.png\n"
     ]
    },
    {
     "name": "stderr",
     "output_type": "stream",
     "text": [
      "400it [01:41,  5.58it/s]"
     ]
    },
    {
     "name": "stdout",
     "output_type": "stream",
     "text": [
      "Ne srabotalo\n",
      "Processing mistake:\n",
      " OpenCV(4.2.0) /io/opencv/modules/imgcodecs/src/loadsave.cpp:715: error: (-215:Assertion failed) !_img.empty() in function 'imwrite'\n",
      " \n",
      " ec2657eff0395f0c0eddac5b35cf584a.png\n"
     ]
    },
    {
     "name": "stderr",
     "output_type": "stream",
     "text": [
      "415it [01:45,  3.95it/s]\n",
      " 25%|██▌       | 1/4 [00:00<00:00,  6.43it/s]"
     ]
    },
    {
     "name": "stdout",
     "output_type": "stream",
     "text": [
      "[INFO] 'creating /run/media/admin/kagg/panda/gs_proc_inv/gs5' directory\n",
      "/run/media/admin/kagg/panda/gs/gs5\n",
      "/run/media/admin/kagg/panda/gs_proc_inv\n"
     ]
    },
    {
     "name": "stderr",
     "output_type": "stream",
     "text": [
      "11it [00:03,  3.90it/s]                      "
     ]
    },
    {
     "name": "stdout",
     "output_type": "stream",
     "text": [
      "Ne srabotalo\n",
      "Processing mistake:\n",
      " OpenCV(4.2.0) /io/opencv/modules/imgcodecs/src/loadsave.cpp:715: error: (-215:Assertion failed) !_img.empty() in function 'imwrite'\n",
      " \n",
      " 39f36065811dabb953b5fa41f826f669.png\n"
     ]
    },
    {
     "name": "stderr",
     "output_type": "stream",
     "text": [
      "35it [00:09,  3.89it/s]"
     ]
    },
    {
     "name": "stdout",
     "output_type": "stream",
     "text": [
      "Ne srabotalo\n",
      "Processing mistake:\n",
      " OpenCV(4.2.0) /io/opencv/modules/imgcodecs/src/loadsave.cpp:715: error: (-215:Assertion failed) !_img.empty() in function 'imwrite'\n",
      " \n",
      " df599862faf0cd78b880fa7f6644407e.png\n"
     ]
    },
    {
     "name": "stderr",
     "output_type": "stream",
     "text": [
      "\r",
      "37it [00:09,  4.72it/s]"
     ]
    },
    {
     "name": "stdout",
     "output_type": "stream",
     "text": [
      "Ne srabotalo\n",
      "Processing mistake:\n",
      " OpenCV(4.2.0) /io/opencv/modules/imgcodecs/src/loadsave.cpp:715: error: (-215:Assertion failed) !_img.empty() in function 'imwrite'\n",
      " \n",
      " 80a9fb86cc68aade057a0e680f3e5c0a.png\n"
     ]
    },
    {
     "name": "stderr",
     "output_type": "stream",
     "text": [
      "44it [00:10,  5.48it/s]"
     ]
    },
    {
     "name": "stdout",
     "output_type": "stream",
     "text": [
      "Ne srabotalo\n",
      "Processing mistake:\n",
      " OpenCV(4.2.0) /io/opencv/modules/imgcodecs/src/loadsave.cpp:715: error: (-215:Assertion failed) !_img.empty() in function 'imwrite'\n",
      " \n",
      " ec2657eff0395f0c0eddac5b35cf584a.png\n"
     ]
    },
    {
     "name": "stderr",
     "output_type": "stream",
     "text": [
      "51it [00:11,  6.62it/s]"
     ]
    },
    {
     "name": "stdout",
     "output_type": "stream",
     "text": [
      "Ne srabotalo\n",
      "Processing mistake:\n",
      " OpenCV(4.2.0) /io/opencv/modules/imgcodecs/src/loadsave.cpp:715: error: (-215:Assertion failed) !_img.empty() in function 'imwrite'\n",
      " \n",
      " 6deb79f9bae408e2b5bec3b5bb5414dd.png\n"
     ]
    },
    {
     "name": "stderr",
     "output_type": "stream",
     "text": [
      "\r",
      "52it [00:11,  6.80it/s]"
     ]
    },
    {
     "name": "stdout",
     "output_type": "stream",
     "text": [
      "Ne srabotalo\n",
      "Processing mistake:\n",
      " OpenCV(4.2.0) /io/opencv/modules/imgcodecs/src/loadsave.cpp:715: error: (-215:Assertion failed) !_img.empty() in function 'imwrite'\n",
      " \n",
      " 5764f6df31c3c05b73dfc0fe5c7bad04.png\n"
     ]
    },
    {
     "name": "stderr",
     "output_type": "stream",
     "text": [
      "74it [00:16,  4.90it/s]"
     ]
    },
    {
     "name": "stdout",
     "output_type": "stream",
     "text": [
      "Ne srabotalo\n",
      "Processing mistake:\n",
      " OpenCV(4.2.0) /io/opencv/modules/imgcodecs/src/loadsave.cpp:715: error: (-215:Assertion failed) !_img.empty() in function 'imwrite'\n",
      " \n",
      " 302fb7c22e2b2addcb939501b25882f9.png\n"
     ]
    },
    {
     "name": "stderr",
     "output_type": "stream",
     "text": [
      "87it [00:19,  5.72it/s]"
     ]
    },
    {
     "name": "stdout",
     "output_type": "stream",
     "text": [
      "Ne srabotalo\n",
      "Processing mistake:\n",
      " OpenCV(4.2.0) /io/opencv/modules/imgcodecs/src/loadsave.cpp:715: error: (-215:Assertion failed) !_img.empty() in function 'imwrite'\n",
      " \n",
      " cfc8739fcc8e3d89f162ef4718c4e4c5.png\n",
      "Ne srabotalo\n",
      "Processing mistake:\n",
      " OpenCV(4.2.0) /io/opencv/modules/imgcodecs/src/loadsave.cpp:715: error: (-215:Assertion failed) !_img.empty() in function 'imwrite'\n",
      " \n",
      " d111dfd7a4f8fda7af0ea489a9dea0fd.png\n"
     ]
    },
    {
     "name": "stderr",
     "output_type": "stream",
     "text": [
      "95it [00:21,  5.50it/s]"
     ]
    },
    {
     "name": "stdout",
     "output_type": "stream",
     "text": [
      "Ne srabotalo\n",
      "Processing mistake:\n",
      " OpenCV(4.2.0) /io/opencv/modules/imgcodecs/src/loadsave.cpp:715: error: (-215:Assertion failed) !_img.empty() in function 'imwrite'\n",
      " \n",
      " e2252a41bd6f1a9e7045e9f10dde5a20.png\n"
     ]
    },
    {
     "name": "stderr",
     "output_type": "stream",
     "text": [
      "114it [00:25,  4.21it/s]"
     ]
    },
    {
     "name": "stdout",
     "output_type": "stream",
     "text": [
      "Ne srabotalo\n",
      "Processing mistake:\n",
      " OpenCV(4.2.0) /io/opencv/modules/imgcodecs/src/loadsave.cpp:715: error: (-215:Assertion failed) !_img.empty() in function 'imwrite'\n",
      " \n",
      " 98a3c3ff00d219ad6bdbf763af34f03e.png\n"
     ]
    },
    {
     "name": "stderr",
     "output_type": "stream",
     "text": [
      "118it [00:26,  5.08it/s]"
     ]
    },
    {
     "name": "stdout",
     "output_type": "stream",
     "text": [
      "Ne srabotalo\n",
      "Processing mistake:\n",
      " OpenCV(4.2.0) /io/opencv/modules/imgcodecs/src/loadsave.cpp:715: error: (-215:Assertion failed) !_img.empty() in function 'imwrite'\n",
      " \n",
      " 6875cac943f84443b8e7c2a44ee809f2.png\n",
      "Ne srabotalo\n",
      "Processing mistake:\n",
      " OpenCV(4.2.0) /io/opencv/modules/imgcodecs/src/loadsave.cpp:715: error: (-215:Assertion failed) !_img.empty() in function 'imwrite'\n",
      " \n",
      " 9079ffff621fc4e738b65b66587bfa47.png\n"
     ]
    },
    {
     "name": "stderr",
     "output_type": "stream",
     "text": [
      "126it [00:27,  5.10it/s]"
     ]
    },
    {
     "name": "stdout",
     "output_type": "stream",
     "text": [
      "Ne srabotalo\n",
      "Processing mistake:\n",
      " OpenCV(4.2.0) /io/opencv/modules/imgcodecs/src/loadsave.cpp:715: error: (-215:Assertion failed) !_img.empty() in function 'imwrite'\n",
      " \n",
      " 5efaa05e7bf93a2c91c7c2592dcb8b64.png\n"
     ]
    },
    {
     "name": "stderr",
     "output_type": "stream",
     "text": [
      "128it [00:27,  4.59it/s]\n"
     ]
    }
   ],
   "source": [
    "for gsfolder in os.listdir(gleason_path):\n",
    "    gsout = os.path.join(new_proc_folder, gsfolder)\n",
    "    if not os.path.exists(gsout):\n",
    "        print(\"[INFO] 'creating {}' directory\".format(gsout))\n",
    "        os.makedirs(gsout)\n",
    "    tile16_pad(input_biopsy_folder = os.path.join(gleason_path, gsfolder),\n",
    "                 output_data_path = gsout, threshold = 241, porog = 4700000,\n",
    "               **kw_for_tile_func)"
   ]
  },
  {
   "cell_type": "code",
   "execution_count": 18,
   "metadata": {},
   "outputs": [],
   "source": [
    "import os\n",
    "module_name = 't2_s2_gs_tile'\n",
    "\n",
    "os.system('jupyter nbconvert --to python ' + module_name + '.ipynb')\n",
    "with open(module_name + '.py', 'r') as f:\n",
    "    lines = f.readlines()\n",
    "with open(module_name + '.py', 'w') as f:\n",
    "    for line in lines:\n",
    "        if 'nbconvert --to python' in line:\n",
    "            break\n",
    "        else:\n",
    "            f.write(line)"
   ]
  },
  {
   "cell_type": "code",
   "execution_count": null,
   "metadata": {},
   "outputs": [],
   "source": []
  }
 ],
 "metadata": {
  "kernelspec": {
   "display_name": "Python 3",
   "language": "python",
   "name": "python3"
  },
  "language_info": {
   "codemirror_mode": {
    "name": "ipython",
    "version": 3
   },
   "file_extension": ".py",
   "mimetype": "text/x-python",
   "name": "python",
   "nbconvert_exporter": "python",
   "pygments_lexer": "ipython3",
   "version": "3.6.8"
  }
 },
 "nbformat": 4,
 "nbformat_minor": 4
}
