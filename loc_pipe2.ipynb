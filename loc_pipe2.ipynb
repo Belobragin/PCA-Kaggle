{
 "cells": [
  {
   "cell_type": "markdown",
   "metadata": {},
   "source": [
    "# Part II - Model testing #"
   ]
  },
  {
   "cell_type": "code",
   "execution_count": 1,
   "metadata": {},
   "outputs": [],
   "source": [
    "#load model with RAdam optimizer:\n",
    "# model = load_model(os.path.join(model_folder, 'model_effnB3_panda_check.20.h5'),\\\n",
    "#                    custom_objects={'RAdam': RAdam})"
   ]
  },
  {
   "cell_type": "code",
   "execution_count": 25,
   "metadata": {
    "_cell_guid": "b1076dfc-b9ad-4769-8c92-a6c4dae69d19",
    "_uuid": "8f2839f25d086af736a60e9eeb907d3b93b6e0e5"
   },
   "outputs": [],
   "source": [
    "import os, shutil, gc, subprocess, sys, json, time\n",
    "\n",
    "import numpy as np # linear algebra\n",
    "import pandas as pd # data processing, CSV file I/O (e.g. pd.read_csv)\n",
    "import matplotlib\n",
    "import matplotlib.pyplot as plt\n",
    "import PIL\n",
    "from PIL import Image\n",
    "import cv2\n",
    "import skimage.io\n",
    "\n",
    "#PIL.Image.MAX_IMAGE_PIXELS = 400000000\n",
    "PIL.Image.MAX_IMAGE_PIXELS = None\n",
    "\n",
    "from sklearn.model_selection import train_test_split\n",
    "from sklearn.linear_model import LogisticRegression"
   ]
  },
  {
   "cell_type": "code",
   "execution_count": 3,
   "metadata": {},
   "outputs": [
    {
     "name": "stdout",
     "output_type": "stream",
     "text": [
      "env: TF_KERAS=1\n"
     ]
    }
   ],
   "source": [
    "from tensorflow.keras.preprocessing.image import ImageDataGenerator\n",
    "from tensorflow.keras.models import model_from_json, load_model\n",
    "from sklearn.metrics import confusion_matrix, accuracy_score\n",
    "from tensorflow_addons.metrics import  CohenKappa\n",
    "import warnings\n",
    "warnings.filterwarnings('ignore')\n",
    "\n",
    "from tensorflow.keras.utils import CustomObjectScope, get_custom_objects\n",
    "from efficientnet import model\n",
    "import functools\n",
    "import keras\n",
    "\n",
    "%env TF_KERAS = 1\n",
    "from keras_radam import RAdam"
   ]
  },
  {
   "cell_type": "code",
   "execution_count": 4,
   "metadata": {},
   "outputs": [
    {
     "name": "stdout",
     "output_type": "stream",
     "text": [
      "efficientnet: 1.1.0\n",
      "tensorflow: 2.2.0\n"
     ]
    }
   ],
   "source": [
    "import efficientnet as efn\n",
    "print('efficientnet: {}'.format(efn.__version__))\n",
    "import tensorflow as tf\n",
    "print('tensorflow: {}'.format(tf.__version__))\n"
   ]
  },
  {
   "cell_type": "code",
   "execution_count": 5,
   "metadata": {},
   "outputs": [],
   "source": [
    "from panda_bvv_config import *"
   ]
  },
  {
   "cell_type": "markdown",
   "metadata": {},
   "source": [
    "### 1. Input data ###"
   ]
  },
  {
   "cell_type": "code",
   "execution_count": 6,
   "metadata": {},
   "outputs": [],
   "source": [
    "Zoom = 2\n",
    "pred_fold = 'testdata320'\n",
    "model_folder = 'effnB3'\n",
    "pred_file = 'ground320simple.npz'\n",
    "\n",
    "# # wrapping for inputs:\n",
    "pred_fold = os.path.join(base_path, pred_fold)\n",
    "model_folder = os.path.join(model_path, model_folder)\n"
   ]
  },
  {
   "cell_type": "code",
   "execution_count": 7,
   "metadata": {},
   "outputs": [
    {
     "data": {
      "text/plain": [
       "'/run/media/admin/kagg/panda/models/effnB3'"
      ]
     },
     "execution_count": 7,
     "metadata": {},
     "output_type": "execute_result"
    }
   ],
   "source": [
    "model_folder"
   ]
  },
  {
   "cell_type": "markdown",
   "metadata": {},
   "source": [
    "### 2. Standard functions ###"
   ]
  },
  {
   "cell_type": "code",
   "execution_count": 8,
   "metadata": {},
   "outputs": [],
   "source": [
    "def inject_keras_modules(func):\n",
    "    @functools.wraps(func)\n",
    "    def wrapper(*args, **kwargs):\n",
    "        kwargs['backend'] = keras.backend\n",
    "        kwargs['layers'] = keras.layers\n",
    "        kwargs['models'] = keras.models\n",
    "        kwargs['utils'] = keras.utils\n",
    "        return func(*args, **kwargs)\n",
    "    return wrapper"
   ]
  },
  {
   "cell_type": "code",
   "execution_count": 9,
   "metadata": {},
   "outputs": [],
   "source": [
    "def init_keras_custom_objects():\n",
    "    custom_objects = {\n",
    "        'FixedDropout': inject_keras_modules(model.get_dropout)()\n",
    "                    }\n",
    "    get_custom_objects().update(custom_objects)\n",
    "    "
   ]
  },
  {
   "cell_type": "code",
   "execution_count": 8,
   "metadata": {},
   "outputs": [],
   "source": [
    "def prepare_df_data(test_df = test_cnn_labels,\n",
    "                    data_fold = pred_fold):\n",
    "    test_data = []\n",
    "    test_labels = []\n",
    "    df_f = []\n",
    "    for i,row in enumerate(test_df.iterrows()): \n",
    "        img_num = row[1]['image_id']\n",
    "        biopsy = skimage.io.imread(os.path.join(data_fold, 'testf',img_num + '.png'))\n",
    "        test_data.append(biopsy)\n",
    "        test_labels.append(row[1]['isup_grade'])\n",
    "        df_f.append(img_num)\n",
    "                           \n",
    "    return np.array(test_data), np.array(test_labels)"
   ]
  },
  {
   "cell_type": "code",
   "execution_count": 38,
   "metadata": {},
   "outputs": [],
   "source": [
    "test_data = np.load(os.path.join('/run/media/admin/kagg/panda/models/effnB3/test_data.npy'))\n",
    "test_for_gen =  np.load(os.path.join('/run/media/admin/kagg/panda/models/effnB3', pred_file))['test_data']                   \n",
    "test_labels = np.load(os.path.join('/run/media/admin/kagg/panda/models/effnB3', pred_file))['test_labels']\n",
    "test_datagen = ImageDataGenerator(rescale = 1/255)\n"
   ]
  },
  {
   "cell_type": "code",
   "execution_count": 42,
   "metadata": {},
   "outputs": [],
   "source": [
    "df_generator = test_datagen.flow(\n",
    "                                x=test_for_gen,\n",
    "                                y=None, \n",
    "                                batch_size=1,\n",
    "                                shuffle = False,\n",
    "                               )\n",
    "steps = len(test_labels)"
   ]
  },
  {
   "cell_type": "code",
   "execution_count": 24,
   "metadata": {},
   "outputs": [
    {
     "name": "stdout",
     "output_type": "stream",
     "text": [
      "Found 1294 images belonging to 4 classes.\n"
     ]
    }
   ],
   "source": [
    "test_datagen = ImageDataGenerator(rescale = 1/255)\n",
    "gs_generator = test_datagen.flow_from_directory(\n",
    "        os.path.join(base_path, 'gs_proc_inv'),\n",
    "        target_size=(320, 320),\n",
    "        color_mode=\"rgb\",\n",
    "        batch_size= 1216,\n",
    "        shuffle=False,\n",
    "        class_mode='categorical')"
   ]
  },
  {
   "cell_type": "code",
   "execution_count": 11,
   "metadata": {},
   "outputs": [
    {
     "data": {
      "text/plain": [
       "array([0, 3, 3, 0, 3, 4, 2, 5, 2, 3])"
      ]
     },
     "execution_count": 11,
     "metadata": {},
     "output_type": "execute_result"
    }
   ],
   "source": [
    "test_labels[:10]"
   ]
  },
  {
   "cell_type": "markdown",
   "metadata": {},
   "source": [
    "#### quick exploration of test data ####"
   ]
  },
  {
   "cell_type": "code",
   "execution_count": 27,
   "metadata": {},
   "outputs": [],
   "source": [
    "#test_labels[:10]"
   ]
  },
  {
   "cell_type": "code",
   "execution_count": 12,
   "metadata": {},
   "outputs": [
    {
     "data": {
      "text/plain": [
       "array([184,  40, 164], dtype=uint8)"
      ]
     },
     "execution_count": 12,
     "metadata": {},
     "output_type": "execute_result"
    }
   ],
   "source": [
    "sum(sum(test_data[1]))"
   ]
  },
  {
   "cell_type": "code",
   "execution_count": 13,
   "metadata": {},
   "outputs": [
    {
     "data": {
      "text/plain": [
       "<matplotlib.image.AxesImage at 0x7f95d35c3278>"
      ]
     },
     "execution_count": 13,
     "metadata": {},
     "output_type": "execute_result"
    },
    {
     "data": {
      "image/png": "[encoded data removed]",
      "text/plain": [
       "<Figure size 432x288 with 1 Axes>"
      ]
     },
     "metadata": {
      "needs_background": "light"
     },
     "output_type": "display_data"
    }
   ],
   "source": [
    "skimage.io.imshow(test_data[1])"
   ]
  },
  {
   "cell_type": "markdown",
   "metadata": {},
   "source": [
    "#### accuracy and confusion matrix ####"
   ]
  },
  {
   "cell_type": "code",
   "execution_count": 12,
   "metadata": {},
   "outputs": [
    {
     "name": "stdout",
     "output_type": "stream",
     "text": [
      "Ready to load EfficientNetB3 \n",
      "\n"
     ]
    }
   ],
   "source": [
    "if model_folder[35:39]  == 'effn':\n",
    "    init_keras_custom_objects()\n",
    "    print(\"Ready to load EfficientNet{} \\n\".format(model_folder[39:41]))"
   ]
  },
  {
   "cell_type": "code",
   "execution_count": 13,
   "metadata": {},
   "outputs": [],
   "source": [
    "init_keras_custom_objects()"
   ]
  },
  {
   "cell_type": "markdown",
   "metadata": {},
   "source": [
    "### GS model ###"
   ]
  },
  {
   "cell_type": "code",
   "execution_count": 65,
   "metadata": {},
   "outputs": [],
   "source": [
    "gs_model_folder = '/run/media/admin/kagg/panda/models/final_models/multi2'\n",
    "gs_model_files = ['model_effnB3_panda_check.10.h5', 'model_effnB3_panda_check.18.h5']\n"
   ]
  },
  {
   "cell_type": "code",
   "execution_count": 66,
   "metadata": {},
   "outputs": [],
   "source": [
    "gs_predict_raw = []\n",
    "gs_predict_idx = []\n",
    "for modelname_ in gs_model_files:\n",
    "    model_ = load_model(os.path.join(gs_model_folder,modelname_))\n",
    "    predictions = model_.predict(test_data)\n",
    "    gs_predict_raw.append(predictions)\n"
   ]
  },
  {
   "cell_type": "code",
   "execution_count": 67,
   "metadata": {},
   "outputs": [],
   "source": [
    "predict = gs_predict_raw[0]\n",
    "train, val = train_test_split(predict, \n",
    "                              test_size= 0.2,\n",
    "                              random_state=3010)"
   ]
  },
  {
   "cell_type": "code",
   "execution_count": 68,
   "metadata": {},
   "outputs": [],
   "source": [
    "train_y, val_y = train_test_split(test_labels, \n",
    "                              test_size= 0.2,\n",
    "                              random_state=3010)"
   ]
  },
  {
   "cell_type": "code",
   "execution_count": null,
   "metadata": {},
   "outputs": [],
   "source": [
    "clf = LogisticRegression(random_state=0).fit(train, train_y)"
   ]
  },
  {
   "cell_type": "code",
   "execution_count": 72,
   "metadata": {},
   "outputs": [],
   "source": [
    "gs_pred = clf.predict(gs_predict_raw[1])\n"
   ]
  },
  {
   "cell_type": "code",
   "execution_count": 73,
   "metadata": {},
   "outputs": [
    {
     "data": {
      "text/plain": [
       "array([[1.        , 0.51757841],\n",
       "       [0.51757841, 1.        ]])"
      ]
     },
     "execution_count": 73,
     "metadata": {},
     "output_type": "execute_result"
    }
   ],
   "source": [
    "np.corrcoef(test_labels, gs_pred)"
   ]
  },
  {
   "cell_type": "code",
   "execution_count": 74,
   "metadata": {},
   "outputs": [
    {
     "data": {
      "text/plain": [
       "0.4120065789473684"
      ]
     },
     "execution_count": 74,
     "metadata": {},
     "output_type": "execute_result"
    }
   ],
   "source": [
    "accuracy_score(test_labels, gs_pred)"
   ]
  },
  {
   "cell_type": "code",
   "execution_count": 78,
   "metadata": {},
   "outputs": [
    {
     "data": {
      "text/plain": [
       "array([[1.        , 0.55454856],\n",
       "       [0.55454856, 1.        ]])"
      ]
     },
     "execution_count": 78,
     "metadata": {},
     "output_type": "execute_result"
    }
   ],
   "source": [
    "np.corrcoef(predIdxs_isup1[0], gs_pred)"
   ]
  },
  {
   "cell_type": "code",
   "execution_count": 79,
   "metadata": {},
   "outputs": [],
   "source": [
    "temp = gs_predict_raw[1][:5]"
   ]
  },
  {
   "cell_type": "code",
   "execution_count": 80,
   "metadata": {},
   "outputs": [
    {
     "data": {
      "text/plain": [
       "array([[0.54306614, 0.006161  , 0.73575246, 0.00581041],\n",
       "       [0.10984996, 0.07641652, 0.43433553, 0.0422979 ],\n",
       "       [0.10093531, 0.00390181, 0.83178246, 0.0278331 ],\n",
       "       [0.6382888 , 0.0079256 , 0.5935636 , 0.01659638],\n",
       "       [0.01906544, 0.00793457, 0.8886888 , 0.06708729]], dtype=float32)"
      ]
     },
     "execution_count": 80,
     "metadata": {},
     "output_type": "execute_result"
    }
   ],
   "source": [
    "temp"
   ]
  },
  {
   "cell_type": "code",
   "execution_count": 83,
   "metadata": {},
   "outputs": [
    {
     "data": {
      "text/plain": [
       "array([[3, 1, 0, 2],\n",
       "       [3, 1, 0, 2],\n",
       "       [1, 3, 0, 2],\n",
       "       [1, 3, 2, 0],\n",
       "       [1, 0, 3, 2]])"
      ]
     },
     "execution_count": 83,
     "metadata": {},
     "output_type": "execute_result"
    }
   ],
   "source": [
    "predict_score = np.argsort(temp)\n",
    "predict_score "
   ]
  },
  {
   "cell_type": "code",
   "execution_count": 85,
   "metadata": {},
   "outputs": [
    {
     "data": {
      "text/plain": [
       "array([[2, 0, 1, 3],\n",
       "       [2, 0, 1, 3],\n",
       "       [2, 0, 3, 1],\n",
       "       [0, 2, 3, 1],\n",
       "       [2, 3, 0, 1]])"
      ]
     },
     "execution_count": 85,
     "metadata": {},
     "output_type": "execute_result"
    }
   ],
   "source": [
    "np.flip(predict_score, axis =1 )"
   ]
  },
  {
   "cell_type": "code",
   "execution_count": 86,
   "metadata": {},
   "outputs": [],
   "source": [
    "gs_pred_discrete = np.flip(np.argsort(gs_predict_raw[1]), axis =1)"
   ]
  },
  {
   "cell_type": "code",
   "execution_count": 87,
   "metadata": {},
   "outputs": [],
   "source": [
    "train_d, val_d = train_test_split(gs_pred_discrete, \n",
    "                              test_size= 0.2,\n",
    "                              random_state=3010)"
   ]
  },
  {
   "cell_type": "code",
   "execution_count": 88,
   "metadata": {},
   "outputs": [],
   "source": [
    "clf = LogisticRegression(random_state=0).fit(train_d, train_y)"
   ]
  },
  {
   "cell_type": "code",
   "execution_count": 90,
   "metadata": {},
   "outputs": [
    {
     "data": {
      "text/plain": [
       "0.3770491803278688"
      ]
     },
     "execution_count": 90,
     "metadata": {},
     "output_type": "execute_result"
    }
   ],
   "source": [
    "ttt = clf.predict(val_d)\n",
    "accuracy_score(val_y, ttt)"
   ]
  },
  {
   "cell_type": "markdown",
   "metadata": {},
   "source": [
    "### Model test ###"
   ]
  },
  {
   "cell_type": "code",
   "execution_count": 14,
   "metadata": {},
   "outputs": [
    {
     "data": {
      "text/plain": [
       "1216"
      ]
     },
     "execution_count": 14,
     "metadata": {},
     "output_type": "execute_result"
    }
   ],
   "source": [
    "len(test_data)"
   ]
  },
  {
   "cell_type": "code",
   "execution_count": 15,
   "metadata": {},
   "outputs": [
    {
     "data": {
      "text/plain": [
       "(1216, 320, 320, 3)"
      ]
     },
     "execution_count": 15,
     "metadata": {},
     "output_type": "execute_result"
    }
   ],
   "source": [
    "test_data.shape"
   ]
  },
  {
   "cell_type": "code",
   "execution_count": 61,
   "metadata": {},
   "outputs": [],
   "source": [
    "model_folder = '/run/media/admin/kagg/panda/models/testm'\n",
    "predict_isup1 = []\n",
    "predIdxs_isup1 = []\n"
   ]
  },
  {
   "cell_type": "code",
   "execution_count": 62,
   "metadata": {},
   "outputs": [
    {
     "name": "stdout",
     "output_type": "stream",
     "text": [
      "Model:model20.h5\n",
      "Model:model12.h5\n",
      "Model:cs_model20.h5\n"
     ]
    }
   ],
   "source": [
    "for i,model_ in enumerate(os.listdir(model_folder)):    \n",
    "    try:        \n",
    "        my_model = load_model(os.path.join(model_folder,model_))\n",
    "        print('Model:{}'.format(model_))\n",
    "        predictions = my_model.predict(test_data)\n",
    "        predict_isup1.append(predictions)\n",
    "        pred_is = np.argmax(predict_isup1[i], axis=1)\n",
    "        predIdxs_isup1.append(pred_is)\n",
    "        del pred_is, predictions\n",
    "        #print('First 10 predict values:', predict[:10])\n",
    "#         #predIdxs = make_isup_from_gleason(predIdxs_p)\n",
    "#         print('First 10 predict labels:', predIdxs[:10])\n",
    "#         print('Ground truth labels:', test_labels[:10])\n",
    "#         print('Accuracy score:\\n{}'.format(accuracy_score(test_labels, predIdxs)))\n",
    "#         print('Confusion matrix:\\n{}'.format(confusion_matrix(test_labels, predIdxs)))\n",
    "#         print('\\n')\n",
    "#         del my_model, predIdxs\n",
    "    except Exception as ee:\n",
    "        print(ee)\n",
    "        pass"
   ]
  },
  {
   "cell_type": "code",
   "execution_count": 63,
   "metadata": {},
   "outputs": [
    {
     "name": "stdout",
     "output_type": "stream",
     "text": [
      "First 10 predict labels: [0 1 2 0 2 4 0 5 2 4]\n",
      "Ground truth labels: [0 3 3 0 3 4 2 5 2 3]\n",
      "Accuracy score:\n",
      "0.5542763157894737\n",
      "Confusion matrix:\n",
      "[[273  41   2   1   7   3]\n",
      " [ 76 171  46   2   4   4]\n",
      " [ 16  49  73   6   4   5]\n",
      " [  8  26  33  27  22   9]\n",
      " [ 16  21  13   7  58  40]\n",
      " [ 21   7   9  13  31  72]]\n",
      "Correlation:\n",
      "[[1.       0.704287]\n",
      " [0.704287 1.      ]]\n",
      "First 10 predict labels: [0 1 4 0 4 0 0 5 3 4]\n",
      "Ground truth labels: [0 3 3 0 3 4 2 5 2 3]\n",
      "Accuracy score:\n",
      "0.48519736842105265\n",
      "Confusion matrix:\n",
      "[[313   3   0   1   6   4]\n",
      " [153  76  32  18  19   5]\n",
      " [ 36  23  25  43  12  14]\n",
      " [ 17   8   7  21  27  45]\n",
      " [ 29   4   0   6  60  56]\n",
      " [ 18   0   0   9  31  95]]\n",
      "Correlation:\n",
      "[[1.         0.71537229]\n",
      " [0.71537229 1.        ]]\n",
      "First 10 predict labels: [0 0 0 0 0 0 0 5 3 5]\n",
      "Ground truth labels: [0 3 3 0 3 4 2 5 2 3]\n",
      "Accuracy score:\n",
      "0.3511513157894737\n",
      "Confusion matrix:\n",
      "[[285   7   3   1  10  21]\n",
      " [209   5  16  16   4  53]\n",
      " [ 71   1  13  20   3  45]\n",
      " [ 44   0   1  14   1  65]\n",
      " [ 62   1   2   8   3  79]\n",
      " [ 40   1   0   5   0 107]]\n",
      "Correlation:\n",
      "[[1.         0.47966577]\n",
      " [0.47966577 1.        ]]\n"
     ]
    }
   ],
   "source": [
    "for score_ in predIdxs_isup1:\n",
    "    print('First 10 predict labels:', score_[:10])\n",
    "    print('Ground truth labels:', test_labels[:10])\n",
    "    print('Accuracy score:\\n{}'.format(accuracy_score(test_labels, score_)))\n",
    "    print('Confusion matrix:\\n{}'.format(confusion_matrix(test_labels, score_)))\n",
    "    print('Correlation:\\n{}'.format(np.corrcoef(test_labels, score_)))"
   ]
  },
  {
   "cell_type": "code",
   "execution_count": null,
   "metadata": {},
   "outputs": [],
   "source": []
  },
  {
   "cell_type": "code",
   "execution_count": null,
   "metadata": {},
   "outputs": [],
   "source": []
  },
  {
   "cell_type": "code",
   "execution_count": null,
   "metadata": {},
   "outputs": [],
   "source": []
  },
  {
   "cell_type": "code",
   "execution_count": null,
   "metadata": {},
   "outputs": [],
   "source": []
  },
  {
   "cell_type": "code",
   "execution_count": 658,
   "metadata": {},
   "outputs": [],
   "source": [
    "mmm = load_model('/run/media/admin/kagg/panda/models/testm/model_panda_check.12.h5')"
   ]
  },
  {
   "cell_type": "code",
   "execution_count": 659,
   "metadata": {},
   "outputs": [],
   "source": [
    "ppp = mmm.predict_generator(df_generator,steps = steps)"
   ]
  },
  {
   "cell_type": "code",
   "execution_count": 662,
   "metadata": {},
   "outputs": [],
   "source": [
    "uuu = np.argmax(ppp, axis=1)"
   ]
  },
  {
   "cell_type": "code",
   "execution_count": 674,
   "metadata": {},
   "outputs": [],
   "source": [
    "mmm1 = load_model('/run/media/admin/kagg/panda/models/testm/model_effnB3_panda_check.20.h5')"
   ]
  },
  {
   "cell_type": "code",
   "execution_count": 675,
   "metadata": {},
   "outputs": [],
   "source": [
    "ppp1 = mmm1.predict_generator(df_generator,steps = steps)"
   ]
  },
  {
   "cell_type": "code",
   "execution_count": 676,
   "metadata": {},
   "outputs": [],
   "source": [
    "uuu1= np.argmax(ppp1, axis=1)"
   ]
  },
  {
   "cell_type": "code",
   "execution_count": 678,
   "metadata": {},
   "outputs": [
    {
     "data": {
      "text/plain": [
       "array([0, 1, 2, ..., 2, 3, 0])"
      ]
     },
     "execution_count": 678,
     "metadata": {},
     "output_type": "execute_result"
    }
   ],
   "source": [
    "uuu1"
   ]
  },
  {
   "cell_type": "code",
   "execution_count": 683,
   "metadata": {},
   "outputs": [],
   "source": [
    "mmm = load_model('/run/media/admin/kagg/panda/models/testm/model30_panda.h5')"
   ]
  },
  {
   "cell_type": "code",
   "execution_count": 684,
   "metadata": {},
   "outputs": [],
   "source": [
    "ppp3 = mmm.predict_generator(df_generator,steps = steps)"
   ]
  },
  {
   "cell_type": "code",
   "execution_count": 685,
   "metadata": {},
   "outputs": [],
   "source": [
    "uuu3 = np.argmax(ppp3, axis=1)"
   ]
  },
  {
   "cell_type": "code",
   "execution_count": 688,
   "metadata": {},
   "outputs": [
    {
     "data": {
      "text/plain": [
       "array([3, 3, 2, ..., 2, 5, 1])"
      ]
     },
     "execution_count": 688,
     "metadata": {},
     "output_type": "execute_result"
    }
   ],
   "source": [
    "uuu3 "
   ]
  },
  {
   "cell_type": "markdown",
   "metadata": {},
   "source": [
    "### Mutual model accurcacy ###"
   ]
  },
  {
   "cell_type": "code",
   "execution_count": 663,
   "metadata": {},
   "outputs": [
    {
     "data": {
      "text/plain": [
       "array([[1.        , 0.71537229],\n",
       "       [0.71537229, 1.        ]])"
      ]
     },
     "execution_count": 663,
     "metadata": {},
     "output_type": "execute_result"
    }
   ],
   "source": [
    "np.corrcoef(uuu, test_labels)"
   ]
  },
  {
   "cell_type": "code",
   "execution_count": 664,
   "metadata": {},
   "outputs": [
    {
     "data": {
      "text/plain": [
       "array([[1.        , 0.53989962],\n",
       "       [0.53989962, 1.        ]])"
      ]
     },
     "execution_count": 664,
     "metadata": {},
     "output_type": "execute_result"
    }
   ],
   "source": [
    "np.corrcoef(pp, test_labels)"
   ]
  },
  {
   "cell_type": "code",
   "execution_count": 665,
   "metadata": {},
   "outputs": [
    {
     "data": {
      "text/plain": [
       "array([[1.        , 0.64255448],\n",
       "       [0.64255448, 1.        ]])"
      ]
     },
     "execution_count": 665,
     "metadata": {},
     "output_type": "execute_result"
    }
   ],
   "source": [
    "np.corrcoef(pp, uuu)"
   ]
  },
  {
   "cell_type": "code",
   "execution_count": 680,
   "metadata": {},
   "outputs": [
    {
     "data": {
      "text/plain": [
       "array([[1.        , 0.58653629],\n",
       "       [0.58653629, 1.        ]])"
      ]
     },
     "execution_count": 680,
     "metadata": {},
     "output_type": "execute_result"
    }
   ],
   "source": [
    "np.corrcoef(pp, uuu1)"
   ]
  },
  {
   "cell_type": "code",
   "execution_count": 681,
   "metadata": {},
   "outputs": [
    {
     "data": {
      "text/plain": [
       "array([[1.        , 0.80706935],\n",
       "       [0.80706935, 1.        ]])"
      ]
     },
     "execution_count": 681,
     "metadata": {},
     "output_type": "execute_result"
    }
   ],
   "source": [
    "np.corrcoef(uuu, uuu1)"
   ]
  },
  {
   "cell_type": "code",
   "execution_count": 621,
   "metadata": {},
   "outputs": [
    {
     "data": {
      "text/plain": [
       "array([[48, 12,  0,  0,  1,  1],\n",
       "       [32, 27,  0,  0,  7,  1],\n",
       "       [ 9, 14,  0,  0,  6,  3],\n",
       "       [ 5, 12,  1,  0,  5,  7],\n",
       "       [ 6,  8,  0,  0,  5,  6],\n",
       "       [ 3,  5,  1,  0,  6, 13]])"
      ]
     },
     "execution_count": 621,
     "metadata": {},
     "output_type": "execute_result"
    }
   ],
   "source": [
    "confusion_matrix(val_y, pp)"
   ]
  },
  {
   "cell_type": "code",
   "execution_count": 620,
   "metadata": {},
   "outputs": [
    {
     "data": {
      "text/plain": [
       "0.38114754098360654"
      ]
     },
     "execution_count": 620,
     "metadata": {},
     "output_type": "execute_result"
    }
   ],
   "source": [
    "accuracy_score(val_y, pp)"
   ]
  },
  {
   "cell_type": "code",
   "execution_count": 671,
   "metadata": {},
   "outputs": [
    {
     "data": {
      "text/plain": [
       "array([[ 95,  96,  51,  20,  34,  31],\n",
       "       [112,  72,  39,  12,  37,  31],\n",
       "       [ 50,  40,  19,   7,  14,  23],\n",
       "       [ 48,  35,  19,   3,   9,  11],\n",
       "       [ 59,  33,  24,   6,  14,  19],\n",
       "       [ 46,  39,  24,   8,  18,  18]])"
      ]
     },
     "execution_count": 671,
     "metadata": {},
     "output_type": "execute_result"
    }
   ],
   "source": [
    "confusion_matrix(test_labels, uuu1)"
   ]
  },
  {
   "cell_type": "code",
   "execution_count": null,
   "metadata": {},
   "outputs": [],
   "source": []
  },
  {
   "cell_type": "code",
   "execution_count": null,
   "metadata": {},
   "outputs": [],
   "source": []
  },
  {
   "cell_type": "code",
   "execution_count": 687,
   "metadata": {},
   "outputs": [
    {
     "data": {
      "text/plain": [
       "array([[ 38,  37, 104,  45,  20,  83],\n",
       "       [ 33,  51, 102,  51,  20,  46],\n",
       "       [ 12,  22,  54,  28,   9,  28],\n",
       "       [ 10,  10,  25,  27,  14,  39],\n",
       "       [  8,  14,  23,  13,  20,  77],\n",
       "       [  6,   7,  10,  25,  10,  95]])"
      ]
     },
     "execution_count": 687,
     "metadata": {},
     "output_type": "execute_result"
    }
   ],
   "source": [
    "confusion_matrix(test_labels, uuu3)"
   ]
  },
  {
   "cell_type": "markdown",
   "metadata": {},
   "source": [
    "### TTA ###"
   ]
  },
  {
   "cell_type": "code",
   "execution_count": 14,
   "metadata": {},
   "outputs": [],
   "source": [
    "model12 = load_model(os.path.join(model_folder,'model_panda_check.12.h5'))\n",
    "val_datagen = ImageDataGenerator(rescale = 1/255,\n",
    "                                    shear_range=0.1,\n",
    "                                    zoom_range=0.1,\n",
    "                                    horizontal_flip=True,\n",
    "                                    rotation_range=10.,\n",
    "                                    fill_mode='reflect',\n",
    "                                    width_shift_range = 0.1, \n",
    "                                    height_shift_range = 0.1)\n",
    "val_generator = val_datagen.flow(\n",
    "                                x=test_data,\n",
    "                                y=None, \n",
    "                                batch_size=38,\n",
    "                                shuffle = False,\n",
    "                               )"
   ]
  },
  {
   "cell_type": "code",
   "execution_count": 17,
   "metadata": {},
   "outputs": [
    {
     "name": "stdout",
     "output_type": "stream",
     "text": [
      "0\n",
      "WARNING:tensorflow:From <ipython-input-17-32bf6db9721d>:6: Model.predict_generator (from tensorflow.python.keras.engine.training) is deprecated and will be removed in a future version.\n",
      "Instructions for updating:\n",
      "Please use Model.predict, which supports generators.\n",
      "1\n",
      "2\n",
      "3\n",
      "4\n",
      "5\n",
      "6\n",
      "7\n",
      "8\n",
      "9\n",
      "Accuracy score:\n",
      "0.5550986842105263\n",
      "Confusion matrix:\n",
      "[[315   9   0   0   2   1]\n",
      " [115 155  23   2   6   2]\n",
      " [ 24  62  45  20   1   1]\n",
      " [ 14  22  19  41  21   8]\n",
      " [ 30  16   4  26  59  20]\n",
      " [ 22   4   7  27  33  60]]\n",
      "\n",
      "\n"
     ]
    }
   ],
   "source": [
    "tta_steps = 10\n",
    "pred_new_arr = []\n",
    "\n",
    "for i in range(tta_steps):\n",
    "    print(i)\n",
    "    pred_new_12 = model12.predict_generator(val_generator, steps = 32)\n",
    "    pred_new_arr.append(pred_new_12)\n",
    "pred12_new = np.mean(pred_new_arr, axis=0)\n",
    "\n",
    "predIdxs12_new = np.argmax(pred12_new, axis=1)\n",
    "\n",
    "print('Accuracy score:\\n{}'.format(accuracy_score(test_labels, predIdxs12_new)))\n",
    "print('Confusion matrix:\\n{}'.format(confusion_matrix(test_labels, predIdxs12_new)))\n",
    "print('\\n')\n"
   ]
  },
  {
   "cell_type": "code",
   "execution_count": 19,
   "metadata": {},
   "outputs": [
    {
     "data": {
      "text/plain": [
       "array([0, 1, 2, 0, 2, 0, 0, 5, 2, 1])"
      ]
     },
     "execution_count": 19,
     "metadata": {},
     "output_type": "execute_result"
    }
   ],
   "source": [
    "predIdxs12_new[:10]"
   ]
  },
  {
   "cell_type": "code",
   "execution_count": 95,
   "metadata": {},
   "outputs": [],
   "source": [
    "def ensemble_predict(pred07, \n",
    "                     pred12,\n",
    "                     pred22,\n",
    "                     steps_ = steps):\n",
    "    final_pred = np.full((steps_), 0).astype(int)\n",
    "    temp_bool_np = np.ndarray(shape = steps_).astype(bool)    \n",
    "    #algorythm:    \n",
    "    temp_bool_np = (pred12 == 0)\n",
    "    final_pred[temp_bool_np] = 0\n",
    "    temp_bool_np = (pred22 == 1)\n",
    "    final_pred[temp_bool_np] = 1\n",
    "    \n",
    "    temp_bool_np = (pred22 == 2)\n",
    "    final_pred[temp_bool_np] = 2\n",
    "    temp_bool_np = (pred07 == 4)\n",
    "    final_pred[temp_bool_np] = 4\n",
    "    temp_bool_np = (pred12 == 5)\n",
    "    final_pred[temp_bool_np] = 5\n",
    "    temp_bool_np = (pred22 == 3)\n",
    "    final_pred[temp_bool_np] = 3\n",
    "    \n",
    "   \n",
    "    \n",
    "    \n",
    "                         \n",
    "    return final_pred \n",
    "                         "
   ]
  },
  {
   "cell_type": "code",
   "execution_count": 96,
   "metadata": {},
   "outputs": [
    {
     "name": "stdout",
     "output_type": "stream",
     "text": [
      "Accuracy score:\n",
      "0.4629934210526316\n",
      "Confusion matrix:\n",
      "[[275  13   3   1  31   4]\n",
      " [108  79  41  31  39   5]\n",
      " [ 31  14  35  47  17   9]\n",
      " [ 20   2   9  37  27  30]\n",
      " [ 37   8   1  10  44  55]\n",
      " [ 25   1   0  10  24  93]]\n",
      "\n",
      "\n"
     ]
    }
   ],
   "source": [
    "predIdxs = ensemble_predict(pred07, pred12, pred22)\n",
    "print('Accuracy score:\\n{}'.format(accuracy_score(test_labels, predIdxs)))\n",
    "print('Confusion matrix:\\n{}'.format(confusion_matrix(test_labels, predIdxs)))\n",
    "print('\\n')"
   ]
  },
  {
   "cell_type": "code",
   "execution_count": null,
   "metadata": {},
   "outputs": [],
   "source": []
  }
 ],
 "metadata": {
  "kernelspec": {
   "display_name": "Python 3",
   "language": "python",
   "name": "python3"
  },
  "language_info": {
   "codemirror_mode": {
    "name": "ipython",
    "version": 3
   },
   "file_extension": ".py",
   "mimetype": "text/x-python",
   "name": "python",
   "nbconvert_exporter": "python",
   "pygments_lexer": "ipython3",
   "version": "3.6.8"
  }
 },
 "nbformat": 4,
 "nbformat_minor": 4
}
