{
 "cells": [
  {
   "cell_type": "code",
   "execution_count": 1,
   "metadata": {},
   "outputs": [],
   "source": [
    "import subprocess, sys,json, os"
   ]
  },
  {
   "cell_type": "code",
   "execution_count": 2,
   "metadata": {},
   "outputs": [],
   "source": [
    "import pandas as pd\n",
    "import numpy as np"
   ]
  },
  {
   "cell_type": "code",
   "execution_count": 3,
   "metadata": {},
   "outputs": [],
   "source": [
    "import skimage.io"
   ]
  },
  {
   "cell_type": "code",
   "execution_count": 4,
   "metadata": {},
   "outputs": [],
   "source": [
    "from tensorflow.python.keras.models import Sequential\n",
    "from tensorflow.python.keras.layers import Dense, Flatten, GlobalAveragePooling2D\n",
    "#from tensorflow.keras.preprocessing import image\n",
    "from tensorflow.keras.preprocessing.image import ImageDataGenerator\n"
   ]
  },
  {
   "cell_type": "code",
   "execution_count": 5,
   "metadata": {},
   "outputs": [
    {
     "data": {
      "text/plain": [
       "'2.2.0'"
      ]
     },
     "execution_count": 5,
     "metadata": {},
     "output_type": "execute_result"
    }
   ],
   "source": [
    "#from tensorflow.python.keras.applications import ResNet50\n",
    "import tensorflow\n",
    "tensorflow.__version__"
   ]
  },
  {
   "cell_type": "code",
   "execution_count": 6,
   "metadata": {},
   "outputs": [],
   "source": [
    "from tensorflow.keras.models import model_from_json, save_model, load_model"
   ]
  },
  {
   "cell_type": "code",
   "execution_count": 7,
   "metadata": {},
   "outputs": [],
   "source": [
    "from sklearn.metrics import confusion_matrix, accuracy_score"
   ]
  },
  {
   "cell_type": "code",
   "execution_count": 8,
   "metadata": {},
   "outputs": [],
   "source": [
    "from panda_bvv_config import *\n"
   ]
  },
  {
   "cell_type": "code",
   "execution_count": 19,
   "metadata": {},
   "outputs": [],
   "source": [
    "# image_sizey = 256\n",
    "# image_sizex = 256\n",
    "test_folder_wrapper = os.path.join(base_path, 'rsnet_256_png_weights')\n",
    "# BS = 32\n",
    "#test_len = len(os.listdir(test_no_classes_cnn))"
   ]
  },
  {
   "cell_type": "code",
   "execution_count": 21,
   "metadata": {},
   "outputs": [],
   "source": [
    "test_datagen = ImageDataGenerator(rescale = 1/255)"
   ]
  },
  {
   "cell_type": "markdown",
   "metadata": {},
   "source": [
    "### Ground truth labels, data ###"
   ]
  },
  {
   "cell_type": "markdown",
   "metadata": {},
   "source": [
    "#### 1. based on dataframe approach - easy and logical ####"
   ]
  },
  {
   "cell_type": "code",
   "execution_count": 10,
   "metadata": {},
   "outputs": [],
   "source": [
    "labels_perm = train_labels.sample(frac = 1, random_state = npseed)\n",
    "test_cnn_labels = labels_perm[9400:]"
   ]
  },
  {
   "cell_type": "code",
   "execution_count": 11,
   "metadata": {},
   "outputs": [
    {
     "data": {
      "text/html": [
       "<div>\n",
       "<style scoped>\n",
       "    .dataframe tbody tr th:only-of-type {\n",
       "        vertical-align: middle;\n",
       "    }\n",
       "\n",
       "    .dataframe tbody tr th {\n",
       "        vertical-align: top;\n",
       "    }\n",
       "\n",
       "    .dataframe thead th {\n",
       "        text-align: right;\n",
       "    }\n",
       "</style>\n",
       "<table border=\"1\" class=\"dataframe\">\n",
       "  <thead>\n",
       "    <tr style=\"text-align: right;\">\n",
       "      <th></th>\n",
       "      <th>image_id</th>\n",
       "      <th>data_provider</th>\n",
       "      <th>isup_grade</th>\n",
       "      <th>gleason_score</th>\n",
       "      <th>PH_size1</th>\n",
       "      <th>PW_size1</th>\n",
       "      <th>PH_size2</th>\n",
       "      <th>PW_size2</th>\n",
       "      <th>PH_mask_size2</th>\n",
       "      <th>PW_mask_size2</th>\n",
       "      <th>PH_mask_size1</th>\n",
       "      <th>PW_mask_size1</th>\n",
       "    </tr>\n",
       "  </thead>\n",
       "  <tbody>\n",
       "    <tr>\n",
       "      <th>8767</th>\n",
       "      <td>d3a5775345ddc4976944ff1941709ef0</td>\n",
       "      <td>karolinska</td>\n",
       "      <td>0</td>\n",
       "      <td>0+0</td>\n",
       "      <td>7296.0</td>\n",
       "      <td>5376.0</td>\n",
       "      <td>1824.0</td>\n",
       "      <td>1344.0</td>\n",
       "      <td>1824</td>\n",
       "      <td>1344</td>\n",
       "      <td>7296.0</td>\n",
       "      <td>5376.0</td>\n",
       "    </tr>\n",
       "    <tr>\n",
       "      <th>9336</th>\n",
       "      <td>e20c73041c5c5ac83c20a7c669f46e9a</td>\n",
       "      <td>radboud</td>\n",
       "      <td>3</td>\n",
       "      <td>4+3</td>\n",
       "      <td>3712.0</td>\n",
       "      <td>1344.0</td>\n",
       "      <td>928.0</td>\n",
       "      <td>336.0</td>\n",
       "      <td>928</td>\n",
       "      <td>336</td>\n",
       "      <td>3712.0</td>\n",
       "      <td>1344.0</td>\n",
       "    </tr>\n",
       "    <tr>\n",
       "      <th>5848</th>\n",
       "      <td>8f8d20fc6e9b6aa3b145e359e104eac4</td>\n",
       "      <td>radboud</td>\n",
       "      <td>3</td>\n",
       "      <td>4+3</td>\n",
       "      <td>6720.0</td>\n",
       "      <td>2560.0</td>\n",
       "      <td>1680.0</td>\n",
       "      <td>640.0</td>\n",
       "      <td>1680</td>\n",
       "      <td>640</td>\n",
       "      <td>6720.0</td>\n",
       "      <td>2560.0</td>\n",
       "    </tr>\n",
       "    <tr>\n",
       "      <th>4296</th>\n",
       "      <td>6ac2095c7968fa30ab6c5dc7d1ed5121</td>\n",
       "      <td>karolinska</td>\n",
       "      <td>0</td>\n",
       "      <td>0+0</td>\n",
       "      <td>7680.0</td>\n",
       "      <td>6016.0</td>\n",
       "      <td>1920.0</td>\n",
       "      <td>1504.0</td>\n",
       "      <td>1920</td>\n",
       "      <td>1504</td>\n",
       "      <td>7680.0</td>\n",
       "      <td>6016.0</td>\n",
       "    </tr>\n",
       "    <tr>\n",
       "      <th>2267</th>\n",
       "      <td>389758c9e3aad00e774d581150f372db</td>\n",
       "      <td>radboud</td>\n",
       "      <td>3</td>\n",
       "      <td>4+3</td>\n",
       "      <td>7296.0</td>\n",
       "      <td>1728.0</td>\n",
       "      <td>1824.0</td>\n",
       "      <td>432.0</td>\n",
       "      <td>1824</td>\n",
       "      <td>432</td>\n",
       "      <td>7296.0</td>\n",
       "      <td>1728.0</td>\n",
       "    </tr>\n",
       "    <tr>\n",
       "      <th>4147</th>\n",
       "      <td>66f04788a17915feba394290384e13a4</td>\n",
       "      <td>radboud</td>\n",
       "      <td>4</td>\n",
       "      <td>4+4</td>\n",
       "      <td>1856.0</td>\n",
       "      <td>1216.0</td>\n",
       "      <td>464.0</td>\n",
       "      <td>304.0</td>\n",
       "      <td>464</td>\n",
       "      <td>304</td>\n",
       "      <td>1856.0</td>\n",
       "      <td>1216.0</td>\n",
       "    </tr>\n",
       "    <tr>\n",
       "      <th>419</th>\n",
       "      <td>0abc61a1bc7abe47b9e44a9f69979eb0</td>\n",
       "      <td>karolinska</td>\n",
       "      <td>2</td>\n",
       "      <td>3+4</td>\n",
       "      <td>8832.0</td>\n",
       "      <td>6912.0</td>\n",
       "      <td>2208.0</td>\n",
       "      <td>1728.0</td>\n",
       "      <td>2208</td>\n",
       "      <td>1728</td>\n",
       "      <td>8832.0</td>\n",
       "      <td>6912.0</td>\n",
       "    </tr>\n",
       "    <tr>\n",
       "      <th>10507</th>\n",
       "      <td>fd8928cd1f06f33ff00e32f19c58abd3</td>\n",
       "      <td>radboud</td>\n",
       "      <td>5</td>\n",
       "      <td>5+4</td>\n",
       "      <td>3968.0</td>\n",
       "      <td>1024.0</td>\n",
       "      <td>992.0</td>\n",
       "      <td>256.0</td>\n",
       "      <td>992</td>\n",
       "      <td>256</td>\n",
       "      <td>3968.0</td>\n",
       "      <td>1024.0</td>\n",
       "    </tr>\n",
       "    <tr>\n",
       "      <th>9248</th>\n",
       "      <td>dfae643568b01d1f4ad5d86bac2f7994</td>\n",
       "      <td>radboud</td>\n",
       "      <td>2</td>\n",
       "      <td>3+4</td>\n",
       "      <td>7232.0</td>\n",
       "      <td>4544.0</td>\n",
       "      <td>1808.0</td>\n",
       "      <td>1136.0</td>\n",
       "      <td>1808</td>\n",
       "      <td>1136</td>\n",
       "      <td>7232.0</td>\n",
       "      <td>4544.0</td>\n",
       "    </tr>\n",
       "    <tr>\n",
       "      <th>10410</th>\n",
       "      <td>fb80c40073a4016bf384f408ec048f55</td>\n",
       "      <td>radboud</td>\n",
       "      <td>3</td>\n",
       "      <td>4+3</td>\n",
       "      <td>3072.0</td>\n",
       "      <td>3008.0</td>\n",
       "      <td>768.0</td>\n",
       "      <td>752.0</td>\n",
       "      <td>768</td>\n",
       "      <td>752</td>\n",
       "      <td>3072.0</td>\n",
       "      <td>3008.0</td>\n",
       "    </tr>\n",
       "    <tr>\n",
       "      <th>7644</th>\n",
       "      <td>b9791f986bcc4f84ca2da793e933c5ac</td>\n",
       "      <td>karolinska</td>\n",
       "      <td>1</td>\n",
       "      <td>3+3</td>\n",
       "      <td>8858.0</td>\n",
       "      <td>5976.0</td>\n",
       "      <td>2214.0</td>\n",
       "      <td>1494.0</td>\n",
       "      <td>2214</td>\n",
       "      <td>1494</td>\n",
       "      <td>8858.0</td>\n",
       "      <td>5976.0</td>\n",
       "    </tr>\n",
       "    <tr>\n",
       "      <th>4225</th>\n",
       "      <td>69187b17ca2488b677f9a79e44654277</td>\n",
       "      <td>radboud</td>\n",
       "      <td>1</td>\n",
       "      <td>3+3</td>\n",
       "      <td>2880.0</td>\n",
       "      <td>1536.0</td>\n",
       "      <td>720.0</td>\n",
       "      <td>384.0</td>\n",
       "      <td>720</td>\n",
       "      <td>384</td>\n",
       "      <td>2880.0</td>\n",
       "      <td>1536.0</td>\n",
       "    </tr>\n",
       "    <tr>\n",
       "      <th>4370</th>\n",
       "      <td>6c568690f107432f5666cd298c7a9014</td>\n",
       "      <td>karolinska</td>\n",
       "      <td>1</td>\n",
       "      <td>3+3</td>\n",
       "      <td>7040.0</td>\n",
       "      <td>6400.0</td>\n",
       "      <td>1760.0</td>\n",
       "      <td>1600.0</td>\n",
       "      <td>1760</td>\n",
       "      <td>1600</td>\n",
       "      <td>7040.0</td>\n",
       "      <td>6400.0</td>\n",
       "    </tr>\n",
       "    <tr>\n",
       "      <th>4483</th>\n",
       "      <td>6eac976813faebe8dc84eaf3835e74c5</td>\n",
       "      <td>karolinska</td>\n",
       "      <td>0</td>\n",
       "      <td>0+0</td>\n",
       "      <td>6976.0</td>\n",
       "      <td>6400.0</td>\n",
       "      <td>1744.0</td>\n",
       "      <td>1600.0</td>\n",
       "      <td>1744</td>\n",
       "      <td>1600</td>\n",
       "      <td>6976.0</td>\n",
       "      <td>6400.0</td>\n",
       "    </tr>\n",
       "    <tr>\n",
       "      <th>5712</th>\n",
       "      <td>8c357871e57c5c60277230412f2d9028</td>\n",
       "      <td>karolinska</td>\n",
       "      <td>4</td>\n",
       "      <td>4+4</td>\n",
       "      <td>8217.0</td>\n",
       "      <td>7830.0</td>\n",
       "      <td>2054.0</td>\n",
       "      <td>1957.0</td>\n",
       "      <td>2054</td>\n",
       "      <td>1957</td>\n",
       "      <td>8217.0</td>\n",
       "      <td>7830.0</td>\n",
       "    </tr>\n",
       "    <tr>\n",
       "      <th>1821</th>\n",
       "      <td>2de70a06f44c854c7e5a14f46fc14e9a</td>\n",
       "      <td>karolinska</td>\n",
       "      <td>1</td>\n",
       "      <td>3+3</td>\n",
       "      <td>7629.0</td>\n",
       "      <td>6722.0</td>\n",
       "      <td>1907.0</td>\n",
       "      <td>1680.0</td>\n",
       "      <td>1907</td>\n",
       "      <td>1680</td>\n",
       "      <td>7629.0</td>\n",
       "      <td>6722.0</td>\n",
       "    </tr>\n",
       "    <tr>\n",
       "      <th>386</th>\n",
       "      <td>09e15fdd25dcbcf37262c2a87da8db20</td>\n",
       "      <td>karolinska</td>\n",
       "      <td>1</td>\n",
       "      <td>3+3</td>\n",
       "      <td>9216.0</td>\n",
       "      <td>6656.0</td>\n",
       "      <td>2304.0</td>\n",
       "      <td>1664.0</td>\n",
       "      <td>2304</td>\n",
       "      <td>1664</td>\n",
       "      <td>9216.0</td>\n",
       "      <td>6656.0</td>\n",
       "    </tr>\n",
       "    <tr>\n",
       "      <th>4345</th>\n",
       "      <td>6bcc536d2db29034ac0c8974df500981</td>\n",
       "      <td>radboud</td>\n",
       "      <td>0</td>\n",
       "      <td>0+0</td>\n",
       "      <td>4928.0</td>\n",
       "      <td>1024.0</td>\n",
       "      <td>1232.0</td>\n",
       "      <td>256.0</td>\n",
       "      <td>1232</td>\n",
       "      <td>256</td>\n",
       "      <td>4928.0</td>\n",
       "      <td>1024.0</td>\n",
       "    </tr>\n",
       "    <tr>\n",
       "      <th>4833</th>\n",
       "      <td>775d39466b474d54ae714215034c5a83</td>\n",
       "      <td>radboud</td>\n",
       "      <td>3</td>\n",
       "      <td>4+3</td>\n",
       "      <td>4608.0</td>\n",
       "      <td>896.0</td>\n",
       "      <td>1152.0</td>\n",
       "      <td>224.0</td>\n",
       "      <td>1152</td>\n",
       "      <td>224</td>\n",
       "      <td>4608.0</td>\n",
       "      <td>896.0</td>\n",
       "    </tr>\n",
       "    <tr>\n",
       "      <th>5001</th>\n",
       "      <td>7b5c303bc727db87d76486bc15084adf</td>\n",
       "      <td>radboud</td>\n",
       "      <td>1</td>\n",
       "      <td>3+3</td>\n",
       "      <td>4800.0</td>\n",
       "      <td>2496.0</td>\n",
       "      <td>1200.0</td>\n",
       "      <td>624.0</td>\n",
       "      <td>1200</td>\n",
       "      <td>624</td>\n",
       "      <td>4800.0</td>\n",
       "      <td>2496.0</td>\n",
       "    </tr>\n",
       "  </tbody>\n",
       "</table>\n",
       "</div>"
      ],
      "text/plain": [
       "                               image_id data_provider  isup_grade  \\\n",
       "8767   d3a5775345ddc4976944ff1941709ef0    karolinska           0   \n",
       "9336   e20c73041c5c5ac83c20a7c669f46e9a       radboud           3   \n",
       "5848   8f8d20fc6e9b6aa3b145e359e104eac4       radboud           3   \n",
       "4296   6ac2095c7968fa30ab6c5dc7d1ed5121    karolinska           0   \n",
       "2267   389758c9e3aad00e774d581150f372db       radboud           3   \n",
       "4147   66f04788a17915feba394290384e13a4       radboud           4   \n",
       "419    0abc61a1bc7abe47b9e44a9f69979eb0    karolinska           2   \n",
       "10507  fd8928cd1f06f33ff00e32f19c58abd3       radboud           5   \n",
       "9248   dfae643568b01d1f4ad5d86bac2f7994       radboud           2   \n",
       "10410  fb80c40073a4016bf384f408ec048f55       radboud           3   \n",
       "7644   b9791f986bcc4f84ca2da793e933c5ac    karolinska           1   \n",
       "4225   69187b17ca2488b677f9a79e44654277       radboud           1   \n",
       "4370   6c568690f107432f5666cd298c7a9014    karolinska           1   \n",
       "4483   6eac976813faebe8dc84eaf3835e74c5    karolinska           0   \n",
       "5712   8c357871e57c5c60277230412f2d9028    karolinska           4   \n",
       "1821   2de70a06f44c854c7e5a14f46fc14e9a    karolinska           1   \n",
       "386    09e15fdd25dcbcf37262c2a87da8db20    karolinska           1   \n",
       "4345   6bcc536d2db29034ac0c8974df500981       radboud           0   \n",
       "4833   775d39466b474d54ae714215034c5a83       radboud           3   \n",
       "5001   7b5c303bc727db87d76486bc15084adf       radboud           1   \n",
       "\n",
       "      gleason_score  PH_size1  PW_size1  PH_size2  PW_size2  PH_mask_size2  \\\n",
       "8767            0+0    7296.0    5376.0    1824.0    1344.0           1824   \n",
       "9336            4+3    3712.0    1344.0     928.0     336.0            928   \n",
       "5848            4+3    6720.0    2560.0    1680.0     640.0           1680   \n",
       "4296            0+0    7680.0    6016.0    1920.0    1504.0           1920   \n",
       "2267            4+3    7296.0    1728.0    1824.0     432.0           1824   \n",
       "4147            4+4    1856.0    1216.0     464.0     304.0            464   \n",
       "419             3+4    8832.0    6912.0    2208.0    1728.0           2208   \n",
       "10507           5+4    3968.0    1024.0     992.0     256.0            992   \n",
       "9248            3+4    7232.0    4544.0    1808.0    1136.0           1808   \n",
       "10410           4+3    3072.0    3008.0     768.0     752.0            768   \n",
       "7644            3+3    8858.0    5976.0    2214.0    1494.0           2214   \n",
       "4225            3+3    2880.0    1536.0     720.0     384.0            720   \n",
       "4370            3+3    7040.0    6400.0    1760.0    1600.0           1760   \n",
       "4483            0+0    6976.0    6400.0    1744.0    1600.0           1744   \n",
       "5712            4+4    8217.0    7830.0    2054.0    1957.0           2054   \n",
       "1821            3+3    7629.0    6722.0    1907.0    1680.0           1907   \n",
       "386             3+3    9216.0    6656.0    2304.0    1664.0           2304   \n",
       "4345            0+0    4928.0    1024.0    1232.0     256.0           1232   \n",
       "4833            4+3    4608.0     896.0    1152.0     224.0           1152   \n",
       "5001            3+3    4800.0    2496.0    1200.0     624.0           1200   \n",
       "\n",
       "       PW_mask_size2  PH_mask_size1  PW_mask_size1  \n",
       "8767            1344         7296.0         5376.0  \n",
       "9336             336         3712.0         1344.0  \n",
       "5848             640         6720.0         2560.0  \n",
       "4296            1504         7680.0         6016.0  \n",
       "2267             432         7296.0         1728.0  \n",
       "4147             304         1856.0         1216.0  \n",
       "419             1728         8832.0         6912.0  \n",
       "10507            256         3968.0         1024.0  \n",
       "9248            1136         7232.0         4544.0  \n",
       "10410            752         3072.0         3008.0  \n",
       "7644            1494         8858.0         5976.0  \n",
       "4225             384         2880.0         1536.0  \n",
       "4370            1600         7040.0         6400.0  \n",
       "4483            1600         6976.0         6400.0  \n",
       "5712            1957         8217.0         7830.0  \n",
       "1821            1680         7629.0         6722.0  \n",
       "386             1664         9216.0         6656.0  \n",
       "4345             256         4928.0         1024.0  \n",
       "4833             224         4608.0          896.0  \n",
       "5001             624         4800.0         2496.0  "
      ]
     },
     "execution_count": 11,
     "metadata": {},
     "output_type": "execute_result"
    }
   ],
   "source": [
    "test_cnn_labels[:20]"
   ]
  },
  {
   "cell_type": "code",
   "execution_count": null,
   "metadata": {},
   "outputs": [],
   "source": []
  },
  {
   "cell_type": "code",
   "execution_count": 18,
   "metadata": {},
   "outputs": [],
   "source": [
    "def prepare_df_data(test_df = test_cnn_labels,\n",
    "                       data_fold = test_folder_wrapper):\n",
    "    test_data = []\n",
    "    test_labels = []\n",
    "    df_f = []\n",
    "    for i,row in enumerate(test_df.iterrows()): \n",
    "        img_num = row[1]['image_id']\n",
    "        biopsy = skimage.io.imread(os.path.join(data_fold, 'testf',img_num + '.png'))\n",
    "        test_data.append(biopsy)\n",
    "        test_labels.append(row[1]['isup_grade'])\n",
    "        df_f.append(img_num)\n",
    "                           \n",
    "    return np.array(test_data), np.array(test_labels), df_f"
   ]
  },
  {
   "cell_type": "code",
   "execution_count": 20,
   "metadata": {},
   "outputs": [],
   "source": [
    "test_data_df, test_labels_df, df_f = prepare_df_data()"
   ]
  },
  {
   "cell_type": "code",
   "execution_count": 23,
   "metadata": {},
   "outputs": [],
   "source": [
    "#np.savez(os.path.join(model_path, 'rsnet_256_png_weights','ground256simple'), test_data = test_data, test_labels=test_labels)"
   ]
  },
  {
   "cell_type": "code",
   "execution_count": 67,
   "metadata": {},
   "outputs": [
    {
     "data": {
      "text/plain": [
       "array([0, 3, 3, ..., 2, 2, 0])"
      ]
     },
     "execution_count": 67,
     "metadata": {},
     "output_type": "execute_result"
    }
   ],
   "source": [
    "test_labels_df"
   ]
  },
  {
   "cell_type": "code",
   "execution_count": 32,
   "metadata": {},
   "outputs": [
    {
     "data": {
      "text/plain": [
       "['d3a5775345ddc4976944ff1941709ef0',\n",
       " 'e20c73041c5c5ac83c20a7c669f46e9a',\n",
       " '8f8d20fc6e9b6aa3b145e359e104eac4']"
      ]
     },
     "execution_count": 32,
     "metadata": {},
     "output_type": "execute_result"
    }
   ],
   "source": [
    "df_f[:3]"
   ]
  },
  {
   "cell_type": "code",
   "execution_count": 34,
   "metadata": {},
   "outputs": [],
   "source": [
    "#test_data_df[0]"
   ]
  },
  {
   "cell_type": "code",
   "execution_count": 35,
   "metadata": {},
   "outputs": [
    {
     "data": {
      "text/plain": [
       "array([247,   6,  45], dtype=uint8)"
      ]
     },
     "execution_count": 35,
     "metadata": {},
     "output_type": "execute_result"
    }
   ],
   "source": [
    "sum(sum(test_data_df[1]))"
   ]
  },
  {
   "cell_type": "code",
   "execution_count": 36,
   "metadata": {},
   "outputs": [
    {
     "data": {
      "text/plain": [
       "<matplotlib.image.AxesImage at 0x7f253128ab38>"
      ]
     },
     "execution_count": 36,
     "metadata": {},
     "output_type": "execute_result"
    },
    {
     "data": {
      "image/png": "[encoded data removed]",
      "text/plain": [
       "<Figure size 432x288 with 1 Axes>"
      ]
     },
     "metadata": {
      "needs_background": "light"
     },
     "output_type": "display_data"
    }
   ],
   "source": [
    "skimage.io.imshow(test_data_df[1])"
   ]
  },
  {
   "cell_type": "code",
   "execution_count": 37,
   "metadata": {},
   "outputs": [
    {
     "data": {
      "text/plain": [
       "1216"
      ]
     },
     "execution_count": 37,
     "metadata": {},
     "output_type": "execute_result"
    }
   ],
   "source": [
    "len(test_data_df)"
   ]
  },
  {
   "cell_type": "markdown",
   "metadata": {},
   "source": [
    "#### 2. based on files-from-folder approach - counter-imtuitive, we leave it as a shaggy dog  story ####"
   ]
  },
  {
   "cell_type": "code",
   "execution_count": null,
   "metadata": {},
   "outputs": [],
   "source": [
    "test_generator = test_datagen.flow_from_directory(\n",
    "                                test_folder_wrapper, \n",
    "                                target_size=(image_sizey, image_sizex),\n",
    "                                color_mode=\"rgb\",\n",
    "                                batch_size=1,\n",
    "                                shuffle = False,\n",
    "                                class_mode='categorical')"
   ]
  },
  {
   "cell_type": "code",
   "execution_count": null,
   "metadata": {},
   "outputs": [],
   "source": [
    "fnames = test_generator.filenames"
   ]
  },
  {
   "cell_type": "code",
   "execution_count": 230,
   "metadata": {},
   "outputs": [],
   "source": [
    "#example:\n",
    "#fnames[0].split('/')[1].split('.')[0]"
   ]
  },
  {
   "cell_type": "code",
   "execution_count": 197,
   "metadata": {},
   "outputs": [],
   "source": [
    "def prepare_test_data_folder(test_df = test_cnn_labels,\n",
    "                       file_list = fnames[:3],\n",
    "                       data_fold = test_folder_wrapper):\n",
    "    test_data = []\n",
    "    test_labels = []\n",
    "    filenames = []\n",
    "    for file in file_list:\n",
    "        img_name = file.split('/')[1].split('.')[0]       \n",
    "        print(img_name)\n",
    "        print(sum(sum(skimage.io.imread(os.path.join(train_size2, img_name +'.jpg')))))\n",
    "        label = list(test_df.loc[test_df.image_id == img_name]['isup_grade'])[0]\n",
    "\n",
    "        biopsy = skimage.io.imread(os.path.join(data_fold, file))\n",
    "        test_data.append(biopsy)\n",
    "        test_labels.append(label)\n",
    "        filenames.append(img_name)\n",
    "    return np.array(test_data), np.array(test_labels), filenames"
   ]
  },
  {
   "cell_type": "code",
   "execution_count": 229,
   "metadata": {},
   "outputs": [],
   "source": [
    "#prepare_test_data_folder()"
   ]
  },
  {
   "cell_type": "code",
   "execution_count": 143,
   "metadata": {},
   "outputs": [
    {
     "data": {
      "text/plain": [
       "array([1, 5, 1, 5, 4, 2, 0, 3, 0, 5])"
      ]
     },
     "execution_count": 143,
     "metadata": {},
     "output_type": "execute_result"
    }
   ],
   "source": [
    "#frankly speaking, we do not need test data, labels only\n",
    "test_data_folder, test_labels_folder, f_list = prepare_test_data()\n",
    "test_labels[:10]"
   ]
  },
  {
   "cell_type": "code",
   "execution_count": 144,
   "metadata": {},
   "outputs": [
    {
     "data": {
      "text/plain": [
       "['0032bfa835ce0f43a92ae0bbab6871cb',\n",
       " '00928370e2dfeb8a507667ef1d4efcbb',\n",
       " '00e6511435645e50673991768a713c66',\n",
       " '01a9472f2b061f80bb7c125dfa9771e5',\n",
       " '01afe81220f729cf1c5b4d99f3abe559']"
      ]
     },
     "execution_count": 144,
     "metadata": {},
     "output_type": "execute_result"
    }
   ],
   "source": [
    "f_list[:5]"
   ]
  },
  {
   "cell_type": "code",
   "execution_count": 89,
   "metadata": {},
   "outputs": [],
   "source": [
    "#data = np.load('ground_t.npz')['test_data']\n",
    "#labels = np.load('ground_t.npz')['test_labels']"
   ]
  },
  {
   "cell_type": "markdown",
   "metadata": {},
   "source": [
    "### Test generator ###"
   ]
  },
  {
   "cell_type": "code",
   "execution_count": 38,
   "metadata": {},
   "outputs": [],
   "source": [
    "df_generator = test_datagen.flow(\n",
    "                                x=test_data_df,\n",
    "                                y=None, \n",
    "                                batch_size=1,\n",
    "                                shuffle = False,\n",
    "                               )"
   ]
  },
  {
   "cell_type": "markdown",
   "metadata": {},
   "source": [
    "### NN tests ###"
   ]
  },
  {
   "cell_type": "markdown",
   "metadata": {},
   "source": [
    "#### 1. Simple model, based on ResNet50 ####"
   ]
  },
  {
   "cell_type": "markdown",
   "metadata": {},
   "source": [
    "This model was trained on the whole images without pre-processing."
   ]
  },
  {
   "cell_type": "code",
   "execution_count": 10,
   "metadata": {},
   "outputs": [],
   "source": [
    "proc_model_file = os.path.join(base_path, 'models/pandamodel_1', model_name)\n"
   ]
  },
  {
   "cell_type": "code",
   "execution_count": 11,
   "metadata": {},
   "outputs": [
    {
     "name": "stdout",
     "output_type": "stream",
     "text": [
      "WARNING:tensorflow:From /home/admin/.local/lib/python3.6/site-packages/tensorflow_core/python/ops/init_ops.py:97: calling GlorotUniform.__init__ (from tensorflow.python.ops.init_ops) with dtype is deprecated and will be removed in a future version.\n",
      "Instructions for updating:\n",
      "Call initializer instance with the dtype argument instead of passing it to the constructor\n",
      "WARNING:tensorflow:From /home/admin/.local/lib/python3.6/site-packages/tensorflow_core/python/ops/init_ops.py:97: calling Zeros.__init__ (from tensorflow.python.ops.init_ops) with dtype is deprecated and will be removed in a future version.\n",
      "Instructions for updating:\n",
      "Call initializer instance with the dtype argument instead of passing it to the constructor\n",
      "WARNING:tensorflow:From /home/admin/.local/lib/python3.6/site-packages/tensorflow_core/python/ops/init_ops.py:97: calling Ones.__init__ (from tensorflow.python.ops.init_ops) with dtype is deprecated and will be removed in a future version.\n",
      "Instructions for updating:\n",
      "Call initializer instance with the dtype argument instead of passing it to the constructor\n",
      "WARNING:tensorflow:From /home/admin/.local/lib/python3.6/site-packages/tensorflow_core/python/ops/resource_variable_ops.py:1630: calling BaseResourceVariable.__init__ (from tensorflow.python.ops.resource_variable_ops) with constraint is deprecated and will be removed in a future version.\n",
      "Instructions for updating:\n",
      "If using Keras pass *_constraint arguments to layers.\n"
     ]
    }
   ],
   "source": [
    "my_model = load_model(proc_model_file)"
   ]
  },
  {
   "cell_type": "code",
   "execution_count": 16,
   "metadata": {},
   "outputs": [
    {
     "name": "stdout",
     "output_type": "stream",
     "text": [
      "CPU times: user 48min 21s, sys: 3min 10s, total: 51min 31s\n",
      "Wall time: 14min 30s\n"
     ]
    }
   ],
   "source": [
    "%time predicted_values1 = my_model.predict(test_data)"
   ]
  },
  {
   "cell_type": "code",
   "execution_count": 17,
   "metadata": {},
   "outputs": [
    {
     "data": {
      "text/plain": [
       "array([0, 2])"
      ]
     },
     "execution_count": 17,
     "metadata": {},
     "output_type": "execute_result"
    }
   ],
   "source": [
    "predicted_classes1 = predicted_values1.argmax(axis = -1)\n",
    "predicted_classes1[:2]"
   ]
  },
  {
   "cell_type": "code",
   "execution_count": 18,
   "metadata": {},
   "outputs": [
    {
     "data": {
      "text/plain": [
       "array([[185,  83, 154,   0,   9,   7],\n",
       "       [144,  73, 150,   0,   2,   8],\n",
       "       [ 42,  40, 105,   0,   7,  15],\n",
       "       [ 25,  34,  96,   0,   4,  23],\n",
       "       [ 43,  28,  94,   0,  17,  25],\n",
       "       [ 40,  15,  82,   0,  19,  46]])"
      ]
     },
     "execution_count": 18,
     "metadata": {},
     "output_type": "execute_result"
    }
   ],
   "source": [
    "#confusion matrix:\n",
    "confusion_matrix(\n",
    "    test_labels1, \n",
    "    predicted_classes1)"
   ]
  },
  {
   "cell_type": "code",
   "execution_count": 19,
   "metadata": {},
   "outputs": [
    {
     "data": {
      "text/plain": [
       "0.26377708978328174"
      ]
     },
     "execution_count": 19,
     "metadata": {},
     "output_type": "execute_result"
    }
   ],
   "source": [
    "accuracy_score(\n",
    "    test_labels1, \n",
    "    predicted_classes1)\n"
   ]
  },
  {
   "cell_type": "markdown",
   "metadata": {},
   "source": [
    "#### 2. ResNet50 model ####"
   ]
  },
  {
   "cell_type": "markdown",
   "metadata": {},
   "source": [
    "##### 2.1. Trained on 256x256 inverted size2 \"kaggle-algo\" .JPG samples, tested on 128x128 samples, no-weights #####"
   ]
  },
  {
   "cell_type": "code",
   "execution_count": 147,
   "metadata": {},
   "outputs": [],
   "source": [
    "model_fold = 'models/rsnet_256'\n",
    "model_name = 'model_panda_check.21.h5'\n",
    "my_model_file = os.path.join(base_path, model_fold, model_name)"
   ]
  },
  {
   "cell_type": "code",
   "execution_count": 77,
   "metadata": {},
   "outputs": [
    {
     "name": "stdout",
     "output_type": "stream",
     "text": [
      "CPU times: user 7.44 s, sys: 336 ms, total: 7.78 s\n",
      "Wall time: 10.3 s\n"
     ]
    }
   ],
   "source": [
    "%time my_model = load_model(my_model_file)"
   ]
  },
  {
   "cell_type": "code",
   "execution_count": 78,
   "metadata": {},
   "outputs": [],
   "source": [
    "predict = my_model.predict_generator(test_generator,steps = 1216)"
   ]
  },
  {
   "cell_type": "code",
   "execution_count": 79,
   "metadata": {},
   "outputs": [
    {
     "data": {
      "text/plain": [
       "array([[2.4425769e-03, 9.9061549e-01, 4.1716946e-03, 6.9864304e-04,\n",
       "        2.0710989e-03, 5.4946025e-07],\n",
       "       [5.0727051e-01, 4.2547114e-02, 1.1038231e-02, 5.1356941e-02,\n",
       "        1.7037195e-01, 2.1741524e-01],\n",
       "       [3.9614162e-01, 1.5700510e-01, 4.0861547e-02, 7.3227368e-02,\n",
       "        2.3846035e-01, 9.4303980e-02],\n",
       "       [9.3618059e-01, 4.0170580e-02, 7.9331277e-03, 1.4949040e-03,\n",
       "        2.3043221e-03, 1.1916432e-02],\n",
       "       [5.4414414e-02, 8.8811815e-01, 2.2372628e-02, 2.4877915e-03,\n",
       "        3.2491852e-02, 1.1517131e-04]], dtype=float32)"
      ]
     },
     "execution_count": 79,
     "metadata": {},
     "output_type": "execute_result"
    }
   ],
   "source": [
    "predict[1000:1005]"
   ]
  },
  {
   "cell_type": "code",
   "execution_count": 80,
   "metadata": {},
   "outputs": [
    {
     "data": {
      "text/plain": [
       "array([1, 0, 0, 0, 1])"
      ]
     },
     "execution_count": 80,
     "metadata": {},
     "output_type": "execute_result"
    }
   ],
   "source": [
    "predIdxs = np.argmax(predict, axis=1)\n",
    "predIdxs [1000:1005]"
   ]
  },
  {
   "cell_type": "code",
   "execution_count": 74,
   "metadata": {},
   "outputs": [
    {
     "data": {
      "text/plain": [
       "0.2845394736842105"
      ]
     },
     "execution_count": 74,
     "metadata": {},
     "output_type": "execute_result"
    }
   ],
   "source": [
    "#model_panda.h5\n",
    "accuracy_score(test_labels, predIdxs)"
   ]
  },
  {
   "cell_type": "code",
   "execution_count": 75,
   "metadata": {},
   "outputs": [
    {
     "data": {
      "text/plain": [
       "array([[273,  31,   0,   9,   4,  10],\n",
       "       [229,  41,   0,  19,   4,  10],\n",
       "       [ 95,  34,   0,  14,   2,   8],\n",
       "       [ 55,  42,   0,  14,   4,  10],\n",
       "       [ 74,  57,   0,   8,   3,  13],\n",
       "       [ 46,  71,   0,  12,   9,  15]])"
      ]
     },
     "execution_count": 75,
     "metadata": {},
     "output_type": "execute_result"
    }
   ],
   "source": [
    "#model_panda.h5\n",
    "confusion_matrix(test_labels, predIdxs)"
   ]
  },
  {
   "cell_type": "code",
   "execution_count": 81,
   "metadata": {},
   "outputs": [
    {
     "data": {
      "text/plain": [
       "0.3026315789473684"
      ]
     },
     "execution_count": 81,
     "metadata": {},
     "output_type": "execute_result"
    }
   ],
   "source": [
    "#model_panda_check.21.h5\n",
    "accuracy_score(test_labels, predIdxs)"
   ]
  },
  {
   "cell_type": "code",
   "execution_count": 82,
   "metadata": {},
   "outputs": [
    {
     "data": {
      "text/plain": [
       "array([[260,  46,   0,   8,   7,   6],\n",
       "       [195,  81,   0,  13,   6,   8],\n",
       "       [ 71,  59,   0,  12,   4,   7],\n",
       "       [ 41,  66,   0,  10,   4,   4],\n",
       "       [ 55,  78,   0,   8,   8,   6],\n",
       "       [ 34,  83,   0,  12,  15,   9]])"
      ]
     },
     "execution_count": 82,
     "metadata": {},
     "output_type": "execute_result"
    }
   ],
   "source": [
    "#model_panda_check.21.h5\n",
    "confusion_matrix(test_labels, predIdxs)\n"
   ]
  },
  {
   "cell_type": "markdown",
   "metadata": {},
   "source": [
    "##### 1.2. Trained on 256x256 inverted size2 \"kaggle-algo\" .JPG  samples, tested on 256x256 samples, no-weights #####"
   ]
  },
  {
   "cell_type": "code",
   "execution_count": 103,
   "metadata": {},
   "outputs": [],
   "source": [
    "model_fold = 'models/rsnet_256'\n",
    "model_name = 'model_panda_check.21.h5'\n",
    "my_model_file = os.path.join(base_path, model_fold, model_name)"
   ]
  },
  {
   "cell_type": "code",
   "execution_count": 156,
   "metadata": {},
   "outputs": [
    {
     "name": "stdout",
     "output_type": "stream",
     "text": [
      "CPU times: user 5.46 s, sys: 181 ms, total: 5.65 s\n",
      "Wall time: 5.36 s\n"
     ]
    }
   ],
   "source": [
    "%time my_model = load_model(my_model_file)"
   ]
  },
  {
   "cell_type": "code",
   "execution_count": 157,
   "metadata": {},
   "outputs": [
    {
     "data": {
      "text/plain": [
       "array([[1.6103193e-02, 4.7655500e-02, 4.6173539e-02, 2.1018873e-01,\n",
       "        4.4748244e-01, 2.3239656e-01],\n",
       "       [7.5443066e-03, 4.4495508e-02, 8.4343381e-02, 2.6513553e-01,\n",
       "        2.6000160e-01, 3.3847961e-01],\n",
       "       [2.0578045e-02, 3.3940826e-02, 6.0039610e-02, 2.4691889e-01,\n",
       "        3.0072522e-01, 3.3779740e-01],\n",
       "       [7.6833081e-01, 2.1345036e-01, 1.5392981e-02, 6.5320131e-04,\n",
       "        4.0549526e-04, 1.7672037e-03],\n",
       "       [2.7302885e-01, 9.6016988e-02, 3.0858275e-02, 8.7787487e-02,\n",
       "        2.9589975e-01, 2.1640864e-01]], dtype=float32)"
      ]
     },
     "execution_count": 157,
     "metadata": {},
     "output_type": "execute_result"
    }
   ],
   "source": [
    "predict = my_model.predict_generator(test_generator,steps = 1216)\n",
    "predict[1000:1005]"
   ]
  },
  {
   "cell_type": "code",
   "execution_count": 106,
   "metadata": {},
   "outputs": [
    {
     "data": {
      "text/plain": [
       "array([4, 5, 5, 0, 4])"
      ]
     },
     "execution_count": 106,
     "metadata": {},
     "output_type": "execute_result"
    }
   ],
   "source": [
    "predIdxs = np.argmax(predict, axis=1)\n",
    "predIdxs [1000:1005]"
   ]
  },
  {
   "cell_type": "code",
   "execution_count": 107,
   "metadata": {},
   "outputs": [
    {
     "data": {
      "text/plain": [
       "0.3725328947368421"
      ]
     },
     "execution_count": 107,
     "metadata": {},
     "output_type": "execute_result"
    }
   ],
   "source": [
    "#model_panda_check.21.h5\n",
    "accuracy_score(test_labels, predIdxs)"
   ]
  },
  {
   "cell_type": "code",
   "execution_count": 110,
   "metadata": {},
   "outputs": [
    {
     "data": {
      "text/plain": [
       "array([[226,  37,   3,   2,  16,  43],\n",
       "       [ 90,  96,   4,  17,  37,  59],\n",
       "       [ 17,  36,   2,  19,  25,  54],\n",
       "       [  9,  17,   5,  10,  17,  67],\n",
       "       [ 23,   9,   3,   5,  18,  97],\n",
       "       [ 12,   9,   5,   5,  21, 101]])"
      ]
     },
     "execution_count": 110,
     "metadata": {},
     "output_type": "execute_result"
    }
   ],
   "source": [
    "#model_panda_check.21.h5\n",
    "confusion_matrix(test_labels, predIdxs)\n"
   ]
  },
  {
   "cell_type": "code",
   "execution_count": 166,
   "metadata": {},
   "outputs": [],
   "source": [
    "#test_cnn_labels['pred'] = None\n",
    "test_cnn_labels1 = test_cnn_labels.copy()\n",
    "test_cnn_labels1['pred'] = predIdxs"
   ]
  },
  {
   "cell_type": "code",
   "execution_count": 201,
   "metadata": {},
   "outputs": [
    {
     "data": {
      "text/html": [
       "<div>\n",
       "<style scoped>\n",
       "    .dataframe tbody tr th:only-of-type {\n",
       "        vertical-align: middle;\n",
       "    }\n",
       "\n",
       "    .dataframe tbody tr th {\n",
       "        vertical-align: top;\n",
       "    }\n",
       "\n",
       "    .dataframe thead th {\n",
       "        text-align: right;\n",
       "    }\n",
       "</style>\n",
       "<table border=\"1\" class=\"dataframe\">\n",
       "  <thead>\n",
       "    <tr style=\"text-align: right;\">\n",
       "      <th></th>\n",
       "      <th>image_id</th>\n",
       "      <th>data_provider</th>\n",
       "      <th>isup_grade</th>\n",
       "      <th>gleason_score</th>\n",
       "      <th>PH_size1</th>\n",
       "      <th>PW_size1</th>\n",
       "      <th>PH_size2</th>\n",
       "      <th>PW_size2</th>\n",
       "      <th>PH_mask_size2</th>\n",
       "      <th>PW_mask_size2</th>\n",
       "      <th>PH_mask_size1</th>\n",
       "      <th>PW_mask_size1</th>\n",
       "      <th>pred</th>\n",
       "    </tr>\n",
       "  </thead>\n",
       "  <tbody>\n",
       "    <tr>\n",
       "      <th>8767</th>\n",
       "      <td>d3a5775345ddc4976944ff1941709ef0</td>\n",
       "      <td>karolinska</td>\n",
       "      <td>0</td>\n",
       "      <td>0+0</td>\n",
       "      <td>7296.0</td>\n",
       "      <td>5376.0</td>\n",
       "      <td>1824.0</td>\n",
       "      <td>1344.0</td>\n",
       "      <td>1824</td>\n",
       "      <td>1344</td>\n",
       "      <td>7296.0</td>\n",
       "      <td>5376.0</td>\n",
       "      <td>1</td>\n",
       "    </tr>\n",
       "    <tr>\n",
       "      <th>9336</th>\n",
       "      <td>e20c73041c5c5ac83c20a7c669f46e9a</td>\n",
       "      <td>radboud</td>\n",
       "      <td>3</td>\n",
       "      <td>4+3</td>\n",
       "      <td>3712.0</td>\n",
       "      <td>1344.0</td>\n",
       "      <td>928.0</td>\n",
       "      <td>336.0</td>\n",
       "      <td>928</td>\n",
       "      <td>336</td>\n",
       "      <td>3712.0</td>\n",
       "      <td>1344.0</td>\n",
       "      <td>5</td>\n",
       "    </tr>\n",
       "    <tr>\n",
       "      <th>5848</th>\n",
       "      <td>8f8d20fc6e9b6aa3b145e359e104eac4</td>\n",
       "      <td>radboud</td>\n",
       "      <td>3</td>\n",
       "      <td>4+3</td>\n",
       "      <td>6720.0</td>\n",
       "      <td>2560.0</td>\n",
       "      <td>1680.0</td>\n",
       "      <td>640.0</td>\n",
       "      <td>1680</td>\n",
       "      <td>640</td>\n",
       "      <td>6720.0</td>\n",
       "      <td>2560.0</td>\n",
       "      <td>5</td>\n",
       "    </tr>\n",
       "    <tr>\n",
       "      <th>4296</th>\n",
       "      <td>6ac2095c7968fa30ab6c5dc7d1ed5121</td>\n",
       "      <td>karolinska</td>\n",
       "      <td>0</td>\n",
       "      <td>0+0</td>\n",
       "      <td>7680.0</td>\n",
       "      <td>6016.0</td>\n",
       "      <td>1920.0</td>\n",
       "      <td>1504.0</td>\n",
       "      <td>1920</td>\n",
       "      <td>1504</td>\n",
       "      <td>7680.0</td>\n",
       "      <td>6016.0</td>\n",
       "      <td>5</td>\n",
       "    </tr>\n",
       "    <tr>\n",
       "      <th>2267</th>\n",
       "      <td>389758c9e3aad00e774d581150f372db</td>\n",
       "      <td>radboud</td>\n",
       "      <td>3</td>\n",
       "      <td>4+3</td>\n",
       "      <td>7296.0</td>\n",
       "      <td>1728.0</td>\n",
       "      <td>1824.0</td>\n",
       "      <td>432.0</td>\n",
       "      <td>1824</td>\n",
       "      <td>432</td>\n",
       "      <td>7296.0</td>\n",
       "      <td>1728.0</td>\n",
       "      <td>5</td>\n",
       "    </tr>\n",
       "    <tr>\n",
       "      <th>4147</th>\n",
       "      <td>66f04788a17915feba394290384e13a4</td>\n",
       "      <td>radboud</td>\n",
       "      <td>4</td>\n",
       "      <td>4+4</td>\n",
       "      <td>1856.0</td>\n",
       "      <td>1216.0</td>\n",
       "      <td>464.0</td>\n",
       "      <td>304.0</td>\n",
       "      <td>464</td>\n",
       "      <td>304</td>\n",
       "      <td>1856.0</td>\n",
       "      <td>1216.0</td>\n",
       "      <td>5</td>\n",
       "    </tr>\n",
       "    <tr>\n",
       "      <th>419</th>\n",
       "      <td>0abc61a1bc7abe47b9e44a9f69979eb0</td>\n",
       "      <td>karolinska</td>\n",
       "      <td>2</td>\n",
       "      <td>3+4</td>\n",
       "      <td>8832.0</td>\n",
       "      <td>6912.0</td>\n",
       "      <td>2208.0</td>\n",
       "      <td>1728.0</td>\n",
       "      <td>2208</td>\n",
       "      <td>1728</td>\n",
       "      <td>8832.0</td>\n",
       "      <td>6912.0</td>\n",
       "      <td>0</td>\n",
       "    </tr>\n",
       "    <tr>\n",
       "      <th>10507</th>\n",
       "      <td>fd8928cd1f06f33ff00e32f19c58abd3</td>\n",
       "      <td>radboud</td>\n",
       "      <td>5</td>\n",
       "      <td>5+4</td>\n",
       "      <td>3968.0</td>\n",
       "      <td>1024.0</td>\n",
       "      <td>992.0</td>\n",
       "      <td>256.0</td>\n",
       "      <td>992</td>\n",
       "      <td>256</td>\n",
       "      <td>3968.0</td>\n",
       "      <td>1024.0</td>\n",
       "      <td>1</td>\n",
       "    </tr>\n",
       "    <tr>\n",
       "      <th>9248</th>\n",
       "      <td>dfae643568b01d1f4ad5d86bac2f7994</td>\n",
       "      <td>radboud</td>\n",
       "      <td>2</td>\n",
       "      <td>3+4</td>\n",
       "      <td>7232.0</td>\n",
       "      <td>4544.0</td>\n",
       "      <td>1808.0</td>\n",
       "      <td>1136.0</td>\n",
       "      <td>1808</td>\n",
       "      <td>1136</td>\n",
       "      <td>7232.0</td>\n",
       "      <td>4544.0</td>\n",
       "      <td>3</td>\n",
       "    </tr>\n",
       "    <tr>\n",
       "      <th>10410</th>\n",
       "      <td>fb80c40073a4016bf384f408ec048f55</td>\n",
       "      <td>radboud</td>\n",
       "      <td>3</td>\n",
       "      <td>4+3</td>\n",
       "      <td>3072.0</td>\n",
       "      <td>3008.0</td>\n",
       "      <td>768.0</td>\n",
       "      <td>752.0</td>\n",
       "      <td>768</td>\n",
       "      <td>752</td>\n",
       "      <td>3072.0</td>\n",
       "      <td>3008.0</td>\n",
       "      <td>1</td>\n",
       "    </tr>\n",
       "    <tr>\n",
       "      <th>7644</th>\n",
       "      <td>b9791f986bcc4f84ca2da793e933c5ac</td>\n",
       "      <td>karolinska</td>\n",
       "      <td>1</td>\n",
       "      <td>3+3</td>\n",
       "      <td>8858.0</td>\n",
       "      <td>5976.0</td>\n",
       "      <td>2214.0</td>\n",
       "      <td>1494.0</td>\n",
       "      <td>2214</td>\n",
       "      <td>1494</td>\n",
       "      <td>8858.0</td>\n",
       "      <td>5976.0</td>\n",
       "      <td>5</td>\n",
       "    </tr>\n",
       "    <tr>\n",
       "      <th>4225</th>\n",
       "      <td>69187b17ca2488b677f9a79e44654277</td>\n",
       "      <td>radboud</td>\n",
       "      <td>1</td>\n",
       "      <td>3+3</td>\n",
       "      <td>2880.0</td>\n",
       "      <td>1536.0</td>\n",
       "      <td>720.0</td>\n",
       "      <td>384.0</td>\n",
       "      <td>720</td>\n",
       "      <td>384</td>\n",
       "      <td>2880.0</td>\n",
       "      <td>1536.0</td>\n",
       "      <td>5</td>\n",
       "    </tr>\n",
       "    <tr>\n",
       "      <th>4370</th>\n",
       "      <td>6c568690f107432f5666cd298c7a9014</td>\n",
       "      <td>karolinska</td>\n",
       "      <td>1</td>\n",
       "      <td>3+3</td>\n",
       "      <td>7040.0</td>\n",
       "      <td>6400.0</td>\n",
       "      <td>1760.0</td>\n",
       "      <td>1600.0</td>\n",
       "      <td>1760</td>\n",
       "      <td>1600</td>\n",
       "      <td>7040.0</td>\n",
       "      <td>6400.0</td>\n",
       "      <td>5</td>\n",
       "    </tr>\n",
       "    <tr>\n",
       "      <th>4483</th>\n",
       "      <td>6eac976813faebe8dc84eaf3835e74c5</td>\n",
       "      <td>karolinska</td>\n",
       "      <td>0</td>\n",
       "      <td>0+0</td>\n",
       "      <td>6976.0</td>\n",
       "      <td>6400.0</td>\n",
       "      <td>1744.0</td>\n",
       "      <td>1600.0</td>\n",
       "      <td>1744</td>\n",
       "      <td>1600</td>\n",
       "      <td>6976.0</td>\n",
       "      <td>6400.0</td>\n",
       "      <td>5</td>\n",
       "    </tr>\n",
       "    <tr>\n",
       "      <th>5712</th>\n",
       "      <td>8c357871e57c5c60277230412f2d9028</td>\n",
       "      <td>karolinska</td>\n",
       "      <td>4</td>\n",
       "      <td>4+4</td>\n",
       "      <td>8217.0</td>\n",
       "      <td>7830.0</td>\n",
       "      <td>2054.0</td>\n",
       "      <td>1957.0</td>\n",
       "      <td>2054</td>\n",
       "      <td>1957</td>\n",
       "      <td>8217.0</td>\n",
       "      <td>7830.0</td>\n",
       "      <td>5</td>\n",
       "    </tr>\n",
       "    <tr>\n",
       "      <th>1821</th>\n",
       "      <td>2de70a06f44c854c7e5a14f46fc14e9a</td>\n",
       "      <td>karolinska</td>\n",
       "      <td>1</td>\n",
       "      <td>3+3</td>\n",
       "      <td>7629.0</td>\n",
       "      <td>6722.0</td>\n",
       "      <td>1907.0</td>\n",
       "      <td>1680.0</td>\n",
       "      <td>1907</td>\n",
       "      <td>1680</td>\n",
       "      <td>7629.0</td>\n",
       "      <td>6722.0</td>\n",
       "      <td>0</td>\n",
       "    </tr>\n",
       "    <tr>\n",
       "      <th>386</th>\n",
       "      <td>09e15fdd25dcbcf37262c2a87da8db20</td>\n",
       "      <td>karolinska</td>\n",
       "      <td>1</td>\n",
       "      <td>3+3</td>\n",
       "      <td>9216.0</td>\n",
       "      <td>6656.0</td>\n",
       "      <td>2304.0</td>\n",
       "      <td>1664.0</td>\n",
       "      <td>2304</td>\n",
       "      <td>1664</td>\n",
       "      <td>9216.0</td>\n",
       "      <td>6656.0</td>\n",
       "      <td>5</td>\n",
       "    </tr>\n",
       "    <tr>\n",
       "      <th>4345</th>\n",
       "      <td>6bcc536d2db29034ac0c8974df500981</td>\n",
       "      <td>radboud</td>\n",
       "      <td>0</td>\n",
       "      <td>0+0</td>\n",
       "      <td>4928.0</td>\n",
       "      <td>1024.0</td>\n",
       "      <td>1232.0</td>\n",
       "      <td>256.0</td>\n",
       "      <td>1232</td>\n",
       "      <td>256</td>\n",
       "      <td>4928.0</td>\n",
       "      <td>1024.0</td>\n",
       "      <td>0</td>\n",
       "    </tr>\n",
       "    <tr>\n",
       "      <th>4833</th>\n",
       "      <td>775d39466b474d54ae714215034c5a83</td>\n",
       "      <td>radboud</td>\n",
       "      <td>3</td>\n",
       "      <td>4+3</td>\n",
       "      <td>4608.0</td>\n",
       "      <td>896.0</td>\n",
       "      <td>1152.0</td>\n",
       "      <td>224.0</td>\n",
       "      <td>1152</td>\n",
       "      <td>224</td>\n",
       "      <td>4608.0</td>\n",
       "      <td>896.0</td>\n",
       "      <td>0</td>\n",
       "    </tr>\n",
       "    <tr>\n",
       "      <th>5001</th>\n",
       "      <td>7b5c303bc727db87d76486bc15084adf</td>\n",
       "      <td>radboud</td>\n",
       "      <td>1</td>\n",
       "      <td>3+3</td>\n",
       "      <td>4800.0</td>\n",
       "      <td>2496.0</td>\n",
       "      <td>1200.0</td>\n",
       "      <td>624.0</td>\n",
       "      <td>1200</td>\n",
       "      <td>624</td>\n",
       "      <td>4800.0</td>\n",
       "      <td>2496.0</td>\n",
       "      <td>5</td>\n",
       "    </tr>\n",
       "  </tbody>\n",
       "</table>\n",
       "</div>"
      ],
      "text/plain": [
       "                               image_id data_provider  isup_grade  \\\n",
       "8767   d3a5775345ddc4976944ff1941709ef0    karolinska           0   \n",
       "9336   e20c73041c5c5ac83c20a7c669f46e9a       radboud           3   \n",
       "5848   8f8d20fc6e9b6aa3b145e359e104eac4       radboud           3   \n",
       "4296   6ac2095c7968fa30ab6c5dc7d1ed5121    karolinska           0   \n",
       "2267   389758c9e3aad00e774d581150f372db       radboud           3   \n",
       "4147   66f04788a17915feba394290384e13a4       radboud           4   \n",
       "419    0abc61a1bc7abe47b9e44a9f69979eb0    karolinska           2   \n",
       "10507  fd8928cd1f06f33ff00e32f19c58abd3       radboud           5   \n",
       "9248   dfae643568b01d1f4ad5d86bac2f7994       radboud           2   \n",
       "10410  fb80c40073a4016bf384f408ec048f55       radboud           3   \n",
       "7644   b9791f986bcc4f84ca2da793e933c5ac    karolinska           1   \n",
       "4225   69187b17ca2488b677f9a79e44654277       radboud           1   \n",
       "4370   6c568690f107432f5666cd298c7a9014    karolinska           1   \n",
       "4483   6eac976813faebe8dc84eaf3835e74c5    karolinska           0   \n",
       "5712   8c357871e57c5c60277230412f2d9028    karolinska           4   \n",
       "1821   2de70a06f44c854c7e5a14f46fc14e9a    karolinska           1   \n",
       "386    09e15fdd25dcbcf37262c2a87da8db20    karolinska           1   \n",
       "4345   6bcc536d2db29034ac0c8974df500981       radboud           0   \n",
       "4833   775d39466b474d54ae714215034c5a83       radboud           3   \n",
       "5001   7b5c303bc727db87d76486bc15084adf       radboud           1   \n",
       "\n",
       "      gleason_score  PH_size1  PW_size1  PH_size2  PW_size2  PH_mask_size2  \\\n",
       "8767            0+0    7296.0    5376.0    1824.0    1344.0           1824   \n",
       "9336            4+3    3712.0    1344.0     928.0     336.0            928   \n",
       "5848            4+3    6720.0    2560.0    1680.0     640.0           1680   \n",
       "4296            0+0    7680.0    6016.0    1920.0    1504.0           1920   \n",
       "2267            4+3    7296.0    1728.0    1824.0     432.0           1824   \n",
       "4147            4+4    1856.0    1216.0     464.0     304.0            464   \n",
       "419             3+4    8832.0    6912.0    2208.0    1728.0           2208   \n",
       "10507           5+4    3968.0    1024.0     992.0     256.0            992   \n",
       "9248            3+4    7232.0    4544.0    1808.0    1136.0           1808   \n",
       "10410           4+3    3072.0    3008.0     768.0     752.0            768   \n",
       "7644            3+3    8858.0    5976.0    2214.0    1494.0           2214   \n",
       "4225            3+3    2880.0    1536.0     720.0     384.0            720   \n",
       "4370            3+3    7040.0    6400.0    1760.0    1600.0           1760   \n",
       "4483            0+0    6976.0    6400.0    1744.0    1600.0           1744   \n",
       "5712            4+4    8217.0    7830.0    2054.0    1957.0           2054   \n",
       "1821            3+3    7629.0    6722.0    1907.0    1680.0           1907   \n",
       "386             3+3    9216.0    6656.0    2304.0    1664.0           2304   \n",
       "4345            0+0    4928.0    1024.0    1232.0     256.0           1232   \n",
       "4833            4+3    4608.0     896.0    1152.0     224.0           1152   \n",
       "5001            3+3    4800.0    2496.0    1200.0     624.0           1200   \n",
       "\n",
       "       PW_mask_size2  PH_mask_size1  PW_mask_size1  pred  \n",
       "8767            1344         7296.0         5376.0     1  \n",
       "9336             336         3712.0         1344.0     5  \n",
       "5848             640         6720.0         2560.0     5  \n",
       "4296            1504         7680.0         6016.0     5  \n",
       "2267             432         7296.0         1728.0     5  \n",
       "4147             304         1856.0         1216.0     5  \n",
       "419             1728         8832.0         6912.0     0  \n",
       "10507            256         3968.0         1024.0     1  \n",
       "9248            1136         7232.0         4544.0     3  \n",
       "10410            752         3072.0         3008.0     1  \n",
       "7644            1494         8858.0         5976.0     5  \n",
       "4225             384         2880.0         1536.0     5  \n",
       "4370            1600         7040.0         6400.0     5  \n",
       "4483            1600         6976.0         6400.0     5  \n",
       "5712            1957         8217.0         7830.0     5  \n",
       "1821            1680         7629.0         6722.0     0  \n",
       "386             1664         9216.0         6656.0     5  \n",
       "4345             256         4928.0         1024.0     0  \n",
       "4833             224         4608.0          896.0     0  \n",
       "5001             624         4800.0         2496.0     5  "
      ]
     },
     "execution_count": 201,
     "metadata": {},
     "output_type": "execute_result"
    }
   ],
   "source": [
    "test_cnn_labels1[:20]"
   ]
  },
  {
   "cell_type": "markdown",
   "metadata": {},
   "source": [
    "##### generator from data in np.array() format: #####"
   ]
  },
  {
   "cell_type": "code",
   "execution_count": 127,
   "metadata": {},
   "outputs": [
    {
     "data": {
      "text/plain": [
       "array([[1.6103193e-02, 4.7655500e-02, 4.6173539e-02, 2.1018873e-01,\n",
       "        4.4748244e-01, 2.3239656e-01],\n",
       "       [7.5443066e-03, 4.4495508e-02, 8.4343381e-02, 2.6513553e-01,\n",
       "        2.6000160e-01, 3.3847961e-01],\n",
       "       [2.0578045e-02, 3.3940826e-02, 6.0039610e-02, 2.4691889e-01,\n",
       "        3.0072522e-01, 3.3779740e-01],\n",
       "       [7.6833081e-01, 2.1345036e-01, 1.5392981e-02, 6.5320131e-04,\n",
       "        4.0549526e-04, 1.7672037e-03],\n",
       "       [2.7302885e-01, 9.6016988e-02, 3.0858275e-02, 8.7787487e-02,\n",
       "        2.9589975e-01, 2.1640864e-01]], dtype=float32)"
      ]
     },
     "execution_count": 127,
     "metadata": {},
     "output_type": "execute_result"
    }
   ],
   "source": [
    "#model_panda_check.21.h5\n",
    "#with flow():\n",
    "predict = my_model.predict_generator(exp_generator,steps = 1216)\n",
    "predict[1000:1005]"
   ]
  },
  {
   "cell_type": "code",
   "execution_count": 131,
   "metadata": {},
   "outputs": [
    {
     "data": {
      "text/plain": [
       "array([4, 5, 5, 0, 4])"
      ]
     },
     "execution_count": 131,
     "metadata": {},
     "output_type": "execute_result"
    }
   ],
   "source": [
    "#model_panda_check.21.h5\n",
    "predIdxs = np.argmax(predict, axis=-1)\n",
    "predIdxs [1000:1005]"
   ]
  },
  {
   "cell_type": "code",
   "execution_count": 134,
   "metadata": {},
   "outputs": [
    {
     "data": {
      "text/plain": [
       "array([1, 5, 5, 5, 5])"
      ]
     },
     "execution_count": 134,
     "metadata": {},
     "output_type": "execute_result"
    }
   ],
   "source": [
    "predIdxs [:5]"
   ]
  },
  {
   "cell_type": "code",
   "execution_count": 135,
   "metadata": {},
   "outputs": [
    {
     "data": {
      "text/plain": [
       "['testf_no_classes/0032bfa835ce0f43a92ae0bbab6871cb.jpg',\n",
       " 'testf_no_classes/00928370e2dfeb8a507667ef1d4efcbb.jpg',\n",
       " 'testf_no_classes/00e6511435645e50673991768a713c66.jpg',\n",
       " 'testf_no_classes/01a9472f2b061f80bb7c125dfa9771e5.jpg',\n",
       " 'testf_no_classes/01afe81220f729cf1c5b4d99f3abe559.jpg']"
      ]
     },
     "execution_count": 135,
     "metadata": {},
     "output_type": "execute_result"
    }
   ],
   "source": [
    "fnames[:5]"
   ]
  },
  {
   "cell_type": "code",
   "execution_count": 132,
   "metadata": {},
   "outputs": [
    {
     "data": {
      "text/plain": [
       "0.3725328947368421"
      ]
     },
     "execution_count": 132,
     "metadata": {},
     "output_type": "execute_result"
    }
   ],
   "source": [
    "#model_panda_check.21.h5\n",
    "accuracy_score(test_labels, predIdxs)"
   ]
  },
  {
   "cell_type": "code",
   "execution_count": 133,
   "metadata": {},
   "outputs": [
    {
     "data": {
      "text/plain": [
       "array([[226,  37,   3,   2,  16,  43],\n",
       "       [ 90,  96,   4,  17,  37,  59],\n",
       "       [ 17,  36,   2,  19,  25,  54],\n",
       "       [  9,  17,   5,  10,  17,  67],\n",
       "       [ 23,   9,   3,   5,  18,  97],\n",
       "       [ 12,   9,   5,   5,  21, 101]])"
      ]
     },
     "execution_count": 133,
     "metadata": {},
     "output_type": "execute_result"
    }
   ],
   "source": [
    "#model_panda_check.21.h5\n",
    "confusion_matrix(test_labels, predIdxs)"
   ]
  },
  {
   "cell_type": "markdown",
   "metadata": {},
   "source": [
    "##### 1.3. Example of incorrect predictions - np.array of test data without 1/255 rescaling, previous model #####"
   ]
  },
  {
   "cell_type": "code",
   "execution_count": 113,
   "metadata": {},
   "outputs": [],
   "source": [
    "#model_panda_check.21.h5\n",
    "pr = my_model.predict_generator(test_data)"
   ]
  },
  {
   "cell_type": "code",
   "execution_count": 114,
   "metadata": {},
   "outputs": [
    {
     "data": {
      "text/plain": [
       "0.21957236842105263"
      ]
     },
     "execution_count": 114,
     "metadata": {},
     "output_type": "execute_result"
    }
   ],
   "source": [
    "#model_panda_check.21.h5\n",
    "iiii = np.argmax(pr, axis=1)\n",
    "accuracy_score(test_labels, iiii)"
   ]
  },
  {
   "cell_type": "code",
   "execution_count": 115,
   "metadata": {},
   "outputs": [
    {
     "data": {
      "text/plain": [
       "array([[133,  11,   0,   0,   0, 183],\n",
       "       [102,   7,   0,   0,   0, 194],\n",
       "       [ 39,   1,   0,   0,   0, 113],\n",
       "       [ 23,   4,   0,   0,   1,  97],\n",
       "       [ 34,   6,   0,   0,   2, 113],\n",
       "       [ 21,   3,   0,   0,   4, 125]])"
      ]
     },
     "execution_count": 115,
     "metadata": {},
     "output_type": "execute_result"
    }
   ],
   "source": [
    "#model_panda_check.21.h5\n",
    "confusion_matrix(test_labels, iiii)"
   ]
  },
  {
   "cell_type": "markdown",
   "metadata": {},
   "source": [
    "#### 1.4. Trained on 256x256 inverted size2 \"kaggle-algo\".PNG samples, tested on 256x256 samples, with weights¶"
   ]
  },
  {
   "cell_type": "code",
   "execution_count": 58,
   "metadata": {},
   "outputs": [],
   "source": [
    "model_fold = 'models/rsnet_256_png_weights'\n",
    "model_name = 'model_panda_check.11.h5'\n",
    "my_model_file = os.path.join(base_path, model_fold, model_name)"
   ]
  },
  {
   "cell_type": "code",
   "execution_count": 59,
   "metadata": {},
   "outputs": [
    {
     "name": "stdout",
     "output_type": "stream",
     "text": [
      "CPU times: user 5.54 s, sys: 75.8 ms, total: 5.62 s\n",
      "Wall time: 5.32 s\n"
     ]
    }
   ],
   "source": [
    "%time my_model = load_model(my_model_file)"
   ]
  },
  {
   "cell_type": "code",
   "execution_count": 60,
   "metadata": {},
   "outputs": [
    {
     "data": {
      "text/plain": [
       "array([[0.17658395, 0.23303097, 0.1775899 , 0.18505485, 0.13264957,\n",
       "        0.0950907 ],\n",
       "       [0.00799004, 0.09159161, 0.22894742, 0.38627416, 0.15868527,\n",
       "        0.12651145],\n",
       "       [0.00460228, 0.00989614, 0.05524722, 0.3048422 , 0.18542358,\n",
       "        0.43998855],\n",
       "       [0.30036488, 0.35732326, 0.13543867, 0.04759913, 0.13140732,\n",
       "        0.02786681],\n",
       "       [0.77109087, 0.15870121, 0.03688655, 0.006814  , 0.01286928,\n",
       "        0.01363816]], dtype=float32)"
      ]
     },
     "execution_count": 60,
     "metadata": {},
     "output_type": "execute_result"
    }
   ],
   "source": [
    "predict = my_model.predict_generator(df_generator,steps = 1216)\n",
    "predict[1000:1005]"
   ]
  },
  {
   "cell_type": "code",
   "execution_count": 65,
   "metadata": {},
   "outputs": [
    {
     "data": {
      "text/plain": [
       "array([0, 0, 3, 0, 3, 4, 1, 5, 2, 3, 5, 0, 0, 0, 5, 0, 1, 0, 5, 3])"
      ]
     },
     "execution_count": 65,
     "metadata": {},
     "output_type": "execute_result"
    }
   ],
   "source": [
    "predIdxs = np.argmax(predict, axis=1)\n",
    "predIdxs [:20]"
   ]
  },
  {
   "cell_type": "code",
   "execution_count": 62,
   "metadata": {},
   "outputs": [
    {
     "data": {
      "text/plain": [
       "0.4761513157894737"
      ]
     },
     "execution_count": 62,
     "metadata": {},
     "output_type": "execute_result"
    }
   ],
   "source": [
    "#model_panda_check.11.h5\n",
    "accuracy_score(test_labels_df, predIdxs)"
   ]
  },
  {
   "cell_type": "code",
   "execution_count": 63,
   "metadata": {},
   "outputs": [
    {
     "data": {
      "text/plain": [
       "array([[254,  23,   4,  10,  10,  26],\n",
       "       [ 75,  89,  67,  31,  20,  21],\n",
       "       [ 11,  20,  48,  45,   7,  22],\n",
       "       [ 10,   2,  10,  38,  12,  53],\n",
       "       [ 16,   7,   1,  17,  28,  86],\n",
       "       [ 13,   1,   3,   7,   7, 122]])"
      ]
     },
     "execution_count": 63,
     "metadata": {},
     "output_type": "execute_result"
    }
   ],
   "source": [
    "#model_panda_check.11.h5\n",
    "confusion_matrix(test_labels_df, predIdxs)\n"
   ]
  },
  {
   "cell_type": "code",
   "execution_count": 50,
   "metadata": {},
   "outputs": [
    {
     "data": {
      "text/plain": [
       "0.4506578947368421"
      ]
     },
     "execution_count": 50,
     "metadata": {},
     "output_type": "execute_result"
    }
   ],
   "source": [
    "#model_panda_check.14.h5\n",
    "accuracy_score(test_labels_df, predIdxs)"
   ]
  },
  {
   "cell_type": "code",
   "execution_count": 51,
   "metadata": {},
   "outputs": [
    {
     "data": {
      "text/plain": [
       "array([[255,  20,   6,  10,  18,  18],\n",
       "       [ 71,  76,  51,  47,  35,  23],\n",
       "       [ 12,  14,  31,  44,  20,  32],\n",
       "       [  8,   3,   7,  17,  25,  65],\n",
       "       [ 16,   4,   0,   6,  48,  81],\n",
       "       [ 14,   1,   2,   5,  10, 121]])"
      ]
     },
     "execution_count": 51,
     "metadata": {},
     "output_type": "execute_result"
    }
   ],
   "source": [
    "#model_panda_check.14.h5\n",
    "confusion_matrix(test_labels_df, predIdxs)\n"
   ]
  },
  {
   "cell_type": "code",
   "execution_count": 56,
   "metadata": {},
   "outputs": [
    {
     "data": {
      "text/plain": [
       "0.46710526315789475"
      ]
     },
     "execution_count": 56,
     "metadata": {},
     "output_type": "execute_result"
    }
   ],
   "source": [
    "#model_panda_check.08.h5\n",
    "accuracy_score(test_labels_df, predIdxs)"
   ]
  },
  {
   "cell_type": "code",
   "execution_count": 57,
   "metadata": {},
   "outputs": [
    {
     "data": {
      "text/plain": [
       "array([[248,  26,   4,  11,  17,  21],\n",
       "       [ 69,  97,  67,  32,  23,  15],\n",
       "       [ 12,  22,  44,  44,  10,  21],\n",
       "       [  8,   5,  13,  30,  15,  54],\n",
       "       [ 16,   8,   2,  12,  31,  86],\n",
       "       [  9,   1,   4,   7,  14, 118]])"
      ]
     },
     "execution_count": 57,
     "metadata": {},
     "output_type": "execute_result"
    }
   ],
   "source": [
    "#model_panda_check.08.h5\n",
    "confusion_matrix(test_labels_df, predIdxs)\n"
   ]
  },
  {
   "cell_type": "markdown",
   "metadata": {},
   "source": [
    "#### 3. New NN ####"
   ]
  },
  {
   "cell_type": "code",
   "execution_count": 85,
   "metadata": {},
   "outputs": [],
   "source": [
    "test_generator = test_datagen.flow(\n",
    "                    x = data, \n",
    "                    y = None, \n",
    "                    batch_size=32),\n"
   ]
  },
  {
   "cell_type": "code",
   "execution_count": 12,
   "metadata": {},
   "outputs": [
    {
     "ename": "ValueError",
     "evalue": "Unknown layer: FixedDropout",
     "output_type": "error",
     "traceback": [
      "\u001b[0;31m---------------------------------------------------------------------------\u001b[0m",
      "\u001b[0;31mValueError\u001b[0m                                Traceback (most recent call last)",
      "\u001b[0;32m<ipython-input-12-41828d790175>\u001b[0m in \u001b[0;36m<module>\u001b[0;34m\u001b[0m\n\u001b[1;32m      1\u001b[0m \u001b[0mmodel_file\u001b[0m \u001b[0;34m=\u001b[0m \u001b[0mos\u001b[0m\u001b[0;34m.\u001b[0m\u001b[0mpath\u001b[0m\u001b[0;34m.\u001b[0m\u001b[0mjoin\u001b[0m\u001b[0;34m(\u001b[0m\u001b[0mbase_path\u001b[0m\u001b[0;34m,\u001b[0m \u001b[0;34m'models/effnn'\u001b[0m\u001b[0;34m,\u001b[0m \u001b[0;34m'model_v0.h5'\u001b[0m\u001b[0;34m)\u001b[0m\u001b[0;34m\u001b[0m\u001b[0;34m\u001b[0m\u001b[0m\n\u001b[0;32m----> 2\u001b[0;31m \u001b[0mmodel\u001b[0m \u001b[0;34m=\u001b[0m \u001b[0mload_model\u001b[0m\u001b[0;34m(\u001b[0m\u001b[0mmodel_file\u001b[0m\u001b[0;34m)\u001b[0m\u001b[0;34m\u001b[0m\u001b[0;34m\u001b[0m\u001b[0m\n\u001b[0m",
      "\u001b[0;32m~/tf2/lib64/python3.6/site-packages/tensorflow/python/keras/saving/save.py\u001b[0m in \u001b[0;36mload_model\u001b[0;34m(filepath, custom_objects, compile)\u001b[0m\n\u001b[1;32m    182\u001b[0m     if (h5py is not None and (\n\u001b[1;32m    183\u001b[0m         isinstance(filepath, h5py.File) or h5py.is_hdf5(filepath))):\n\u001b[0;32m--> 184\u001b[0;31m       \u001b[0;32mreturn\u001b[0m \u001b[0mhdf5_format\u001b[0m\u001b[0;34m.\u001b[0m\u001b[0mload_model_from_hdf5\u001b[0m\u001b[0;34m(\u001b[0m\u001b[0mfilepath\u001b[0m\u001b[0;34m,\u001b[0m \u001b[0mcustom_objects\u001b[0m\u001b[0;34m,\u001b[0m \u001b[0mcompile\u001b[0m\u001b[0;34m)\u001b[0m\u001b[0;34m\u001b[0m\u001b[0;34m\u001b[0m\u001b[0m\n\u001b[0m\u001b[1;32m    185\u001b[0m \u001b[0;34m\u001b[0m\u001b[0m\n\u001b[1;32m    186\u001b[0m     \u001b[0;32mif\u001b[0m \u001b[0msys\u001b[0m\u001b[0;34m.\u001b[0m\u001b[0mversion_info\u001b[0m \u001b[0;34m>=\u001b[0m \u001b[0;34m(\u001b[0m\u001b[0;36m3\u001b[0m\u001b[0;34m,\u001b[0m \u001b[0;36m4\u001b[0m\u001b[0;34m)\u001b[0m \u001b[0;32mand\u001b[0m \u001b[0misinstance\u001b[0m\u001b[0;34m(\u001b[0m\u001b[0mfilepath\u001b[0m\u001b[0;34m,\u001b[0m \u001b[0mpathlib\u001b[0m\u001b[0;34m.\u001b[0m\u001b[0mPath\u001b[0m\u001b[0;34m)\u001b[0m\u001b[0;34m:\u001b[0m\u001b[0;34m\u001b[0m\u001b[0;34m\u001b[0m\u001b[0m\n",
      "\u001b[0;32m~/tf2/lib64/python3.6/site-packages/tensorflow/python/keras/saving/hdf5_format.py\u001b[0m in \u001b[0;36mload_model_from_hdf5\u001b[0;34m(filepath, custom_objects, compile)\u001b[0m\n\u001b[1;32m    176\u001b[0m     \u001b[0mmodel_config\u001b[0m \u001b[0;34m=\u001b[0m \u001b[0mjson\u001b[0m\u001b[0;34m.\u001b[0m\u001b[0mloads\u001b[0m\u001b[0;34m(\u001b[0m\u001b[0mmodel_config\u001b[0m\u001b[0;34m.\u001b[0m\u001b[0mdecode\u001b[0m\u001b[0;34m(\u001b[0m\u001b[0;34m'utf-8'\u001b[0m\u001b[0;34m)\u001b[0m\u001b[0;34m)\u001b[0m\u001b[0;34m\u001b[0m\u001b[0;34m\u001b[0m\u001b[0m\n\u001b[1;32m    177\u001b[0m     model = model_config_lib.model_from_config(model_config,\n\u001b[0;32m--> 178\u001b[0;31m                                                custom_objects=custom_objects)\n\u001b[0m\u001b[1;32m    179\u001b[0m \u001b[0;34m\u001b[0m\u001b[0m\n\u001b[1;32m    180\u001b[0m     \u001b[0;31m# set weights\u001b[0m\u001b[0;34m\u001b[0m\u001b[0;34m\u001b[0m\u001b[0;34m\u001b[0m\u001b[0m\n",
      "\u001b[0;32m~/tf2/lib64/python3.6/site-packages/tensorflow/python/keras/saving/model_config.py\u001b[0m in \u001b[0;36mmodel_from_config\u001b[0;34m(config, custom_objects)\u001b[0m\n\u001b[1;32m     53\u001b[0m                     '`Sequential.from_config(config)`?')\n\u001b[1;32m     54\u001b[0m   \u001b[0;32mfrom\u001b[0m \u001b[0mtensorflow\u001b[0m\u001b[0;34m.\u001b[0m\u001b[0mpython\u001b[0m\u001b[0;34m.\u001b[0m\u001b[0mkeras\u001b[0m\u001b[0;34m.\u001b[0m\u001b[0mlayers\u001b[0m \u001b[0;32mimport\u001b[0m \u001b[0mdeserialize\u001b[0m  \u001b[0;31m# pylint: disable=g-import-not-at-top\u001b[0m\u001b[0;34m\u001b[0m\u001b[0;34m\u001b[0m\u001b[0m\n\u001b[0;32m---> 55\u001b[0;31m   \u001b[0;32mreturn\u001b[0m \u001b[0mdeserialize\u001b[0m\u001b[0;34m(\u001b[0m\u001b[0mconfig\u001b[0m\u001b[0;34m,\u001b[0m \u001b[0mcustom_objects\u001b[0m\u001b[0;34m=\u001b[0m\u001b[0mcustom_objects\u001b[0m\u001b[0;34m)\u001b[0m\u001b[0;34m\u001b[0m\u001b[0;34m\u001b[0m\u001b[0m\n\u001b[0m\u001b[1;32m     56\u001b[0m \u001b[0;34m\u001b[0m\u001b[0m\n\u001b[1;32m     57\u001b[0m \u001b[0;34m\u001b[0m\u001b[0m\n",
      "\u001b[0;32m~/tf2/lib64/python3.6/site-packages/tensorflow/python/keras/layers/serialization.py\u001b[0m in \u001b[0;36mdeserialize\u001b[0;34m(config, custom_objects)\u001b[0m\n\u001b[1;32m    107\u001b[0m       \u001b[0mmodule_objects\u001b[0m\u001b[0;34m=\u001b[0m\u001b[0mglobs\u001b[0m\u001b[0;34m,\u001b[0m\u001b[0;34m\u001b[0m\u001b[0;34m\u001b[0m\u001b[0m\n\u001b[1;32m    108\u001b[0m       \u001b[0mcustom_objects\u001b[0m\u001b[0;34m=\u001b[0m\u001b[0mcustom_objects\u001b[0m\u001b[0;34m,\u001b[0m\u001b[0;34m\u001b[0m\u001b[0;34m\u001b[0m\u001b[0m\n\u001b[0;32m--> 109\u001b[0;31m       printable_module_name='layer')\n\u001b[0m",
      "\u001b[0;32m~/tf2/lib64/python3.6/site-packages/tensorflow/python/keras/utils/generic_utils.py\u001b[0m in \u001b[0;36mdeserialize_keras_object\u001b[0;34m(identifier, module_objects, custom_objects, printable_module_name)\u001b[0m\n\u001b[1;32m    371\u001b[0m             custom_objects=dict(\n\u001b[1;32m    372\u001b[0m                 \u001b[0mlist\u001b[0m\u001b[0;34m(\u001b[0m\u001b[0m_GLOBAL_CUSTOM_OBJECTS\u001b[0m\u001b[0;34m.\u001b[0m\u001b[0mitems\u001b[0m\u001b[0;34m(\u001b[0m\u001b[0;34m)\u001b[0m\u001b[0;34m)\u001b[0m \u001b[0;34m+\u001b[0m\u001b[0;34m\u001b[0m\u001b[0;34m\u001b[0m\u001b[0m\n\u001b[0;32m--> 373\u001b[0;31m                 list(custom_objects.items())))\n\u001b[0m\u001b[1;32m    374\u001b[0m       \u001b[0;32mwith\u001b[0m \u001b[0mCustomObjectScope\u001b[0m\u001b[0;34m(\u001b[0m\u001b[0mcustom_objects\u001b[0m\u001b[0;34m)\u001b[0m\u001b[0;34m:\u001b[0m\u001b[0;34m\u001b[0m\u001b[0;34m\u001b[0m\u001b[0m\n\u001b[1;32m    375\u001b[0m         \u001b[0;32mreturn\u001b[0m \u001b[0mcls\u001b[0m\u001b[0;34m.\u001b[0m\u001b[0mfrom_config\u001b[0m\u001b[0;34m(\u001b[0m\u001b[0mcls_config\u001b[0m\u001b[0;34m)\u001b[0m\u001b[0;34m\u001b[0m\u001b[0;34m\u001b[0m\u001b[0m\n",
      "\u001b[0;32m~/tf2/lib64/python3.6/site-packages/tensorflow/python/keras/engine/sequential.py\u001b[0m in \u001b[0;36mfrom_config\u001b[0;34m(cls, config, custom_objects)\u001b[0m\n\u001b[1;32m    396\u001b[0m     \u001b[0;32mfor\u001b[0m \u001b[0mlayer_config\u001b[0m \u001b[0;32min\u001b[0m \u001b[0mlayer_configs\u001b[0m\u001b[0;34m:\u001b[0m\u001b[0;34m\u001b[0m\u001b[0;34m\u001b[0m\u001b[0m\n\u001b[1;32m    397\u001b[0m       layer = layer_module.deserialize(layer_config,\n\u001b[0;32m--> 398\u001b[0;31m                                        custom_objects=custom_objects)\n\u001b[0m\u001b[1;32m    399\u001b[0m       \u001b[0mmodel\u001b[0m\u001b[0;34m.\u001b[0m\u001b[0madd\u001b[0m\u001b[0;34m(\u001b[0m\u001b[0mlayer\u001b[0m\u001b[0;34m)\u001b[0m\u001b[0;34m\u001b[0m\u001b[0;34m\u001b[0m\u001b[0m\n\u001b[1;32m    400\u001b[0m     if (not model.inputs and build_input_shape and\n",
      "\u001b[0;32m~/tf2/lib64/python3.6/site-packages/tensorflow/python/keras/layers/serialization.py\u001b[0m in \u001b[0;36mdeserialize\u001b[0;34m(config, custom_objects)\u001b[0m\n\u001b[1;32m    107\u001b[0m       \u001b[0mmodule_objects\u001b[0m\u001b[0;34m=\u001b[0m\u001b[0mglobs\u001b[0m\u001b[0;34m,\u001b[0m\u001b[0;34m\u001b[0m\u001b[0;34m\u001b[0m\u001b[0m\n\u001b[1;32m    108\u001b[0m       \u001b[0mcustom_objects\u001b[0m\u001b[0;34m=\u001b[0m\u001b[0mcustom_objects\u001b[0m\u001b[0;34m,\u001b[0m\u001b[0;34m\u001b[0m\u001b[0;34m\u001b[0m\u001b[0m\n\u001b[0;32m--> 109\u001b[0;31m       printable_module_name='layer')\n\u001b[0m",
      "\u001b[0;32m~/tf2/lib64/python3.6/site-packages/tensorflow/python/keras/utils/generic_utils.py\u001b[0m in \u001b[0;36mdeserialize_keras_object\u001b[0;34m(identifier, module_objects, custom_objects, printable_module_name)\u001b[0m\n\u001b[1;32m    371\u001b[0m             custom_objects=dict(\n\u001b[1;32m    372\u001b[0m                 \u001b[0mlist\u001b[0m\u001b[0;34m(\u001b[0m\u001b[0m_GLOBAL_CUSTOM_OBJECTS\u001b[0m\u001b[0;34m.\u001b[0m\u001b[0mitems\u001b[0m\u001b[0;34m(\u001b[0m\u001b[0;34m)\u001b[0m\u001b[0;34m)\u001b[0m \u001b[0;34m+\u001b[0m\u001b[0;34m\u001b[0m\u001b[0;34m\u001b[0m\u001b[0m\n\u001b[0;32m--> 373\u001b[0;31m                 list(custom_objects.items())))\n\u001b[0m\u001b[1;32m    374\u001b[0m       \u001b[0;32mwith\u001b[0m \u001b[0mCustomObjectScope\u001b[0m\u001b[0;34m(\u001b[0m\u001b[0mcustom_objects\u001b[0m\u001b[0;34m)\u001b[0m\u001b[0;34m:\u001b[0m\u001b[0;34m\u001b[0m\u001b[0;34m\u001b[0m\u001b[0m\n\u001b[1;32m    375\u001b[0m         \u001b[0;32mreturn\u001b[0m \u001b[0mcls\u001b[0m\u001b[0;34m.\u001b[0m\u001b[0mfrom_config\u001b[0m\u001b[0;34m(\u001b[0m\u001b[0mcls_config\u001b[0m\u001b[0;34m)\u001b[0m\u001b[0;34m\u001b[0m\u001b[0;34m\u001b[0m\u001b[0m\n",
      "\u001b[0;32m~/tf2/lib64/python3.6/site-packages/tensorflow/python/keras/engine/network.py\u001b[0m in \u001b[0;36mfrom_config\u001b[0;34m(cls, config, custom_objects)\u001b[0m\n\u001b[1;32m    985\u001b[0m     \"\"\"\n\u001b[1;32m    986\u001b[0m     input_tensors, output_tensors, created_layers = reconstruct_from_config(\n\u001b[0;32m--> 987\u001b[0;31m         config, custom_objects)\n\u001b[0m\u001b[1;32m    988\u001b[0m     model = cls(inputs=input_tensors, outputs=output_tensors,\n\u001b[1;32m    989\u001b[0m                 name=config.get('name'))\n",
      "\u001b[0;32m~/tf2/lib64/python3.6/site-packages/tensorflow/python/keras/engine/network.py\u001b[0m in \u001b[0;36mreconstruct_from_config\u001b[0;34m(config, custom_objects, created_layers)\u001b[0m\n\u001b[1;32m   2017\u001b[0m   \u001b[0;31m# First, we create all layers and enqueue nodes to be processed\u001b[0m\u001b[0;34m\u001b[0m\u001b[0;34m\u001b[0m\u001b[0;34m\u001b[0m\u001b[0m\n\u001b[1;32m   2018\u001b[0m   \u001b[0;32mfor\u001b[0m \u001b[0mlayer_data\u001b[0m \u001b[0;32min\u001b[0m \u001b[0mconfig\u001b[0m\u001b[0;34m[\u001b[0m\u001b[0;34m'layers'\u001b[0m\u001b[0;34m]\u001b[0m\u001b[0;34m:\u001b[0m\u001b[0;34m\u001b[0m\u001b[0;34m\u001b[0m\u001b[0m\n\u001b[0;32m-> 2019\u001b[0;31m     \u001b[0mprocess_layer\u001b[0m\u001b[0;34m(\u001b[0m\u001b[0mlayer_data\u001b[0m\u001b[0;34m)\u001b[0m\u001b[0;34m\u001b[0m\u001b[0;34m\u001b[0m\u001b[0m\n\u001b[0m\u001b[1;32m   2020\u001b[0m   \u001b[0;31m# Then we process nodes in order of layer depth.\u001b[0m\u001b[0;34m\u001b[0m\u001b[0;34m\u001b[0m\u001b[0;34m\u001b[0m\u001b[0m\n\u001b[1;32m   2021\u001b[0m   \u001b[0;31m# Nodes that cannot yet be processed (if the inbound node\u001b[0m\u001b[0;34m\u001b[0m\u001b[0;34m\u001b[0m\u001b[0;34m\u001b[0m\u001b[0m\n",
      "\u001b[0;32m~/tf2/lib64/python3.6/site-packages/tensorflow/python/keras/engine/network.py\u001b[0m in \u001b[0;36mprocess_layer\u001b[0;34m(layer_data)\u001b[0m\n\u001b[1;32m   1999\u001b[0m       \u001b[0;32mfrom\u001b[0m \u001b[0mtensorflow\u001b[0m\u001b[0;34m.\u001b[0m\u001b[0mpython\u001b[0m\u001b[0;34m.\u001b[0m\u001b[0mkeras\u001b[0m\u001b[0;34m.\u001b[0m\u001b[0mlayers\u001b[0m \u001b[0;32mimport\u001b[0m \u001b[0mdeserialize\u001b[0m \u001b[0;32mas\u001b[0m \u001b[0mdeserialize_layer\u001b[0m  \u001b[0;31m# pylint: disable=g-import-not-at-top\u001b[0m\u001b[0;34m\u001b[0m\u001b[0;34m\u001b[0m\u001b[0m\n\u001b[1;32m   2000\u001b[0m \u001b[0;34m\u001b[0m\u001b[0m\n\u001b[0;32m-> 2001\u001b[0;31m       \u001b[0mlayer\u001b[0m \u001b[0;34m=\u001b[0m \u001b[0mdeserialize_layer\u001b[0m\u001b[0;34m(\u001b[0m\u001b[0mlayer_data\u001b[0m\u001b[0;34m,\u001b[0m \u001b[0mcustom_objects\u001b[0m\u001b[0;34m=\u001b[0m\u001b[0mcustom_objects\u001b[0m\u001b[0;34m)\u001b[0m\u001b[0;34m\u001b[0m\u001b[0;34m\u001b[0m\u001b[0m\n\u001b[0m\u001b[1;32m   2002\u001b[0m       \u001b[0mcreated_layers\u001b[0m\u001b[0;34m[\u001b[0m\u001b[0mlayer_name\u001b[0m\u001b[0;34m]\u001b[0m \u001b[0;34m=\u001b[0m \u001b[0mlayer\u001b[0m\u001b[0;34m\u001b[0m\u001b[0;34m\u001b[0m\u001b[0m\n\u001b[1;32m   2003\u001b[0m \u001b[0;34m\u001b[0m\u001b[0m\n",
      "\u001b[0;32m~/tf2/lib64/python3.6/site-packages/tensorflow/python/keras/layers/serialization.py\u001b[0m in \u001b[0;36mdeserialize\u001b[0;34m(config, custom_objects)\u001b[0m\n\u001b[1;32m    107\u001b[0m       \u001b[0mmodule_objects\u001b[0m\u001b[0;34m=\u001b[0m\u001b[0mglobs\u001b[0m\u001b[0;34m,\u001b[0m\u001b[0;34m\u001b[0m\u001b[0;34m\u001b[0m\u001b[0m\n\u001b[1;32m    108\u001b[0m       \u001b[0mcustom_objects\u001b[0m\u001b[0;34m=\u001b[0m\u001b[0mcustom_objects\u001b[0m\u001b[0;34m,\u001b[0m\u001b[0;34m\u001b[0m\u001b[0;34m\u001b[0m\u001b[0m\n\u001b[0;32m--> 109\u001b[0;31m       printable_module_name='layer')\n\u001b[0m",
      "\u001b[0;32m~/tf2/lib64/python3.6/site-packages/tensorflow/python/keras/utils/generic_utils.py\u001b[0m in \u001b[0;36mdeserialize_keras_object\u001b[0;34m(identifier, module_objects, custom_objects, printable_module_name)\u001b[0m\n\u001b[1;32m    360\u001b[0m     \u001b[0mconfig\u001b[0m \u001b[0;34m=\u001b[0m \u001b[0midentifier\u001b[0m\u001b[0;34m\u001b[0m\u001b[0;34m\u001b[0m\u001b[0m\n\u001b[1;32m    361\u001b[0m     (cls, cls_config) = class_and_config_for_serialized_keras_object(\n\u001b[0;32m--> 362\u001b[0;31m         config, module_objects, custom_objects, printable_module_name)\n\u001b[0m\u001b[1;32m    363\u001b[0m \u001b[0;34m\u001b[0m\u001b[0m\n\u001b[1;32m    364\u001b[0m     \u001b[0;32mif\u001b[0m \u001b[0mhasattr\u001b[0m\u001b[0;34m(\u001b[0m\u001b[0mcls\u001b[0m\u001b[0;34m,\u001b[0m \u001b[0;34m'from_config'\u001b[0m\u001b[0;34m)\u001b[0m\u001b[0;34m:\u001b[0m\u001b[0;34m\u001b[0m\u001b[0;34m\u001b[0m\u001b[0m\n",
      "\u001b[0;32m~/tf2/lib64/python3.6/site-packages/tensorflow/python/keras/utils/generic_utils.py\u001b[0m in \u001b[0;36mclass_and_config_for_serialized_keras_object\u001b[0;34m(config, module_objects, custom_objects, printable_module_name)\u001b[0m\n\u001b[1;32m    319\u001b[0m   \u001b[0mcls\u001b[0m \u001b[0;34m=\u001b[0m \u001b[0mget_registered_object\u001b[0m\u001b[0;34m(\u001b[0m\u001b[0mclass_name\u001b[0m\u001b[0;34m,\u001b[0m \u001b[0mcustom_objects\u001b[0m\u001b[0;34m,\u001b[0m \u001b[0mmodule_objects\u001b[0m\u001b[0;34m)\u001b[0m\u001b[0;34m\u001b[0m\u001b[0;34m\u001b[0m\u001b[0m\n\u001b[1;32m    320\u001b[0m   \u001b[0;32mif\u001b[0m \u001b[0mcls\u001b[0m \u001b[0;32mis\u001b[0m \u001b[0;32mNone\u001b[0m\u001b[0;34m:\u001b[0m\u001b[0;34m\u001b[0m\u001b[0;34m\u001b[0m\u001b[0m\n\u001b[0;32m--> 321\u001b[0;31m     \u001b[0;32mraise\u001b[0m \u001b[0mValueError\u001b[0m\u001b[0;34m(\u001b[0m\u001b[0;34m'Unknown '\u001b[0m \u001b[0;34m+\u001b[0m \u001b[0mprintable_module_name\u001b[0m \u001b[0;34m+\u001b[0m \u001b[0;34m': '\u001b[0m \u001b[0;34m+\u001b[0m \u001b[0mclass_name\u001b[0m\u001b[0;34m)\u001b[0m\u001b[0;34m\u001b[0m\u001b[0;34m\u001b[0m\u001b[0m\n\u001b[0m\u001b[1;32m    322\u001b[0m \u001b[0;34m\u001b[0m\u001b[0m\n\u001b[1;32m    323\u001b[0m   \u001b[0mcls_config\u001b[0m \u001b[0;34m=\u001b[0m \u001b[0mconfig\u001b[0m\u001b[0;34m[\u001b[0m\u001b[0;34m'config'\u001b[0m\u001b[0;34m]\u001b[0m\u001b[0;34m\u001b[0m\u001b[0;34m\u001b[0m\u001b[0m\n",
      "\u001b[0;31mValueError\u001b[0m: Unknown layer: FixedDropout"
     ]
    }
   ],
   "source": [
    "model_file = os.path.join(base_path, 'models/effnn', 'model_v0.h5')\n",
    "model = load_model(model_file)"
   ]
  },
  {
   "cell_type": "markdown",
   "metadata": {},
   "source": [
    "### Evaluate example ###"
   ]
  },
  {
   "cell_type": "markdown",
   "metadata": {},
   "source": [
    "#### Evaluate data ####"
   ]
  },
  {
   "cell_type": "code",
   "execution_count": 65,
   "metadata": {},
   "outputs": [],
   "source": [
    "nowh_model_file = os.path.join(base_path, 'models/rsnet_last', 'model_panda.h5')\n",
    "nowh_model = load_model(nowh_model_file)"
   ]
  },
  {
   "cell_type": "code",
   "execution_count": 23,
   "metadata": {},
   "outputs": [],
   "source": [
    "val_mse, val_mae = nowh_model.evaluate_generator(test_generator, steps = 10)"
   ]
  },
  {
   "cell_type": "code",
   "execution_count": 25,
   "metadata": {},
   "outputs": [
    {
     "data": {
      "text/plain": [
       "1.6996985793113708"
      ]
     },
     "execution_count": 25,
     "metadata": {},
     "output_type": "execute_result"
    }
   ],
   "source": [
    "val_mse"
   ]
  },
  {
   "cell_type": "code",
   "execution_count": 24,
   "metadata": {},
   "outputs": [
    {
     "data": {
      "text/plain": [
       "0.31"
      ]
     },
     "execution_count": 24,
     "metadata": {},
     "output_type": "execute_result"
    }
   ],
   "source": [
    "val_mae"
   ]
  }
 ],
 "metadata": {
  "kernelspec": {
   "display_name": "tensorflow2",
   "language": "python",
   "name": "tf2"
  },
  "language_info": {
   "codemirror_mode": {
    "name": "ipython",
    "version": 3
   },
   "file_extension": ".py",
   "mimetype": "text/x-python",
   "name": "python",
   "nbconvert_exporter": "python",
   "pygments_lexer": "ipython3",
   "version": "3.6.8"
  }
 },
 "nbformat": 4,
 "nbformat_minor": 4
}
