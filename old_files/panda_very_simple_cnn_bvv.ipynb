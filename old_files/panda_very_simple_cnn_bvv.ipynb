{
 "cells": [
  {
   "cell_type": "code",
   "execution_count": 1,
   "metadata": {},
   "outputs": [],
   "source": [
    "import sys, json, os"
   ]
  },
  {
   "cell_type": "code",
   "execution_count": 2,
   "metadata": {},
   "outputs": [],
   "source": [
    "import pandas as pd\n",
    "import numpy as np"
   ]
  },
  {
   "cell_type": "code",
   "execution_count": 3,
   "metadata": {},
   "outputs": [],
   "source": [
    "import skimage.io"
   ]
  },
  {
   "cell_type": "code",
   "execution_count": 5,
   "metadata": {},
   "outputs": [],
   "source": [
    "from tensorflow.python.keras.models import Sequential\n",
    "from tensorflow.python.keras.layers import Dense, Flatten, GlobalAveragePooling2D\n",
    "from tensorflow.keras.preprocessing import image\n",
    "from tensorflow.keras.applications.resnet50 import preprocess_input\n",
    "from tensorflow.keras.preprocessing.image import ImageDataGenerator\n",
    "\n",
    "from tensorflow.keras.applications.resnet50 import preprocess_input, decode_predictions\n",
    "import numpy as np\n"
   ]
  },
  {
   "cell_type": "code",
   "execution_count": 7,
   "metadata": {},
   "outputs": [
    {
     "ename": "AttributeError",
     "evalue": "module 'tensorflow' has no attribute 'python'",
     "output_type": "error",
     "traceback": [
      "\u001b[0;31m---------------------------------------------------------------------------\u001b[0m",
      "\u001b[0;31mAttributeError\u001b[0m                            Traceback (most recent call last)",
      "\u001b[0;32m<ipython-input-7-fc2e06e2f8f7>\u001b[0m in \u001b[0;36m<module>\u001b[0;34m\u001b[0m\n\u001b[1;32m      1\u001b[0m \u001b[0;31m#from tensorflow.python.keras.applications import ResNet50\u001b[0m\u001b[0;34m\u001b[0m\u001b[0;34m\u001b[0m\u001b[0;34m\u001b[0m\u001b[0m\n\u001b[1;32m      2\u001b[0m \u001b[0;32mimport\u001b[0m \u001b[0mtensorflow\u001b[0m\u001b[0;34m\u001b[0m\u001b[0;34m\u001b[0m\u001b[0m\n\u001b[0;32m----> 3\u001b[0;31m \u001b[0mtensorflow\u001b[0m\u001b[0;34m.\u001b[0m\u001b[0mpython\u001b[0m\u001b[0;34m.\u001b[0m\u001b[0mkeras\u001b[0m\u001b[0;34m.\u001b[0m\u001b[0m__version__\u001b[0m\u001b[0;34m\u001b[0m\u001b[0;34m\u001b[0m\u001b[0m\n\u001b[0m",
      "\u001b[0;31mAttributeError\u001b[0m: module 'tensorflow' has no attribute 'python'"
     ]
    }
   ],
   "source": [
    "#from tensorflow.python.keras.applications import ResNet50\n",
    "import tensorflow\n",
    "tensorflow.python.keras.__version__"
   ]
  },
  {
   "cell_type": "code",
   "execution_count": null,
   "metadata": {},
   "outputs": [],
   "source": [
    "from tensorflow.keras.models import model_from_json, save_model, load_model"
   ]
  },
  {
   "cell_type": "code",
   "execution_count": null,
   "metadata": {},
   "outputs": [],
   "source": [
    "from panda_bvv_config import *\n"
   ]
  },
  {
   "cell_type": "code",
   "execution_count": 8,
   "metadata": {},
   "outputs": [],
   "source": [
    "image_sizey = 2000\n",
    "image_sizex = 1000\n",
    "model_name = 'model_nowh_size1_to_512'"
   ]
  },
  {
   "cell_type": "markdown",
   "metadata": {},
   "source": [
    "#### 1. CNN based on ResNet50 ####"
   ]
  },
  {
   "cell_type": "code",
   "execution_count": 9,
   "metadata": {},
   "outputs": [],
   "source": [
    "resnet_weights_path = 'https://github.com/keras-team/keras-applications/releases/download/resnet/\\\n",
    "resnet50_weights_tf_dim_ordering_tf_kernels_notop.h5'"
   ]
  },
  {
   "cell_type": "code",
   "execution_count": 10,
   "metadata": {},
   "outputs": [
    {
     "name": "stdout",
     "output_type": "stream",
     "text": [
      "WARNING:tensorflow:From /home/ec2-user/anaconda3/envs/tensorflow_p36/lib/python3.6/site-packages/tensorflow_core/python/ops/resource_variable_ops.py:1630: calling BaseResourceVariable.__init__ (from tensorflow.python.ops.resource_variable_ops) with constraint is deprecated and will be removed in a future version.\n",
      "Instructions for updating:\n",
      "If using Keras pass *_constraint arguments to layers.\n"
     ]
    }
   ],
   "source": [
    "my_new_model = Sequential()\n",
    "my_new_model.add(ResNet50(include_top=False, pooling='avg', weights='imagenet'))\n",
    "\n",
    "data_generator = ImageDataGenerator(preprocessing_function=preprocess_input)"
   ]
  },
  {
   "cell_type": "code",
   "execution_count": 11,
   "metadata": {},
   "outputs": [],
   "source": [
    "my_new_model.add(Dense(num_classes, activation='softmax'))\n",
    "\n",
    "# Say not to train first layer (ResNet) model. It is already trained\n",
    "my_new_model.layers[0].trainable = False"
   ]
  },
  {
   "cell_type": "code",
   "execution_count": 12,
   "metadata": {},
   "outputs": [],
   "source": [
    "my_new_model.compile(optimizer='rmsprop', loss='categorical_crossentropy', metrics=['accuracy'])"
   ]
  },
  {
   "cell_type": "code",
   "execution_count": 13,
   "metadata": {},
   "outputs": [
    {
     "name": "stdout",
     "output_type": "stream",
     "text": [
      "Found 7000 images belonging to 6 classes.\n"
     ]
    }
   ],
   "source": [
    "train_generator = data_generator.flow_from_directory(\n",
    "        train_path,\n",
    "        target_size=(image_sizey, image_sizex),\n",
    "        batch_size=20,\n",
    "        class_mode='categorical')\n",
    "\n"
   ]
  },
  {
   "cell_type": "code",
   "execution_count": 14,
   "metadata": {},
   "outputs": [
    {
     "name": "stdout",
     "output_type": "stream",
     "text": [
      "Found 1500 images belonging to 6 classes.\n"
     ]
    }
   ],
   "source": [
    "validation_generator = data_generator.flow_from_directory(\n",
    "        valid_path,\n",
    "        target_size=(image_sizey, image_sizex),\n",
    "        batch_size = 20,\n",
    "        class_mode='categorical')\n"
   ]
  },
  {
   "cell_type": "code",
   "execution_count": 15,
   "metadata": {},
   "outputs": [
    {
     "name": "stdout",
     "output_type": "stream",
     "text": [
      "350/350 [==============================] - 2650s 8s/step - loss: 1.5581 - acc: 0.3793 - val_loss: 2.4658 - val_acc: 0.3100\n"
     ]
    },
    {
     "data": {
      "text/plain": [
       "<tensorflow.python.keras.callbacks.History at 0x7fb5bcabc588>"
      ]
     },
     "execution_count": 15,
     "metadata": {},
     "output_type": "execute_result"
    }
   ],
   "source": [
    "my_new_model.fit_generator(\n",
    "        train_generator,\n",
    "        steps_per_epoch=350,\n",
    "        epochs = 1,    \n",
    "        validation_data=validation_generator,\n",
    "        validation_steps=75)"
   ]
  },
  {
   "cell_type": "code",
   "execution_count": 13,
   "metadata": {},
   "outputs": [
    {
     "data": {
      "text/plain": [
       "'/kagg/ebsvol/mynote/panda_notes'"
      ]
     },
     "execution_count": 13,
     "metadata": {},
     "output_type": "execute_result"
    }
   ],
   "source": [
    "os.getcwd()"
   ]
  },
  {
   "cell_type": "code",
   "execution_count": 17,
   "metadata": {},
   "outputs": [],
   "source": [
    "#my_new_model.save(os.path.join(base_path, model_name + '.h5'))"
   ]
  },
  {
   "cell_type": "code",
   "execution_count": 18,
   "metadata": {},
   "outputs": [
    {
     "data": {
      "text/plain": [
       "'/kagg/ebsvol/contest/panda/model_nowh_size1_to_512.h5'"
      ]
     },
     "execution_count": 18,
     "metadata": {},
     "output_type": "execute_result"
    }
   ],
   "source": [
    "os.path.join(base_path, model_name + '.h5')"
   ]
  },
  {
   "cell_type": "code",
   "execution_count": 18,
   "metadata": {},
   "outputs": [
    {
     "data": {
      "text/plain": [
       "{'validation_data': None,\n",
       " 'model': <tensorflow.python.keras.engine.sequential.Sequential at 0x7f184af40048>,\n",
       " '_chief_worker_only': None,\n",
       " 'params': {'batch_size': None,\n",
       "  'epochs': 10,\n",
       "  'steps': 200,\n",
       "  'samples': 200,\n",
       "  'verbose': 1,\n",
       "  'do_validation': True,\n",
       "  'metrics': ['loss', 'acc', 'val_loss', 'val_acc']},\n",
       " 'epoch': [0, 1, 2, 3, 4, 5, 6, 7, 8, 9],\n",
       " 'history': {'loss': [1.644586735367775,\n",
       "   1.5466400730609893,\n",
       "   1.4979062801599503,\n",
       "   1.4660628581047057,\n",
       "   1.4409797251224519,\n",
       "   1.4357374441623687,\n",
       "   1.4071133053302765,\n",
       "   1.4008751142024993,\n",
       "   1.3870401287078857,\n",
       "   1.3678064388036728],\n",
       "  'acc': [0.33642858,\n",
       "   0.37114286,\n",
       "   0.39714286,\n",
       "   0.41214284,\n",
       "   0.42314285,\n",
       "   0.43014285,\n",
       "   0.444,\n",
       "   0.43885714,\n",
       "   0.441,\n",
       "   0.46],\n",
       "  'val_loss': [1.9313796877861023,\n",
       "   1.671687467098236,\n",
       "   2.031977581977844,\n",
       "   1.769979498386383,\n",
       "   1.7399354887008667,\n",
       "   1.8068025135993957,\n",
       "   1.7813197135925294,\n",
       "   1.8860783219337462,\n",
       "   1.9356785821914673,\n",
       "   1.9956696939468384],\n",
       "  'val_acc': [0.2926065,\n",
       "   0.32957393,\n",
       "   0.28822055,\n",
       "   0.32142857,\n",
       "   0.33709273,\n",
       "   0.3508772,\n",
       "   0.3377193,\n",
       "   0.3640351,\n",
       "   0.3414787,\n",
       "   0.37280703]}}"
      ]
     },
     "execution_count": 18,
     "metadata": {},
     "output_type": "execute_result"
    }
   ],
   "source": [
    "vars(my_new_model.history)"
   ]
  },
  {
   "cell_type": "code",
   "execution_count": 19,
   "metadata": {},
   "outputs": [
    {
     "data": {
      "image/png": "[encoded data removed]",
      "text/plain": [
       "<Figure size 432x288 with 1 Axes>"
      ]
     },
     "metadata": {
      "needs_background": "light"
     },
     "output_type": "display_data"
    },
    {
     "data": {
      "image/png": "[encoded data removed]",
      "text/plain": [
       "<Figure size 432x288 with 1 Axes>"
      ]
     },
     "metadata": {
      "needs_background": "light"
     },
     "output_type": "display_data"
    }
   ],
   "source": [
    "import matplotlib.pyplot as plt\n",
    "acc = my_new_model.history.history['acc']\n",
    "val_acc = my_new_model.history.history['val_acc']\n",
    "loss = my_new_model.history.history['loss']\n",
    "val_loss = my_new_model.history.history['val_loss']\n",
    "epochs = range(1, len(acc) + 1)\n",
    "plt.plot(epochs, acc, 'bo', label='Training acc')\n",
    "plt.plot(epochs, val_acc, 'b', label='Validation acc')\n",
    "plt.title('Training and validation accuracy')\n",
    "plt.legend()\n",
    "plt.figure()\n",
    "\n",
    "plt.plot(epochs, loss, 'bo', label='Training loss')\n",
    "plt.plot(epochs, val_loss, 'b', label='Validation loss')\n",
    "plt.title('Training and validation loss')\n",
    "plt.legend()\n",
    "plt.show()"
   ]
  },
  {
   "cell_type": "markdown",
   "metadata": {},
   "source": [
    "#### 2. ResNet Model load ####"
   ]
  },
  {
   "cell_type": "code",
   "execution_count": 14,
   "metadata": {},
   "outputs": [
    {
     "data": {
      "text/plain": [
       "'/kagg/ebsvol/contest/panda'"
      ]
     },
     "execution_count": 14,
     "metadata": {},
     "output_type": "execute_result"
    }
   ],
   "source": [
    "os.getcwd()"
   ]
  },
  {
   "cell_type": "code",
   "execution_count": 7,
   "metadata": {},
   "outputs": [
    {
     "name": "stdout",
     "output_type": "stream",
     "text": [
      "WARNING:tensorflow:From /home/ec2-user/anaconda3/envs/tensorflow_p36/lib/python3.6/site-packages/tensorflow_core/python/ops/init_ops.py:97: calling GlorotUniform.__init__ (from tensorflow.python.ops.init_ops) with dtype is deprecated and will be removed in a future version.\n",
      "Instructions for updating:\n",
      "Call initializer instance with the dtype argument instead of passing it to the constructor\n",
      "WARNING:tensorflow:From /home/ec2-user/anaconda3/envs/tensorflow_p36/lib/python3.6/site-packages/tensorflow_core/python/ops/init_ops.py:97: calling Zeros.__init__ (from tensorflow.python.ops.init_ops) with dtype is deprecated and will be removed in a future version.\n",
      "Instructions for updating:\n",
      "Call initializer instance with the dtype argument instead of passing it to the constructor\n",
      "WARNING:tensorflow:From /home/ec2-user/anaconda3/envs/tensorflow_p36/lib/python3.6/site-packages/tensorflow_core/python/ops/init_ops.py:97: calling Ones.__init__ (from tensorflow.python.ops.init_ops) with dtype is deprecated and will be removed in a future version.\n",
      "Instructions for updating:\n",
      "Call initializer instance with the dtype argument instead of passing it to the constructor\n",
      "WARNING:tensorflow:From /home/ec2-user/anaconda3/envs/tensorflow_p36/lib/python3.6/site-packages/tensorflow_core/python/ops/resource_variable_ops.py:1630: calling BaseResourceVariable.__init__ (from tensorflow.python.ops.resource_variable_ops) with constraint is deprecated and will be removed in a future version.\n",
      "Instructions for updating:\n",
      "If using Keras pass *_constraint arguments to layers.\n",
      "WARNING:tensorflow:OMP_NUM_THREADS is no longer used by the default Keras config. To configure the number of threads, use tf.config.threading APIs.\n",
      "CPU times: user 10.2 s, sys: 194 ms, total: 10.4 s\n",
      "Wall time: 14.2 s\n"
     ]
    }
   ],
   "source": [
    "%%time\n",
    "rn_model = load_model('/kagg/ebsvol/mynote/panda_notes/panda_very_simple_net_based_on_resnet50.h5')"
   ]
  },
  {
   "cell_type": "code",
   "execution_count": 15,
   "metadata": {},
   "outputs": [
    {
     "data": {
      "text/plain": [
       "{'_self_setattr_tracking': True,\n",
       " '_thread_local': <_thread._local at 0x7f359e068fc0>,\n",
       " '_name': 'sequential',\n",
       " '_activity_regularizer': None,\n",
       " '_trainable': True,\n",
       " '_dynamic': False,\n",
       " '_is_compiled': True,\n",
       " '_layers': [<tensorflow.python.keras.engine.input_layer.InputLayer at 0x7f35d80a6390>,\n",
       "  <tensorflow.python.keras.engine.training.Model at 0x7f359e916080>,\n",
       "  <tensorflow.python.keras.layers.core.Dense at 0x7f35a9195550>],\n",
       " '_compute_output_and_mask_jointly': True,\n",
       " 'supports_masking': False,\n",
       " 'optimizer': <tensorflow.python.keras.optimizer_v2.rmsprop.RMSprop at 0x7f359cc141d0>,\n",
       " '_trainable_weights': [],\n",
       " '_non_trainable_weights': [],\n",
       " '_updates': [],\n",
       " '_losses': [],\n",
       " '_callable_losses': [],\n",
       " '_metrics': [],\n",
       " '_scope': None,\n",
       " '_reuse': None,\n",
       " '_graph': <tensorflow.python.framework.ops.Graph at 0x7f359e905da0>,\n",
       " '_dtype_policy': <Policy \"infer\", loss_scale=None>,\n",
       " '_dtype_defaulted_to_floatx': False,\n",
       " '_outbound_nodes': [],\n",
       " '_inbound_nodes': [<tensorflow.python.keras.engine.node.Node at 0x7f359e905f60>],\n",
       " '_trackable_saver': <tensorflow.python.training.tracking.util.TrackableSaver at 0x7f359cc0ce80>,\n",
       " '_is_graph_network': True,\n",
       " '_expects_training_arg': True,\n",
       " '_expects_mask_arg': True,\n",
       " '_autocast': False,\n",
       " 'outputs': [<tf.Tensor 'dense/Softmax:0' shape=(?, 6) dtype=float32>],\n",
       " 'inputs': [<tf.Tensor 'resnet50_input:0' shape=(?, ?, ?, 3) dtype=float32>],\n",
       " 'built': True,\n",
       " '_distribution_strategy': None,\n",
       " '_compile_time_distribution_strategy': <tensorflow.python.distribute.distribute_lib._DefaultDistributionStrategy at 0x7f359e916160>,\n",
       " '_compile_distribution': False,\n",
       " '_run_eagerly': None,\n",
       " '_experimental_run_tf_function': False,\n",
       " '_build_input_shape': None,\n",
       " '_layer_call_argspecs': {<tensorflow.python.keras.engine.input_layer.InputLayer at 0x7f35d80a6390>: FullArgSpec(args=['self', 'inputs'], varargs=None, varkw='kwargs', defaults=None, kwonlyargs=[], kwonlydefaults=None, annotations={}),\n",
       "  <tensorflow.python.keras.engine.training.Model at 0x7f359e916080>: FullArgSpec(args=['self', 'inputs', 'training', 'mask'], varargs=None, varkw=None, defaults=(None, None), kwonlyargs=[], kwonlydefaults=None, annotations={}),\n",
       "  <tensorflow.python.keras.layers.core.Dense at 0x7f35a9195550>: FullArgSpec(args=['self', 'inputs'], varargs=None, varkw=None, defaults=None, kwonlyargs=[], kwonlydefaults=None, annotations={})},\n",
       " '_nested_outputs': <tf.Tensor 'dense/Softmax:0' shape=(?, 6) dtype=float32>,\n",
       " '_nested_inputs': <tf.Tensor 'resnet50_input:0' shape=(?, ?, ?, 3) dtype=float32>,\n",
       " '_input_layers': [<tensorflow.python.keras.engine.input_layer.InputLayer at 0x7f35d80a6390>],\n",
       " '_output_layers': [<tensorflow.python.keras.layers.core.Dense at 0x7f35a9195550>],\n",
       " '_input_coordinates': [(<tensorflow.python.keras.engine.input_layer.InputLayer at 0x7f35d80a6390>,\n",
       "   0,\n",
       "   0)],\n",
       " '_output_coordinates': [(<tensorflow.python.keras.layers.core.Dense at 0x7f35a9195550>,\n",
       "   0,\n",
       "   0)],\n",
       " '_output_mask_cache': {},\n",
       " '_output_tensor_cache': {},\n",
       " '_output_shape_cache': {},\n",
       " '_network_nodes': {'dense_ib-0', 'resnet50_ib-1', 'resnet50_input_ib-0'},\n",
       " '_nodes_by_depth': defaultdict(list,\n",
       "             {0: [<tensorflow.python.keras.engine.node.Node at 0x7f359cc140b8>],\n",
       "              1: [<tensorflow.python.keras.engine.node.Node at 0x7f359d351eb8>],\n",
       "              2: [<tensorflow.python.keras.engine.node.Node at 0x7f359d387668>]}),\n",
       " '_self_unconditional_checkpoint_dependencies': [TrackableReference(name='layer-0', ref=<tensorflow.python.keras.engine.input_layer.InputLayer object at 0x7f35d80a6390>),\n",
       "  TrackableReference(name='layer_with_weights-0', ref=<tensorflow.python.keras.engine.training.Model object at 0x7f359e916080>),\n",
       "  TrackableReference(name='layer-1', ref=<tensorflow.python.keras.engine.training.Model object at 0x7f359e916080>),\n",
       "  TrackableReference(name='layer_with_weights-1', ref=<tensorflow.python.keras.layers.core.Dense object at 0x7f35a9195550>),\n",
       "  TrackableReference(name='layer-2', ref=<tensorflow.python.keras.layers.core.Dense object at 0x7f35a9195550>),\n",
       "  TrackableReference(name='optimizer', ref=<tensorflow.python.keras.optimizer_v2.rmsprop.RMSprop object at 0x7f359cc141d0>)],\n",
       " '_self_unconditional_dependency_names': {'layer-0': <tensorflow.python.keras.engine.input_layer.InputLayer at 0x7f35d80a6390>,\n",
       "  'layer_with_weights-0': <tensorflow.python.keras.engine.training.Model at 0x7f359e916080>,\n",
       "  'layer-1': <tensorflow.python.keras.engine.training.Model at 0x7f359e916080>,\n",
       "  'layer_with_weights-1': <tensorflow.python.keras.layers.core.Dense at 0x7f35a9195550>,\n",
       "  'layer-2': <tensorflow.python.keras.layers.core.Dense at 0x7f35a9195550>,\n",
       "  'optimizer': <tensorflow.python.keras.optimizer_v2.rmsprop.RMSprop at 0x7f359cc141d0>},\n",
       " '_self_unconditional_deferred_dependencies': {},\n",
       " '_self_update_uid': -1,\n",
       " '_self_name_based_restores': set(),\n",
       " 'output_names': ['dense'],\n",
       " 'input_names': ['resnet50_input'],\n",
       " '_feed_input_names': ['resnet50_input'],\n",
       " '_feed_inputs': [<tf.Tensor 'resnet50_input:0' shape=(?, ?, ?, 3) dtype=float32>],\n",
       " '_feed_input_shapes': [(None, None, None, 3)],\n",
       " 'loss': 'categorical_crossentropy',\n",
       " 'loss_weights': None,\n",
       " 'sample_weight_mode': None,\n",
       " '_compile_metrics': ['accuracy'],\n",
       " '_compile_weighted_metrics': None,\n",
       " '_training_endpoints': [<tensorflow.python.keras.engine.training._TrainingEndpoint at 0x7f359028d518>],\n",
       " '_compiled_trainable_state': {<tensorflow.python.keras.engine.sequential.Sequential at 0x7f359e905d68>: True,\n",
       "  <tensorflow.python.keras.engine.input_layer.InputLayer at 0x7f35d80a6390>: True,\n",
       "  <tensorflow.python.keras.engine.training.Model at 0x7f359e916080>: True,\n",
       "  <tensorflow.python.keras.engine.input_layer.InputLayer at 0x7f359e9160f0>: True,\n",
       "  <tensorflow.python.keras.layers.convolutional.ZeroPadding2D at 0x7f35a9e0c278>: False,\n",
       "  <tensorflow.python.keras.layers.convolutional.Conv2D at 0x7f359e916748>: False,\n",
       "  <tensorflow.python.keras.layers.normalization.BatchNormalization at 0x7f359e916cc0>: False,\n",
       "  <tensorflow.python.keras.layers.core.Activation at 0x7f359e0ca080>: False,\n",
       "  <tensorflow.python.keras.layers.convolutional.ZeroPadding2D at 0x7f359e0ca208>: False,\n",
       "  <tensorflow.python.keras.layers.pooling.MaxPooling2D at 0x7f359e0ca390>: False,\n",
       "  <tensorflow.python.keras.layers.convolutional.Conv2D at 0x7f359e0ca5f8>: False,\n",
       "  <tensorflow.python.keras.layers.normalization.BatchNormalization at 0x7f359e0caa58>: False,\n",
       "  <tensorflow.python.keras.layers.core.Activation at 0x7f359e0cadd8>: False,\n",
       "  <tensorflow.python.keras.layers.convolutional.Conv2D at 0x7f359e0caf60>: False,\n",
       "  <tensorflow.python.keras.layers.normalization.BatchNormalization at 0x7f359e0d0400>: False,\n",
       "  <tensorflow.python.keras.layers.core.Activation at 0x7f359e0d0780>: False,\n",
       "  <tensorflow.python.keras.layers.convolutional.Conv2D at 0x7f359e0d0908>: False,\n",
       "  <tensorflow.python.keras.layers.convolutional.Conv2D at 0x7f359e0d0d68>: False,\n",
       "  <tensorflow.python.keras.layers.normalization.BatchNormalization at 0x7f359e0d4208>: False,\n",
       "  <tensorflow.python.keras.layers.normalization.BatchNormalization at 0x7f359e0d4588>: False,\n",
       "  <tensorflow.python.keras.layers.merge.Add at 0x7f359e0d4940>: False,\n",
       "  <tensorflow.python.keras.layers.core.Activation at 0x7f359e0d4a90>: False,\n",
       "  <tensorflow.python.keras.layers.convolutional.Conv2D at 0x7f35e8642160>: False,\n",
       "  <tensorflow.python.keras.layers.normalization.BatchNormalization at 0x7f359e0da080>: False,\n",
       "  <tensorflow.python.keras.layers.core.Activation at 0x7f359e0da400>: False,\n",
       "  <tensorflow.python.keras.layers.convolutional.Conv2D at 0x7f359e0da588>: False,\n",
       "  <tensorflow.python.keras.layers.normalization.BatchNormalization at 0x7f359e0da9e8>: False,\n",
       "  <tensorflow.python.keras.layers.core.Activation at 0x7f359e0dad68>: False,\n",
       "  <tensorflow.python.keras.layers.convolutional.Conv2D at 0x7f359e0daef0>: False,\n",
       "  <tensorflow.python.keras.layers.normalization.BatchNormalization at 0x7f359e0e1390>: False,\n",
       "  <tensorflow.python.keras.layers.merge.Add at 0x7f359e0e1710>: False,\n",
       "  <tensorflow.python.keras.layers.core.Activation at 0x7f359e0e1860>: False,\n",
       "  <tensorflow.python.keras.layers.convolutional.Conv2D at 0x7f359e0e19e8>: False,\n",
       "  <tensorflow.python.keras.layers.normalization.BatchNormalization at 0x7f359e0e1e48>: False,\n",
       "  <tensorflow.python.keras.layers.core.Activation at 0x7f359e0e7208>: False,\n",
       "  <tensorflow.python.keras.layers.convolutional.Conv2D at 0x7f359e0e7390>: False,\n",
       "  <tensorflow.python.keras.layers.normalization.BatchNormalization at 0x7f359e0e77f0>: False,\n",
       "  <tensorflow.python.keras.layers.core.Activation at 0x7f359e0e7b70>: False,\n",
       "  <tensorflow.python.keras.layers.convolutional.Conv2D at 0x7f359e0e7cf8>: False,\n",
       "  <tensorflow.python.keras.layers.normalization.BatchNormalization at 0x7f359e0ec198>: False,\n",
       "  <tensorflow.python.keras.layers.merge.Add at 0x7f359e0ec518>: False,\n",
       "  <tensorflow.python.keras.layers.core.Activation at 0x7f359e0ec668>: False,\n",
       "  <tensorflow.python.keras.layers.convolutional.Conv2D at 0x7f359e0ec7f0>: False,\n",
       "  <tensorflow.python.keras.layers.normalization.BatchNormalization at 0x7f359e0ecc50>: False,\n",
       "  <tensorflow.python.keras.layers.core.Activation at 0x7f359e0ecfd0>: False,\n",
       "  <tensorflow.python.keras.layers.convolutional.Conv2D at 0x7f359e073198>: False,\n",
       "  <tensorflow.python.keras.layers.normalization.BatchNormalization at 0x7f359e0735f8>: False,\n",
       "  <tensorflow.python.keras.layers.core.Activation at 0x7f359e073978>: False,\n",
       "  <tensorflow.python.keras.layers.convolutional.Conv2D at 0x7f359e073b00>: False,\n",
       "  <tensorflow.python.keras.layers.convolutional.Conv2D at 0x7f359e073f60>: False,\n",
       "  <tensorflow.python.keras.layers.normalization.BatchNormalization at 0x7f359e07b400>: False,\n",
       "  <tensorflow.python.keras.layers.normalization.BatchNormalization at 0x7f359e07b780>: False,\n",
       "  <tensorflow.python.keras.layers.merge.Add at 0x7f359e07bb38>: False,\n",
       "  <tensorflow.python.keras.layers.core.Activation at 0x7f359e07bc88>: False,\n",
       "  <tensorflow.python.keras.layers.convolutional.Conv2D at 0x7f359e07be10>: False,\n",
       "  <tensorflow.python.keras.layers.normalization.BatchNormalization at 0x7f359e0822b0>: False,\n",
       "  <tensorflow.python.keras.layers.core.Activation at 0x7f359e082630>: False,\n",
       "  <tensorflow.python.keras.layers.convolutional.Conv2D at 0x7f359e0827b8>: False,\n",
       "  <tensorflow.python.keras.layers.normalization.BatchNormalization at 0x7f359e082c18>: False,\n",
       "  <tensorflow.python.keras.layers.core.Activation at 0x7f359e082f98>: False,\n",
       "  <tensorflow.python.keras.layers.convolutional.Conv2D at 0x7f359e089160>: False,\n",
       "  <tensorflow.python.keras.layers.normalization.BatchNormalization at 0x7f359e0895c0>: False,\n",
       "  <tensorflow.python.keras.layers.merge.Add at 0x7f359e089940>: False,\n",
       "  <tensorflow.python.keras.layers.core.Activation at 0x7f359e089a90>: False,\n",
       "  <tensorflow.python.keras.layers.convolutional.Conv2D at 0x7f359e089c18>: False,\n",
       "  <tensorflow.python.keras.layers.normalization.BatchNormalization at 0x7f359e08e0b8>: False,\n",
       "  <tensorflow.python.keras.layers.core.Activation at 0x7f359e08e438>: False,\n",
       "  <tensorflow.python.keras.layers.convolutional.Conv2D at 0x7f359e08e5c0>: False,\n",
       "  <tensorflow.python.keras.layers.normalization.BatchNormalization at 0x7f359e08ea20>: False,\n",
       "  <tensorflow.python.keras.layers.core.Activation at 0x7f359e08eda0>: False,\n",
       "  <tensorflow.python.keras.layers.convolutional.Conv2D at 0x7f359e08ef28>: False,\n",
       "  <tensorflow.python.keras.layers.normalization.BatchNormalization at 0x7f359e0933c8>: False,\n",
       "  <tensorflow.python.keras.layers.merge.Add at 0x7f359e093748>: False,\n",
       "  <tensorflow.python.keras.layers.core.Activation at 0x7f359e093898>: False,\n",
       "  <tensorflow.python.keras.layers.convolutional.Conv2D at 0x7f359e093a20>: False,\n",
       "  <tensorflow.python.keras.layers.normalization.BatchNormalization at 0x7f359e093e80>: False,\n",
       "  <tensorflow.python.keras.layers.core.Activation at 0x7f359e09a240>: False,\n",
       "  <tensorflow.python.keras.layers.convolutional.Conv2D at 0x7f359e09a3c8>: False,\n",
       "  <tensorflow.python.keras.layers.normalization.BatchNormalization at 0x7f359e09a828>: False,\n",
       "  <tensorflow.python.keras.layers.core.Activation at 0x7f359e09aba8>: False,\n",
       "  <tensorflow.python.keras.layers.convolutional.Conv2D at 0x7f359e09ad30>: False,\n",
       "  <tensorflow.python.keras.layers.normalization.BatchNormalization at 0x7f359e0a11d0>: False,\n",
       "  <tensorflow.python.keras.layers.merge.Add at 0x7f359e0a1550>: False,\n",
       "  <tensorflow.python.keras.layers.core.Activation at 0x7f359e0a16a0>: False,\n",
       "  <tensorflow.python.keras.layers.convolutional.Conv2D at 0x7f359e0a1828>: False,\n",
       "  <tensorflow.python.keras.layers.normalization.BatchNormalization at 0x7f359e0a1c88>: False,\n",
       "  <tensorflow.python.keras.layers.core.Activation at 0x7f359e0a8048>: False,\n",
       "  <tensorflow.python.keras.layers.convolutional.Conv2D at 0x7f359e0a81d0>: False,\n",
       "  <tensorflow.python.keras.layers.normalization.BatchNormalization at 0x7f359e0a8630>: False,\n",
       "  <tensorflow.python.keras.layers.core.Activation at 0x7f359e0a89b0>: False,\n",
       "  <tensorflow.python.keras.layers.convolutional.Conv2D at 0x7f359e0a8b38>: False,\n",
       "  <tensorflow.python.keras.layers.convolutional.Conv2D at 0x7f359e0a8f98>: False,\n",
       "  <tensorflow.python.keras.layers.normalization.BatchNormalization at 0x7f359e02f438>: False,\n",
       "  <tensorflow.python.keras.layers.normalization.BatchNormalization at 0x7f359e02f7b8>: False,\n",
       "  <tensorflow.python.keras.layers.merge.Add at 0x7f359e02fb70>: False,\n",
       "  <tensorflow.python.keras.layers.core.Activation at 0x7f359e02fcc0>: False,\n",
       "  <tensorflow.python.keras.layers.convolutional.Conv2D at 0x7f359e02fe48>: False,\n",
       "  <tensorflow.python.keras.layers.normalization.BatchNormalization at 0x7f359e0352e8>: False,\n",
       "  <tensorflow.python.keras.layers.core.Activation at 0x7f359e035668>: False,\n",
       "  <tensorflow.python.keras.layers.convolutional.Conv2D at 0x7f359e0357f0>: False,\n",
       "  <tensorflow.python.keras.layers.normalization.BatchNormalization at 0x7f359e035c50>: False,\n",
       "  <tensorflow.python.keras.layers.core.Activation at 0x7f359e035fd0>: False,\n",
       "  <tensorflow.python.keras.layers.convolutional.Conv2D at 0x7f359e03b198>: False,\n",
       "  <tensorflow.python.keras.layers.normalization.BatchNormalization at 0x7f359e03b5f8>: False,\n",
       "  <tensorflow.python.keras.layers.merge.Add at 0x7f359e03b978>: False,\n",
       "  <tensorflow.python.keras.layers.core.Activation at 0x7f359e03bac8>: False,\n",
       "  <tensorflow.python.keras.layers.convolutional.Conv2D at 0x7f359e03bc50>: False,\n",
       "  <tensorflow.python.keras.layers.normalization.BatchNormalization at 0x7f359e0420f0>: False,\n",
       "  <tensorflow.python.keras.layers.core.Activation at 0x7f359e042470>: False,\n",
       "  <tensorflow.python.keras.layers.convolutional.Conv2D at 0x7f359e0425f8>: False,\n",
       "  <tensorflow.python.keras.layers.normalization.BatchNormalization at 0x7f359e042a58>: False,\n",
       "  <tensorflow.python.keras.layers.core.Activation at 0x7f359e042dd8>: False,\n",
       "  <tensorflow.python.keras.layers.convolutional.Conv2D at 0x7f359e042f60>: False,\n",
       "  <tensorflow.python.keras.layers.normalization.BatchNormalization at 0x7f359e04a400>: False,\n",
       "  <tensorflow.python.keras.layers.merge.Add at 0x7f359e04a780>: False,\n",
       "  <tensorflow.python.keras.layers.core.Activation at 0x7f359e04a8d0>: False,\n",
       "  <tensorflow.python.keras.layers.convolutional.Conv2D at 0x7f359e04aa58>: False,\n",
       "  <tensorflow.python.keras.layers.normalization.BatchNormalization at 0x7f359e04aeb8>: False,\n",
       "  <tensorflow.python.keras.layers.core.Activation at 0x7f359e051278>: False,\n",
       "  <tensorflow.python.keras.layers.convolutional.Conv2D at 0x7f359e051400>: False,\n",
       "  <tensorflow.python.keras.layers.normalization.BatchNormalization at 0x7f359e051860>: False,\n",
       "  <tensorflow.python.keras.layers.core.Activation at 0x7f359e051be0>: False,\n",
       "  <tensorflow.python.keras.layers.convolutional.Conv2D at 0x7f359e051d68>: False,\n",
       "  <tensorflow.python.keras.layers.normalization.BatchNormalization at 0x7f359e056208>: False,\n",
       "  <tensorflow.python.keras.layers.merge.Add at 0x7f359e056588>: False,\n",
       "  <tensorflow.python.keras.layers.core.Activation at 0x7f359e0566d8>: False,\n",
       "  <tensorflow.python.keras.layers.convolutional.Conv2D at 0x7f359e056860>: False,\n",
       "  <tensorflow.python.keras.layers.normalization.BatchNormalization at 0x7f359e056cc0>: False,\n",
       "  <tensorflow.python.keras.layers.core.Activation at 0x7f359e05c080>: False,\n",
       "  <tensorflow.python.keras.layers.convolutional.Conv2D at 0x7f359e05c208>: False,\n",
       "  <tensorflow.python.keras.layers.normalization.BatchNormalization at 0x7f359e05c668>: False,\n",
       "  <tensorflow.python.keras.layers.core.Activation at 0x7f359e05c9e8>: False,\n",
       "  <tensorflow.python.keras.layers.convolutional.Conv2D at 0x7f359e05cb70>: False,\n",
       "  <tensorflow.python.keras.layers.normalization.BatchNormalization at 0x7f359e05cfd0>: False,\n",
       "  <tensorflow.python.keras.layers.merge.Add at 0x7f359e064390>: False,\n",
       "  <tensorflow.python.keras.layers.core.Activation at 0x7f359e0644e0>: False,\n",
       "  <tensorflow.python.keras.layers.convolutional.Conv2D at 0x7f359e064668>: False,\n",
       "  <tensorflow.python.keras.layers.normalization.BatchNormalization at 0x7f359e064ac8>: False,\n",
       "  <tensorflow.python.keras.layers.core.Activation at 0x7f359e064e48>: False,\n",
       "  <tensorflow.python.keras.layers.convolutional.Conv2D at 0x7f359e064fd0>: False,\n",
       "  <tensorflow.python.keras.layers.normalization.BatchNormalization at 0x7f359e06a470>: False,\n",
       "  <tensorflow.python.keras.layers.core.Activation at 0x7f359e06a7f0>: False,\n",
       "  <tensorflow.python.keras.layers.convolutional.Conv2D at 0x7f359e06a978>: False,\n",
       "  <tensorflow.python.keras.layers.normalization.BatchNormalization at 0x7f359e06add8>: False,\n",
       "  <tensorflow.python.keras.layers.merge.Add at 0x7f359dff3198>: False,\n",
       "  <tensorflow.python.keras.layers.core.Activation at 0x7f359dff32e8>: False,\n",
       "  <tensorflow.python.keras.layers.convolutional.Conv2D at 0x7f359dff3470>: False,\n",
       "  <tensorflow.python.keras.layers.normalization.BatchNormalization at 0x7f359dff38d0>: False,\n",
       "  <tensorflow.python.keras.layers.core.Activation at 0x7f359dff3c50>: False,\n",
       "  <tensorflow.python.keras.layers.convolutional.Conv2D at 0x7f359dff3dd8>: False,\n",
       "  <tensorflow.python.keras.layers.normalization.BatchNormalization at 0x7f359dff9278>: False,\n",
       "  <tensorflow.python.keras.layers.core.Activation at 0x7f359dff95f8>: False,\n",
       "  <tensorflow.python.keras.layers.convolutional.Conv2D at 0x7f359dff9780>: False,\n",
       "  <tensorflow.python.keras.layers.convolutional.Conv2D at 0x7f359dff9be0>: False,\n",
       "  <tensorflow.python.keras.layers.normalization.BatchNormalization at 0x7f359dffd080>: False,\n",
       "  <tensorflow.python.keras.layers.normalization.BatchNormalization at 0x7f359dffd400>: False,\n",
       "  <tensorflow.python.keras.layers.merge.Add at 0x7f359dffd7b8>: False,\n",
       "  <tensorflow.python.keras.layers.core.Activation at 0x7f359dffd908>: False,\n",
       "  <tensorflow.python.keras.layers.convolutional.Conv2D at 0x7f359dffda90>: False,\n",
       "  <tensorflow.python.keras.layers.normalization.BatchNormalization at 0x7f359dffdef0>: False,\n",
       "  <tensorflow.python.keras.layers.core.Activation at 0x7f359e0042b0>: False,\n",
       "  <tensorflow.python.keras.layers.convolutional.Conv2D at 0x7f359e004438>: False,\n",
       "  <tensorflow.python.keras.layers.normalization.BatchNormalization at 0x7f359e004898>: False,\n",
       "  <tensorflow.python.keras.layers.core.Activation at 0x7f359e004c18>: False,\n",
       "  <tensorflow.python.keras.layers.convolutional.Conv2D at 0x7f359e004da0>: False,\n",
       "  <tensorflow.python.keras.layers.normalization.BatchNormalization at 0x7f359e009240>: False,\n",
       "  <tensorflow.python.keras.layers.merge.Add at 0x7f359e0095c0>: False,\n",
       "  <tensorflow.python.keras.layers.core.Activation at 0x7f359e009710>: False,\n",
       "  <tensorflow.python.keras.layers.convolutional.Conv2D at 0x7f359e009898>: False,\n",
       "  <tensorflow.python.keras.layers.normalization.BatchNormalization at 0x7f359e009cf8>: False,\n",
       "  <tensorflow.python.keras.layers.core.Activation at 0x7f359e0110b8>: False,\n",
       "  <tensorflow.python.keras.layers.convolutional.Conv2D at 0x7f359e011240>: False,\n",
       "  <tensorflow.python.keras.layers.normalization.BatchNormalization at 0x7f359e0116a0>: False,\n",
       "  <tensorflow.python.keras.layers.core.Activation at 0x7f359e011a20>: False,\n",
       "  <tensorflow.python.keras.layers.convolutional.Conv2D at 0x7f359e011ba8>: False,\n",
       "  <tensorflow.python.keras.layers.normalization.BatchNormalization at 0x7f359e017048>: False,\n",
       "  <tensorflow.python.keras.layers.merge.Add at 0x7f359e0173c8>: False,\n",
       "  <tensorflow.python.keras.layers.core.Activation at 0x7f359e017518>: False,\n",
       "  <tensorflow.python.keras.layers.pooling.GlobalAveragePooling2D at 0x7f359e0176a0>: False,\n",
       "  <tensorflow.python.keras.layers.core.Dense at 0x7f35a9195550>: True},\n",
       " '_distributed_model_cache': {},\n",
       " '_distributed_function_cache': {},\n",
       " '_compile_metric_functions': [<tensorflow.python.keras.metrics.MeanMetricWrapper at 0x7f35902a02b0>],\n",
       " 'loss_functions': [<tensorflow.python.keras.losses.LossFunctionWrapper at 0x7f35902650f0>],\n",
       " '_per_output_metrics': [OrderedDict([('acc',\n",
       "                <tensorflow.python.keras.metrics.MeanMetricWrapper at 0x7f35902a02b0>)])],\n",
       " '_per_output_weighted_metrics': [OrderedDict()],\n",
       " 'total_loss': <tf.Tensor 'loss/mul:0' shape=() dtype=float32>,\n",
       " '_function_kwargs': {},\n",
       " 'train_function': <tensorflow.python.keras.backend.GraphExecutionFunction at 0x7f359027f048>,\n",
       " 'test_function': None,\n",
       " 'predict_function': None,\n",
       " '_collected_trainable_weights': [<tf.Variable 'dense/kernel:0' shape=(2048, 6) dtype=float32>,\n",
       "  <tf.Variable 'dense/bias:0' shape=(6,) dtype=float32>]}"
      ]
     },
     "execution_count": 15,
     "metadata": {},
     "output_type": "execute_result"
    }
   ],
   "source": [
    "vars(rn_model)"
   ]
  },
  {
   "cell_type": "code",
   "execution_count": 205,
   "metadata": {},
   "outputs": [],
   "source": [
    "#this function is for one image\n",
    "def ground_truth_isup_grade_image(inp_image, df):\n",
    "    inp = inp_image.split('.')[0]\n",
    "    isupg = np.array(df.isup_grade[df.image_id == inp.split('.')[0]])[0]\n",
    "    return isupg"
   ]
  },
  {
   "cell_type": "code",
   "execution_count": 6,
   "metadata": {},
   "outputs": [],
   "source": [
    "#this function is for all images\n",
    "def ground_truth_all_test(test_arr, df):\n",
    "    labels = []\n",
    "    for test_name in test_arr:\n",
    "        inp = test_name.split('.')[0]\n",
    "        isupg = np.array(df.isup_grade[df.image_id == inp.split('.')[0]])[0]\n",
    "        labels.append(isupg)\n",
    "    return labels"
   ]
  },
  {
   "cell_type": "code",
   "execution_count": 7,
   "metadata": {},
   "outputs": [],
   "source": [
    "#append all test data to one array for .predict\n",
    "def prepare_test_data(test_arr):\n",
    "    test_data = []\n",
    "    for i, test_name in enumerate(test_arr):        \n",
    "        test_name = test_arr[i]\n",
    "        test_file = os.path.join('/kagg/ebsvol/contest/panda/test001', test_arr[i])\n",
    "        biopsy = skimage.io.imread(test_file)\n",
    "        test_data.append(biopsy)\n",
    "    return np.array(test_data)"
   ]
  },
  {
   "cell_type": "code",
   "execution_count": 8,
   "metadata": {},
   "outputs": [],
   "source": [
    "# get overall %% of coincedence\n",
    "def final_model_review(ground_truth_labels, model_labels):   \n",
    "    assert len(ground_truth_labels) == len(model_labels),\\\n",
    "                                        \"different length for label arrays\"    \n",
    "    return sum(100*np.array(model_labels == ground_truth_labels))//len(ground_truth_labels)/100\n"
   ]
  },
  {
   "cell_type": "code",
   "execution_count": 9,
   "metadata": {},
   "outputs": [
    {
     "data": {
      "text/html": [
       "<div>\n",
       "<style scoped>\n",
       "    .dataframe tbody tr th:only-of-type {\n",
       "        vertical-align: middle;\n",
       "    }\n",
       "\n",
       "    .dataframe tbody tr th {\n",
       "        vertical-align: top;\n",
       "    }\n",
       "\n",
       "    .dataframe thead th {\n",
       "        text-align: right;\n",
       "    }\n",
       "</style>\n",
       "<table border=\"1\" class=\"dataframe\">\n",
       "  <thead>\n",
       "    <tr style=\"text-align: right;\">\n",
       "      <th></th>\n",
       "      <th>image_id</th>\n",
       "      <th>data_provider</th>\n",
       "      <th>isup_grade</th>\n",
       "      <th>gleason_score</th>\n",
       "    </tr>\n",
       "  </thead>\n",
       "  <tbody>\n",
       "    <tr>\n",
       "      <th>0</th>\n",
       "      <td>0005f7aaab2800f6170c399693a96917</td>\n",
       "      <td>karolinska</td>\n",
       "      <td>0</td>\n",
       "      <td>0+0</td>\n",
       "    </tr>\n",
       "    <tr>\n",
       "      <th>1</th>\n",
       "      <td>000920ad0b612851f8e01bcc880d9b3d</td>\n",
       "      <td>karolinska</td>\n",
       "      <td>0</td>\n",
       "      <td>0+0</td>\n",
       "    </tr>\n",
       "    <tr>\n",
       "      <th>2</th>\n",
       "      <td>0018ae58b01bdadc8e347995b69f99aa</td>\n",
       "      <td>radboud</td>\n",
       "      <td>4</td>\n",
       "      <td>4+4</td>\n",
       "    </tr>\n",
       "  </tbody>\n",
       "</table>\n",
       "</div>"
      ],
      "text/plain": [
       "                           image_id data_provider  isup_grade gleason_score\n",
       "0  0005f7aaab2800f6170c399693a96917    karolinska           0           0+0\n",
       "1  000920ad0b612851f8e01bcc880d9b3d    karolinska           0           0+0\n",
       "2  0018ae58b01bdadc8e347995b69f99aa       radboud           4           4+4"
      ]
     },
     "execution_count": 9,
     "metadata": {},
     "output_type": "execute_result"
    }
   ],
   "source": [
    "os.chdir('/kagg/ebsvol/contest/panda')\n",
    "df = pd.read_csv('/kagg/ebsvol/contest/panda/train.csv')\n",
    "df.head(3)"
   ]
  },
  {
   "cell_type": "code",
   "execution_count": 170,
   "metadata": {},
   "outputs": [
    {
     "data": {
      "text/plain": [
       "array([0, 4, 1, 3, 5, 2])"
      ]
     },
     "execution_count": 170,
     "metadata": {},
     "output_type": "execute_result"
    }
   ],
   "source": [
    "df.isup_grade.unique()"
   ]
  },
  {
   "cell_type": "code",
   "execution_count": 10,
   "metadata": {},
   "outputs": [],
   "source": [
    "test_files = os.listdir('/kagg/ebsvol/contest/panda/test001')"
   ]
  },
  {
   "cell_type": "code",
   "execution_count": 11,
   "metadata": {},
   "outputs": [
    {
     "name": "stdout",
     "output_type": "stream",
     "text": [
      "CPU times: user 8.91 s, sys: 1.03 s, total: 9.93 s\n",
      "Wall time: 14.7 s\n"
     ]
    }
   ],
   "source": [
    "%time test_data = prepare_test_data(test_files)"
   ]
  },
  {
   "cell_type": "code",
   "execution_count": 242,
   "metadata": {},
   "outputs": [
    {
     "data": {
      "text/plain": [
       "2115"
      ]
     },
     "execution_count": 242,
     "metadata": {},
     "output_type": "execute_result"
    }
   ],
   "source": [
    "len(test_data)"
   ]
  },
  {
   "cell_type": "code",
   "execution_count": 250,
   "metadata": {},
   "outputs": [],
   "source": [
    "test_data1 = np.array(test_data[:100])"
   ]
  },
  {
   "cell_type": "code",
   "execution_count": 251,
   "metadata": {},
   "outputs": [
    {
     "data": {
      "text/plain": [
       "(100, 512, 512, 3)"
      ]
     },
     "execution_count": 251,
     "metadata": {},
     "output_type": "execute_result"
    }
   ],
   "source": [
    "test_data1.shape"
   ]
  },
  {
   "cell_type": "code",
   "execution_count": 249,
   "metadata": {},
   "outputs": [
    {
     "name": "stdout",
     "output_type": "stream",
     "text": [
      "CPU times: user 18.2 s, sys: 2.54 s, total: 20.7 s\n",
      "Wall time: 5.42 s\n"
     ]
    }
   ],
   "source": [
    "#10 samples\n",
    "%time ttt_verysmall = rn_model.predict(test_data1)"
   ]
  },
  {
   "cell_type": "code",
   "execution_count": 252,
   "metadata": {},
   "outputs": [
    {
     "name": "stdout",
     "output_type": "stream",
     "text": [
      "CPU times: user 3min 1s, sys: 24.5 s, total: 3min 26s\n",
      "Wall time: 53.9 s\n"
     ]
    }
   ],
   "source": [
    "#100 samples\n",
    "%time ttt_small = rn_model.predict(test_data1)"
   ]
  },
  {
   "cell_type": "code",
   "execution_count": 17,
   "metadata": {},
   "outputs": [
    {
     "name": "stdout",
     "output_type": "stream",
     "text": [
      "CPU times: user 1h 3min 6s, sys: 8min 54s, total: 1h 12min\n",
      "Wall time: 19min 59s\n"
     ]
    }
   ],
   "source": [
    "#all samples\n",
    "%time ttt_all = rn_model.predict(test_data)"
   ]
  },
  {
   "cell_type": "code",
   "execution_count": 18,
   "metadata": {},
   "outputs": [],
   "source": [
    "np.save('first_predict', ttt_all)"
   ]
  },
  {
   "cell_type": "code",
   "execution_count": 19,
   "metadata": {},
   "outputs": [],
   "source": [
    "final_test_labels = ttt_all.argmax(axis=-1)"
   ]
  },
  {
   "cell_type": "code",
   "execution_count": 21,
   "metadata": {},
   "outputs": [
    {
     "data": {
      "text/plain": [
       "(2115,)"
      ]
     },
     "execution_count": 21,
     "metadata": {},
     "output_type": "execute_result"
    }
   ],
   "source": [
    "final_test_labels.shape"
   ]
  },
  {
   "cell_type": "code",
   "execution_count": 24,
   "metadata": {},
   "outputs": [],
   "source": [
    "ground_truth_test_labels = ground_truth_all_test(test_files, df)"
   ]
  },
  {
   "cell_type": "code",
   "execution_count": 25,
   "metadata": {},
   "outputs": [
    {
     "data": {
      "text/plain": [
       "0.28"
      ]
     },
     "execution_count": 25,
     "metadata": {},
     "output_type": "execute_result"
    }
   ],
   "source": [
    "final_model_review(ground_truth_test_labels, final_test_labels)"
   ]
  },
  {
   "cell_type": "code",
   "execution_count": 29,
   "metadata": {},
   "outputs": [
    {
     "data": {
      "text/plain": [
       "(2115,)"
      ]
     },
     "execution_count": 29,
     "metadata": {},
     "output_type": "execute_result"
    }
   ],
   "source": [
    "np.array(ground_truth_test_labels).shape"
   ]
  },
  {
   "cell_type": "markdown",
   "metadata": {},
   "source": [
    "#### 4. Model evaluate ####"
   ]
  },
  {
   "cell_type": "code",
   "execution_count": 8,
   "metadata": {},
   "outputs": [],
   "source": [
    "data_generator = ImageDataGenerator(preprocessing_function=preprocess_input)"
   ]
  },
  {
   "cell_type": "code",
   "execution_count": 13,
   "metadata": {},
   "outputs": [
    {
     "name": "stdout",
     "output_type": "stream",
     "text": [
      "Found 2115 images belonging to 6 classes.\n"
     ]
    }
   ],
   "source": [
    "test_generator = data_generator.flow_from_directory(\n",
    "test_path,\n",
    "target_size=(512, 512),\n",
    "batch_size=10,\n",
    "class_mode='categorical')"
   ]
  },
  {
   "cell_type": "code",
   "execution_count": 10,
   "metadata": {},
   "outputs": [],
   "source": [
    "val_mse, val_mae = rn_model.evaluate_generator(test_generator, steps = 10)"
   ]
  },
  {
   "cell_type": "code",
   "execution_count": 11,
   "metadata": {},
   "outputs": [
    {
     "data": {
      "text/plain": [
       "(2.1671913266181946,)"
      ]
     },
     "execution_count": 11,
     "metadata": {},
     "output_type": "execute_result"
    }
   ],
   "source": [
    "val_mse,"
   ]
  },
  {
   "cell_type": "code",
   "execution_count": 12,
   "metadata": {},
   "outputs": [
    {
     "data": {
      "text/plain": [
       "0.38"
      ]
     },
     "execution_count": 12,
     "metadata": {},
     "output_type": "execute_result"
    }
   ],
   "source": [
    "val_mae"
   ]
  },
  {
   "cell_type": "code",
   "execution_count": 14,
   "metadata": {},
   "outputs": [
    {
     "data": {
      "text/plain": [
       "0.4"
      ]
     },
     "execution_count": 14,
     "metadata": {},
     "output_type": "execute_result"
    }
   ],
   "source": [
    "val_mse, val_mae = rn_model.evaluate_generator(test_generator, steps = 10)\n",
    "val_mae"
   ]
  },
  {
   "cell_type": "code",
   "execution_count": 15,
   "metadata": {},
   "outputs": [],
   "source": [
    "label_map = (test_generator.class_indices)"
   ]
  },
  {
   "cell_type": "code",
   "execution_count": 16,
   "metadata": {},
   "outputs": [
    {
     "data": {
      "text/plain": [
       "{'isup0': 0, 'isup1': 1, 'isup2': 2, 'isup3': 3, 'isup4': 4, 'isup5': 5}"
      ]
     },
     "execution_count": 16,
     "metadata": {},
     "output_type": "execute_result"
    }
   ],
   "source": [
    "label_map"
   ]
  },
  {
   "cell_type": "code",
   "execution_count": null,
   "metadata": {},
   "outputs": [],
   "source": []
  },
  {
   "cell_type": "code",
   "execution_count": null,
   "metadata": {},
   "outputs": [],
   "source": []
  },
  {
   "cell_type": "code",
   "execution_count": null,
   "metadata": {},
   "outputs": [],
   "source": []
  },
  {
   "cell_type": "code",
   "execution_count": 263,
   "metadata": {},
   "outputs": [],
   "source": [
    "#for num_slide in range(10):\n",
    "#    test_file = os.path.join('/kagg/ebsvol/contest/panda/test001', test_files[num_slide])\n",
    "#    test_name = test_files[num_slide]\n",
    "#    biopsy = np.expand_dims(skimage.io.imread(test_file), axis=0)\n",
    "#    print(num_slide, '-', rn_model.predict(biopsy).argmax(axis=-1)[0])"
   ]
  },
  {
   "cell_type": "code",
   "execution_count": 238,
   "metadata": {},
   "outputs": [],
   "source": [
    "#np.array(df.isup_grade[df.image_id == test_name.split('.')[0]])[0]\n",
    "#ground_truth_isup_grade_image(test_name, df)\n",
    "#biopsy = np.expand_dims(skimage.io.imread(test_file), axis=0)"
   ]
  },
  {
   "cell_type": "code",
   "execution_count": 230,
   "metadata": {},
   "outputs": [
    {
     "data": {
      "text/plain": [
       "array([[0.47939873, 0.31160694, 0.14655922, 0.01992637, 0.0167786 ,\n",
       "        0.02573016]], dtype=float32)"
      ]
     },
     "execution_count": 230,
     "metadata": {},
     "output_type": "execute_result"
    }
   ],
   "source": [
    "tt"
   ]
  },
  {
   "cell_type": "code",
   "execution_count": 231,
   "metadata": {},
   "outputs": [
    {
     "data": {
      "text/plain": [
       "0"
      ]
     },
     "execution_count": 231,
     "metadata": {},
     "output_type": "execute_result"
    }
   ],
   "source": [
    "tt.argmax(axis=-1)[0]\n"
   ]
  }
 ],
 "metadata": {
  "kernelspec": {
   "display_name": "Python 3",
   "language": "python",
   "name": "python3"
  },
  "language_info": {
   "codemirror_mode": {
    "name": "ipython",
    "version": 3
   },
   "file_extension": ".py",
   "mimetype": "text/x-python",
   "name": "python",
   "nbconvert_exporter": "python",
   "pygments_lexer": "ipython3",
   "version": "3.6.8"
  }
 },
 "nbformat": 4,
 "nbformat_minor": 4
}
