{
 "cells": [
  {
   "cell_type": "markdown",
   "metadata": {},
   "source": [
    "##### This notebook splits PANDA data among train, validation and test folds #####"
   ]
  },
  {
   "cell_type": "code",
   "execution_count": 1,
   "metadata": {
    "_cell_guid": "b1076dfc-b9ad-4769-8c92-a6c4dae69d19",
    "_uuid": "8f2839f25d086af736a60e9eeb907d3b93b6e0e5"
   },
   "outputs": [],
   "source": [
    "import os, subprocess, sys\n",
    "\n",
    "import numpy as np # linear algebra\n",
    "import pandas as pd # data processing, CSV file I/O (e.g. pd.read_csv)\n",
    "#import openslide\n",
    "import matplotlib.pyplot as plt\n",
    "from PIL import Image\n",
    "import cv2\n",
    "from tqdm.notebook import tqdm\n",
    "import skimage.io\n",
    "from skimage.transform import resize, rescale\n",
    "\n",
    "sys.path.append(\"..\")"
   ]
  },
  {
   "cell_type": "code",
   "execution_count": 2,
   "metadata": {},
   "outputs": [],
   "source": [
    "# usual logger:\n",
    "# import dataset_transfer_logger\n",
    "# import logging, logging.config\n",
    "# from dataset_transfer_logger import CFG\n",
    "# CFG['handlers']['fileHandler']['filename'] = \"panda_bvv_preparation.log\"\n",
    "# logging.config.dictConfig(CFG) \n",
    "# logger = logging.getLogger('transfer_logger')"
   ]
  },
  {
   "cell_type": "code",
   "execution_count": 3,
   "metadata": {},
   "outputs": [],
   "source": [
    "from panda_bvv_config import *"
   ]
  },
  {
   "cell_type": "code",
   "execution_count": 4,
   "metadata": {},
   "outputs": [],
   "source": [
    "npseed = 137"
   ]
  },
  {
   "cell_type": "code",
   "execution_count": 5,
   "metadata": {},
   "outputs": [],
   "source": [
    "input_data_dir = train_size2_16x256_inv\n",
    "input_file_type = '.jpg' #'png'"
   ]
  },
  {
   "cell_type": "code",
   "execution_count": 6,
   "metadata": {},
   "outputs": [],
   "source": [
    "#this is an example of subprocess:\n",
    "#\n",
    "#bashCommand = \"ls -l\"\n",
    "#process = subprocess.Popen(bashCommand.split(), stdout=subprocess.PIPE)\n",
    "#output, error = process.communicate()\n"
   ]
  },
  {
   "cell_type": "code",
   "execution_count": 7,
   "metadata": {},
   "outputs": [],
   "source": [
    "#os.mkdir(os.path.join(base_path, source_path_to_size2))"
   ]
  },
  {
   "cell_type": "markdown",
   "metadata": {},
   "source": [
    "### 1. Prepare fold structure for simple multi-label classification - version 001###"
   ]
  },
  {
   "cell_type": "code",
   "execution_count": 8,
   "metadata": {},
   "outputs": [],
   "source": [
    "#{! rm -rf train_cnn}\n",
    "#{! rm -rf valid_cnn}\n",
    "#{! rm -rf test_cnn}\n",
    "#{! rm -rf test_no_classes_cnn}\n",
    "\n",
    "#os.mkdir(train_cnn)\n",
    "#os.mkdir(valid_cnn)\n",
    "#os.mkdir(test_cnn)\n",
    "os.mkdir(test_no_classes_cnn)"
   ]
  },
  {
   "cell_type": "code",
   "execution_count": 9,
   "metadata": {},
   "outputs": [],
   "source": [
    "#for grade in isup_classes:\n",
    "    #os.mkdir(os.path.join(train_cnn, f'isup{grade}'))\n",
    "    #os.mkdir(os.path.join(valid_cnn, f'isup{grade}'))\n",
    "    #os.mkdir(os.path.join(test_cnn, f'isup{grade}'))"
   ]
  },
  {
   "cell_type": "code",
   "execution_count": 10,
   "metadata": {},
   "outputs": [
    {
     "data": {
      "text/plain": [
       "(10616, 12)"
      ]
     },
     "execution_count": 10,
     "metadata": {},
     "output_type": "execute_result"
    }
   ],
   "source": [
    "#first, we split among train(65%)/validation(15%)/test(20%/\n",
    "labels_perm = train_labels.sample(frac = 1, random_state=npseed)\n",
    "#train_cnn_labels = labels_perm[:7500]\n",
    "#valid_cnn_labels = labels_perm[7500:9400]\n",
    "test_cnn_labels = labels_perm[9400:]\n",
    "labels_perm.shape"
   ]
  },
  {
   "cell_type": "code",
   "execution_count": 11,
   "metadata": {},
   "outputs": [],
   "source": [
    "#train_labels.isup_grade.value_counts()"
   ]
  },
  {
   "cell_type": "code",
   "execution_count": 12,
   "metadata": {},
   "outputs": [],
   "source": [
    "#valid_labels.isup_grade.value_counts()"
   ]
  },
  {
   "cell_type": "code",
   "execution_count": 13,
   "metadata": {},
   "outputs": [],
   "source": [
    "#test_labels.isup_grade.value_counts()"
   ]
  },
  {
   "cell_type": "code",
   "execution_count": 14,
   "metadata": {},
   "outputs": [],
   "source": [
    "#%time\n",
    "#split train files among ISUP categories\n",
    "#for j, row in tqdm(train_cnn_labels.iterrows()):\n",
    "#    filename = row['image_id'] + input_file_type       \n",
    "#    path_to_train_class = os.path.join(train_cnn, 'isup' + str(row['isup_grade']), filename)\n",
    "#    path_to_copy_from = os.path.join(input_data_dir, filename)\n",
    "#    bashCommand = \"cp \" + path_to_copy_from + ' ' + path_to_train_class\n",
    "#    process = subprocess.Popen(bashCommand.split(), stdout=subprocess.PIPE)\n",
    "#    output, error = process.communicate()\n",
    "#    if error: \n",
    "#        logger.error(str(error) + str(output))\n",
    "#        print(str(error))\n"
   ]
  },
  {
   "cell_type": "code",
   "execution_count": 15,
   "metadata": {},
   "outputs": [],
   "source": [
    "#%%time\n",
    "#split validation files among ISUP categories\n",
    "#for j, row in tqdm(valid_cnn_labels.iterrows()):\n",
    "#    filename = row['image_id'] + input_file_type\n",
    "#    path_to_copy_from = os.path.join(input_data_dir, filename)\n",
    "#    \n",
    "#    path_to_valid_class = os.path.join(valid_cnn, 'isup' + str(row['isup_grade']), filename)    \n",
    "#    bashCommand = \"cp \" + path_to_copy_from + ' ' + path_to_valid_class\n",
    "#    \n",
    "#    process = subprocess.Popen(bashCommand.split(), stdout=subprocess.PIPE)\n",
    "#    output, error = process.communicate()\n",
    "#    if error: logger.error(str(error) + str(output))        "
   ]
  },
  {
   "cell_type": "code",
   "execution_count": 16,
   "metadata": {},
   "outputs": [],
   "source": [
    "#%%time\n",
    "##split test files among ISUP categories\n",
    "#for j, row in tqdm(test_cnn_labels.iterrows()):\n",
    "#    filename = row['image_id'] + input_file_type  \n",
    "#    path_to_copy_from = os.path.join(input_data_dir, filename)\n",
    "    \n",
    "#    path_to_test_class = os.path.join(test_cnn, 'isup' + str(row['isup_grade']), filename)    \n",
    "#    bashCommand = \"cp \" + path_to_copy_from + ' ' + path_to_test_class\n",
    "    \n",
    "#    process = subprocess.Popen(bashCommand.split(), stdout=subprocess.PIPE)\n",
    "#    output, error = process.communicate()\n",
    "#    if error: logger.error(str(error) + str(output))"
   ]
  },
  {
   "cell_type": "code",
   "execution_count": 17,
   "metadata": {},
   "outputs": [
    {
     "data": {
      "application/vnd.jupyter.widget-view+json": {
       "model_id": "0146dae1ab6c45538514a994bd9bae21",
       "version_major": 2,
       "version_minor": 0
      },
      "text/plain": [
       "HBox(children=(FloatProgress(value=1.0, bar_style='info', max=1.0), HTML(value='')))"
      ]
     },
     "metadata": {},
     "output_type": "display_data"
    },
    {
     "name": "stdout",
     "output_type": "stream",
     "text": [
      "\n",
      "CPU times: user 9.1 s, sys: 14.8 s, total: 23.9 s\n",
      "Wall time: 2min 46s\n"
     ]
    }
   ],
   "source": [
    "%%time\n",
    "#heap copy to test_no_classes_path\n",
    "for j, row in tqdm(test_cnn_labels.iterrows()):\n",
    "    filename = row['image_id'] + input_file_type  \n",
    "    path_to_copy_from = os.path.join(input_data_dir, filename)\n",
    "    \n",
    "    path_to_test_class = os.path.join(test_no_classes_cnn, filename)    \n",
    "    bashCommand = \"cp \" + path_to_copy_from + ' ' + path_to_test_class\n",
    "    \n",
    "    process = subprocess.Popen(bashCommand.split(), stdout=subprocess.PIPE)\n",
    "    output, error = process.communicate()\n",
    "    if error: logger.error(str(error) + str(output))"
   ]
  },
  {
   "cell_type": "code",
   "execution_count": null,
   "metadata": {},
   "outputs": [],
   "source": []
  }
 ],
 "metadata": {
  "kernelspec": {
   "display_name": "Python 3",
   "language": "python",
   "name": "python3"
  },
  "language_info": {
   "codemirror_mode": {
    "name": "ipython",
    "version": 3
   },
   "file_extension": ".py",
   "mimetype": "text/x-python",
   "name": "python",
   "nbconvert_exporter": "python",
   "pygments_lexer": "ipython3",
   "version": "3.6.8"
  }
 },
 "nbformat": 4,
 "nbformat_minor": 4
}
