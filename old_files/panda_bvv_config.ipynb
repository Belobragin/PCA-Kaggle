{
 "cells": [
  {
   "cell_type": "code",
   "execution_count": 2,
   "metadata": {},
   "outputs": [],
   "source": [
    "import os, sys, json, resource\n",
    "import pandas as pd\n",
    "import numpy as np"
   ]
  },
  {
   "cell_type": "code",
   "execution_count": 2,
   "metadata": {},
   "outputs": [],
   "source": [
    "isup_classes= ['0', '1', '2', '3', '4', '5']\n",
    "num_classes = 6\n",
    "panda_seed = 137"
   ]
  },
  {
   "cell_type": "code",
   "execution_count": 1,
   "metadata": {},
   "outputs": [
    {
     "ename": "NameError",
     "evalue": "name 'os' is not defined",
     "output_type": "error",
     "traceback": [
      "\u001b[0;31m---------------------------------------------------------------------------\u001b[0m",
      "\u001b[0;31mNameError\u001b[0m                                 Traceback (most recent call last)",
      "\u001b[0;32m<ipython-input-1-c7e526333168>\u001b[0m in \u001b[0;36m<module>\u001b[0;34m\u001b[0m\n\u001b[1;32m      3\u001b[0m \u001b[0mbase_path\u001b[0m \u001b[0;34m=\u001b[0m \u001b[0;34m\"/run/media/admin/kagg/panda\"\u001b[0m\u001b[0;34m\u001b[0m\u001b[0;34m\u001b[0m\u001b[0m\n\u001b[1;32m      4\u001b[0m \u001b[0mnote_path\u001b[0m \u001b[0;34m=\u001b[0m \u001b[0;34m\"/home/admin/pca\"\u001b[0m\u001b[0;34m\u001b[0m\u001b[0;34m\u001b[0m\u001b[0m\n\u001b[0;32m----> 5\u001b[0;31m \u001b[0mtemp_path\u001b[0m \u001b[0;34m=\u001b[0m \u001b[0mos\u001b[0m\u001b[0;34m.\u001b[0m\u001b[0mpath\u001b[0m\u001b[0;34m.\u001b[0m\u001b[0mjoin\u001b[0m\u001b[0;34m(\u001b[0m\u001b[0mbase_path\u001b[0m\u001b[0;34m,\u001b[0m \u001b[0;34m'temp'\u001b[0m\u001b[0;34m)\u001b[0m\u001b[0;34m\u001b[0m\u001b[0;34m\u001b[0m\u001b[0m\n\u001b[0m\u001b[1;32m      6\u001b[0m \u001b[0;34m\u001b[0m\u001b[0m\n\u001b[1;32m      7\u001b[0m \u001b[0mtrain_path\u001b[0m \u001b[0;34m=\u001b[0m \u001b[0mos\u001b[0m\u001b[0;34m.\u001b[0m\u001b[0mpath\u001b[0m\u001b[0;34m.\u001b[0m\u001b[0mjoin\u001b[0m\u001b[0;34m(\u001b[0m\u001b[0mbase_path\u001b[0m\u001b[0;34m,\u001b[0m \u001b[0;34m'orig_images'\u001b[0m\u001b[0;34m)\u001b[0m \u001b[0;31m#24 samples on local WS\u001b[0m\u001b[0;34m\u001b[0m\u001b[0;34m\u001b[0m\u001b[0m\n",
      "\u001b[0;31mNameError\u001b[0m: name 'os' is not defined"
     ]
    }
   ],
   "source": [
    "#base folders:\n",
    "nn_path = \"/run/media/admin/kagg/nn\"\n",
    "base_path = \"/run/media/admin/kagg/panda\"\n",
    "note_path = \"/home/admin/pca\"\n",
    "temp_path = os.path.join(base_path, 'temp')\n",
    "\n",
    "train_path = os.path.join(base_path, 'orig_images') #24 samples on local WS\n",
    "mask_path = os.path.join(base_path, 'orig_masks') #24 samples on local WS\n"
   ]
  },
  {
   "cell_type": "code",
   "execution_count": null,
   "metadata": {},
   "outputs": [],
   "source": [
    "#resized images folders\n",
    "#! - ALL images in these base folders on the local WS are rotated aka h > w\n",
    "\n",
    "#ALL images folders:\n",
    "train_size1 = os.path.join(base_path, 'train_size1')\n",
    "train_size2 = os.path.join(base_path, 'train_size2')\n",
    "\n",
    "#ALL masks with size1, size2\n",
    "mask_size1 = os.path.join(base_path, 'mask_size1')\n",
    "mask_size2 = os.path.join(base_path, 'mask_size2')"
   ]
  },
  {
   "cell_type": "code",
   "execution_count": 6,
   "metadata": {},
   "outputs": [],
   "source": [
    "#base folders for processed images:\n",
    "\n",
    "#no-white tiled images\n",
    "train_nwh_small_size1 = os.path.join(base_path, 'train_nwh_small_size1')\n",
    "train_nwh_large_size1 = os.path.join(base_path, 'train_nwh_large_size1')\n",
    "train_nwh_small_size2 = os.path.join(base_path, 'train_nwh_small_size2')\n",
    "train_nwh_large_size2 = os.path.join(base_path, 'train_nwh_large_size2')\n",
    "\n",
    "#no-white tiled images after mask application:\n",
    "train_s2_isup = os.path.join(base_path, 'train_s2_isup')\n",
    "train_s1_isup = os.path.join(base_path, 'train_s1_isup')\n",
    "\n",
    "#cacerous areas:\n",
    "cancer_size2 = os.path.join(base_path, 'cancer_size2')"
   ]
  },
  {
   "cell_type": "code",
   "execution_count": 5,
   "metadata": {},
   "outputs": [],
   "source": [
    "#folder with resized processed images, for CNN education:\n",
    "#!: these images are resized to equal size (and rotated). This allows to pay less for expensive GPU machine\n",
    "train_size2_prepare = os.path.join(base_path, 'train_size2_prepare')\n",
    "\n",
    "train_nwh_large_size2_prepare = os.path.join(base_path, 'train_nwh_large_size2_prepare')\n",
    "train_nwh_large_size2_prepare_inv = os.path.join(base_path, 'train_nwh_large_size2_prepare_inv')\n",
    "train_size2_16x512_inv = os.path.join(base_path, 'train_size2_16x512_inv')\n",
    "train_size2_16x256_inv = os.path.join(base_path, 'train_size2_16x256_inv')\n",
    "train_size2_16x128_inv = os.path.join(base_path, 'train_size2_16x128_inv')\n",
    "train_size2_16x320_inv = os.path.join(base_path, 'train_size2_16x320_inv')\n",
    "\n",
    "#no-white tiled images after mask application:\n",
    "train_s2_isup_prepare = os.path.join(base_path, 'train_s2_isup_prepare')\n",
    "train_s1_isup_prepare = os.path.join(base_path, 'train_s1_isup_prepare')"
   ]
  },
  {
   "cell_type": "code",
   "execution_count": 5,
   "metadata": {},
   "outputs": [],
   "source": [
    "#base dataframes with data:\n",
    "primary_train_labels = pd.read_csv(os.path.join(base_path, 'train.csv')) #original df, don't touch\n",
    "train_labels = pd.read_csv(os.path.join(base_path, 'train_corr.csv')) #some useful columns added, ALL rows\n",
    "mask_labels = pd.read_csv(os.path.join(base_path, 'mask_labels.csv'))\n",
    "test_cnn_labels = pd.read_csv(os.path.join(base_path, 'test_cnn_labels.csv'))"
   ]
  },
  {
   "cell_type": "code",
   "execution_count": 8,
   "metadata": {},
   "outputs": [],
   "source": [
    "#base files lists:\n",
    "prime_trains = os.listdir(train_path)\n",
    "prime_masks = os.listdir(mask_path)\n"
   ]
  },
  {
   "cell_type": "code",
   "execution_count": null,
   "metadata": {},
   "outputs": [],
   "source": [
    "#CNN train, validation and test folds:\n",
    "#!: for test purpose only, no more then 2 epochs\n",
    "\n",
    "train_cnn = os.path.join(base_path, 'trainf')\n",
    "valid_cnn = os.path.join(base_path, 'validf')\n",
    "test_cnn = os.path.join(base_path, 'testf')\n",
    "test_no_classes_cnn = os.path.join(base_path, 'testf_no_classes')"
   ]
  },
  {
   "cell_type": "code",
   "execution_count": 9,
   "metadata": {},
   "outputs": [],
   "source": [
    "def getmem():\n",
    "    print('Memory usage         : % 2.2f MB' % round(\n",
    "        resource.getrusage(resource.RUSAGE_SELF).ru_maxrss/1024.0/1024.0,1)\n",
    "    )"
   ]
  },
  {
   "cell_type": "code",
   "execution_count": 1,
   "metadata": {},
   "outputs": [],
   "source": [
    "import os\n",
    "module_name = 'panda_bvv_config'\n",
    "\n",
    "os.system('jupyter nbconvert --to python ' + module_name + '.ipynb')\n",
    "with open(module_name + '.py', 'r') as f:\n",
    "    lines = f.readlines()\n",
    "with open(module_name + '.py', 'w') as f:\n",
    "    for line in lines:\n",
    "        if 'nbconvert --to python' in line:\n",
    "            break\n",
    "        else:\n",
    "            f.write(line)"
   ]
  },
  {
   "cell_type": "code",
   "execution_count": null,
   "metadata": {},
   "outputs": [],
   "source": []
  }
 ],
 "metadata": {
  "kernelspec": {
   "display_name": "Python 3",
   "language": "python",
   "name": "python3"
  },
  "language_info": {
   "codemirror_mode": {
    "name": "ipython",
    "version": 3
   },
   "file_extension": ".py",
   "mimetype": "text/x-python",
   "name": "python",
   "nbconvert_exporter": "python",
   "pygments_lexer": "ipython3",
   "version": "3.6.8"
  }
 },
 "nbformat": 4,
 "nbformat_minor": 4
}
