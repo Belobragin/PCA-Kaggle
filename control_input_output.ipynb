{
 "cells": [
  {
   "cell_type": "code",
   "execution_count": 1,
   "metadata": {},
   "outputs": [],
   "source": [
    "import os, shutil\n",
    "from pathlib import Path\n",
    "from tqdm.notebook import tqdm"
   ]
  },
  {
   "cell_type": "code",
   "execution_count": 2,
   "metadata": {},
   "outputs": [],
   "source": [
    "from panda_bvv_config import *"
   ]
  },
  {
   "cell_type": "code",
   "execution_count": 15,
   "metadata": {},
   "outputs": [
    {
     "name": "stdout",
     "output_type": "stream",
     "text": [
      "Number of files: 4125 in the folder /run/media/admin/kagg/panda/train_nwh_large_size2_prepare_inv\n",
      "Total: 0 GB\n"
     ]
    }
   ],
   "source": [
    "int_fold = '/run/media/admin/kagg/panda/train_nwh_large_size2_prepare_inv'\n",
    "print(\"Number of files: %d in the folder %s\" % (len(os.listdir(int_fold)), int_fold))\n",
    "print(\"Total: %d GB\" % (sum(f.stat().st_size for f in\\\n",
    "                            Path(int_fold).glob('**/*') if f.is_file())// (2**30)))\n"
   ]
  },
  {
   "cell_type": "code",
   "execution_count": 10,
   "metadata": {},
   "outputs": [
    {
     "name": "stdout",
     "output_type": "stream",
     "text": [
      "Number of files: 10616 in the folder /run/media/admin/kagg/panda/train_size2_16_inv\n",
      "Total: 0 GB\n"
     ]
    }
   ],
   "source": [
    "int_fold = '/run/media/admin/kagg/panda/train_size2_16_inv'\n",
    "print(\"Number of files: %d in the folder %s\" % (len(os.listdir(int_fold)), int_fold))\n",
    "print(\"Total: %d GB\" % (sum(f.stat().st_size for f in\\\n",
    "                            Path(int_fold).glob('**/*') if f.is_file())// (2**30)))"
   ]
  },
  {
   "cell_type": "code",
   "execution_count": 6,
   "metadata": {},
   "outputs": [
    {
     "name": "stdout",
     "output_type": "stream",
     "text": [
      "Number of files: 299 in the folder /run/media/admin/kagg/panda/testf/isup1\n",
      "Total: 0 GB\n"
     ]
    }
   ],
   "source": [
    "int_fold = '/run/media/admin/kagg/panda/testf/isup1'\n",
    "print(\"Number of files: %d in the folder %s\" % (len(os.listdir(int_fold)), int_fold))\n",
    "print(\"Total: %d GB\" % (sum(f.stat().st_size for f in\\\n",
    "                            Path(int_fold).glob('**/*') if f.is_file())// (2**30)))"
   ]
  },
  {
   "cell_type": "code",
   "execution_count": 4,
   "metadata": {},
   "outputs": [
    {
     "name": "stdout",
     "output_type": "stream",
     "text": [
      "Number of files: 10616 in the folder /run/media/admin/kagg/panda/train_size2\n",
      "Total: 982 MB\n"
     ]
    }
   ],
   "source": [
    "int_fold = '/run/media/admin/kagg/panda/train_size2' #train_nwh_large_size2'\n",
    "print(\"Number of files: %d in the folder %s\" % (len(os.listdir(int_fold)), int_fold))\n",
    "print(\"Total: %d MB\" % (sum(f.stat().st_size for f in\\\n",
    "                            Path(int_fold).glob('**/*') if f.is_file())// (2**20)))\n"
   ]
  },
  {
   "cell_type": "code",
   "execution_count": 230,
   "metadata": {},
   "outputs": [
    {
     "name": "stdout",
     "output_type": "stream",
     "text": [
      "Number of files: 1987 in the folder /run/media/admin/kagg/panda/trainf/isup0\n",
      "Total: 100 MB\n"
     ]
    }
   ],
   "source": [
    "int_fold = '/run/media/admin/kagg/panda/trainf/isup0' #train_nwh_large_size2'\n",
    "print(\"Number of files: %d in the folder %s\" % (len(os.listdir(int_fold)), int_fold))\n",
    "print(\"Total: %d MB\" % (sum(f.stat().st_size for f in\\\n",
    "                            Path(int_fold).glob('**/*') if f.is_file())// (2**20)))"
   ]
  },
  {
   "cell_type": "code",
   "execution_count": 221,
   "metadata": {},
   "outputs": [
    {
     "name": "stdout",
     "output_type": "stream",
     "text": [
      "Number of files: 10604 in the folder /run/media/admin/kagg/panda/train_nwh_large_size1\n",
      "Total: 7181 MB\n"
     ]
    }
   ],
   "source": [
    "int_fold = '/run/media/admin/kagg/panda/train_nwh_large_size1' #train_nwh_large_size2'\n",
    "print(\"Number of files: %d in the folder %s\" % (len(os.listdir(int_fold)), int_fold))\n",
    "print(\"Total: %d MB\" % (sum(f.stat().st_size for f in\\\n",
    "                            Path(int_fold).glob('**/*') if f.is_file())// (2**20)))"
   ]
  },
  {
   "cell_type": "code",
   "execution_count": 77,
   "metadata": {},
   "outputs": [
    {
     "name": "stdout",
     "output_type": "stream",
     "text": [
      "Number of files: 4063 in the folder /run/media/admin/kagg/panda/train_nwh_small_size1\n",
      "Total: 2301 MB\n"
     ]
    }
   ],
   "source": [
    "int_fold = '/run/media/admin/kagg/panda/train_nwh_small_size1' #train_nwh_large_size2'\n",
    "print(\"Number of files: %d in the folder %s\" % (len(os.listdir(int_fold)), int_fold))\n",
    "print(\"Total: %d MB\" % (sum(f.stat().st_size for f in\\\n",
    "                            Path(int_fold).glob('**/*') if f.is_file())// (2**20)))"
   ]
  },
  {
   "cell_type": "code",
   "execution_count": null,
   "metadata": {},
   "outputs": [],
   "source": []
  }
 ],
 "metadata": {
  "kernelspec": {
   "display_name": "Python 3",
   "language": "python",
   "name": "python3"
  },
  "language_info": {
   "codemirror_mode": {
    "name": "ipython",
    "version": 3
   },
   "file_extension": ".py",
   "mimetype": "text/x-python",
   "name": "python",
   "nbconvert_exporter": "python",
   "pygments_lexer": "ipython3",
   "version": "3.6.8"
  }
 },
 "nbformat": 4,
 "nbformat_minor": 4
}
