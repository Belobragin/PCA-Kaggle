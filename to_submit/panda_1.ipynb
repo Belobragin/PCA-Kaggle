{
 "cells": [
  {
   "cell_type": "code",
   "execution_count": 1,
   "metadata": {
    "_cell_guid": "b1076dfc-b9ad-4769-8c92-a6c4dae69d19",
    "_uuid": "8f2839f25d086af736a60e9eeb907d3b93b6e0e5"
   },
   "outputs": [],
   "source": [
    "# This Python 3 environment comes with many helpful analytics libraries installed\n",
    "# It is defined by the kaggle/python Docker image: https://github.com/kaggle/docker-python\n",
    "# For example, here's several helpful packages to load\n",
    "\n",
    "import numpy as np # linear algebra\n",
    "import pandas as pd # data processing, CSV file I/O (e.g. pd.read_csv)\n",
    "\n",
    "# Input data files are available in the read-only \"../input/\" directory\n",
    "# For example, running this (by clicking run or pressing Shift+Enter) will list all files under the input directory\n",
    "\n",
    "import os\n",
    "import time\n",
    "\n",
    "#for dirname, _, filenames in os.walk('/kaggle/input'):\n",
    "#    for filename in filenames:\n",
    "#        print(os.path.join(dirname, filename))\n",
    "\n",
    "# You can write up to 5GB to the current directory (/kaggle/working/) that gets preserved as output when you create a version using \"Save & Run All\" \n",
    "# You can also write temporary files to /kaggle/temp/, but they won't be saved outside of the current session"
   ]
  },
  {
   "cell_type": "code",
   "execution_count": 2,
   "metadata": {},
   "outputs": [],
   "source": [
    "import skimage.io\n",
    "#from tensorflow.python.keras.applications import ResNet50\n",
    "#from tensorflow.python.keras.models import Sequential\n",
    "#from tensorflow.python.keras.layers import Dense, Flatten, GlobalAveragePooling2D\n",
    "from tensorflow.keras.preprocessing import image\n",
    "from tensorflow.keras.applications.resnet50 import preprocess_input\n",
    "from tensorflow.keras.preprocessing.image import ImageDataGenerator\n",
    "\n",
    "from tensorflow.keras.applications.resnet50 import preprocess_input, decode_predictions\n",
    "\n"
   ]
  },
  {
   "cell_type": "code",
   "execution_count": 3,
   "metadata": {},
   "outputs": [],
   "source": [
    "import cv2"
   ]
  },
  {
   "cell_type": "code",
   "execution_count": 4,
   "metadata": {},
   "outputs": [],
   "source": [
    "from tensorflow.keras.models import model_from_json, load_model"
   ]
  },
  {
   "cell_type": "code",
   "execution_count": null,
   "metadata": {
    "_cell_guid": "79c7e3d0-c299-4dcb-8224-4455121ee9b0",
    "_uuid": "d629ff2d2480ee46fbb7e2d37f6b5fab8052498a"
   },
   "outputs": [],
   "source": [
    "#os.listdir('../input/prostate-cancer-grade-assessment')"
   ]
  },
  {
   "cell_type": "code",
   "execution_count": null,
   "metadata": {},
   "outputs": [],
   "source": [
    "#os.listdir('../input/panda-model-1')"
   ]
  },
  {
   "cell_type": "code",
   "execution_count": null,
   "metadata": {},
   "outputs": [],
   "source": [
    "sample = pd.read_csv('../input/prostate-cancer-grade-assessment/sample_submission.csv')"
   ]
  },
  {
   "cell_type": "code",
   "execution_count": null,
   "metadata": {},
   "outputs": [],
   "source": [
    "model1 = load_model('../input/panda-model-1/panda_very_simple_net_based_on_resnet50.h5')"
   ]
  },
  {
   "cell_type": "code",
   "execution_count": null,
   "metadata": {},
   "outputs": [],
   "source": [
    "from_fold = '../input/prostate-cancer-grade-assessment/test_images'"
   ]
  },
  {
   "cell_type": "code",
   "execution_count": null,
   "metadata": {},
   "outputs": [],
   "source": [
    "def prepare_test_data(test_arr):\n",
    "    test_data = []\n",
    "    images_names = []\n",
    "    for test_name in test_arr:        \n",
    "        image_id = test_name.split('.')[0]        \n",
    "        test_file = os.path.join(from_fold, test_name)\n",
    "        biopsy = skimage.io.MultiImage(test_file)\n",
    "        out_file = cv2.resize(biopsy[-1], (512, 512))\n",
    "        test_data.append(out_file)\n",
    "        images_names.append(image_id)\n",
    "        #print(time.time())\n",
    "        del biopsy\n",
    "    return np.array(images_names), np.array(test_data)"
   ]
  },
  {
   "cell_type": "code",
   "execution_count": null,
   "metadata": {},
   "outputs": [],
   "source": [
    "def make_submission_df(id_array, test_labels):\n",
    "    #assert len(id_array) == len(test_labels), \"different length for label arrays\"\n",
    "    #assert isinstance(id_array, np.ndarray), 'images id is not a numpy array'\n",
    "    #assert isinstance(test_labels, np.ndarray), 'test labels array is not a numpy array'\n",
    "    d2 = {'image_id': id_array, 'isup_grade': test_labels}\n",
    "    new_sample = pd.DataFrame(data=d2)\n",
    "    #final_sample = pd.concat([sample_df, new_sample], ignore_index=True)\n",
    "    return new_sample #final_sample"
   ]
  },
  {
   "cell_type": "code",
   "execution_count": null,
   "metadata": {},
   "outputs": [],
   "source": [
    "#test_files = os.listdir(from_fold)[:10]\n",
    "#test_files"
   ]
  },
  {
   "cell_type": "code",
   "execution_count": null,
   "metadata": {},
   "outputs": [],
   "source": [
    "#biopsy = skimage.io.MultiImage(os.path.join(from_fold,'0cc35bc0fe4dd912b20f72d66888fd49.tiff'))"
   ]
  },
  {
   "cell_type": "code",
   "execution_count": null,
   "metadata": {},
   "outputs": [],
   "source": [
    "#biopsy[-1].shape"
   ]
  },
  {
   "cell_type": "code",
   "execution_count": null,
   "metadata": {},
   "outputs": [],
   "source": [
    "if os.path.exists(from_fold):\n",
    "    test_files = os.listdir(from_fold) #[:100]\n",
    "    %time test_files_id_array,  test_file_data_array = prepare_test_data(test_files)\n",
    "    print(test_files_id_array.shape)\n",
    "    print(test_file_data_array.shape)\n",
    "    %time pred_all = model1.predict(test_file_data_array)\n",
    "    final_test_labels = pred_all.argmax(axis=-1)\n",
    "    submission = make_submission_df(test_files_id_array, final_test_labels)\n",
    "    submission['isup_grade'] = submission['isup_grade'].astype(int)\n",
    "    submission.head()\n",
    "    submission.to_csv('submission.csv', index=False)\n",
    "else:\n",
    "    sub = pd.read_csv(\"/kaggle/input/prostate-cancer-grade-assessment/sample_submission.csv\")\n",
    "    sub.to_csv('submission.csv', index=False)\n",
    "    print('no submission data')"
   ]
  },
  {
   "cell_type": "code",
   "execution_count": null,
   "metadata": {},
   "outputs": [],
   "source": []
  }
 ],
 "metadata": {
  "kernelspec": {
   "display_name": "Python 3",
   "language": "python",
   "name": "python3"
  },
  "language_info": {
   "codemirror_mode": {
    "name": "ipython",
    "version": 3
   },
   "file_extension": ".py",
   "mimetype": "text/x-python",
   "name": "python",
   "nbconvert_exporter": "python",
   "pygments_lexer": "ipython3",
   "version": "3.6.8"
  }
 },
 "nbformat": 4,
 "nbformat_minor": 4
}
