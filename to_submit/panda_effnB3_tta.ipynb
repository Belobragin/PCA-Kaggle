{
 "cells": [
  {
   "cell_type": "code",
   "execution_count": 89,
   "metadata": {
    "_cell_guid": "b1076dfc-b9ad-4769-8c92-a6c4dae69d19",
    "_uuid": "8f2839f25d086af736a60e9eeb907d3b93b6e0e5"
   },
   "outputs": [],
   "source": [
    "# This Python 3 environment comes with many helpful analytics libraries installed\n",
    "# It is defined by the kaggle/python Docker image: https://github.com/kaggle/docker-python\n",
    "# For example, here's several helpful packages to load\n",
    "\n",
    "import numpy as np # linear algebra\n",
    "import pandas as pd # data processing, CSV file I/O (e.g. pd.read_csv)\n",
    "\n",
    "# Input data files are available in the read-only \"../input/\" directory\n",
    "# For example, running this (by clicking run or pressing Shift+Enter) will list all files under the input directory\n",
    "\n",
    "import os\n",
    "import time\n",
    "\n",
    "#for dirname, _, filenames in os.walk('/kaggle/input'):\n",
    "#    for filename in filenames:\n",
    "#        print(os.path.join(dirname, filename))\n",
    "\n",
    "# You can write up to 5GB to the current directory (/kaggle/working/) that gets preserved as output when you create a version using \"Save & Run All\" \n",
    "# You can also write temporary files to /kaggle/temp/, but they won't be saved outside of the current session"
   ]
  },
  {
   "cell_type": "code",
   "execution_count": 90,
   "metadata": {},
   "outputs": [],
   "source": [
    "from tensorflow.keras.utils import CustomObjectScope, get_custom_objects\n",
    "import functools\n",
    "import keras\n",
    "import sys\n",
    "sys.path.append('../input/')\n",
    "sys.path.append('../input/bvvkerasapp/')"
   ]
  },
  {
   "cell_type": "code",
   "execution_count": 91,
   "metadata": {},
   "outputs": [],
   "source": [
    "from bvveffn9 import model"
   ]
  },
  {
   "cell_type": "code",
   "execution_count": 92,
   "metadata": {},
   "outputs": [],
   "source": [
    "def init_keras_custom_objects():\n",
    "    custom_objects = {\n",
    "        'FixedDropout': inject_keras_modules(model.get_dropout)()\n",
    "    }\n",
    "\n",
    "    get_custom_objects().update(custom_objects)"
   ]
  },
  {
   "cell_type": "code",
   "execution_count": 93,
   "metadata": {},
   "outputs": [],
   "source": [
    "def inject_keras_modules(func):\n",
    "    @functools.wraps(func)\n",
    "    def wrapper(*args, **kwargs):\n",
    "        kwargs['backend'] = keras.backend\n",
    "        kwargs['layers'] = keras.layers\n",
    "        kwargs['models'] = keras.models\n",
    "        kwargs['utils'] = keras.utils\n",
    "        return func(*args, **kwargs)\n",
    "    return wrapper"
   ]
  },
  {
   "cell_type": "code",
   "execution_count": 94,
   "metadata": {},
   "outputs": [],
   "source": [
    "init_keras_custom_objects()"
   ]
  },
  {
   "cell_type": "code",
   "execution_count": 95,
   "metadata": {},
   "outputs": [],
   "source": [
    "import skimage.io\n",
    "import cv2\n",
    "import openslide\n",
    "from tensorflow.keras.preprocessing.image import ImageDataGenerator\n",
    "from tensorflow.keras.models import model_from_json, load_model\n",
    "\n"
   ]
  },
  {
   "cell_type": "code",
   "execution_count": 96,
   "metadata": {},
   "outputs": [],
   "source": [
    "test_datagen = ImageDataGenerator(rescale = 1/255,\n",
    "                                    shear_range=0.1,\n",
    "                                    zoom_range=0.1,\n",
    "                                    horizontal_flip=True,\n",
    "                                    rotation_range=10.,\n",
    "                                    fill_mode='reflect',\n",
    "                                    width_shift_range = 0.1, \n",
    "                                    height_shift_range = 0.1)"
   ]
  },
  {
   "cell_type": "code",
   "execution_count": 97,
   "metadata": {},
   "outputs": [],
   "source": [
    "#os.listdir('../input/panda-model-1')"
   ]
  },
  {
   "cell_type": "code",
   "execution_count": 98,
   "metadata": {},
   "outputs": [],
   "source": [
    "#folders:\n",
    "base_path = \"../input\"\n",
    "\n",
    "#for debug:\n",
    "# from_fold = '../input/prostate-cancer-grade-assessment/train_images' \n",
    "# test_labels = pd.read_csv('../input/prostate-cancer-grade-assessment/train.csv')\n",
    "# labels_perm = test_labels.sample(frac = 1, random_state = 137)\n",
    "# test_labels = labels_perm[9400:]\n",
    "\n",
    "\n",
    "#for submission\n",
    "from_fold = '../input/prostate-cancer-grade-assessment/test_images' \n",
    "test_labels = pd.read_csv('../input/prostate-cancer-grade-assessment/test.csv')\n"
   ]
  },
  {
   "cell_type": "code",
   "execution_count": 99,
   "metadata": {},
   "outputs": [],
   "source": [
    "model_path ='bvvmodel' #this is a name of the folder, where we upload the model\n",
    "model_name = 'model_panda_check.12.h5'\n"
   ]
  },
  {
   "cell_type": "code",
   "execution_count": 100,
   "metadata": {},
   "outputs": [],
   "source": [
    "#all constatnts\n",
    "dim_y = 320\n",
    "dim_x = 320\n",
    "tta_steps = 10\n"
   ]
  },
  {
   "cell_type": "code",
   "execution_count": 101,
   "metadata": {},
   "outputs": [],
   "source": [
    "#load model:\n",
    "new_model = load_model(os.path.join(base_path, model_path, model_name))"
   ]
  },
  {
   "cell_type": "code",
   "execution_count": 102,
   "metadata": {},
   "outputs": [],
   "source": [
    "#proc_func input parameters:\n",
    "arg_to_proc_func = {\n",
    "                'sz':80,\n",
    "                'N':16} "
   ]
  },
  {
   "cell_type": "code",
   "execution_count": 103,
   "metadata": {},
   "outputs": [],
   "source": [
    "def prepare_test_data(proc_func):\n",
    "\n",
    "    def wrapper(df_name = test_labels,\n",
    "                       zoom = 2,\n",
    "                       **kw):\n",
    "\n",
    "        \"\"\"\n",
    "        This is based on 'eliminate_white_direct'\n",
    "        \"\"\"\n",
    "        test_data = []\n",
    "        images_names = []\n",
    "        \n",
    "        for i,row in enumerate(df_name.iterrows()):        \n",
    "            image_id = row[1]['image_id']\n",
    "            provider = row[1]['data_provider'] \n",
    "            images_names.append(image_id)\n",
    "            test_file = os.path.join(from_fold, image_id + '.tiff')\n",
    "            biopsy = openslide.OpenSlide(test_file)            \n",
    "            yyy = biopsy.level_dimensions[zoom]\n",
    "            biopsy = np.array(biopsy.read_region((0,0), zoom, yyy).convert('RGB'))\n",
    "\n",
    "            #central block:\n",
    "            try:\n",
    "                data_new = proc_func(biopsy, provider, **kw)\n",
    "            except:\n",
    "                data_new = biopsy\n",
    "            #end central block\n",
    "            \n",
    "            biopsy = data_new #cv2.resize(data_new, (dim_y, dim_x))\n",
    "            \n",
    "            try:\n",
    "                del data_new\n",
    "            except:\n",
    "                pass\n",
    "           \n",
    "            test_data.append(biopsy)\n",
    "             \n",
    "            del biopsy\n",
    "    \n",
    "        return np.array(images_names), np.array(test_data) #wrapper end\n",
    "    \n",
    "    return wrapper #decorator end"
   ]
  },
  {
   "cell_type": "code",
   "execution_count": 104,
   "metadata": {},
   "outputs": [],
   "source": [
    "@prepare_test_data\n",
    "def img_func(img, provider, **kw):        \n",
    "    sz=kw.get('sz') if kw.get('sz') else 32    \n",
    "    N = kw.get('N') if kw.get('N') else 16\n",
    "    final_dim = kw.get('final_dim') if kw.get('final_dim') else N**0.5 \n",
    "    result = []\n",
    "    shape = img.shape\n",
    "    #if shape[0]<shape[1]: \n",
    "    #    img = np.rot90(img)\n",
    "    #    shape = img.shape\n",
    "    pad0,pad1 = (sz - shape[0]%sz)%sz, (sz - shape[1]%sz)%sz\n",
    "    img = np.pad(img,[[pad0//2,pad0-pad0//2],[pad1//2,pad1-pad1//2],[0,0]],\n",
    "                constant_values=255)\n",
    "    img = img.reshape(img.shape[0]//sz,sz,img.shape[1]//sz,sz,3)\n",
    "    img = img.transpose(0,2,1,3,4).reshape(-1,sz,sz,3)\n",
    "    if len(img) < N:\n",
    "        img = np.pad(img,[[0,N-len(img)],[0,0],[0,0],[0,0]],constant_values=255)\n",
    "    idxs = np.argsort(img.reshape(img.shape[0],-1).sum(-1))[:N]\n",
    "    img = img[idxs]\n",
    "    a, b, c, d = img.shape\n",
    "    data_new = (img.reshape(int(final_dim), int(final_dim),\\\n",
    "                                                    b, c, d).swapaxes(1,2).reshape(b*int(final_dim),\\\n",
    "                                                    c*int(final_dim), d))\n",
    "    data_new = cv2.bitwise_not(data_new)\n",
    "\n",
    "    return data_new\n",
    "\n",
    "#substitute for appropriate prcocessing function"
   ]
  },
  {
   "cell_type": "code",
   "execution_count": 105,
   "metadata": {},
   "outputs": [],
   "source": [
    "def make_final_labels(from_model_preds):\n",
    "    return from_model_preds.argmax(axis=-1)"
   ]
  },
  {
   "cell_type": "code",
   "execution_count": 106,
   "metadata": {},
   "outputs": [],
   "source": [
    "def make_submission_df(id_array, test_labels):\n",
    "    d2 = {'image_id': id_array, 'isup_grade': test_labels}\n",
    "    new_sample = pd.DataFrame(data=d2)\n",
    "    return new_sample"
   ]
  },
  {
   "cell_type": "code",
   "execution_count": 107,
   "metadata": {},
   "outputs": [],
   "source": [
    "def prepare_predict_arr_on_tta(ttagen, steps_, tta_steps = tta_steps):    \n",
    "    pred_new_arr = []\n",
    "    for i in range(tta_steps):\n",
    "        pred_new = new_model.predict_generator(ttagen, steps = steps_)\n",
    "        pred_new_arr.append(pred_new)\n",
    "    pred_all = np.mean(pred_new_arr, axis=0)\n",
    "    \n",
    "    return pred_all"
   ]
  },
  {
   "cell_type": "code",
   "execution_count": 108,
   "metadata": {},
   "outputs": [],
   "source": [
    "if os.path.exists(from_fold):\n",
    "    #list of test files:\n",
    "    test_files = os.listdir(from_fold)\n",
    "    \n",
    "    #prepare input data for the model:\n",
    "    test_files_id_array, test_file_data_array = img_func(**arg_to_proc_func)\n",
    "    \n",
    "    #data generator:\n",
    "    testgen = test_datagen.flow(\n",
    "                            x=test_file_data_array,\n",
    "                            y=None, \n",
    "                            batch_size=1,\n",
    "                            shuffle = False,\n",
    "                            )\n",
    "    \n",
    "    #predict with the model:\n",
    "    pred_all = prepare_predict_arr_on_tta(ttagen = testgen, steps_ = len(test_files_id_array))\n",
    "    \n",
    "    #make final predictions:\n",
    "    final_test_labels = make_final_labels(pred_all)\n",
    "    \n",
    "    #make submission:\n",
    "    submission = make_submission_df(test_files_id_array, final_test_labels)\n",
    "    submission['isup_grade'] = submission['isup_grade'].astype(int)\n",
    "    submission.to_csv('submission.csv', index=False)\n",
    "\n",
    "else: #test data are covered\n",
    "    sub = pd.read_csv(\"/kaggle/input/prostate-cancer-grade-assessment/sample_submission.csv\")\n",
    "    sub.to_csv('submission.csv', index=False)\n",
    "    print('no submission data')"
   ]
  },
  {
   "cell_type": "code",
   "execution_count": 110,
   "metadata": {},
   "outputs": [],
   "source": [
    "#submission"
   ]
  }
 ],
 "metadata": {
  "kernelspec": {
   "display_name": "Python 3",
   "language": "python",
   "name": "python3"
  },
  "language_info": {
   "codemirror_mode": {
    "name": "ipython",
    "version": 3
   },
   "file_extension": ".py",
   "mimetype": "text/x-python",
   "name": "python",
   "nbconvert_exporter": "python",
   "pygments_lexer": "ipython3",
   "version": "3.6.8"
  }
 },
 "nbformat": 4,
 "nbformat_minor": 4
}
