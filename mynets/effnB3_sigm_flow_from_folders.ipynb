{
 "cells": [
  {
   "cell_type": "code",
   "execution_count": 1,
   "metadata": {},
   "outputs": [],
   "source": [
    "# source: https://www.kaggle.com/nobletp/panda-keras-baseline"
   ]
  },
  {
   "cell_type": "code",
   "execution_count": 2,
   "metadata": {},
   "outputs": [],
   "source": [
    "#test: python3 effnB3_mc.py --cnnpar effnB3_gs_test --mfolder effnB3gs\n",
    "#train: python3 effnB3_mc.py --cnnpar effnB3_gs --mfolder effnB3gs"
   ]
  },
  {
   "cell_type": "code",
   "execution_count": null,
   "metadata": {},
   "outputs": [],
   "source": [
    "DEBUG = False"
   ]
  },
  {
   "cell_type": "code",
   "execution_count": 3,
   "metadata": {},
   "outputs": [
    {
     "name": "stdout",
     "output_type": "stream",
     "text": [
      "tensorflow version: 2.2.0\n",
      "no gpus\n"
     ]
    }
   ],
   "source": [
    "import warnings\n",
    "warnings.filterwarnings('ignore')\n",
    "import os, argparse, sys\n",
    "sys.path.append(\"..\")\n",
    "from glob import glob\n",
    "from random import shuffle\n",
    "import cv2\n",
    "import numpy as np\n",
    "from sklearn.model_selection import train_test_split\n",
    "import pandas as pd \n",
    "import json\n",
    "import skimage.io\n",
    "import matplotlib.pyplot as plt\n",
    "import tensorflow as tf\n",
    "from tensorflow.keras import Model, Sequential\n",
    "from tensorflow.keras.models import load_model\n",
    "from tensorflow.keras.utils import Sequence\n",
    "from tensorflow.keras.layers import *\n",
    "from tensorflow.keras.optimizers import Adam\n",
    "from tensorflow.keras.callbacks import EarlyStopping, ModelCheckpoint, ReduceLROnPlateau\n",
    "# from tensorflow.keras.preprocessing.image import ImageDataGenerator\n",
    "import efficientnet.tfkeras as efn\n",
    "print('tensorflow version:', tf.__version__)\n",
    "gpus = tf.config.experimental.list_physical_devices('GPU')\n",
    "if gpus:\n",
    "    try:\n",
    "        for gpu in gpus:\n",
    "            tf.config.experimental.set_memory_growth(gpu, True)\n",
    "        logical_gpus = tf.config.experimental.list_logical_devices('GPU')\n",
    "        print(len(gpus), \"Physical GPUs,\", len(logical_gpus), \"Logical GPUs\")\n",
    "    except RuntimeError as e:\n",
    "        print(e)\n",
    "else:\n",
    "    print('no gpus')"
   ]
  },
  {
   "cell_type": "code",
   "execution_count": 4,
   "metadata": {},
   "outputs": [],
   "source": [
    "#import albumentations as albu\n",
    "# from imgaug import augmenters as iaa\n",
    "# import imgaug as ia\n",
    "# ia.seed(1)"
   ]
  },
  {
   "cell_type": "code",
   "execution_count": 6,
   "metadata": {},
   "outputs": [],
   "source": [
    "import panda_bvv_config\n",
    "from panda_bvv_config import *"
   ]
  },
  {
   "cell_type": "code",
   "execution_count": 8,
   "metadata": {},
   "outputs": [],
   "source": [
    "if DEBUG:\n",
    "    #FOR TEST:\n",
    "    cnnet = 'effnB3_gs_test'\n",
    "    model_save_folder = 'effnB3_test'\n",
    "else:\n",
    "    #FOR TRAIN:\n",
    "    ap = argparse.ArgumentParser()\n",
    "    ap.add_argument('--cnnpar', type=str, help=\"parameters name\", dest = 'cnn_parameters', default = 'effnB2')\n",
    "    ap.add_argument('--mfolder', help=\"folder to save model files\", dest = 'mfolder', default = 'effnB2_model',\\\n",
    "                    type=str)\n",
    "                    #(\"--cnn\", type=str, help=\"training cnn name\", dest = 'train_cnn')\n",
    "    args = vars(ap.parse_args())\n",
    "    cnnet = args[\"cnn_parameters\"]\n",
    "    model_save_folder = args[\"mfolder\"]"
   ]
  },
  {
   "cell_type": "code",
   "execution_count": 9,
   "metadata": {},
   "outputs": [],
   "source": [
    "full_model_save_folder_path = os.path.join(note_path, model_save_folder)\n",
    "input_parameters = panda_bvv_config.train_dict.get(cnnet)\n",
    "\n",
    "image_sizey = input_parameters.get('image_sizey')\n",
    "image_sizex = input_parameters.get('image_sizex')\n",
    "num_epochs = input_parameters.get('num_epochs')\n",
    "num_reduceOnPlateu = input_parameters.get('num_reduceOnPlateu')\n",
    "learn_rate = input_parameters.get('learn_rate')\n",
    "stop_patience = input_parameters.get('stop_patience')\n",
    "inp_label_smooth = input_parameters.get('inp_label_smooth')\n",
    "our_id_label_map = input_parameters.get('id_label_map')\n",
    "class_weights_ = input_parameters.get('class_weights')\n",
    "output_bias = tf.keras.initializers.Constant(input_parameters.get('output_bias'))\n",
    "BS = input_parameters.get('BS')\n",
    "s_per_epoch = input_parameters.get('s_per_epoch')\n",
    "val_steps = input_parameters.get('val_steps')\n",
    "model_name = input_parameters.get('model_name')\n",
    "checkpoint_name = input_parameters.get('checkpoint_name')\n",
    "weights_file = input_parameters.get('weights_file')\n",
    "file_for_struct = input_parameters.get('file_for_struct')\n",
    "file_for_weights = input_parameters.get('file_for_weights')\n",
    "history_file = input_parameters.get('history_file')\n",
    "save_plot_file = input_parameters.get('save_plot_file')\n",
    "num_logits = input_parameters.get('num_logits')\n",
    "from_folder_train = os.path.join(base_path, input_parameters.get('from_folder_train'))\n",
    "from_folder_val = input_parameters.get('from_folder_val')\n",
    "if input_parameters.get('bestmodel_weights'): bestmodel_weights = input_parameters.get('bestmodel_weights')\n",
    "input_shape_ =(image_sizey, image_sizex , 3)\n",
    "TrDataGen = input_parameters.get('trdatagen') \n",
    "ValDataGen = input_parameters.get('valdatagen') \n"
   ]
  },
  {
   "cell_type": "code",
   "execution_count": 10,
   "metadata": {},
   "outputs": [],
   "source": [
    "from tensorflow_addons.metrics import  CohenKappa\n",
    "kappa_keras = CohenKappa(num_classes=num_logits,weightage='quadratic')"
   ]
  },
  {
   "cell_type": "code",
   "execution_count": 12,
   "metadata": {},
   "outputs": [
    {
     "name": "stdout",
     "output_type": "stream",
     "text": [
      "CNN input parameters:\n",
      "\n",
      "image_sizey: 320\n",
      "image_sizex: 320\n",
      "num_epochs: 2\n",
      "num_reduceOnPlateu: 6\n",
      "learn_rate: 0.0001\n",
      "stop_patience: 18\n",
      "inp_label_smooth: 0.01\n",
      "BS: 4\n",
      "s_per_epoch: 8\n",
      "val_steps: 3\n",
      "class_weights: {0: 3.67082, 1: 3.982, 2: 7.90469, 3: 8.5475, 4: 8.4996, 5: 8.6732}\n",
      "output_bias: [1. 1. 1. 1. 1. 1.]\n",
      "model_name: model_panda.h5\n",
      "checkpoint_name: model_effnB3_panda_check\n",
      "weights_file: efficientnet-b3_weights_tf_dim_ordering_tf_kernels_autoaugment_notop.h5\n",
      "bestmodel_weights: None\n",
      "level0_file: effnB3_check20_best_level0_weights.npy\n",
      "file_for_struct: model_effnB3_panda_struct.json\n",
      "file_for_weights: model_effnB3_panda_weights\n",
      "history_file: history_effnB3.json\n",
      "save_plot_file: plot_edu_effnb3.png\n",
      "from_folder_train: gs_proc_inv\n",
      "from_folder_val: None\n",
      "num_logits: 4\n",
      "trdatagen: <function classic_train_datagen at 0x7f95f97390d0>\n",
      "valdatagen: <function classic_val_datagen at 0x7f95f9739158>\n"
     ]
    }
   ],
   "source": [
    "print('CNN input parameters:\\n') \n",
    "for k, v in input_parameters.items():\n",
    "    if k != 'id_label_map':\n",
    "        print('{}: {}'.format(k, v))"
   ]
  },
  {
   "cell_type": "code",
   "execution_count": 13,
   "metadata": {},
   "outputs": [],
   "source": [
    "#full_model_save_folder_path = os.path.join(note_path, model_save_folder)\n",
    "if not os.path.exists(full_model_save_folder_path):\n",
    "    print(\"[INFO] 'creating {}' directory\".format(model_save_folder))\n",
    "    os.makedirs(full_model_save_folder_path)\n",
    "model_name = os.path.join(full_model_save_folder_path, model_name)\n",
    "checkpoint_name = os.path.join(full_model_save_folder_path, checkpoint_name)\n",
    "\n",
    "weights_file = os.path.join(note_path, weights_file) #!:not the same path\n",
    "\n",
    "file_for_struct = os.path.join(full_model_save_folder_path, file_for_struct)\n",
    "file_for_weights = os.path.join(full_model_save_folder_path, file_for_weights)\n",
    "history_file = os.path.join(full_model_save_folder_path, history_file)\n",
    "save_plot_file_main = os.path.join(full_model_save_folder_path, 'acc_' + save_plot_file)\n",
    "save_plot_file_kappa = os.path.join(full_model_save_folder_path, 'kappa_' + save_plot_file)"
   ]
  },
  {
   "cell_type": "code",
   "execution_count": 14,
   "metadata": {},
   "outputs": [
    {
     "name": "stdout",
     "output_type": "stream",
     "text": [
      "Found 132 images belonging to 4 classes.\n",
      "Found 1162 images belonging to 4 classes.\n"
     ]
    }
   ],
   "source": [
    "train_datagen = TrDataGen(\n",
    "        train_cnn,\n",
    "        image_sizey, image_sizex,\n",
    "        batch_size_= BS,\n",
    "        shuffle_=True)\n",
    "val_datagen = ValDataGen(\n",
    "        valid_cnn,\n",
    "        image_sizey, \n",
    "        image_sizex,\n",
    "        batch_size_ = BS,\n",
    "        shuffle_=False)"
   ]
  },
  {
   "cell_type": "code",
   "execution_count": 16,
   "metadata": {},
   "outputs": [],
   "source": [
    "#skimage.io.imshow(tt[0][6])"
   ]
  },
  {
   "cell_type": "code",
   "execution_count": 17,
   "metadata": {},
   "outputs": [],
   "source": [
    "callbacks_list = [\n",
    "#         EarlyStopping(\n",
    "        # Stop training when `val_loss` is no longer improving\n",
    "#         monitor='val_loss',\n",
    "#         mode = 'min',\n",
    "#         min_delta=1e-2,\n",
    "#         patience=stop_patience,\n",
    "#         verbose=1,\n",
    "#         restore_best_weights = True\n",
    "#         ),\n",
    "        \n",
    "        ModelCheckpoint(\n",
    "        filepath= checkpoint_name +\".{epoch:02d}.h5\",\n",
    "        monitor='val_loss',\n",
    "        mode = 'auto',\n",
    "        save_weights_only = False,\n",
    "        save_freq = 'epoch',\n",
    "        save_best_only=False\n",
    "        ),\n",
    "    \n",
    "        ReduceLROnPlateau(\n",
    "        monitor='val_loss',\n",
    "        factor=.1,\n",
    "        patience = num_reduceOnPlateu,\n",
    "        verbose=1,\n",
    "        min_lr=1e-7\n",
    "        )\n",
    "]"
   ]
  },
  {
   "cell_type": "code",
   "execution_count": 18,
   "metadata": {},
   "outputs": [],
   "source": [
    "#tf.compat.v1.disable_eager_execution()"
   ]
  },
  {
   "cell_type": "code",
   "execution_count": 19,
   "metadata": {},
   "outputs": [],
   "source": [
    "bottleneck = efn.EfficientNetB3(\n",
    "    input_shape=input_shape_,\n",
    "    weights= weights_file,\n",
    "    include_top=False, \n",
    "    pooling='avg'\n",
    ")\n",
    "bottleneck = Model(inputs=bottleneck.inputs, outputs=bottleneck.layers[-2].output)\n",
    "model = Sequential()\n",
    "model.add(bottleneck)\n",
    "model.add(GlobalAveragePooling2D())\n",
    "model.add(Flatten())\n",
    "model.add(BatchNormalization())\n",
    "model.add(Dropout(.25))\n",
    "model.add(Dense(512, activation='elu'))\n",
    "model.add(BatchNormalization())\n",
    "model.add(Dropout(.25))\n",
    "model.add(Dense(num_logits, activation='sigmoid'))"
   ]
  },
  {
   "cell_type": "code",
   "execution_count": 20,
   "metadata": {},
   "outputs": [],
   "source": [
    "if input_parameters.get('bestmodel_weights'): \n",
    "    try:\n",
    "        model.load_weights(bestmodel_weights)\n",
    "    except Exception as ee:\n",
    "        print(ee)"
   ]
  },
  {
   "cell_type": "code",
   "execution_count": 21,
   "metadata": {},
   "outputs": [
    {
     "name": "stdout",
     "output_type": "stream",
     "text": [
      "Model: \"sequential\"\n",
      "_________________________________________________________________\n",
      "Layer (type)                 Output Shape              Param #   \n",
      "=================================================================\n",
      "model (Model)                (None, 10, 10, 1536)      10783528  \n",
      "_________________________________________________________________\n",
      "global_average_pooling2d (Gl (None, 1536)              0         \n",
      "_________________________________________________________________\n",
      "flatten (Flatten)            (None, 1536)              0         \n",
      "_________________________________________________________________\n",
      "batch_normalization (BatchNo (None, 1536)              6144      \n",
      "_________________________________________________________________\n",
      "dropout (Dropout)            (None, 1536)              0         \n",
      "_________________________________________________________________\n",
      "dense (Dense)                (None, 512)               786944    \n",
      "_________________________________________________________________\n",
      "batch_normalization_1 (Batch (None, 512)               2048      \n",
      "_________________________________________________________________\n",
      "dropout_1 (Dropout)          (None, 512)               0         \n",
      "_________________________________________________________________\n",
      "dense_1 (Dense)              (None, 4)                 2052      \n",
      "=================================================================\n",
      "Total params: 11,580,716\n",
      "Trainable params: 11,489,324\n",
      "Non-trainable params: 91,392\n",
      "_________________________________________________________________\n"
     ]
    }
   ],
   "source": [
    "model.summary()"
   ]
  },
  {
   "cell_type": "code",
   "execution_count": 22,
   "metadata": {},
   "outputs": [],
   "source": [
    "opt =  tf.keras.optimizers.Adam(lr=learn_rate, decay=learn_rate / num_epochs)"
   ]
  },
  {
   "cell_type": "code",
   "execution_count": 23,
   "metadata": {},
   "outputs": [],
   "source": [
    "model.compile(\n",
    "    loss  = tf.keras.losses.BinaryCrossentropy(label_smoothing = inp_label_smooth),\n",
    "    optimizer=opt,\n",
    "    metrics=['accuracy', kappa_keras]\n",
    ")"
   ]
  },
  {
   "cell_type": "code",
   "execution_count": 24,
   "metadata": {},
   "outputs": [
    {
     "name": "stdout",
     "output_type": "stream",
     "text": [
      "WARNING:tensorflow:From <ipython-input-24-07af640b7baa>:9: Model.fit_generator (from tensorflow.python.keras.engine.training) is deprecated and will be removed in a future version.\n",
      "Instructions for updating:\n",
      "Please use Model.fit, which supports generators.\n",
      "Epoch 1/2\n",
      "8/8 [==============================] - 27s 3s/step - loss: 4.4373 - accuracy: 0.3125 - cohen_kappa: 0.2899 - val_loss: 0.6121 - val_accuracy: 0.1667 - val_cohen_kappa: 0.0000e+00 - lr: 1.0000e-04\n",
      "Epoch 2/2\n",
      "8/8 [==============================] - 23s 3s/step - loss: 5.1108 - accuracy: 0.1562 - cohen_kappa: 0.2195 - val_loss: 0.6450 - val_accuracy: 0.2500 - val_cohen_kappa: 0.0000e+00 - lr: 1.0000e-04\n"
     ]
    }
   ],
   "source": [
    "history = model.fit_generator(\n",
    "    train_datagen,\n",
    "    steps_per_epoch=s_per_epoch,\n",
    "    validation_data=val_datagen,\n",
    "    validation_steps=val_steps,\n",
    "    class_weight=class_weights_,\n",
    "    callbacks=callbacks_list,\n",
    "    epochs=num_epochs,\n",
    "    verbose=1\n",
    ")"
   ]
  },
  {
   "cell_type": "code",
   "execution_count": 25,
   "metadata": {},
   "outputs": [],
   "source": [
    "dict_to_save = {}\n",
    "for k, v in history.history.items():\n",
    "    dict_to_save.update({k: [np.format_float_positional(x) for x in history.history[k]]})\n",
    "with open(history_file, 'w') as file:\n",
    "    json.dump(dict_to_save, file)\n"
   ]
  },
  {
   "cell_type": "code",
   "execution_count": 26,
   "metadata": {},
   "outputs": [],
   "source": [
    "model.save_weights(file_for_weights, save_format=\"h5\")"
   ]
  },
  {
   "cell_type": "code",
   "execution_count": 28,
   "metadata": {},
   "outputs": [
    {
     "data": {
      "image/png": "[encoded data removed]",
      "text/plain": [
       "<Figure size 432x288 with 1 Axes>"
      ]
     },
     "metadata": {},
     "output_type": "display_data"
    }
   ],
   "source": [
    "plt.style.use(\"ggplot\")\n",
    "plt.figure()\n",
    "\n",
    "plt.plot(np.arange(0, num_epochs), history.history['loss'], label='loss')\n",
    "plt.plot(np.arange(0, num_epochs), history.history['val_loss'], label='val_loss')\n",
    "plt.plot(np.arange(0, num_epochs),history.history['accuracy'], label='accuracy')\n",
    "plt.plot(np.arange(0, num_epochs),history.history['val_accuracy'], label='accuracy')\n",
    "plt.title(\"Training Loss and Accuracy on Dataset\")\n",
    "plt.xlabel(\"Epoch #\")\n",
    "plt.ylabel(\"Loss/Accuracy\")\n",
    "plt.legend(loc=\"lower left\")\n",
    "plt.savefig(save_plot_file_main)"
   ]
  },
  {
   "cell_type": "code",
   "execution_count": 29,
   "metadata": {},
   "outputs": [
    {
     "data": {
      "image/png": "[encoded data removed]",
      "text/plain": [
       "<Figure size 432x288 with 1 Axes>"
      ]
     },
     "metadata": {},
     "output_type": "display_data"
    }
   ],
   "source": [
    "#kappa\n",
    "plt.style.use(\"ggplot\")\n",
    "plt.figure()\n",
    "\n",
    "plt.plot(np.arange(0, num_epochs), history.history['cohen_kappa'], label='kappa')\n",
    "plt.plot(np.arange(0, num_epochs), history.history['val_cohen_kappa'], label='val_kappa')\n",
    "\n",
    "plt.title(\"Training Cohen Kappa on Dataset\")\n",
    "plt.xlabel(\"Epoch #\")\n",
    "plt.ylabel(\"Cohen Kappa\")\n",
    "plt.legend(loc=\"lower left\")\n",
    "plt.savefig(save_plot_file_kappa)"
   ]
  },
  {
   "cell_type": "code",
   "execution_count": 37,
   "metadata": {},
   "outputs": [],
   "source": [
    "import os\n",
    "module_name = 'effnB3_sigm_flow_from_folders'\n",
    "\n",
    "os.system('jupyter nbconvert --to python ' + module_name + '.ipynb')\n",
    "with open(module_name + '.py', 'r') as f:\n",
    "    lines = f.readlines()\n",
    "with open(module_name + '.py', 'w') as f:\n",
    "    for line in lines:\n",
    "        if 'nbconvert --to python' in line:\n",
    "            break\n",
    "        else:\n",
    "            f.write(line)"
   ]
  },
  {
   "cell_type": "code",
   "execution_count": null,
   "metadata": {},
   "outputs": [],
   "source": []
  }
 ],
 "metadata": {
  "kernelspec": {
   "display_name": "Python 3",
   "language": "python",
   "name": "python3"
  },
  "language_info": {
   "codemirror_mode": {
    "name": "ipython",
    "version": 3
   },
   "file_extension": ".py",
   "mimetype": "text/x-python",
   "name": "python",
   "nbconvert_exporter": "python",
   "pygments_lexer": "ipython3",
   "version": "3.6.8"
  }
 },
 "nbformat": 4,
 "nbformat_minor": 4
}
